{
 "cells": [
  {
   "cell_type": "code",
   "execution_count": 1,
   "metadata": {},
   "outputs": [],
   "source": [
    "import pickle\n",
    "import numpy as np\n",
    "from matplotlib import pyplot as plt  \n",
    "import halotools.mock_observables as mo    "
   ]
  },
  {
   "cell_type": "code",
   "execution_count": 2,
   "metadata": {},
   "outputs": [],
   "source": [
    "with open('color_data0_cul_integral.pkl', 'rb') as f:\n",
    "    colors = pickle.load(f)\n",
    "with open('color_data1_cul_integral.pkl', 'rb') as f:\n",
    "    colors_1 = pickle.load(f)"
   ]
  },
  {
   "cell_type": "code",
   "execution_count": 3,
   "metadata": {},
   "outputs": [],
   "source": [
    "temp = []\n",
    "for i in range(len(colors)):\n",
    "    temp.append(colors[i][0][1])\n",
    "for i in range(len(colors_1)):\n",
    "    temp.append(colors_1[i][0][1])"
   ]
  },
  {
   "cell_type": "code",
   "execution_count": 4,
   "metadata": {},
   "outputs": [],
   "source": [
    "with open('mass_lyman_distance_1_mass_distance_1.pkl', 'rb') as f:\n",
    "    galaxy_test = pickle.load(f)"
   ]
  },
  {
   "cell_type": "code",
   "execution_count": 5,
   "metadata": {},
   "outputs": [],
   "source": [
    "#galaxy[0]is column density, 1 is the mass, 2 is the spatial location,"
   ]
  },
  {
   "cell_type": "code",
   "execution_count": 6,
   "metadata": {},
   "outputs": [],
   "source": [
    "#temp are the spatial locations of LLS\n",
    "column_density =[]\n",
    "mass_density = []\n",
    "location = []\n",
    "lls_location = []\n",
    "for i in range(1,5):\n",
    "    for n in range(i,5):\n",
    "        data1 = []\n",
    "        name = \"mass_\" + \"lyman_distance_\" +format(i) + \"_mass_distance_\" + format(n) + \".pkl\"\n",
    "        with open(name, 'rb') as f:\n",
    "            data1 = pickle.load(f)\n",
    "        for z in data1[0]:\n",
    "            column_density.append(z)\n",
    "        for k in data1[1]:\n",
    "            mass_density.append(k)\n",
    "        for p in data1[2]:\n",
    "            location.append(p)\n",
    "        for h in data1[3]:\n",
    "            lls_location.append(h)"
   ]
  },
  {
   "cell_type": "code",
   "execution_count": 7,
   "metadata": {},
   "outputs": [],
   "source": [
    "Lbox = 40.0\n",
    "period = np.array([Lbox,Lbox,Lbox])"
   ]
  },
  {
   "cell_type": "code",
   "execution_count": 8,
   "metadata": {},
   "outputs": [],
   "source": [
    "def get_xyz(input):\n",
    "    x = [];y = []; z = []\n",
    "    for i in input:\n",
    "        x.append(i[0])\n",
    "        y.append(i[1])\n",
    "        z.append(i[2])\n",
    "    return x,y,z"
   ]
  },
  {
   "cell_type": "code",
   "execution_count": 9,
   "metadata": {},
   "outputs": [],
   "source": [
    "x,y,z = get_xyz(location)\n",
    "x2,y2,z2 = get_xyz(lls_location)"
   ]
  },
  {
   "cell_type": "code",
   "execution_count": 10,
   "metadata": {},
   "outputs": [],
   "source": [
    "sample = np.vstack((x,y,z)).T \n",
    "sample2 = np.vstack((x2,y2,z2)).T"
   ]
  },
  {
   "cell_type": "code",
   "execution_count": 11,
   "metadata": {},
   "outputs": [],
   "source": [
    "rbins = np.logspace(-3,1,21)\n",
    "MCF = mo.marked_tpcf(sample1 = sample,rbins = rbins,sample2 = sample2, marks1=mass_density, period=period, normalize_by='number_counts', weight_func_id=1)"
   ]
  },
  {
   "cell_type": "code",
   "execution_count": 12,
   "metadata": {},
   "outputs": [
    {
     "data": {
      "image/png": "[encoded data removed]",
      "text/plain": [
       "<Figure size 432x288 with 1 Axes>"
      ]
     },
     "metadata": {
      "needs_background": "light"
     },
     "output_type": "display_data"
    }
   ],
   "source": [
    "import matplotlib.pyplot as plt\n",
    "plt.loglog(rbins[1:], MCF[1], label='Marked value')\n",
    "plt.xlabel('r [Mpc/h]')\n",
    "plt.ylabel('Marked value')\n",
    "plt.legend()\n",
    "plt.show()"
   ]
  }
 ],
 "metadata": {
  "kernelspec": {
   "display_name": "Python 3",
   "language": "python",
   "name": "python3"
  },
  "language_info": {
   "codemirror_mode": {
    "name": "ipython",
    "version": 3
   },
   "file_extension": ".py",
   "mimetype": "text/x-python",
   "name": "python",
   "nbconvert_exporter": "python",
   "pygments_lexer": "ipython3",
   "version": "3.8.10"
  },
  "orig_nbformat": 4,
  "vscode": {
   "interpreter": {
    "hash": "916dbcbb3f70747c44a77c7bcd40155683ae19c65e1c03b4aa3499c5328201f1"
   }
  }
 },
 "nbformat": 4,
 "nbformat_minor": 2
}
