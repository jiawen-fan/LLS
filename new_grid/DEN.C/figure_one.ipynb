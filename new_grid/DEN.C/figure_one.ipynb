{
 "cells": [
  {
   "cell_type": "code",
   "execution_count": 1,
   "metadata": {},
   "outputs": [],
   "source": [
    "import numpy as np\n",
    "from matplotlib import pyplot as plt      \n",
    "import pandas as pd\n",
    "\n",
    "def unPackDenFile(raw_path):\n",
    "    \"\"\"\n",
    "    - unpacks the .raw file. Not used for the neural network.\n",
    "    \"\"\"\n",
    "    y = np.loadtxt(raw_path, skiprows=4)\n",
    "    distance = y[:,0]\n",
    "    gas_density  = y[:,1]\n",
    "\n",
    "   \n",
    "    return distance, gas_density\n",
    "def unPackRawFile(raw_path):\n",
    "    \"\"\"\n",
    "    - unpacks the .raw file. Not used for the neural network.\n",
    "    \"\"\"\n",
    "    y = np.loadtxt(raw_path, skiprows=6)\n",
    "    distance = y[:,0]\n",
    "    pec_vel = y[:,1]\n",
    "    temp = y[:,2]\n",
    "    HI_density = y[:,3]\n",
    "    gas_density = y[:,4]\n",
    "    gas_metallicity = y[:,5]\n",
    "   \n",
    "    return distance, pec_vel, temp, HI_density, gas_density, gas_metallicity\n",
    "import scipy as sp\n",
    "import scipy.interpolate\n",
    "import matplotlib.pyplot as plt"
   ]
  },
  {
   "cell_type": "code",
   "execution_count": 2,
   "metadata": {},
   "outputs": [],
   "source": [
    "def lyman_identification():\n",
    "    \"\"\"\n",
    "    function for identifying lls using neutral fraction as filter\n",
    "    \"\"\"\n",
    "    neutral_fraction_limit = 1e-3\n",
    "    data = []\n",
    "    for i in range(1000):\n",
    "        raw_path = 'los.00' + '{0:03}'.format(i) +'.raw'\n",
    "        den_path =  'los.00' + '{0:03}'.format(i) +'.den'\n",
    "        distance, pec_vel, temp, HI_density, gas_density2, gas_metallicity = unPackRawFile(raw_path)\n",
    "        #changing the distance from chimp to cmeters\n",
    "        distance1,gas_density1 = unPackDenFile(den_path)\n",
    "        distance_cm = distance *0.1452*3.086e24 /0.68\n",
    "        gas_density =sp.interpolate.interp1d(distance1,gas_density1, fill_value=\"extrapolate\")(distance)\n",
    "        for k in range(len(distance) -2):\n",
    "            if(HI_density[k]/gas_density[k]<neutral_fraction_limit and HI_density[k+1]/gas_density[k+1]>neutral_fraction_limit):\n",
    "                left_bases = k+1\n",
    "                peak_fraction = HI_density[k]/gas_density[k]\n",
    "                peak_HI = HI_density[k]\n",
    "                peak_distance = distance[k]\n",
    "                if( k+1 <len(distance)):\n",
    "                    while(not(HI_density[k]/gas_density[k]>neutral_fraction_limit and HI_density[k+1]/gas_density[k+1]<neutral_fraction_limit) and k <len(distance)-2):\n",
    "                        right_bases = k +1\n",
    "                        if(k<len(distance)-1):\n",
    "                            k+=1\n",
    "                        if(HI_density[k]/gas_density[k]>peak_fraction):\n",
    "                            peak_fraction = HI_density[k]/gas_density[k]\n",
    "                            peak_HI = HI_density[k]\n",
    "                            peak_distance = distance[k]\n",
    "                    area_under = peak_HI *1/2*(distance_cm[right_bases]-distance_cm[left_bases])/0.937415\n",
    "                    if(area_under >= (1.6*10**17)and area_under  <= (10**22)):\n",
    "                        data.append(area_under)\n",
    "    return data\n",
    "lyman_limited_value = lyman_identification()\n"
   ]
  },
  {
   "cell_type": "code",
   "execution_count": 3,
   "metadata": {},
   "outputs": [],
   "source": [
    "##the a-axis is the number of lyman-limited series, y-axis is the column density\n",
    "lyman_limited_value_sorted = sorted(lyman_limited_value)\n",
    "#below shows the total of lyman_limited_value in the nlos"
   ]
  },
  {
   "cell_type": "code",
   "execution_count": 4,
   "metadata": {},
   "outputs": [
    {
     "name": "stdout",
     "output_type": "stream",
     "text": [
      "17.204430527726725\n",
      "21.954810463388316\n"
     ]
    }
   ],
   "source": [
    "##need to bin the data, and graph it like the paper.\n",
    "##right here we are goin go bin the data, using panda\n",
    "##find the max/min\n",
    "\n",
    "min_value_lyman_limited_value = np.log10(min(lyman_limited_value_sorted))\n",
    "max_value_lyman_limited_value = np.log10(max(lyman_limited_value_sorted))\n",
    "print(min_value_lyman_limited_value)\n",
    "print(max_value_lyman_limited_value)"
   ]
  },
  {
   "cell_type": "code",
   "execution_count": 5,
   "metadata": {},
   "outputs": [
    {
     "data": {
      "text/plain": [
       "array([17.20443053, 17.29943813, 17.39444573, 17.48945332, 17.58446092,\n",
       "       17.67946852, 17.77447612, 17.86948372, 17.96449132, 18.05949892,\n",
       "       18.15450651, 18.24951411, 18.34452171, 18.43952931, 18.53453691,\n",
       "       18.62954451, 18.72455211, 18.81955971, 18.9145673 , 19.0095749 ,\n",
       "       19.1045825 , 19.1995901 , 19.2945977 , 19.3896053 , 19.4846129 ,\n",
       "       19.5796205 , 19.67462809, 19.76963569, 19.86464329, 19.95965089,\n",
       "       20.05465849, 20.14966609, 20.24467369, 20.33968129, 20.43468888,\n",
       "       20.52969648, 20.62470408, 20.71971168, 20.81471928, 20.90972688,\n",
       "       21.00473448, 21.09974207, 21.19474967, 21.28975727, 21.38476487,\n",
       "       21.47977247, 21.57478007, 21.66978767, 21.76479527, 21.85980286,\n",
       "       21.95481046])"
      ]
     },
     "execution_count": 5,
     "metadata": {},
     "output_type": "execute_result"
    }
   ],
   "source": [
    "##putting data into panda data_frame for better organization\n",
    "##belows is the bin value\n",
    "bins = np.linspace(min_value_lyman_limited_value,max_value_lyman_limited_value,51)\n",
    "bins"
   ]
  },
  {
   "cell_type": "code",
   "execution_count": 6,
   "metadata": {},
   "outputs": [],
   "source": [
    "##divide up the data \n",
    "bin_data = pd.DataFrame()\n",
    "bin_data['cut_lyman_limited'] = np.array(lyman_limited_value_sorted)\n",
    "bin_data['cut_lyman_limited'] = pd.cut(np.log10(bin_data['cut_lyman_limited']), bins = bins,include_lowest = True).astype(str)"
   ]
  },
  {
   "cell_type": "code",
   "execution_count": 7,
   "metadata": {},
   "outputs": [
    {
     "data": {
      "image/png": "[encoded data removed]",
      "text/plain": [
       "<Figure size 432x288 with 1 Axes>"
      ]
     },
     "metadata": {
      "needs_background": "light"
     },
     "output_type": "display_data"
    },
    {
     "data": {
      "text/plain": [
       "<Figure size 640x480 with 0 Axes>"
      ]
     },
     "metadata": {},
     "output_type": "display_data"
    }
   ],
   "source": [
    "##graph similar to the paper, culmulative\n",
    "from matplotlib.pyplot import figure\n",
    "fig, ax = plt.subplots()\n",
    "hist = ax.hist(bin_data,bins=50,cumulative =1,log =True)\n",
    "ax.set_xticks(ax.get_xticks()[::5])\n",
    "ax.set_yticks(ax.get_yticks()[::3])\n",
    "ax.set_xlabel('column density bins', fontsize=12)\n",
    "ax.set_ylabel('cumulative number density in total of 1000 line of sights', fontsize=12)\n",
    "ax.tick_params(axis='both', which='major', labelsize=7)\n",
    "plt.figure(figsize=(8, 6), dpi=80)\n",
    "plt.show()"
   ]
  },
  {
   "cell_type": "code",
   "execution_count": 8,
   "metadata": {},
   "outputs": [],
   "source": [
    "##extract the change in column density counts\n",
    "##abserve the trend that as the column density decreases the rate of number density decrease increase.\n",
    "number_count = []\n",
    "for i in range(1, len(hist[0])):\n",
    "    number_count.append(hist[0][i]- hist[0][i-1])\n",
    "total =0 \n",
    "for i in number_count:\n",
    "    total += i"
   ]
  },
  {
   "cell_type": "code",
   "execution_count": 9,
   "metadata": {},
   "outputs": [],
   "source": [
    "#we here find the change in column density\n",
    "#d_N_column = bins[1] - bins[0]\n",
    "d_N_column= []\n",
    "for i in range(1,50):\n",
    "    d_N_column.append(10**bins[i]-10**bins[i-1])\n"
   ]
  },
  {
   "cell_type": "code",
   "execution_count": 10,
   "metadata": {},
   "outputs": [
    {
     "name": "stdout",
     "output_type": "stream",
     "text": [
      "146.04563456166113\n"
     ]
    }
   ],
   "source": [
    "def aH_calc(aexp,OmegaM):\n",
    "    aH = 100*aexp*np.sqrt(OmegaM/aexp**3+(1-OmegaM))\n",
    "    return aH\n",
    "aH = aH_calc(aexp=0.1433,OmegaM=0.3036)\n",
    "print(aH)"
   ]
  },
  {
   "cell_type": "code",
   "execution_count": 11,
   "metadata": {},
   "outputs": [
    {
     "name": "stdout",
     "output_type": "stream",
     "text": [
      "97.36375637444075\n"
     ]
    }
   ],
   "source": [
    "#dN / (dz *dN_HI)\n",
    "y_value = []\n",
    "#dz = dv/c = H*dr/c = H*a*dx/c\n",
    "#dx = 200cMpc * number of line of sights\n",
    "dz = aH*(200*1000)/(3e5) \n",
    "for i,k in zip(number_count,d_N_column):\n",
    "    if(number_count == 0):\n",
    "        y_value.append(0)\n",
    "    y_value.append(i/(dz*(k)))\n",
    "print(dz)"
   ]
  },
  {
   "cell_type": "code",
   "execution_count": 12,
   "metadata": {},
   "outputs": [],
   "source": [
    "x_value = []\n",
    "for i in range(1,50):\n",
    "    x_value.append(bins[i])"
   ]
  },
  {
   "cell_type": "code",
   "execution_count": 13,
   "metadata": {},
   "outputs": [
    {
     "data": {
      "image/png": "[encoded data removed]",
      "text/plain": [
       "<Figure size 432x288 with 1 Axes>"
      ]
     },
     "metadata": {
      "needs_background": "light"
     },
     "output_type": "display_data"
    }
   ],
   "source": [
    "plt.bar(x_value,y_value,width = 0.2)\n",
    "plt.xlabel(\"log10(N_HI)\")\n",
    "plt.ylabel(\"dN/(dz*dN_HI)\")\n",
    "plt.yscale('log')\n"
   ]
  },
  {
   "cell_type": "code",
   "execution_count": 14,
   "metadata": {},
   "outputs": [],
   "source": [
    "\n",
    "lyman_limited_value_sorted = list(reversed(lyman_limited_value_sorted))"
   ]
  },
  {
   "cell_type": "code",
   "execution_count": 18,
   "metadata": {},
   "outputs": [
    {
     "data": {
      "image/png": "[encoded data removed]",
      "text/plain": [
       "<Figure size 350x262.5 with 1 Axes>"
      ]
     },
     "metadata": {},
     "output_type": "display_data"
    }
   ],
   "source": [
    "import matplotlib.pyplot as plt\n",
    "import pickle as pickle\n",
    "with open('y_value_80_uniform.pkl', 'wb') as f:\n",
    "    pickle.dump(y_value, f, protocol=pickle.HIGHEST_PROTOCOL)\n",
    "x_axis = np.linspace(17,22,49)\n",
    "with plt.style.context('science','notebook'):\n",
    "    plt.figure()    \n",
    "    plt.plot(x_axis,y_value,color = \"dimgray\")\n",
    "    plt.rcParams['font.size'] = 8\n",
    "    plt.yscale(\"log\") \n",
    "    plt.yticks()\n",
    "    plt.xlabel(\"$\\mathrm{log10(N_{HI})}$\",fontsize = 10)\n",
    "    plt.ylabel(\"$\\mathrm{dN/(dzdN_{HI})}$\",fontsize =10,)\n",
    "    plt.savefig(\"f1_uniform_80.pdf\")"
   ]
  }
 ],
 "metadata": {
  "kernelspec": {
   "display_name": "Python 3 (ipykernel)",
   "language": "python",
   "name": "python3"
  },
  "language_info": {
   "codemirror_mode": {
    "name": "ipython",
    "version": 3
   },
   "file_extension": ".py",
   "mimetype": "text/x-python",
   "name": "python",
   "nbconvert_exporter": "python",
   "pygments_lexer": "ipython3",
   "version": "3.8.10"
  },
  "orig_nbformat": 4
 },
 "nbformat": 4,
 "nbformat_minor": 2
}
