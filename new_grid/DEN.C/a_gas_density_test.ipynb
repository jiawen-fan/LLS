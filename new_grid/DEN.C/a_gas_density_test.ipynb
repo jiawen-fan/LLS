{
 "cells": [
  {
   "cell_type": "code",
   "execution_count": 1,
   "metadata": {},
   "outputs": [],
   "source": [
    "import numpy as np\n",
    "from matplotlib import pyplot as plt      \n",
    "import pandas as pd\n",
    "\n",
    "def unPackDenFile(raw_path):\n",
    "    \"\"\"\n",
    "    - unpacks the .raw file. Not used for the neural network.\n",
    "    \"\"\"\n",
    "    y = np.loadtxt(raw_path, skiprows=4)\n",
    "    distance = y[:,0]\n",
    "    gas_density  = y[:,1]\n",
    "\n",
    "   \n",
    "    return distance, gas_density"
   ]
  },
  {
   "cell_type": "code",
   "execution_count": 2,
   "metadata": {},
   "outputs": [
    {
     "data": {
      "text/plain": [
       "[<matplotlib.lines.Line2D at 0x7f9a4b316c40>]"
      ]
     },
     "execution_count": 2,
     "metadata": {},
     "output_type": "execute_result"
    },
    {
     "data": {
      "image/png": "[encoded data removed]",
      "text/plain": [
       "<Figure size 432x288 with 1 Axes>"
      ]
     },
     "metadata": {
      "needs_background": "light"
     },
     "output_type": "display_data"
    }
   ],
   "source": [
    "raw_path = 'los.00' + '{0:03}'.format(0) +'.den'\n",
    "distance, gas_density = unPackDenFile(raw_path)\n",
    "plt.plot(distance,gas_density)"
   ]
  },
  {
   "cell_type": "code",
   "execution_count": 3,
   "metadata": {},
   "outputs": [
    {
     "data": {
      "text/plain": [
       "10240"
      ]
     },
     "execution_count": 3,
     "metadata": {},
     "output_type": "execute_result"
    }
   ],
   "source": [
    "len(gas_density)"
   ]
  },
  {
   "cell_type": "code",
   "execution_count": 4,
   "metadata": {},
   "outputs": [],
   "source": [
    "def unPackRawFile(raw_path):\n",
    "    \"\"\"\n",
    "    - unpacks the .raw file. Not used for the neural network.\n",
    "    \"\"\"\n",
    "    y = np.loadtxt(raw_path, skiprows=6)\n",
    "    distance = y[:,0]\n",
    "    pec_vel = y[:,1]\n",
    "    temp = y[:,2]\n",
    "    HI_density = y[:,3]\n",
    "    gas_density = y[:,4]\n",
    "    gas_metallicity = y[:,5]\n",
    "   \n",
    "    return distance, pec_vel, temp, HI_density, gas_density, gas_metallicity"
   ]
  },
  {
   "cell_type": "code",
   "execution_count": 5,
   "metadata": {},
   "outputs": [
    {
     "data": {
      "text/plain": [
       "[<matplotlib.lines.Line2D at 0x7f9a48e76e80>]"
      ]
     },
     "execution_count": 5,
     "metadata": {},
     "output_type": "execute_result"
    },
    {
     "data": {
      "image/png": "[encoded data removed]",
      "text/plain": [
       "<Figure size 432x288 with 1 Axes>"
      ]
     },
     "metadata": {
      "needs_background": "light"
     },
     "output_type": "display_data"
    }
   ],
   "source": [
    "raw_path = 'los.00' + '{0:03}'.format(0) +'.raw'\n",
    "distance1, pec_vel1, temp1, HI_density1, gas_density1, gas_metallicity1 = unPackRawFile(raw_path)\n",
    "plt.ylim(0,0.005)\n",
    "plt.plot(distance1,gas_density1)"
   ]
  },
  {
   "cell_type": "code",
   "execution_count": 6,
   "metadata": {},
   "outputs": [
    {
     "data": {
      "text/plain": [
       "array([0.0002315, 0.0002942, 0.0003524, ..., 0.000111 , 0.0001074,\n",
       "       0.0001062])"
      ]
     },
     "execution_count": 6,
     "metadata": {},
     "output_type": "execute_result"
    }
   ],
   "source": [
    "gas_density1"
   ]
  },
  {
   "cell_type": "code",
   "execution_count": 7,
   "metadata": {},
   "outputs": [
    {
     "data": {
      "text/plain": [
       "10651"
      ]
     },
     "execution_count": 7,
     "metadata": {},
     "output_type": "execute_result"
    }
   ],
   "source": [
    "len(HI_density1)"
   ]
  },
  {
   "cell_type": "code",
   "execution_count": 8,
   "metadata": {},
   "outputs": [],
   "source": [
    "#change shape"
   ]
  },
  {
   "cell_type": "code",
   "execution_count": 9,
   "metadata": {},
   "outputs": [],
   "source": [
    "import scipy as sp\n",
    "import scipy.interpolate\n",
    "import matplotlib.pyplot as plt"
   ]
  },
  {
   "cell_type": "code",
   "execution_count": 10,
   "metadata": {},
   "outputs": [
    {
     "data": {
      "text/plain": [
       "10240"
      ]
     },
     "execution_count": 10,
     "metadata": {},
     "output_type": "execute_result"
    }
   ],
   "source": [
    "len(distance)"
   ]
  },
  {
   "cell_type": "code",
   "execution_count": 11,
   "metadata": {},
   "outputs": [],
   "source": [
    "new_distance = np.linspace(0,199.98047,10240)\n",
    "new_y =sp.interpolate.interp1d(distance1,HI_density1, fill_value=\"extrapolate\")(new_distance)"
   ]
  },
  {
   "cell_type": "code",
   "execution_count": 12,
   "metadata": {},
   "outputs": [
    {
     "data": {
      "text/plain": [
       "array([3.43762105e-08, 1.01128422e-07, 2.18098142e-07, ...,\n",
       "       1.04347106e-08, 1.00188756e-08, 9.74312520e-09])"
      ]
     },
     "execution_count": 12,
     "metadata": {},
     "output_type": "execute_result"
    }
   ],
   "source": [
    "new_y"
   ]
  },
  {
   "cell_type": "code",
   "execution_count": 13,
   "metadata": {},
   "outputs": [
    {
     "data": {
      "text/plain": [
       "[<matplotlib.lines.Line2D at 0x7f9a345e99d0>]"
      ]
     },
     "execution_count": 13,
     "metadata": {},
     "output_type": "execute_result"
    },
    {
     "data": {
      "image/png": "[encoded data removed]",
      "text/plain": [
       "<Figure size 432x288 with 1 Axes>"
      ]
     },
     "metadata": {
      "needs_background": "light"
     },
     "output_type": "display_data"
    }
   ],
   "source": [
    "plt.plot(new_distance,new_y/gas_density)"
   ]
  },
  {
   "cell_type": "code",
   "execution_count": 14,
   "metadata": {},
   "outputs": [],
   "source": [
    "def lyman_identification():\n",
    "    \"\"\"\n",
    "    function for identifying lls using neutral fraction as filter\n",
    "    \"\"\"\n",
    "    neutral_fraction_limit = 1e-3\n",
    "    data = []\n",
    "    for i in range(1000):\n",
    "        temp_data = []\n",
    "        raw_path = 'los.00' + '{0:03}'.format(i) +'.raw'\n",
    "        den_path =  'los.00' + '{0:03}'.format(i) +'.den'\n",
    "        distance, pec_vel, temp, HI_density, gas_density2, gas_metallicity = unPackRawFile(raw_path)\n",
    "        #changing the distance from chimp to cmeters\n",
    "        distance1,gas_density1 = unPackDenFile(den_path)\n",
    "        distance_cm = distance *0.1452*3.086e24 /0.68\n",
    "        gas_density =sp.interpolate.interp1d(distance1,gas_density1, fill_value=\"extrapolate\")(distance)\n",
    "        for k in range(len(distance) -2):\n",
    "            if(HI_density[k]/gas_density[k]<neutral_fraction_limit and HI_density[k+1]/gas_density[k+1]>neutral_fraction_limit):\n",
    "                left_bases = k+1\n",
    "                peak_fraction = HI_density[k]/gas_density[k]\n",
    "                peak_HI = HI_density[k]\n",
    "                peak_distance = distance[k]\n",
    "                if( k+1 <len(distance)):\n",
    "                    while(not(HI_density[k]/gas_density[k]>neutral_fraction_limit and HI_density[k+1]/gas_density[k+1]<neutral_fraction_limit) and k <len(distance)-2):\n",
    "                        right_bases = k +1\n",
    "                        if(k<len(distance)-1):\n",
    "                            k+=1\n",
    "                        if(HI_density[k]/gas_density[k]>peak_fraction):\n",
    "                            peak_fraction = HI_density[k]/gas_density[k]\n",
    "                            peak_HI = HI_density[k]\n",
    "                            peak_distance = distance[k]\n",
    "                    area_under = peak_HI *1/2*(distance_cm[right_bases]-distance_cm[left_bases])/0.937415\n",
    "                    if(area_under >= (1.6*10**17)and area_under  <= (10**22)):\n",
    "                        temp_data.append([area_under,distance[left_bases],distance[right_bases],peak_distance])\n",
    "        data.append(temp_data)\n",
    "    return data\n",
    "lyman_limited_value = lyman_identification()\n"
   ]
  },
  {
   "cell_type": "code",
   "execution_count": 209,
   "metadata": {},
   "outputs": [],
   "source": [
    "similar =[]\n",
    "checkout =[]\n",
    "for i in range(1000):\n",
    "    for k in other_lls[i]:\n",
    "        for z in lyman_limited_value[i]:\n",
    "            if( z[3] == k[3] and z[1] <= k[1]+0.01 and z[1]>= k[1]-0.01 and  z[2]<= k[2]+0.01 and z[2]>= k[2]-0.01):\n",
    "                if((z[0]-k[0])/z[0]>0.55):\n",
    "                    checkout.append([i,k[1],k[2],k[3],z[1],z[2],z[3]])\n",
    "                similar.append([k[0],z[0]])\n",
    "#which los, left, right, middle original, left , right, middle new, difference"
   ]
  },
  {
   "cell_type": "code",
   "execution_count": 210,
   "metadata": {},
   "outputs": [
    {
     "data": {
      "text/plain": [
       "1136"
      ]
     },
     "execution_count": 210,
     "metadata": {},
     "output_type": "execute_result"
    }
   ],
   "source": [
    "len(similar)"
   ]
  },
  {
   "cell_type": "code",
   "execution_count": 211,
   "metadata": {},
   "outputs": [
    {
     "data": {
      "text/plain": [
       "[[354, 173.45306, 173.46718, 173.45724, 173.44403, 173.47567, 173.45724],\n",
       " [713, 50.2629, 50.27307, 50.26555, 50.25782, 50.28194, 50.26555]]"
      ]
     },
     "execution_count": 211,
     "metadata": {},
     "output_type": "execute_result"
    }
   ],
   "source": [
    "checkout"
   ]
  },
  {
   "cell_type": "code",
   "execution_count": 178,
   "metadata": {},
   "outputs": [
    {
     "data": {
      "image/png": "[encoded data removed]",
      "text/plain": [
       "<Figure size 432x288 with 1 Axes>"
      ]
     },
     "metadata": {
      "needs_background": "light"
     },
     "output_type": "display_data"
    }
   ],
   "source": [
    "for i in similar:\n",
    "    plt.scatter(i[0],i[1],c=\"blue\",s = 5)\n",
    "    plt.xscale('log')\n",
    "    plt.yscale('log')\n",
    "plt.ylabel(\"orginal lls column density\",fontsize =10)\n",
    "plt.xlabel(\"new(uniform grid) lls coulmn density\",fontsize =10)\n",
    "plt.savefig(\"a_figure.png\",dpi=300)"
   ]
  },
  {
   "cell_type": "code",
   "execution_count": 237,
   "metadata": {},
   "outputs": [
    {
     "data": {
      "image/png": "[encoded data removed]",
      "text/plain": [
       "<Figure size 432x288 with 1 Axes>"
      ]
     },
     "metadata": {
      "needs_background": "light"
     },
     "output_type": "display_data"
    },
    {
     "data": {
      "image/png": "[encoded data removed]",
      "text/plain": [
       "<Figure size 432x288 with 1 Axes>"
      ]
     },
     "metadata": {
      "needs_background": "light"
     },
     "output_type": "display_data"
    },
    {
     "data": {
      "image/png": "[encoded data removed]",
      "text/plain": [
       "<Figure size 432x288 with 1 Axes>"
      ]
     },
     "metadata": {
      "needs_background": "light"
     },
     "output_type": "display_data"
    },
    {
     "data": {
      "image/png": "[encoded data removed]",
      "text/plain": [
       "<Figure size 432x288 with 1 Axes>"
      ]
     },
     "metadata": {
      "needs_background": "light"
     },
     "output_type": "display_data"
    }
   ],
   "source": [
    "for i in checkout:\n",
    "    raw_path = 'los.00' + '{0:03}'.format(i[0]) +'.raw'\n",
    "    den_path =  'los.00' + '{0:03}'.format(i[0]) +'.den'\n",
    "    distance, pec_vel1, temp1, HI_density1, gas_density1, gas_metallicity1 = unPackRawFile(raw_path)\n",
    "    distance_cm = distance *0.1452*3.086e24 /0.68\n",
    "    distance1, gas_density1 = unPackDenFile(den_path)\n",
    "    gas_density =sp.interpolate.interp1d(distance1,gas_density1, fill_value=\"extrapolate\")(distance)\n",
    "    plt.plot(distance1,gas_density1)\n",
    "    plt.scatter(i[1],0,c = \"blue\")\n",
    "    plt.scatter(i[2],0,c = \"blue\")\n",
    "    plt.scatter(i[3],0,c = \"blue\")\n",
    "    plt.title(\"gas_density vs distance\")\n",
    "    plt.xlim(i[1]-.05,i[2]+.5)\n",
    "    plt.ylim(-.001,gas_density1[int(i[2])]+0.01) \n",
    "    plt.savefig(\"a_figure1.png\",dpi=300)\n",
    "    plt.show()\n",
    "   \n",
    "    plt.plot(distance,gas_density)\n",
    "    plt.scatter(i[4],0,c = \"red\")\n",
    "    plt.scatter(i[5],0,c = \"red\")\n",
    "    plt.scatter(i[6],0,c = \"red\")\n",
    "    plt.xlim(i[1]-.05,i[2]+.5)\n",
    "    plt.ylim(-.001,gas_density[int(i[5])]+0.01)\n",
    "    plt.title(\"gas_density vs distance\")\n",
    "    plt.savefig(\"a_figure2.png\",dpi=300)\n",
    "    plt.show()\n",
    "    "
   ]
  },
  {
   "cell_type": "code",
   "execution_count": 235,
   "metadata": {},
   "outputs": [
    {
     "name": "stdout",
     "output_type": "stream",
     "text": [
      "13842\n",
      "13842\n"
     ]
    },
    {
     "data": {
      "image/png": "[encoded data removed]",
      "text/plain": [
       "<Figure size 432x288 with 1 Axes>"
      ]
     },
     "metadata": {
      "needs_background": "light"
     },
     "output_type": "display_data"
    },
    {
     "data": {
      "image/png": "[encoded data removed]",
      "text/plain": [
       "<Figure size 432x288 with 1 Axes>"
      ]
     },
     "metadata": {
      "needs_background": "light"
     },
     "output_type": "display_data"
    },
    {
     "name": "stdout",
     "output_type": "stream",
     "text": [
      "9198\n",
      "9198\n"
     ]
    },
    {
     "data": {
      "image/png": "[encoded data removed]",
      "text/plain": [
       "<Figure size 432x288 with 1 Axes>"
      ]
     },
     "metadata": {
      "needs_background": "light"
     },
     "output_type": "display_data"
    },
    {
     "data": {
      "image/png": "[encoded data removed]",
      "text/plain": [
       "<Figure size 432x288 with 1 Axes>"
      ]
     },
     "metadata": {
      "needs_background": "light"
     },
     "output_type": "display_data"
    }
   ],
   "source": [
    "for i in checkout:\n",
    "    raw_path = 'los.00' + '{0:03}'.format(i[0]) +'.raw'\n",
    "    den_path =  'los.00' + '{0:03}'.format(i[0]) +'.den'\n",
    "    distance, pec_vel, temp, HI_density, gas_density2, gas_metallicity = unPackRawFile(raw_path)\n",
    "    print(len(HI_density))\n",
    "    print(len( gas_density2))\n",
    "        #changing the distance from chimp to cmeters\n",
    "    distance1,gas_density1 = unPackDenFile(den_path)\n",
    "    distance_cm = distance *0.1452*3.086e24 /0.68\n",
    "    gas_density =sp.interpolate.interp1d(distance1,gas_density1, fill_value=\"extrapolate\")(distance)\n",
    "    plt.plot(distance, HI_density/gas_density2)\n",
    "    plt.scatter(i[1],0,c = \"blue\")\n",
    "    plt.scatter(i[2],0,c = \"blue\")\n",
    "    plt.scatter(i[3],0,c = \"blue\")\n",
    "    plt.xlim(i[1]-.05,i[2]+.05)\n",
    "    plt.ylim(-.01,(HI_density/gas_density)[int(i[2])]+1) \n",
    "    plt.title(\"neutral_fraction vs distance\")\n",
    "    plt.show()\n",
    "    plt.plot(distance, HI_density/gas_density)\n",
    "    plt.scatter(i[4],0,c = \"red\")\n",
    "    plt.scatter(i[5],0,c = \"red\")\n",
    "    plt.scatter(i[6],0,c = \"red\")\n",
    "    plt.xlim(i[1]-.05,i[2]+.05)\n",
    "    plt.ylim(-.01,(HI_density/gas_density2)[int(i[5])]+400)\n",
    "    plt.title(\"neutral_fraction vs distance\")\n",
    "    plt.show()"
   ]
  },
  {
   "cell_type": "code",
   "execution_count": 181,
   "metadata": {},
   "outputs": [],
   "source": [
    "for i in checkout:\n",
    "    raw_path = 'los.00' + '{0:03}'.format(i[0]) +'.raw'\n",
    "    den_path =  'los.00' + '{0:03}'.format(i[0]) +'.den'\n",
    "    distance, pec_vel, temp, HI_density, gas_density2, gas_metallicity = unPackRawFile(raw_path)\n",
    "        #changing the distance from chimp to cmeters\n",
    "    distance1,gas_density1 = unPackDenFile(den_path)\n",
    "    distance_cm = distance *0.1452*3.086e24 /0.68\n",
    "    gas_density =sp.interpolate.interp1d(distance1,gas_density1, fill_value=\"extrapolate\")(distance)\n",
    "    for i in range(0,len(distance)):\n",
    "        if(distance[i]>128.7):\n",
    "            print(HI_density[i]/gas_density[i])\n",
    "            print(distance[i])"
   ]
  },
  {
   "cell_type": "code",
   "execution_count": 182,
   "metadata": {},
   "outputs": [
    {
     "name": "stdout",
     "output_type": "stream",
     "text": [
      "[2.4589037650868383e+18, 5.126582378138959e+18]\n",
      "[2.6585698437635542e+20, 5.95730523064633e+20]\n",
      "[1.2575626777234345e+18, 2.6177835332227133e+18]\n",
      "[7.148956915620788e+17, 1.6955048260050993e+18]\n"
     ]
    }
   ],
   "source": [
    "percentage_difference = []\n",
    "for i in similar:\n",
    "    percentage_difference.append(np.abs(i[0] - i[1])/i[0])\n",
    "    if(np.abs(i[0] - i[1])/i[0] >1):\n",
    "        print(i)"
   ]
  },
  {
   "cell_type": "code",
   "execution_count": 183,
   "metadata": {},
   "outputs": [
    {
     "data": {
      "text/plain": [
       "[0.0,\n",
       " 0.0,\n",
       " 0.05597122302155052,\n",
       " 0.0,\n",
       " 0.15014097744457708,\n",
       " 0.0,\n",
       " 0.0,\n",
       " 0.0,\n",
       " 0.0,\n",
       " 0.0,\n",
       " 0.09801762114581261,\n",
       " 0.0,\n",
       " 0.0,\n",
       " 0.0,\n",
       " 0.48958333333314163,\n",
       " 0.13549190535479586,\n",
       " 0.0,\n",
       " 0.0,\n",
       " 0.0,\n",
       " 0.21630094043849768,\n",
       " 0.1279391424621219,\n",
       " 0.11595315799629081,\n",
       " 0.5000000000004766,\n",
       " 0.36676798378922976,\n",
       " 0.2485272459510148,\n",
       " 0.0,\n",
       " 0.0,\n",
       " 0.12226816302421471,\n",
       " 0.15554136058818185,\n",
       " 0.05487547488408359,\n",
       " 0.0,\n",
       " 0.4542753383957093,\n",
       " 0.17677024961788637,\n",
       " 0.0,\n",
       " 0.6679117147712068,\n",
       " 0.22406449650099947,\n",
       " 0.0,\n",
       " 0.0,\n",
       " 0.1768106086357454,\n",
       " 0.3399092970525167,\n",
       " 0.21202361782075968,\n",
       " 0.0,\n",
       " 0.1402579049638317,\n",
       " 0.0,\n",
       " 0.23383768913302305,\n",
       " 0.0,\n",
       " 0.422530558308587,\n",
       " 0.217839269943854,\n",
       " 1.0849056603717508,\n",
       " 0.4973345876455678,\n",
       " 0.1387912860160413,\n",
       " 0.0862745098048216,\n",
       " 0.0,\n",
       " 0.0,\n",
       " 0.0,\n",
       " 0.4984662576698462,\n",
       " 0.0,\n",
       " 0.0,\n",
       " 0.2835148328951784,\n",
       " 0.15921356977672757,\n",
       " 0.0,\n",
       " 0.0,\n",
       " 0.17779913503078762,\n",
       " 0.04417888828599404,\n",
       " 0.6665534804763509,\n",
       " 0.0,\n",
       " 0.0,\n",
       " 0.43037974683571056,\n",
       " 0.3090452261306299,\n",
       " 0.0,\n",
       " 0.0,\n",
       " 0.27918690412071184,\n",
       " 0.2184190330005868,\n",
       " 0.033771106941876405,\n",
       " 0.0,\n",
       " 0.07582011731456392,\n",
       " 0.42309924550191297,\n",
       " 0.0,\n",
       " 0.0,\n",
       " 0.0,\n",
       " 0.2140557939913112,\n",
       " 0.0,\n",
       " 0.11971372804174059,\n",
       " 0.3663522012575336,\n",
       " 0.0,\n",
       " 0.059123343526765744,\n",
       " 0.06485671191563937,\n",
       " 0.0,\n",
       " 0.0,\n",
       " 0.12804414003036307,\n",
       " 0.0,\n",
       " 0.047360112261731424,\n",
       " 0.20093984962390518,\n",
       " 0.0,\n",
       " 0.0,\n",
       " 0.33456732993933286,\n",
       " 0.0,\n",
       " 0.0,\n",
       " 0.0,\n",
       " 0.0,\n",
       " 0.0,\n",
       " 0.0,\n",
       " 0.0,\n",
       " 0.375539568346684,\n",
       " 0.257409793816528,\n",
       " 0.23624823695329028,\n",
       " 0.0,\n",
       " 0.010461144320605097,\n",
       " 0.27712557808646887,\n",
       " 0.09323583181010278,\n",
       " 0.0,\n",
       " 0.0,\n",
       " 0.2930900621115933,\n",
       " 0.0,\n",
       " 0.0,\n",
       " 0.0,\n",
       " 0.1802538787023666,\n",
       " 0.0,\n",
       " 0.0,\n",
       " 0.20701842968947157,\n",
       " 0.0,\n",
       " 0.13006049325272798,\n",
       " 0.2887915297553565,\n",
       " 0.3258598726114775,\n",
       " 0.248246416590452,\n",
       " 0.2014312218393299,\n",
       " 0.1190476190472857,\n",
       " 0.7849117174952852,\n",
       " 0.0,\n",
       " 0.0,\n",
       " 0.0,\n",
       " 0.35524079320095525,\n",
       " 0.2967102488408746,\n",
       " 0.636278195485889,\n",
       " 0.3399638336344479,\n",
       " 0.36919315403592456,\n",
       " 0.10282776349614024,\n",
       " 0.24012841091500034,\n",
       " 0.36825396825458945,\n",
       " 0.20765629303220626,\n",
       " 0.25605182407055527,\n",
       " 0.28131732840867874,\n",
       " 0.11147731678963213,\n",
       " 0.18264580369842232,\n",
       " 0.0,\n",
       " 0.0,\n",
       " 0.0,\n",
       " 0.0,\n",
       " 0.32562929061782403,\n",
       " 0.13276425717397033,\n",
       " 0.0,\n",
       " 0.23310719131616042,\n",
       " 0.1935953420673515,\n",
       " 0.0,\n",
       " 0.15335305719918887,\n",
       " 0.0,\n",
       " 0.0,\n",
       " 0.0,\n",
       " 0.13370998116765753,\n",
       " 0.0,\n",
       " 0.15811965811903925,\n",
       " 0.20488903184303026,\n",
       " 0.09611772072685953,\n",
       " 0.09505436688907704,\n",
       " 0.26344463971860493,\n",
       " 0.0,\n",
       " 0.0,\n",
       " 0.0,\n",
       " 0.0,\n",
       " 0.05717802394546123,\n",
       " 0.176517571884643,\n",
       " 0.15541601255869975,\n",
       " 0.08373639661429912,\n",
       " 0.061320262801105425,\n",
       " 0.22568242983423706,\n",
       " 0.3318553888132997,\n",
       " 0.0,\n",
       " 0.13385633733754265,\n",
       " 0.0,\n",
       " 0.0,\n",
       " 0.0,\n",
       " 0.0,\n",
       " 0.03638814016122791,\n",
       " 0.0,\n",
       " 0.0,\n",
       " 0.0,\n",
       " 0.0,\n",
       " 0.0,\n",
       " 0.0,\n",
       " 0.0,\n",
       " 0.0,\n",
       " 0.0,\n",
       " 0.0,\n",
       " 0.08203195117573739,\n",
       " 0.0,\n",
       " 0.28706624605741665,\n",
       " 0.0,\n",
       " 0.1401289682539858,\n",
       " 0.0,\n",
       " 0.24615384615352134,\n",
       " 0.15363790186160953,\n",
       " 0.0,\n",
       " 0.5384856070084607,\n",
       " 0.0,\n",
       " 0.42803504380561735,\n",
       " 0.0,\n",
       " 0.0,\n",
       " 0.0745941202281305,\n",
       " 0.0,\n",
       " 0.0,\n",
       " 0.09196844747222643,\n",
       " 0.2329182093571181,\n",
       " 0.12937412517453567,\n",
       " 0.0,\n",
       " 0.15083648138081937,\n",
       " 0.1065197428843098,\n",
       " 0.5181945416377565,\n",
       " 0.16708181644004064,\n",
       " 0.0,\n",
       " 0.07178890182496936,\n",
       " 0.0,\n",
       " 0.0,\n",
       " 0.0,\n",
       " 0.18478577674176966,\n",
       " 0.16326530612200776,\n",
       " 0.06072654979253844,\n",
       " 0.25065963060637286,\n",
       " 0.2724173201502459,\n",
       " 0.061099423762605735,\n",
       " 0.4127962085303706,\n",
       " 0.10877581121031021,\n",
       " 0.0,\n",
       " 0.0,\n",
       " 0.20290964778042572,\n",
       " 0.0,\n",
       " 0.2949962658691738,\n",
       " 0.1830161054173084,\n",
       " 0.17178906502733537,\n",
       " 0.0,\n",
       " 0.09837662337661236,\n",
       " 0.011875511875814771,\n",
       " 0.3867607526883567,\n",
       " 0.0,\n",
       " 0.33333333333309706,\n",
       " 0.17757009345745736,\n",
       " 0.0,\n",
       " 0.1948916076409264,\n",
       " 0.059240329887330995,\n",
       " 0.23770280710867553,\n",
       " 0.13216630196870624,\n",
       " 0.0,\n",
       " 0.0,\n",
       " 0.0,\n",
       " 0.0,\n",
       " 0.26565176022877196,\n",
       " 0.0,\n",
       " 0.0,\n",
       " 0.0,\n",
       " 0.0,\n",
       " 0.0,\n",
       " 0.0,\n",
       " 0.17153996101351948,\n",
       " 0.18268398268447172,\n",
       " 0.07165263331682191,\n",
       " 0.0,\n",
       " 0.40021287919104087,\n",
       " 0.0,\n",
       " 0.0,\n",
       " 0.0,\n",
       " 0.0,\n",
       " 0.15954752659112204,\n",
       " 0.0,\n",
       " 0.0,\n",
       " 0.0,\n",
       " 0.360291680477132,\n",
       " 0.0662629141435422,\n",
       " 0.0,\n",
       " 0.0,\n",
       " 0.0,\n",
       " 0.0,\n",
       " 0.25945945945925786,\n",
       " 0.0,\n",
       " 0.09592188397475698,\n",
       " 0.0,\n",
       " 0.0,\n",
       " 0.053031611677545,\n",
       " 0.11829604658281946,\n",
       " 0.12829194883354483,\n",
       " 0.10658599022527251,\n",
       " 0.40393550150337165,\n",
       " 0.2967604634662206,\n",
       " 0.21850450974654392,\n",
       " 0.5142700329312145,\n",
       " 0.17799779977987928,\n",
       " 0.25066153476007713,\n",
       " 0.3939004815405033,\n",
       " 0.27967337416238197,\n",
       " 0.14288179465055056,\n",
       " 0.10464495461900875,\n",
       " 0.35110709444214655,\n",
       " 0.5963887413683959,\n",
       " 0.0,\n",
       " 0.36861538461578985,\n",
       " 0.2503448275866266,\n",
       " 0.2497477295661577,\n",
       " 0.0,\n",
       " 0.1590091889711738,\n",
       " 0.34811383189951695,\n",
       " 0.21375186845958563,\n",
       " 0.0,\n",
       " 0.6561158798279886,\n",
       " 0.08362302047109438,\n",
       " 0.0,\n",
       " 0.0,\n",
       " 0.2846565199501165,\n",
       " 0.32415458937287184,\n",
       " 0.1380090497740031,\n",
       " 0.1284017440986826,\n",
       " 0.0,\n",
       " 0.45447087776886363,\n",
       " 0.0,\n",
       " 0.0,\n",
       " 0.09526431718056326,\n",
       " 0.13860163605478437,\n",
       " 0.0,\n",
       " 0.07625060709200031,\n",
       " 0.0,\n",
       " 0.0,\n",
       " 0.0,\n",
       " 0.23011897307471244,\n",
       " 0.0,\n",
       " 0.19999999999999984,\n",
       " 0.742783835793949,\n",
       " 0.0,\n",
       " 0.0,\n",
       " 0.0,\n",
       " 0.0,\n",
       " 0.0,\n",
       " 0.3983640081791429,\n",
       " 0.0,\n",
       " 0.250000000000083,\n",
       " 0.4495990836196253,\n",
       " 0.0,\n",
       " 0.0,\n",
       " 0.0,\n",
       " 0.09374195209878318,\n",
       " 0.2162698412698543,\n",
       " 0.08537915984677119,\n",
       " 0.0,\n",
       " 0.0,\n",
       " 0.18740989908719077,\n",
       " 0.1671036948747873,\n",
       " 0.0,\n",
       " 0.1780530973451037,\n",
       " 0.10633861551289997,\n",
       " 0.0,\n",
       " 0.0,\n",
       " 0.0603386596701261,\n",
       " 0.1884720951501685,\n",
       " 0.49058756417558463,\n",
       " 0.0,\n",
       " 0.032625910674952144,\n",
       " 0.0,\n",
       " 0.36940382452039017,\n",
       " 0.22325581395326266,\n",
       " 0.0,\n",
       " 0.0,\n",
       " 0.0,\n",
       " 0.12964601769914444,\n",
       " 0.0,\n",
       " 0.01007751938023501,\n",
       " 0.11441307578009881,\n",
       " 0.0,\n",
       " 0.1972413793097764,\n",
       " 0.20439940682165267,\n",
       " 0.13307646710101173,\n",
       " 0.4767641996575862,\n",
       " 0.0,\n",
       " 0.0,\n",
       " 0.0,\n",
       " 0.44540540540553136,\n",
       " 0.4252615844540703,\n",
       " 0.445081732147258,\n",
       " 0.07764078640410221,\n",
       " 0.0,\n",
       " 0.1620893914914098,\n",
       " 0.6013824884787423,\n",
       " 0.2716368333657468,\n",
       " 0.0,\n",
       " 0.141227857315898,\n",
       " 0.1440922190206415,\n",
       " 0.31958762886650277,\n",
       " 0.42333019755331563,\n",
       " 0.1344181110732211,\n",
       " 0.0,\n",
       " 0.0,\n",
       " 0.3014238773275967,\n",
       " 0.0,\n",
       " 0.10220376876296905,\n",
       " 0.19958129797626428,\n",
       " 0.0,\n",
       " 0.2916274694254659,\n",
       " 0.0,\n",
       " 0.42049156055732456,\n",
       " 0.0,\n",
       " 0.0,\n",
       " 0.0,\n",
       " 0.33434038267870025,\n",
       " 0.09034416826014423,\n",
       " 1.240793201134405,\n",
       " 0.0,\n",
       " 0.0,\n",
       " 0.2153476169654054,\n",
       " 0.0,\n",
       " 0.0,\n",
       " 0.0,\n",
       " 0.17496875557927918,\n",
       " 0.0,\n",
       " 0.16740088105724485,\n",
       " 0.15925363419385774,\n",
       " 0.13946280991710583,\n",
       " 0.11598111935327159,\n",
       " 0.6630639097781098,\n",
       " 0.14477211796237663,\n",
       " 0.0,\n",
       " 0.34940059940066787,\n",
       " 0.1844012757320452,\n",
       " 0.0,\n",
       " 0.39705882353040184,\n",
       " 0.21751412429357994,\n",
       " 0.0,\n",
       " 0.0,\n",
       " 0.11731694281134951,\n",
       " 0.4425259003438283,\n",
       " 0.0,\n",
       " 0.0,\n",
       " 0.11260845486441332,\n",
       " 0.05867405867405388,\n",
       " 0.23353937113682,\n",
       " 0.0,\n",
       " 0.18862275449089994,\n",
       " 0.0,\n",
       " 0.0,\n",
       " 0.08615288220557471,\n",
       " 0.1163793103448673,\n",
       " 0.0,\n",
       " 0.24034334764243837,\n",
       " 0.03887988891461896,\n",
       " 0.0,\n",
       " 0.19223067681217113,\n",
       " 0.012457912457928207,\n",
       " 0.0,\n",
       " 0.0,\n",
       " 0.0,\n",
       " 0.0,\n",
       " 0.0,\n",
       " 0.12918871252269062,\n",
       " 0.601626016260778,\n",
       " 0.0,\n",
       " 0.0,\n",
       " 0.0,\n",
       " 0.0,\n",
       " 0.21682692307687013,\n",
       " 0.0,\n",
       " 0.0,\n",
       " 0.07801899592975697,\n",
       " 0.02257810448912735,\n",
       " 0.06281292671813209,\n",
       " 0.060127028934206586,\n",
       " 0.3539612376770807,\n",
       " 0.09457273128395607,\n",
       " 0.10522120366699461,\n",
       " 0.0,\n",
       " 0.0,\n",
       " 0.8326105810922052,\n",
       " 0.2783238489403053,\n",
       " 0.0,\n",
       " 0.07906413876506083,\n",
       " 0.08756684491980901,\n",
       " 0.32857742341600255,\n",
       " 0.0,\n",
       " 0.0,\n",
       " 0.24775896414524287,\n",
       " 0.1667221297833636,\n",
       " 0.06874557051740483,\n",
       " 0.0,\n",
       " 0.29911942762753274,\n",
       " 0.1825516893595597,\n",
       " 0.0,\n",
       " 0.0,\n",
       " 0.15309381237530525,\n",
       " 0.0,\n",
       " 0.0,\n",
       " 0.0,\n",
       " 0.11451800232285374,\n",
       " 0.27325853202480455,\n",
       " 0.19183942086248784,\n",
       " 0.0,\n",
       " 0.3202020202029246,\n",
       " 0.14757525083613973,\n",
       " 0.38665912945134895,\n",
       " 0.2499999999999791,\n",
       " 0.0,\n",
       " 0.10537634408580507,\n",
       " 0.11112892880048836,\n",
       " 0.2080858839652897,\n",
       " 0.0,\n",
       " 0.16666666666651936,\n",
       " 0.41014799154356185,\n",
       " 0.20624999999990282,\n",
       " 0.0,\n",
       " 0.8244620611550708,\n",
       " 0.0,\n",
       " 0.0,\n",
       " 0.1391084413532697,\n",
       " 0.07161997563925476,\n",
       " 0.40636042402863937,\n",
       " 0.25174603174598337,\n",
       " 0.0,\n",
       " 0.23181953101905692,\n",
       " 0.47213989330104994,\n",
       " 0.0,\n",
       " 0.0,\n",
       " 0.09311267134758065,\n",
       " 0.15610799251503937,\n",
       " 0.1030256606660235,\n",
       " 0.0,\n",
       " 0.2206927175840199,\n",
       " 0.0,\n",
       " 0.0,\n",
       " 0.209187120017444,\n",
       " 0.15617232808706524,\n",
       " 0.0,\n",
       " 0.0,\n",
       " 0.036314229248937055,\n",
       " 0.0,\n",
       " 0.0,\n",
       " 0.03431180691453777,\n",
       " 0.1353644427294978,\n",
       " 0.0,\n",
       " 0.0,\n",
       " 0.2199189897545284,\n",
       " 0.0,\n",
       " 0.0,\n",
       " 0.0,\n",
       " 0.1342891760904993,\n",
       " 0.0,\n",
       " 0.0,\n",
       " 0.0,\n",
       " 0.12875536480439026,\n",
       " 0.13560371517021624,\n",
       " 0.0,\n",
       " 0.21031128404683808,\n",
       " 0.12612797374884327,\n",
       " 0.09682392846131642,\n",
       " 0.08818380743885623,\n",
       " 0.13295269168024992,\n",
       " 0.37928408225468957,\n",
       " 0.5005603287265026,\n",
       " 0.0,\n",
       " 0.0,\n",
       " 0.10058840011215292,\n",
       " 0.16121169916353975,\n",
       " 0.0,\n",
       " 0.1892048752177548,\n",
       " 0.0,\n",
       " 0.0,\n",
       " 0.0,\n",
       " 0.08509558450346813,\n",
       " 0.0,\n",
       " 0.013273628657607022,\n",
       " 0.0,\n",
       " 0.0,\n",
       " 0.1751586233415729,\n",
       " 0.0,\n",
       " 0.0,\n",
       " 0.48680823680896257,\n",
       " 0.0,\n",
       " 0.43721330275306597,\n",
       " 0.13864396473148766,\n",
       " 0.0,\n",
       " 0.0,\n",
       " 0.17021725374393404,\n",
       " 0.0,\n",
       " 0.2447145877378736,\n",
       " 0.11052468177596426,\n",
       " 0.0,\n",
       " 0.21540880503150756,\n",
       " 0.0,\n",
       " 0.0,\n",
       " 0.24987212276174292,\n",
       " 0.08761583824759418,\n",
       " 0.0,\n",
       " 0.0,\n",
       " 0.4953905870936489,\n",
       " 0.16118421052647025,\n",
       " 0.029380053908265605,\n",
       " 0.0,\n",
       " 0.0,\n",
       " 0.43614130434882714,\n",
       " 0.0,\n",
       " 0.1924443009360786,\n",
       " 0.5169204737729316,\n",
       " 0.0,\n",
       " 0.15820105820075936,\n",
       " 0.0,\n",
       " 0.0,\n",
       " 0.0,\n",
       " 0.18381706244517032,\n",
       " 0.1379958638842421,\n",
       " 0.22216172066472625,\n",
       " 0.4325342465738795,\n",
       " 0.5685757347414884,\n",
       " 0.39550029603492853,\n",
       " 0.46453168044125537,\n",
       " 0.47539616346835006,\n",
       " 0.0,\n",
       " 0.22234273318774078,\n",
       " 0.1405611549993675,\n",
       " 0.0,\n",
       " 0.11923377638782634,\n",
       " 0.06745594713626803,\n",
       " 0.3381112984820616,\n",
       " 0.0713159157918758,\n",
       " 0.0,\n",
       " 0.08457208832403576,\n",
       " 0.0,\n",
       " 0.2436464088394325,\n",
       " 0.30735076467716393,\n",
       " 0.0,\n",
       " 0.23082555372472421,\n",
       " 0.07746113989632011,\n",
       " 0.34727845254127593,\n",
       " 0.0,\n",
       " 0.1407076047176269,\n",
       " 0.13292625645850756,\n",
       " 0.5223319228970723,\n",
       " 0.21818181818178906,\n",
       " 0.3130841121500214,\n",
       " 0.0,\n",
       " 0.0,\n",
       " 0.19573520050897905,\n",
       " 0.0,\n",
       " 0.26144097629515806,\n",
       " 0.17500887468947185,\n",
       " 0.331756756756746,\n",
       " 0.24657534246490606,\n",
       " 0.3327318657524096,\n",
       " 0.0,\n",
       " 0.16271463614160267,\n",
       " 0.0,\n",
       " 0.08169696969707212,\n",
       " 0.0,\n",
       " 0.0,\n",
       " 0.0,\n",
       " 0.15635245901639794,\n",
       " 0.17631133671745472,\n",
       " 1.0816326530632148,\n",
       " 0.14848762603126694,\n",
       " 0.0,\n",
       " 0.07699589775971322,\n",
       " 0.2521332232314806,\n",
       " 0.0,\n",
       " 0.0,\n",
       " 0.13745629370641857,\n",
       " 0.21675833063701344,\n",
       " 0.0,\n",
       " 0.1401380854638375,\n",
       " 0.24691358024647944,\n",
       " 0.16017473607600738,\n",
       " 0.15193965517205757,\n",
       " 0.1603203137765841,\n",
       " 0.0,\n",
       " 0.0,\n",
       " 0.0,\n",
       " 0.0,\n",
       " 0.4158102766786713,\n",
       " 0.03604968191363256,\n",
       " 0.26175253854588265,\n",
       " 0.1410939691453426,\n",
       " 0.15435190983094804,\n",
       " 0.5992663915628491,\n",
       " 0.16179730002014797,\n",
       " 0.0,\n",
       " 0.0,\n",
       " 0.0,\n",
       " 0.16198704103702022,\n",
       " 0.22507122507084754,\n",
       " 0.20188069350756285,\n",
       " 0.17738419618459014,\n",
       " 0.0,\n",
       " 0.0,\n",
       " 0.0,\n",
       " 0.0,\n",
       " 0.08644946316162098,\n",
       " 0.07626748251748257,\n",
       " 0.0,\n",
       " 0.353387259858772,\n",
       " 0.0,\n",
       " 0.3317631224765832,\n",
       " 0.3435923309785763,\n",
       " 0.0,\n",
       " 0.0,\n",
       " 0.0,\n",
       " 0.11764705882404984,\n",
       " 0.0626178800453557,\n",
       " 0.1991491624568326,\n",
       " 0.0,\n",
       " 0.0,\n",
       " 0.16879859543429648,\n",
       " 0.0,\n",
       " 0.0,\n",
       " 0.0,\n",
       " 0.0,\n",
       " 0.0,\n",
       " 0.26110833749482815,\n",
       " 0.16133030365623985,\n",
       " 0.023403928790637674,\n",
       " 0.07246749903464868,\n",
       " 0.21801140994260784,\n",
       " 0.0,\n",
       " 0.0,\n",
       " 0.16463560334531457,\n",
       " 0.0,\n",
       " 0.377419354837739,\n",
       " 0.11304347826086739,\n",
       " 0.20829943043123703,\n",
       " 0.1253830439219202,\n",
       " 0.1749222797932223,\n",
       " 0.18614357262125453,\n",
       " 0.0,\n",
       " 0.0,\n",
       " 0.05455022292164268,\n",
       " 0.17714791851240913,\n",
       " 0.0,\n",
       " 0.0,\n",
       " 0.0,\n",
       " 0.0,\n",
       " 0.20632411067211062,\n",
       " 0.0,\n",
       " 0.0,\n",
       " 0.24466788543570145,\n",
       " 0.4317558299039886,\n",
       " 0.0,\n",
       " 0.22182628062333584,\n",
       " 0.044148936170307754,\n",
       " 0.1793580868470589,\n",
       " 0.0,\n",
       " 0.0,\n",
       " 0.06288406390825091,\n",
       " 0.0,\n",
       " 0.0,\n",
       " 0.0,\n",
       " 0.1720348616900052,\n",
       " 0.06851953769980948,\n",
       " 0.1646234676017016,\n",
       " 0.33180428134616297,\n",
       " 0.0,\n",
       " 0.0,\n",
       " 0.0,\n",
       " 0.0,\n",
       " 0.25100000000013034,\n",
       " 0.0,\n",
       " 0.0,\n",
       " 0.2328431372554344,\n",
       " 0.0,\n",
       " 0.0,\n",
       " 0.16535570704431707,\n",
       " 0.06408094435069034,\n",
       " 0.143832276937903,\n",
       " 0.0,\n",
       " 0.0,\n",
       " 0.12733224222562914,\n",
       " 0.0,\n",
       " 0.241379310346629,\n",
       " 0.06128221244501914,\n",
       " 0.0,\n",
       " 0.0,\n",
       " 0.40624999999829486,\n",
       " 0.2109304426377469,\n",
       " 0.0,\n",
       " 0.0,\n",
       " 0.1920529801321407,\n",
       " 0.0,\n",
       " 0.0,\n",
       " 0.0,\n",
       " 0.0,\n",
       " 0.0,\n",
       " 0.24789437741935846,\n",
       " 0.0,\n",
       " 0.0,\n",
       " 0.0,\n",
       " 0.0,\n",
       " 0.42629904559796705,\n",
       " 0.1568093385212412,\n",
       " 0.0,\n",
       " 0.0,\n",
       " 0.1619718309860823,\n",
       " 0.0,\n",
       " 0.596214511044207,\n",
       " 0.10790119890257133,\n",
       " 0.16227642276358184,\n",
       " 0.18610129564193914,\n",
       " 0.0,\n",
       " 0.0,\n",
       " 0.0,\n",
       " 0.0,\n",
       " 0.0,\n",
       " 0.16536904391153137,\n",
       " 0.2402791625126549,\n",
       " 0.0,\n",
       " 0.0,\n",
       " 0.0,\n",
       " 0.9356223176019691,\n",
       " 0.34118654958241346,\n",
       " 0.14505730659048324,\n",
       " 0.09079986268457832,\n",
       " 0.6700091157672161,\n",
       " 0.2776642335769059,\n",
       " 0.5303577289115515,\n",
       " 1.3716814159284494,\n",
       " 0.15852259692590828,\n",
       " 0.0,\n",
       " 0.3771730914594491,\n",
       " 0.11697887604613504,\n",
       " 0.0,\n",
       " 0.0,\n",
       " 0.11191592103404908,\n",
       " 0.14903242020573196,\n",
       " 0.08708319844612482,\n",
       " 0.1856655290102281,\n",
       " 0.07655798596782458,\n",
       " 0.12900188323916903,\n",
       " 0.09285507665647376,\n",
       " 0.0,\n",
       " 0.0,\n",
       " 0.18317298622875064,\n",
       " 0.5,\n",
       " 0.14709517923402146,\n",
       " 0.17850408548089386,\n",
       " 0.11214814814817624,\n",
       " 0.4735563950349136,\n",
       " 0.046567034871185894,\n",
       " 0.0,\n",
       " 0.0,\n",
       " 0.0,\n",
       " 0.14547357404506758,\n",
       " 0.0,\n",
       " 0.0,\n",
       " 0.08983926521145574,\n",
       " 0.38883089770315715,\n",
       " 0.0,\n",
       " 0.0,\n",
       " 0.0,\n",
       " 0.0,\n",
       " 0.0,\n",
       " 0.13658043069797754,\n",
       " 0.5133159268929531,\n",
       " 0.0,\n",
       " 0.10972949389175951,\n",
       " 0.21466992665033324,\n",
       " 0.11336227689357944,\n",
       " 0.30374612264363715,\n",
       " 0.05217182240744147,\n",
       " 0.3360602094244865,\n",
       " 0.0,\n",
       " 0.22807869808126505,\n",
       " 0.07691453940071685,\n",
       " 0.0,\n",
       " 0.016935036091211983,\n",
       " 0.18067226890759674,\n",
       " 0.0,\n",
       " 0.1730947238507431,\n",
       " 0.0,\n",
       " 0.39438291139284304,\n",
       " 0.10275165447571225,\n",
       " 0.18972795497216205,\n",
       " 0.0,\n",
       " 0.08872875887288045,\n",
       " 0.23358778626103485,\n",
       " 0.0,\n",
       " 0.0,\n",
       " 0.0,\n",
       " 0.15086139996889897,\n",
       " 0.13114377583837494,\n",
       " 0.3204535909282517,\n",
       " 0.40402010050270953,\n",
       " 0.0,\n",
       " 0.35327908089998944,\n",
       " 0.5007625826122216,\n",
       " 0.0,\n",
       " 0.20088579563438091,\n",
       " 0.0,\n",
       " 0.33289760348540326,\n",
       " 0.2051006711406009,\n",
       " 0.16666666666666677,\n",
       " 0.12001057361875794,\n",
       " 0.0603696098560646,\n",
       " 0.0,\n",
       " 0.0,\n",
       " 0.11848341232214153,\n",
       " 0.0,\n",
       " 0.21379897785358754,\n",
       " 0.0,\n",
       " 0.036651485577748014,\n",
       " 0.0,\n",
       " 0.0,\n",
       " 0.0,\n",
       " 0.0,\n",
       " 0.17020273455932147,\n",
       " 0.0,\n",
       " 0.0,\n",
       " 0.0,\n",
       " 0.0,\n",
       " 0.0,\n",
       " 0.28021486123538814,\n",
       " 0.0,\n",
       " 0.5166666666671235,\n",
       " 0.13836218741396666,\n",
       " 0.0,\n",
       " 0.8306451612829754,\n",
       " 0.0,\n",
       " 0.45126782884294436,\n",
       " 0.08522396742329331,\n",
       " 0.19300732341066879,\n",
       " 0.22365910536469885,\n",
       " 0.0,\n",
       " 0.1496171215390232,\n",
       " 0.15792980897435796,\n",
       " 0.0,\n",
       " 0.21925925925972858,\n",
       " 0.0,\n",
       " 0.27846027846007076,\n",
       " 0.26360544217672993,\n",
       " 0.0,\n",
       " 0.11955611390270596,\n",
       " 0.0,\n",
       " 0.0,\n",
       " 0.0,\n",
       " 0.03829960613813863,\n",
       " 0.0,\n",
       " 0.23485415108457489,\n",
       " 0.11937264013945267,\n",
       " 0.11632200886289966,\n",
       " 0.0,\n",
       " 0.3390764989658873,\n",
       " 0.4033179222205108,\n",
       " 0.17193486590024148,\n",
       " 0.028120063190980458,\n",
       " 0.17033840563252978,\n",
       " 0.262615301139326,\n",
       " 0.0,\n",
       " 0.0,\n",
       " 0.10071707953240437,\n",
       " 0.12103480135446132,\n",
       " 0.0,\n",
       " 0.06015755550351693,\n",
       " 0.0,\n",
       " 0.0,\n",
       " 0.0,\n",
       " 0.0,\n",
       " 0.12966383450427416,\n",
       " 0.13251503006020227,\n",
       " 0.4399615754080893,\n",
       " 0.048106060606094674,\n",
       " 0.237437185929413,\n",
       " 0.0,\n",
       " 0.0,\n",
       " 0.09610552763934466,\n",
       " 0.0,\n",
       " 0.18119164072925417,\n",
       " 0.09705882352928061,\n",
       " 0.08817921830329685,\n",
       " 0.0775451950513938,\n",
       " 0.2644469957912186,\n",
       " 0.0,\n",
       " 0.0,\n",
       " 0.0,\n",
       " 0.1294393894922348,\n",
       " 0.18567178978699145,\n",
       " 0.03670886075961376,\n",
       " 0.0,\n",
       " 0.0,\n",
       " 0.35780065005416434,\n",
       " 0.0,\n",
       " 0.29884275017254575,\n",
       " 0.0,\n",
       " 0.2150047938637695,\n",
       " 0.0,\n",
       " 0.09629186602871873,\n",
       " 0.21083743842366912,\n",
       " 0.0,\n",
       " 0.13856270549486036,\n",
       " 0.5322047894292987,\n",
       " 0.05303987010679521,\n",
       " 0.0,\n",
       " 0.029298609055945,\n",
       " 0.18413059984908442,\n",
       " 0.06297056810393237,\n",
       " 0.0,\n",
       " ...]"
      ]
     },
     "execution_count": 183,
     "metadata": {},
     "output_type": "execute_result"
    }
   ],
   "source": [
    "percentage_difference"
   ]
  },
  {
   "cell_type": "code",
   "execution_count": 184,
   "metadata": {},
   "outputs": [],
   "source": [
    "percentage_data = pd.DataFrame(data = percentage_difference)"
   ]
  },
  {
   "cell_type": "code",
   "execution_count": 185,
   "metadata": {},
   "outputs": [
    {
     "data": {
      "text/plain": [
       "0    0.072128\n",
       "dtype: float64"
      ]
     },
     "execution_count": 185,
     "metadata": {},
     "output_type": "execute_result"
    }
   ],
   "source": [
    "percentage_data.median()"
   ]
  },
  {
   "cell_type": "code",
   "execution_count": 186,
   "metadata": {},
   "outputs": [
    {
     "data": {
      "text/plain": [
       "0    0.127722\n",
       "dtype: float64"
      ]
     },
     "execution_count": 186,
     "metadata": {},
     "output_type": "execute_result"
    }
   ],
   "source": [
    "percentage_data.mean()"
   ]
  },
  {
   "cell_type": "code",
   "execution_count": 187,
   "metadata": {},
   "outputs": [
    {
     "data": {
      "text/plain": [
       "0    0.169904\n",
       "dtype: float64"
      ]
     },
     "execution_count": 187,
     "metadata": {},
     "output_type": "execute_result"
    }
   ],
   "source": [
    "percentage_data.std()"
   ]
  },
  {
   "cell_type": "code",
   "execution_count": 188,
   "metadata": {},
   "outputs": [
    {
     "data": {
      "text/plain": [
       "497"
      ]
     },
     "execution_count": 188,
     "metadata": {},
     "output_type": "execute_result"
    }
   ],
   "source": [
    "percentage_difference_n = []\n",
    "count_zero = 0\n",
    "for i in percentage_difference:\n",
    "    if i != 0:\n",
    "        percentage_difference_n.append(i)\n",
    "    else:\n",
    "        count_zero+=1\n",
    "count_zero\n"
   ]
  },
  {
   "cell_type": "code",
   "execution_count": 189,
   "metadata": {},
   "outputs": [
    {
     "data": {
      "text/plain": [
       "(array([ 8., 15., 12., 26., 22., 24., 29., 31., 28., 38., 31., 33., 34.,\n",
       "        20., 25., 28., 21., 22., 14., 12.,  7., 10.,  6., 19., 11.,  8.,\n",
       "        12.,  5., 10.,  5.,  9.,  8.,  5.,  2.,  3.,  9.,  3.,  5.,  4.,\n",
       "         0.,  0.,  1.,  0.,  5.,  0.,  1.,  0.,  3.,  3.,  0.,  0.,  0.,\n",
       "         0.,  1.,  0.,  0.,  2.,  0.,  0.,  1.,  2.,  0.,  0.,  0.,  0.,\n",
       "         0.,  0.,  1.,  0.,  0.,  0.,  1.,  0.,  0.,  0.,  0.,  0.,  0.,\n",
       "         2.,  0.,  0.,  0.,  0.,  0.,  0.,  0.,  0.,  0.,  0.,  0.,  1.,\n",
       "         0.,  0.,  0.,  0.,  0.,  0.,  0.,  0.,  1.]),\n",
       " array([0.01007752, 0.02369356, 0.0373096 , 0.05092564, 0.06454168,\n",
       "        0.07815771, 0.09177375, 0.10538979, 0.11900583, 0.13262187,\n",
       "        0.14623791, 0.15985395, 0.17346999, 0.18708603, 0.20070206,\n",
       "        0.2143181 , 0.22793414, 0.24155018, 0.25516622, 0.26878226,\n",
       "        0.2823983 , 0.29601434, 0.30963038, 0.32324642, 0.33686245,\n",
       "        0.35047849, 0.36409453, 0.37771057, 0.39132661, 0.40494265,\n",
       "        0.41855869, 0.43217473, 0.44579077, 0.45940681, 0.47302284,\n",
       "        0.48663888, 0.50025492, 0.51387096, 0.527487  , 0.54110304,\n",
       "        0.55471908, 0.56833512, 0.58195116, 0.59556719, 0.60918323,\n",
       "        0.62279927, 0.63641531, 0.65003135, 0.66364739, 0.67726343,\n",
       "        0.69087947, 0.70449551, 0.71811155, 0.73172758, 0.74534362,\n",
       "        0.75895966, 0.7725757 , 0.78619174, 0.79980778, 0.81342382,\n",
       "        0.82703986, 0.8406559 , 0.85427194, 0.86788797, 0.88150401,\n",
       "        0.89512005, 0.90873609, 0.92235213, 0.93596817, 0.94958421,\n",
       "        0.96320025, 0.97681629, 0.99043232, 1.00404836, 1.0176644 ,\n",
       "        1.03128044, 1.04489648, 1.05851252, 1.07212856, 1.0857446 ,\n",
       "        1.09936064, 1.11297668, 1.12659271, 1.14020875, 1.15382479,\n",
       "        1.16744083, 1.18105687, 1.19467291, 1.20828895, 1.22190499,\n",
       "        1.23552103, 1.24913707, 1.2627531 , 1.27636914, 1.28998518,\n",
       "        1.30360122, 1.31721726, 1.3308333 , 1.34444934, 1.35806538,\n",
       "        1.37168142]),\n",
       " <BarContainer object of 100 artists>)"
      ]
     },
     "execution_count": 189,
     "metadata": {},
     "output_type": "execute_result"
    },
    {
     "data": {
      "image/png": "[encoded data removed]",
      "text/plain": [
       "<Figure size 432x288 with 1 Axes>"
      ]
     },
     "metadata": {
      "needs_background": "light"
     },
     "output_type": "display_data"
    }
   ],
   "source": [
    "plt.hist(percentage_difference_n, bins=100)"
   ]
  },
  {
   "cell_type": "code",
   "execution_count": 190,
   "metadata": {},
   "outputs": [
    {
     "data": {
      "text/plain": [
       "497"
      ]
     },
     "execution_count": 190,
     "metadata": {},
     "output_type": "execute_result"
    }
   ],
   "source": [
    "count_zero"
   ]
  },
  {
   "cell_type": "code",
   "execution_count": 191,
   "metadata": {},
   "outputs": [
    {
     "data": {
      "image/png": "[encoded data removed]",
      "text/plain": [
       "<Figure size 432x288 with 1 Axes>"
      ]
     },
     "metadata": {
      "needs_background": "light"
     },
     "output_type": "display_data"
    }
   ],
   "source": [
    "plt.hist(np.log10(percentage_difference_n), log=True, bins=100)\n",
    "plt.xlabel(\"percentage difference\")\n",
    "plt.ylabel(\"number counts\")\n",
    "plt.savefig(\"a_figure1.png\")"
   ]
  }
 ],
 "metadata": {
  "kernelspec": {
   "display_name": "Python 3 (ipykernel)",
   "language": "python",
   "name": "python3"
  },
  "language_info": {
   "name": "python",
   "version": "3.8.10"
  },
  "orig_nbformat": 4,
  "vscode": {
   "interpreter": {
    "hash": "31f2aee4e71d21fbe5cf8b01ff0e069b9275f58929596ceb00d14d90e3e16cd6"
   }
  }
 },
 "nbformat": 4,
 "nbformat_minor": 2
}
