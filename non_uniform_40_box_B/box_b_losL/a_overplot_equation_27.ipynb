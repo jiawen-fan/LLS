{
 "cells": [
  {
   "cell_type": "code",
   "execution_count": 1,
   "metadata": {},
   "outputs": [],
   "source": [
    "omega_b = 0.0479; h = 0.6814\n",
    "scale=0.1452\n",
    "mean_nb = 1.123e-5/scale**3*omega_b*h**2"
   ]
  },
  {
   "cell_type": "code",
   "execution_count": 2,
   "metadata": {},
   "outputs": [
    {
     "name": "stdout",
     "output_type": "stream",
     "text": [
      "8.158675857594528e-05\n"
     ]
    }
   ],
   "source": [
    "print(mean_nb)"
   ]
  },
  {
   "cell_type": "code",
   "execution_count": 3,
   "metadata": {},
   "outputs": [],
   "source": [
    "from scipy import integrate\n",
    "import matplotlib.pyplot as plt\n",
    "import os\n",
    "import numpy as np\n",
    "from matplotlib import pyplot as plt      \n",
    "import pandas as pd\n",
    "from scipy import special                 \n",
    "import array\n",
    "import scipy as sp\n",
    "import scipy.interpolate\n",
    "import re\n",
    "import pickle as pickle"
   ]
  },
  {
   "cell_type": "code",
   "execution_count": 4,
   "metadata": {},
   "outputs": [],
   "source": [
    "def unPackRawFile(raw_path):\n",
    "    \"\"\"\n",
    "    - unpacks the .raw file. Not used for the neural network.\n",
    "    \"\"\"\n",
    "    y = np.loadtxt(raw_path, skiprows=6)\n",
    "    distance = y[:,0]\n",
    "    pec_vel = y[:,1]\n",
    "    temp = y[:,2]\n",
    "    HI_density = y[:,3]\n",
    "    gas_density = y[:,4]\n",
    "    gas_metallicity = y[:,5]\n",
    "   \n",
    "    return distance, pec_vel, temp, HI_density, gas_density, gas_metallicity\n",
    "\n",
    "def getPos(path_LOS,linenumber=8):\n",
    "    \"\"\"\n",
    "    the start position of the LOS is given inside each file, (in the comments)\n",
    "    this function parses the comments to get that information\n",
    "    \"\"\"\n",
    "    f = open(path_LOS)\n",
    "    x = f.readlines()[linenumber]\n",
    "    answer = re.search('\\(([^)]+)', x).group(1)\n",
    "    arr = np.array(answer.split(','),dtype=float)\n",
    "    return arr\n",
    "\n",
    "def getDir(path_LOS,linenumber=8):\n",
    "    \"\"\"\n",
    "    the direction of the LOS is given inside each file, (in the comments)\n",
    "    this function parses the comments to get that information\n",
    "    \"\"\"\n",
    "    f = open(path_LOS)\n",
    "    x = f.readlines()[linenumber]\n",
    "    answer = re.search('\\(([^)]+)', x.split(', ')[1]).group(1)\n",
    "    arr = np.array(answer.split(','),dtype=float)\n",
    "    return arr\n",
    "\n",
    "\n",
    "def convertSphereToCart(theta, phi):\n",
    "    \"converts a unit vector in spherical to cartesian, needed for getGalaxies\"\n",
    "    return np.array([np.sin(theta)*np.cos(phi), np.sin(theta)*np.sin(phi), np.cos(theta)])\n",
    "\n",
    "def calculate_gamma(temperature,density,xHI,scale):\n",
    "    '''Gamma = R(T)*ne/xHI, R(T) = 4.3e-13 * (T/1e4K)^{-0.7), ne = 0.82*nb.\n",
    "    '''\n",
    "    omega_b = 0.0479; h = 0.6814\n",
    "    mean_nb = 1.123e-5/scale**3*omega_b*h**2\n",
    "    nb = np.multiply(density ,mean_nb); ne = 0.82*nb\n",
    "    R_T = 4.3e-13 * (np.divide(temperature,1e4))**(-0.7)\n",
    "    gamma = R_T * ne / xHI\n",
    "    \n",
    "def lyman_identification():\n",
    "    \"\"\"\n",
    "    function for identifying lls using neutral fraction as filter\n",
    "    \"\"\"\n",
    "    neutral_fraction_limit = 1e-3\n",
    "    neutral_fraction = []\n",
    "    real_lyman = []\n",
    "    gamma = []\n",
    "    HI = []\n",
    "    gas_den = []\n",
    "    real_area_under = []\n",
    "    temperature = []\n",
    "    A = []\n",
    "    which = 0\n",
    "    for i in range(1000):\n",
    "        raw_path = 'los.00' + '{0:03}'.format(i) +'.raw'\n",
    "        distance, pec_vel, temp, HI_density, gas_density, gas_metallicity = unPackRawFile(raw_path)\n",
    "        #changing the distance from chimp to cmeters\n",
    "        distance_cm = distance *0.1453*3.086e24 /0.68\n",
    "        position = getPos(raw_path)\n",
    "        direction = convertSphereToCart(getDir(raw_path)[0],getDir(raw_path)[1])\n",
    "        for k in range(len(distance) -2):\n",
    "            if(HI_density[k]/gas_density[k]<neutral_fraction_limit and HI_density[k+1]/gas_density[k+1]>neutral_fraction_limit):\n",
    "                left_bases = k\n",
    "                peak_fraction = HI_density[k]/gas_density[k]\n",
    "                peak_HI = HI_density[k]\n",
    "                peak_distance = distance[k]\n",
    "                peak_gas = gas_density[k]\n",
    "                if( k+1 <len(distance)):\n",
    "                    while(not(HI_density[k]/gas_density[k]>neutral_fraction_limit and HI_density[k+1]/gas_density[k+1]<neutral_fraction_limit) and k <len(distance)-2):\n",
    "                        right_bases = k +1\n",
    "                        if(k<len(distance)-1):\n",
    "                            k+=1\n",
    "                        #getting the information about the top point of the peak\n",
    "                        if(HI_density[k]/gas_density[k]>peak_fraction):\n",
    "                            peak_fraction = HI_density[k]/gas_density[k]\n",
    "                            peak_HI = HI_density[k]\n",
    "                            peak_distance = distance[k]\n",
    "                            peak_A = np.divide(gas_density[k],mean_nb)\n",
    "                            peak_temp = temp[k]\n",
    "                            peak_gas = gas_density[k]\n",
    "                    area_under = peak_HI *1/2*(distance_cm[right_bases]-distance_cm[left_bases])/0.937415\n",
    "                    real_distance = [(position[0]/256*40+peak_distance*direction[0])%40, (position[1]/256*40+peak_distance*direction[1])%40,(position[2]/256*40+peak_distance*direction[2])%40]\n",
    "                    distance_graph = []\n",
    "                    HI_graph = [ ]\n",
    "                    distance_real = []\n",
    "                    delta_b_plus_one = []\n",
    "                    for i in range(len(distance)):\n",
    "                    #calculating the culmulative integral over the peak.\n",
    "                        if(distance[left_bases]<=distance[i]<= distance[right_bases]):\n",
    "                            distance_graph.append(distance_cm[i])\n",
    "                            HI_graph.append(HI_density[i])\n",
    "                            delta_b_plus_one.append(np.divide(gas_density[i],mean_nb))\n",
    "                            distance_real.append(distance[i])\n",
    "                    y_int = integrate.cumtrapz(HI_graph,distance_graph,initial = 0)\n",
    "                    #here we calculate delta_b_plus_one\n",
    "                    #x_int = peak_A**2 * \n",
    "                    area_under = peak_HI *1/2*(distance_cm[right_bases]-distance_cm[left_bases])/0.937415\n",
    "                    if(y_int[-1] >= (10**16)and y_int[-1]  <= (10**22)):\n",
    "                        real_lyman.append([y_int,real_distance])\n",
    "                        real_area_under.append(y_int[-1])\n",
    "                        neutral_fraction.append(peak_fraction)\n",
    "                        A.append(peak_A)\n",
    "                        HI.append(peak_HI)\n",
    "                        gas_den.append(peak_gas)\n",
    "                        temperature.append(peak_temp)\n",
    "                        which = [i,distance[left_bases], distance[right_bases], peak_distance]\n",
    "    return real_lyman,neutral_fraction,HI,gas_den,which,real_area_under,A,temperature"
   ]
  },
  {
   "cell_type": "code",
   "execution_count": 22,
   "metadata": {},
   "outputs": [],
   "source": [
    "def lyman_identification_test():\n",
    "    \"\"\"\n",
    "    function for identifying lls using neutral fraction as filter\n",
    "    \"\"\"\n",
    "    neutral_fraction_limit = 1e-3\n",
    "    neutral_fraction = []\n",
    "    real_lyman = []\n",
    "    gamma = []\n",
    "    HI = []\n",
    "    gas_den = []\n",
    "    real_area_under = []\n",
    "    temperature = []\n",
    "    A = []\n",
    "    distance_array = []\n",
    "    delta_b_plus_one_array = []\n",
    "    for i in range(1000):\n",
    "        raw_path = 'los.00' + '{0:03}'.format(i) +'.raw'\n",
    "        distance, pec_vel, temp, HI_density, gas_density, gas_metallicity = unPackRawFile(raw_path)\n",
    "        #changing the distance from chimp to cmeters\n",
    "        distance_cm = distance *0.1453*3.086e24 /0.68\n",
    "        position = getPos(raw_path)\n",
    "        direction = convertSphereToCart(getDir(raw_path)[0],getDir(raw_path)[1])\n",
    "        for k in range(len(distance) -2):\n",
    "            if(HI_density[k]/gas_density[k]<neutral_fraction_limit and HI_density[k+1]/gas_density[k+1]>neutral_fraction_limit):\n",
    "                left_bases = k\n",
    "                peak_fraction = HI_density[k]/gas_density[k]\n",
    "                peak_HI = HI_density[k]\n",
    "                peak_distance = distance[k]\n",
    "                peak_gas = gas_density[k]\n",
    "                if( k+1 <len(distance)):\n",
    "                    while(not(HI_density[k]/gas_density[k]>neutral_fraction_limit and HI_density[k+1]/gas_density[k+1]<neutral_fraction_limit) and k <len(distance)-2):\n",
    "                        right_bases = k +1\n",
    "                        if(k<len(distance)-1):\n",
    "                            k+=1\n",
    "                        #getting the information about the top point of the peak\n",
    "                        if(HI_density[k]/gas_density[k]>peak_fraction):\n",
    "                            peak_fraction = HI_density[k]/gas_density[k]\n",
    "                            peak_HI = HI_density[k]\n",
    "                            peak_distance = distance[k]\n",
    "                            peak_A = np.divide(gas_density[k],mean_nb)\n",
    "                            peak_temp = temp[k]\n",
    "                            peak_gas = gas_density[k]\n",
    "                    area_under = peak_HI *1/2*(distance_cm[right_bases]-distance_cm[left_bases])/0.937415\n",
    "                    real_distance = [(position[0]/256*40+peak_distance*direction[0])%40, (position[1]/256*40+peak_distance*direction[1])%40,(position[2]/256*40+peak_distance*direction[2])%40]\n",
    "                    distance_graph = []\n",
    "                    HI_graph = [ ]\n",
    "                    distance_real = []\n",
    "                    delta_b_plus_one = []\n",
    "                    for i in range(len(distance)):\n",
    "                    #calculating the culmulative integral over the peak.\n",
    "                        if(distance[left_bases]<=distance[i]<= distance[right_bases]):\n",
    "                            distance_graph.append(distance_cm[i])\n",
    "                            HI_graph.append(HI_density[i])\n",
    "                            delta_b_plus_one.append(np.divide(gas_density[i],mean_nb))\n",
    "                            distance_real.append(distance[i])\n",
    "                    y_int = integrate.cumtrapz(HI_graph,distance_graph,initial = 0)\n",
    "                    #here we calculate delta_b_plus_one\n",
    "                    #x_int = peak_A**2 * \n",
    "                    area_under = peak_HI *1/2*(distance_cm[right_bases]-distance_cm[left_bases])/0.937415\n",
    "                    if(y_int[-1] >= (10**17)and y_int[-1]  <= (10**22)):\n",
    "                        real_lyman.append([y_int,real_distance])\n",
    "                        real_area_under.append(y_int[-1])\n",
    "                        neutral_fraction.append(peak_fraction)\n",
    "                        A.append(peak_A)\n",
    "                        HI.append(HI_graph)\n",
    "                        gas_den.append(peak_gas)\n",
    "                        temperature.append(peak_temp)\n",
    "                        distance_array.append(distance_real)\n",
    "                        delta_b_plus_one_array.append(delta_b_plus_one)\n",
    "    return real_lyman,neutral_fraction,HI,gas_den,distance_array,real_area_under,A,temperature,delta_b_plus_one_array"
   ]
  },
  {
   "cell_type": "code",
   "execution_count": 23,
   "metadata": {},
   "outputs": [],
   "source": [
    "import numpy as np\n",
    "real_lyman,neutral_fraction,HI,gas_den,distance_array,real_area_under,peak_b_plus_one,temperature,delta_b_plus_one_test  = lyman_identification_test()\n"
   ]
  },
  {
   "cell_type": "code",
   "execution_count": 24,
   "metadata": {},
   "outputs": [],
   "source": [
    "from scipy.interpolate import UnivariateSpline\n",
    "\n",
    "def fit(peak_b_plus_one, delta_b_plus_one_test,distance_array):\n",
    "    prediction_A = []\n",
    "    #first convert the distance array to Mpc\n",
    "    constant = 0.1453/0.68\n",
    "    #going over all the lls\n",
    "    for distance_temp,delta_b_temp,peak_delta_b_one_plus_temp in zip(distance_array,delta_b_plus_one_test,peak_b_plus_one):\n",
    "        distance = np.multiply(distance_temp,constant)\n",
    "        #finding the A of the equation\n",
    "        delta_b_plus_one_logged = np.log(delta_b_temp)\n",
    "        #smoothing the data\n",
    "        y_spl = UnivariateSpline(distance, delta_b_plus_one_logged,s=20,k=3)\n",
    "        y_spl_2d = y_spl.derivative(n=2)\n",
    "        #finding the value of the integral\n",
    "        test = integrate.cumtrapz(y_spl_2d(distance),distance,initial = 0)\n",
    "        derivative_value = (-1*test[-1])**(-1/2)\n",
    "        a_value = peak_delta_b_one_plus_temp**2 *derivative_value\n",
    "        prediction_A.append(a_value)\n",
    "    return prediction_A\n",
    "\n",
    "def first_part(temeprature):\n",
    "    value = []\n",
    "    J_HI =2.281e-13/4e-12\n",
    "    print(J_HI)\n",
    "    constant = ((1+5.8823)/4)**5 * ((2/1.65)**(-0.5))*1.63e13*((0.0479*(0.6814**2))/0.0125)**2*(J_HI/0.5)**-1\n",
    "    print(constant)\n",
    "    first_part = np.power(np.divide(temperature,10**4),-0.7)*constant\n",
    "    return first_part "
   ]
  },
  {
   "cell_type": "code",
   "execution_count": 25,
   "metadata": {},
   "outputs": [
    {
     "name": "stdout",
     "output_type": "stream",
     "text": [
      "0.057025000000000006\n",
      "6196505625518625.0\n"
     ]
    }
   ],
   "source": [
    "first_part_value = first_part(temperature)"
   ]
  },
  {
   "cell_type": "code",
   "execution_count": 26,
   "metadata": {},
   "outputs": [
    {
     "name": "stderr",
     "output_type": "stream",
     "text": [
      "/tmp/ipykernel_20370/3266484575.py:17: RuntimeWarning: invalid value encountered in double_scalars\n",
      "  derivative_value = (-1*test[-1])**(-1/2)\n"
     ]
    },
    {
     "ename": "error",
     "evalue": "(m>k) failed for hidden m: fpcurf0:m=2",
     "output_type": "error",
     "traceback": [
      "\u001b[0;31m---------------------------------------------------------------------------\u001b[0m",
      "\u001b[0;31merror\u001b[0m                                     Traceback (most recent call last)",
      "\u001b[1;32m/mnt/c/Users/jiawen/desktop/LLS_research/non_uniform_40_box_B/box_b_losL/a_overplot_equation_27.ipynb Cell 9\u001b[0m in \u001b[0;36m<cell line: 1>\u001b[0;34m()\u001b[0m\n\u001b[0;32m----> <a href='vscode-notebook-cell://wsl%2Bubuntu/mnt/c/Users/jiawen/desktop/LLS_research/non_uniform_40_box_B/box_b_losL/a_overplot_equation_27.ipynb#X11sdnNjb2RlLXJlbW90ZQ%3D%3D?line=0'>1</a>\u001b[0m second_part_value \u001b[39m=\u001b[39m fit(peak_b_plus_one,delta_b_plus_one_test,distance_array)\n",
      "\u001b[1;32m/mnt/c/Users/jiawen/desktop/LLS_research/non_uniform_40_box_B/box_b_losL/a_overplot_equation_27.ipynb Cell 9\u001b[0m in \u001b[0;36mfit\u001b[0;34m(peak_b_plus_one, delta_b_plus_one_test, distance_array)\u001b[0m\n\u001b[1;32m     <a href='vscode-notebook-cell://wsl%2Bubuntu/mnt/c/Users/jiawen/desktop/LLS_research/non_uniform_40_box_B/box_b_losL/a_overplot_equation_27.ipynb#X11sdnNjb2RlLXJlbW90ZQ%3D%3D?line=10'>11</a>\u001b[0m delta_b_plus_one_logged \u001b[39m=\u001b[39m np\u001b[39m.\u001b[39mlog(delta_b_temp)\n\u001b[1;32m     <a href='vscode-notebook-cell://wsl%2Bubuntu/mnt/c/Users/jiawen/desktop/LLS_research/non_uniform_40_box_B/box_b_losL/a_overplot_equation_27.ipynb#X11sdnNjb2RlLXJlbW90ZQ%3D%3D?line=11'>12</a>\u001b[0m \u001b[39m#smoothing the data\u001b[39;00m\n\u001b[0;32m---> <a href='vscode-notebook-cell://wsl%2Bubuntu/mnt/c/Users/jiawen/desktop/LLS_research/non_uniform_40_box_B/box_b_losL/a_overplot_equation_27.ipynb#X11sdnNjb2RlLXJlbW90ZQ%3D%3D?line=12'>13</a>\u001b[0m y_spl \u001b[39m=\u001b[39m UnivariateSpline(distance, delta_b_plus_one_logged,s\u001b[39m=\u001b[39;49m\u001b[39m20\u001b[39;49m,k\u001b[39m=\u001b[39;49m\u001b[39m3\u001b[39;49m)\n\u001b[1;32m     <a href='vscode-notebook-cell://wsl%2Bubuntu/mnt/c/Users/jiawen/desktop/LLS_research/non_uniform_40_box_B/box_b_losL/a_overplot_equation_27.ipynb#X11sdnNjb2RlLXJlbW90ZQ%3D%3D?line=13'>14</a>\u001b[0m y_spl_2d \u001b[39m=\u001b[39m y_spl\u001b[39m.\u001b[39mderivative(n\u001b[39m=\u001b[39m\u001b[39m2\u001b[39m)\n\u001b[1;32m     <a href='vscode-notebook-cell://wsl%2Bubuntu/mnt/c/Users/jiawen/desktop/LLS_research/non_uniform_40_box_B/box_b_losL/a_overplot_equation_27.ipynb#X11sdnNjb2RlLXJlbW90ZQ%3D%3D?line=14'>15</a>\u001b[0m \u001b[39m#finding the value of the integral\u001b[39;00m\n",
      "File \u001b[0;32m~/.local/lib/python3.8/site-packages/scipy/interpolate/_fitpack2.py:203\u001b[0m, in \u001b[0;36mUnivariateSpline.__init__\u001b[0;34m(self, x, y, w, bbox, k, s, ext, check_finite)\u001b[0m\n\u001b[1;32m    199\u001b[0m x, y, w, bbox, \u001b[39mself\u001b[39m\u001b[39m.\u001b[39mext \u001b[39m=\u001b[39m \u001b[39mself\u001b[39m\u001b[39m.\u001b[39mvalidate_input(x, y, w, bbox, k, s, ext,\n\u001b[1;32m    200\u001b[0m                                               check_finite)\n\u001b[1;32m    202\u001b[0m \u001b[39m# _data == x,y,w,xb,xe,k,s,n,t,c,fp,fpint,nrdata,ier\u001b[39;00m\n\u001b[0;32m--> 203\u001b[0m data \u001b[39m=\u001b[39m dfitpack\u001b[39m.\u001b[39;49mfpcurf0(x, y, k, w\u001b[39m=\u001b[39;49mw, xb\u001b[39m=\u001b[39;49mbbox[\u001b[39m0\u001b[39;49m],\n\u001b[1;32m    204\u001b[0m                         xe\u001b[39m=\u001b[39;49mbbox[\u001b[39m1\u001b[39;49m], s\u001b[39m=\u001b[39;49ms)\n\u001b[1;32m    205\u001b[0m \u001b[39mif\u001b[39;00m data[\u001b[39m-\u001b[39m\u001b[39m1\u001b[39m] \u001b[39m==\u001b[39m \u001b[39m1\u001b[39m:\n\u001b[1;32m    206\u001b[0m     \u001b[39m# nest too small, setting to maximum bound\u001b[39;00m\n\u001b[1;32m    207\u001b[0m     data \u001b[39m=\u001b[39m \u001b[39mself\u001b[39m\u001b[39m.\u001b[39m_reset_nest(data)\n",
      "\u001b[0;31merror\u001b[0m: (m>k) failed for hidden m: fpcurf0:m=2"
     ]
    }
   ],
   "source": [
    "second_part_value = fit(peak_b_plus_one,delta_b_plus_one_test,distance_array)"
   ]
  },
  {
   "cell_type": "code",
   "execution_count": null,
   "metadata": {},
   "outputs": [],
   "source": [
    "total = first_part_value*second_part_value"
   ]
  },
  {
   "cell_type": "code",
   "execution_count": 19,
   "metadata": {},
   "outputs": [
    {
     "data": {
      "text/plain": [
       "array([5.93582011e+17, 3.64338049e+18, 9.12750268e+17, 2.93197426e+20,\n",
       "       6.41835153e+17, 6.61889170e+18, 3.12318044e+17, 1.34136523e+18,\n",
       "       9.42829576e+20, 6.62559899e+18, 3.16188166e+17, 7.93256994e+17,\n",
       "       1.82578407e+18, 9.53319292e+16, 6.01307517e+17, 6.30559108e+17,\n",
       "       1.04258767e+18, 5.89304398e+17, 1.18648918e+18, 2.07212735e+17,\n",
       "       1.19810900e+18, 2.32826340e+17,            nan, 9.28682964e+17,\n",
       "       3.18327555e+17, 2.77889283e+18, 5.19499039e+17, 1.42605286e+18,\n",
       "       3.44666439e+17, 3.39856999e+18, 3.59299633e+17, 3.06418592e+17,\n",
       "       2.35146384e+17, 9.30910742e+18, 2.60171707e+17, 3.94977612e+17,\n",
       "       2.69402488e+18, 1.03242844e+18, 5.67526134e+17, 7.34971716e+18,\n",
       "       5.42385951e+19, 1.47310874e+19, 2.90714193e+17, 6.45341916e+18,\n",
       "       2.62061377e+17, 1.89815476e+18, 2.03809379e+18, 5.75499062e+18])"
      ]
     },
     "execution_count": 19,
     "metadata": {},
     "output_type": "execute_result"
    }
   ],
   "source": [
    "total"
   ]
  },
  {
   "cell_type": "code",
   "execution_count": 21,
   "metadata": {},
   "outputs": [
    {
     "data": {
      "image/png": "[encoded data removed]",
      "text/plain": [
       "<Figure size 432x288 with 1 Axes>"
      ]
     },
     "metadata": {
      "needs_background": "light"
     },
     "output_type": "display_data"
    }
   ],
   "source": [
    "plt.scatter(real_area_under,total)\n",
    "plt.xscale(\"log\")\n",
    "plt.yscale(\"log\")"
   ]
  },
  {
   "cell_type": "code",
   "execution_count": 13,
   "metadata": {},
   "outputs": [
    {
     "ename": "NameError",
     "evalue": "name 'second_part' is not defined",
     "output_type": "error",
     "traceback": [
      "\u001b[0;31m---------------------------------------------------------------------------\u001b[0m",
      "\u001b[0;31mNameError\u001b[0m                                 Traceback (most recent call last)",
      "\u001b[1;32m/mnt/c/Users/jiawen/desktop/LLS_research/non_uniform_40_box_B/box_b_losL/a_overplot_equation_27.ipynb Cell 13\u001b[0m in \u001b[0;36m<cell line: 1>\u001b[0;34m()\u001b[0m\n\u001b[0;32m----> <a href='vscode-notebook-cell://wsl%2Bubuntu/mnt/c/Users/jiawen/desktop/LLS_research/non_uniform_40_box_B/box_b_losL/a_overplot_equation_27.ipynb#X15sdnNjb2RlLXJlbW90ZQ%3D%3D?line=0'>1</a>\u001b[0m np\u001b[39m.\u001b[39mmultiply(first_part,second_part)\n",
      "\u001b[0;31mNameError\u001b[0m: name 'second_part' is not defined"
     ]
    }
   ],
   "source": [
    "np.multiply(first_part,second_part)"
   ]
  },
  {
   "cell_type": "code",
   "execution_count": null,
   "metadata": {},
   "outputs": [
    {
     "data": {
      "text/plain": [
       "[[array([0.00000000e+00, 1.75658527e+16, 5.89606979e+16, 9.34927135e+16,\n",
       "         1.62559514e+17, 2.53465696e+17, 3.35685528e+17, 4.12966281e+17,\n",
       "         4.63229208e+17, 5.23607944e+17]),\n",
       "  [30.984046649070947, 17.23378496008418, 26.768540471680083]],\n",
       " [array([0.00000000e+00, 3.81631448e+18, 1.30344749e+19, 2.06641273e+19,\n",
       "         2.94150659e+19, 3.28483101e+19, 3.28606978e+19, 3.28709508e+19]),\n",
       "  [31.023952697851072, 17.185680250341036, 26.77070744451929]]]"
      ]
     },
     "execution_count": 13,
     "metadata": {},
     "output_type": "execute_result"
    }
   ],
   "source": [
    "real_lyman"
   ]
  },
  {
   "cell_type": "code",
   "execution_count": null,
   "metadata": {},
   "outputs": [],
   "source": [
    "constant = 0.1453/0.68"
   ]
  },
  {
   "cell_type": "code",
   "execution_count": null,
   "metadata": {},
   "outputs": [
    {
     "ename": "NameError",
     "evalue": "name 'which' is not defined",
     "output_type": "error",
     "traceback": [
      "\u001b[0;31m---------------------------------------------------------------------------\u001b[0m",
      "\u001b[0;31mNameError\u001b[0m                                 Traceback (most recent call last)",
      "\u001b[1;32m/mnt/c/Users/jiawen/desktop/LLS_research/non_uniform_40_box_B/box_b_losL/a_overplot_equation_27.ipynb Cell 14\u001b[0m in \u001b[0;36m<cell line: 1>\u001b[0;34m()\u001b[0m\n\u001b[0;32m----> <a href='vscode-notebook-cell://wsl%2Bubuntu/mnt/c/Users/jiawen/desktop/LLS_research/non_uniform_40_box_B/box_b_losL/a_overplot_equation_27.ipynb#X20sdnNjb2RlLXJlbW90ZQ%3D%3D?line=0'>1</a>\u001b[0m temp_distance \u001b[39m=\u001b[39m np\u001b[39m.\u001b[39mmultiply(which[\u001b[39m-\u001b[39m\u001b[39m1\u001b[39m],constant)\n",
      "\u001b[0;31mNameError\u001b[0m: name 'which' is not defined"
     ]
    }
   ],
   "source": [
    "temp_distance = np.multiply(which[-1],constant)"
   ]
  },
  {
   "cell_type": "code",
   "execution_count": null,
   "metadata": {},
   "outputs": [
    {
     "data": {
      "text/plain": [
       "[80.82494,\n",
       " 80.82811,\n",
       " 80.83194,\n",
       " 80.83511,\n",
       " 80.83894,\n",
       " 80.84211,\n",
       " 80.84594,\n",
       " 80.84911]"
      ]
     },
     "execution_count": 290,
     "metadata": {},
     "output_type": "execute_result"
    }
   ],
   "source": [
    "which[-1]"
   ]
  },
  {
   "cell_type": "code",
   "execution_count": null,
   "metadata": {},
   "outputs": [
    {
     "data": {
      "text/plain": [
       "Text(0, 0.5, 'HI density')"
      ]
     },
     "execution_count": 291,
     "metadata": {},
     "output_type": "execute_result"
    },
    {
     "data": {
      "image/png": "[encoded data removed]",
      "text/plain": [
       "<Figure size 432x288 with 1 Axes>"
      ]
     },
     "metadata": {
      "needs_background": "light"
     },
     "output_type": "display_data"
    }
   ],
   "source": [
    "raw_path = 'los.00' + '{0:03}'.format(0) +'.raw'\n",
    "distance, pec_vel, temp, HI_density, gas_density, gas_metallicity = unPackRawFile(raw_path)\n",
    "plt.plot(distance,HI_density)\n",
    "plt.xlim(80.82,80.85)\n",
    "plt.xlabel(\"distance in chimp\")\n",
    "plt.ylabel(\"HI density\")"
   ]
  },
  {
   "cell_type": "code",
   "execution_count": null,
   "metadata": {},
   "outputs": [],
   "source": [
    "delta_b_plus_one_test = np.log(delta_b_plus_one_test[-1])"
   ]
  },
  {
   "cell_type": "code",
   "execution_count": null,
   "metadata": {},
   "outputs": [
    {
     "data": {
      "text/plain": [
       "array([3.05536511, 5.370002  , 5.370002  , 5.370002  , 5.22342855,\n",
       "       3.22976469, 3.22976469, 3.22976469])"
      ]
     },
     "execution_count": 293,
     "metadata": {},
     "output_type": "execute_result"
    }
   ],
   "source": [
    "delta_b_plus_one_test"
   ]
  },
  {
   "cell_type": "code",
   "execution_count": null,
   "metadata": {},
   "outputs": [
    {
     "data": {
      "text/plain": [
       "array([17.27038791, 17.27106527, 17.27188365, 17.272561  , 17.27337939,\n",
       "       17.27405674, 17.27487512, 17.27555248])"
      ]
     },
     "execution_count": 294,
     "metadata": {},
     "output_type": "execute_result"
    }
   ],
   "source": [
    "temp_distance"
   ]
  },
  {
   "cell_type": "code",
   "execution_count": null,
   "metadata": {},
   "outputs": [
    {
     "data": {
      "text/plain": [
       "Text(0, 0.5, 'HI density from peak detection')"
      ]
     },
     "execution_count": 295,
     "metadata": {},
     "output_type": "execute_result"
    },
    {
     "data": {
      "image/png": "[encoded data removed]",
      "text/plain": [
       "<Figure size 432x288 with 1 Axes>"
      ]
     },
     "metadata": {
      "needs_background": "light"
     },
     "output_type": "display_data"
    }
   ],
   "source": [
    "plt.plot(temp_distance,HI[-1])\n",
    "plt.xlabel(\"distance in cm\")\n",
    "plt.ylabel(\"HI density from peak detection\")"
   ]
  },
  {
   "cell_type": "code",
   "execution_count": null,
   "metadata": {},
   "outputs": [
    {
     "data": {
      "text/plain": [
       "Text(0, 0.5, 'logged delta b plus one')"
      ]
     },
     "execution_count": 296,
     "metadata": {},
     "output_type": "execute_result"
    },
    {
     "data": {
      "image/png": "[encoded data removed]",
      "text/plain": [
       "<Figure size 432x288 with 1 Axes>"
      ]
     },
     "metadata": {
      "needs_background": "light"
     },
     "output_type": "display_data"
    }
   ],
   "source": [
    "plt.plot(temp_distance,delta_b_plus_one_test)\n",
    "plt.xlabel(\"distance in Mpc\")\n",
    "plt.ylabel(\"logged delta b plus one\")"
   ]
  },
  {
   "cell_type": "code",
   "execution_count": null,
   "metadata": {},
   "outputs": [],
   "source": [
    "from scipy.interpolate import UnivariateSpline\n",
    "\n",
    "y_spl = UnivariateSpline(temp_distance, delta_b_plus_one_test,s=200,k=4)\n",
    "y_spl_2d = y_spl.derivative(n=2)"
   ]
  },
  {
   "cell_type": "code",
   "execution_count": null,
   "metadata": {},
   "outputs": [
    {
     "data": {
      "text/plain": [
       "array([3.05536511, 5.370002  , 5.370002  , 5.370002  , 5.22342855,\n",
       "       3.22976469, 3.22976469, 3.22976469])"
      ]
     },
     "execution_count": 298,
     "metadata": {},
     "output_type": "execute_result"
    }
   ],
   "source": [
    "delta_b_plus_one_test"
   ]
  },
  {
   "cell_type": "code",
   "execution_count": null,
   "metadata": {},
   "outputs": [
    {
     "data": {
      "text/plain": [
       "Text(0, 0.5, 'logged delta b plus one')"
      ]
     },
     "execution_count": 299,
     "metadata": {},
     "output_type": "execute_result"
    },
    {
     "data": {
      "image/png": "[encoded data removed]",
      "text/plain": [
       "<Figure size 432x288 with 1 Axes>"
      ]
     },
     "metadata": {
      "needs_background": "light"
     },
     "output_type": "display_data"
    }
   ],
   "source": [
    "plt.plot(temp_distance,y_spl(temp_distance))\n",
    "plt.xlabel(\"distance in Mpc\")\n",
    "plt.ylabel(\"logged delta b plus one\")"
   ]
  },
  {
   "cell_type": "code",
   "execution_count": null,
   "metadata": {},
   "outputs": [
    {
     "data": {
      "text/plain": [
       "Text(0, 0.5, 'second order derivative of logged delta b plus one in Mpc distance')"
      ]
     },
     "execution_count": 300,
     "metadata": {},
     "output_type": "execute_result"
    },
    {
     "data": {
      "image/png": "[encoded data removed]",
      "text/plain": [
       "<Figure size 432x288 with 1 Axes>"
      ]
     },
     "metadata": {
      "needs_background": "light"
     },
     "output_type": "display_data"
    }
   ],
   "source": [
    "plt.plot(temp_distance,y_spl_2d(temp_distance))\n",
    "plt.xlabel(\"distance in Mpc\")\n",
    "plt.ylabel(\"second order derivative of logged delta b plus one in Mpc distance\")"
   ]
  },
  {
   "cell_type": "code",
   "execution_count": null,
   "metadata": {},
   "outputs": [],
   "source": [
    "test = integrate.cumtrapz(y_spl_2d(temp_distance),temp_distance,initial = 0)"
   ]
  },
  {
   "cell_type": "code",
   "execution_count": null,
   "metadata": {},
   "outputs": [],
   "source": [
    "second_part = (-1*test[-1])**(-1/2)"
   ]
  },
  {
   "cell_type": "code",
   "execution_count": null,
   "metadata": {},
   "outputs": [
    {
     "data": {
      "text/plain": [
       "0.018361144583925213"
      ]
     },
     "execution_count": 303,
     "metadata": {},
     "output_type": "execute_result"
    }
   ],
   "source": [
    "second_part"
   ]
  },
  {
   "cell_type": "code",
   "execution_count": null,
   "metadata": {},
   "outputs": [
    {
     "data": {
      "text/plain": [
       "185.56932845796155"
      ]
     },
     "execution_count": 304,
     "metadata": {},
     "output_type": "execute_result"
    }
   ],
   "source": [
    "A[-1]"
   ]
  },
  {
   "cell_type": "code",
   "execution_count": null,
   "metadata": {},
   "outputs": [],
   "source": [
    "a_value = A[-1]**2 *second_part"
   ]
  },
  {
   "cell_type": "code",
   "execution_count": null,
   "metadata": {},
   "outputs": [
    {
     "data": {
      "text/plain": [
       "632.2839280614551"
      ]
     },
     "execution_count": 306,
     "metadata": {},
     "output_type": "execute_result"
    }
   ],
   "source": [
    "#a_value should be very small\n",
    "a_value "
   ]
  },
  {
   "cell_type": "code",
   "execution_count": null,
   "metadata": {},
   "outputs": [],
   "source": [
    "J_HI =2.281e-13/4e12"
   ]
  },
  {
   "cell_type": "code",
   "execution_count": null,
   "metadata": {},
   "outputs": [
    {
     "data": {
      "text/plain": [
       "11250.0"
      ]
     },
     "execution_count": 308,
     "metadata": {},
     "output_type": "execute_result"
    }
   ],
   "source": [
    "temperature[-1]"
   ]
  },
  {
   "cell_type": "code",
   "execution_count": null,
   "metadata": {},
   "outputs": [],
   "source": [
    "N_HI = 2.0290289224774378*10**34*a_value"
   ]
  },
  {
   "cell_type": "code",
   "execution_count": null,
   "metadata": {},
   "outputs": [
    {
     "data": {
      "text/plain": [
       "0.9208592062264477"
      ]
     },
     "execution_count": 310,
     "metadata": {},
     "output_type": "execute_result"
    }
   ],
   "source": [
    "(temperature[-1]/(10**4))**-0.7"
   ]
  },
  {
   "cell_type": "code",
   "execution_count": null,
   "metadata": {},
   "outputs": [
    {
     "data": {
      "text/plain": [
       "3.165625369558989"
      ]
     },
     "execution_count": 311,
     "metadata": {},
     "output_type": "execute_result"
    }
   ],
   "source": [
    "((0.0479*(0.6814**2))/0.0125)**2"
   ]
  },
  {
   "cell_type": "code",
   "execution_count": null,
   "metadata": {},
   "outputs": [
    {
     "data": {
      "text/plain": [
       "3.1230480949406618e+19"
      ]
     },
     "execution_count": 312,
     "metadata": {},
     "output_type": "execute_result"
    }
   ],
   "source": [
    "(J_HI/0.5)**(-1)"
   ]
  },
  {
   "cell_type": "code",
   "execution_count": null,
   "metadata": {},
   "outputs": [
    {
     "data": {
      "text/plain": [
       "92.04288275474705"
      ]
     },
     "execution_count": 313,
     "metadata": {},
     "output_type": "execute_result"
    }
   ],
   "source": [
    "((1+5.8823)/4)**5"
   ]
  },
  {
   "cell_type": "code",
   "execution_count": null,
   "metadata": {},
   "outputs": [
    {
     "data": {
      "text/plain": [
       "0.9082951062292475"
      ]
     },
     "execution_count": 314,
     "metadata": {},
     "output_type": "execute_result"
    }
   ],
   "source": [
    "(2/1.65)**(-0.5)"
   ]
  },
  {
   "cell_type": "code",
   "execution_count": null,
   "metadata": {},
   "outputs": [
    {
     "data": {
      "text/plain": [
       "1.2406126789494635e+35"
      ]
     },
     "execution_count": 315,
     "metadata": {},
     "output_type": "execute_result"
    }
   ],
   "source": [
    "1.63e13*7.61112072975131e+21"
   ]
  },
  {
   "cell_type": "code",
   "execution_count": null,
   "metadata": {},
   "outputs": [
    {
     "data": {
      "text/plain": [
       "1.282922377254336e+37"
      ]
     },
     "execution_count": 316,
     "metadata": {},
     "output_type": "execute_result"
    }
   ],
   "source": [
    "N_HI"
   ]
  },
  {
   "cell_type": "code",
   "execution_count": null,
   "metadata": {},
   "outputs": [
    {
     "data": {
      "text/plain": [
       "[[3.936e-07,\n",
       "  1.652e-05,\n",
       "  1.652e-05,\n",
       "  1.652e-05,\n",
       "  4.103e-05,\n",
       "  4.103e-05,\n",
       "  3.739e-05,\n",
       "  2.397e-05,\n",
       "  2.397e-05,\n",
       "  2.397e-05],\n",
       " [1.424e-06,\n",
       "  0.00365,\n",
       "  0.00365,\n",
       "  0.00365,\n",
       "  0.00328,\n",
       "  4.905e-06,\n",
       "  4.905e-06,\n",
       "  4.905e-06]]"
      ]
     },
     "execution_count": 317,
     "metadata": {},
     "output_type": "execute_result"
    }
   ],
   "source": [
    "HI"
   ]
  },
  {
   "cell_type": "code",
   "execution_count": null,
   "metadata": {},
   "outputs": [
    {
     "data": {
      "text/plain": [
       "[[80.76264,\n",
       "  80.76579,\n",
       "  80.76959,\n",
       "  80.77276,\n",
       "  80.7764,\n",
       "  80.77976,\n",
       "  80.78294,\n",
       "  80.78676,\n",
       "  80.78994,\n",
       "  80.79376],\n",
       " [80.82494,\n",
       "  80.82811,\n",
       "  80.83194,\n",
       "  80.83511,\n",
       "  80.83894,\n",
       "  80.84211,\n",
       "  80.84594,\n",
       "  80.84911]]"
      ]
     },
     "execution_count": 318,
     "metadata": {},
     "output_type": "execute_result"
    }
   ],
   "source": [
    "which"
   ]
  },
  {
   "cell_type": "code",
   "execution_count": null,
   "metadata": {},
   "outputs": [
    {
     "data": {
      "text/plain": [
       "(80.82, 80.85)"
      ]
     },
     "execution_count": 319,
     "metadata": {},
     "output_type": "execute_result"
    },
    {
     "data": {
      "image/png": "[encoded data removed]",
      "text/plain": [
       "<Figure size 432x288 with 1 Axes>"
      ]
     },
     "metadata": {
      "needs_background": "light"
     },
     "output_type": "display_data"
    }
   ],
   "source": [
    "raw_path = 'los.00' + '{0:03}'.format(0) +'.raw'\n",
    "distance, pec_vel, temp, HI_density, gas_density, gas_metallicity = unPackRawFile(raw_path)\n",
    "plt.plot(distance,HI_density)\n",
    "plt.xlim(80.82,80.85)"
   ]
  },
  {
   "cell_type": "code",
   "execution_count": null,
   "metadata": {},
   "outputs": [
    {
     "data": {
      "text/plain": [
       "185.56932845796155"
      ]
     },
     "execution_count": 320,
     "metadata": {},
     "output_type": "execute_result"
    }
   ],
   "source": [
    "A[1]"
   ]
  },
  {
   "cell_type": "code",
   "execution_count": null,
   "metadata": {},
   "outputs": [],
   "source": [
    "#define T, J_HI\n",
    "#find all the delta b plus under the two bases, calculate the second derivative\n",
    "# the delta b plus is just the delta b plus at the peak of the curve\n",
    "J_HI =1.601e-20"
   ]
  },
  {
   "cell_type": "code",
   "execution_count": null,
   "metadata": {},
   "outputs": [
    {
     "data": {
      "text/plain": [
       "2"
      ]
     },
     "execution_count": 322,
     "metadata": {},
     "output_type": "execute_result"
    }
   ],
   "source": [
    "len(temperature)"
   ]
  },
  {
   "cell_type": "code",
   "execution_count": null,
   "metadata": {},
   "outputs": [],
   "source": [
    "N_HI = 1.63e13*(np.divide(temperature,10**4))**-0.7*((0.0479*(0.6814**2))/0.0125)**2*(J_HI/0.5)**-1*(((1+5.88)/4)**5)*(2/1.65)**-0.5*A"
   ]
  },
  {
   "cell_type": "code",
   "execution_count": null,
   "metadata": {},
   "outputs": [
    {
     "data": {
      "text/plain": [
       "array([1.03688082e+36, 3.76525535e+36])"
      ]
     },
     "execution_count": 324,
     "metadata": {},
     "output_type": "execute_result"
    }
   ],
   "source": [
    "N_HI"
   ]
  },
  {
   "cell_type": "code",
   "execution_count": null,
   "metadata": {},
   "outputs": [
    {
     "data": {
      "text/plain": [
       "[5.23607944285154e+17, 3.2870950817011233e+19]"
      ]
     },
     "execution_count": 325,
     "metadata": {},
     "output_type": "execute_result"
    }
   ],
   "source": [
    "real_area_under"
   ]
  },
  {
   "cell_type": "code",
   "execution_count": null,
   "metadata": {},
   "outputs": [
    {
     "data": {
      "image/png": "[encoded data removed]",
      "text/plain": [
       "<Figure size 432x288 with 1 Axes>"
      ]
     },
     "metadata": {
      "needs_background": "light"
     },
     "output_type": "display_data"
    }
   ],
   "source": [
    "plt.scatter(N_HI,real_area_under)\n",
    "plt.xlabel(\"predicted NHI\")\n",
    "plt.ylabel(\"integrated value\")\n",
    "plt.xscale(\"log\")\n",
    "plt.yscale(\"log\")"
   ]
  },
  {
   "cell_type": "code",
   "execution_count": null,
   "metadata": {},
   "outputs": [],
   "source": []
  }
 ],
 "metadata": {
  "kernelspec": {
   "display_name": "Python 3.8.10 64-bit",
   "language": "python",
   "name": "python3"
  },
  "language_info": {
   "codemirror_mode": {
    "name": "ipython",
    "version": 3
   },
   "file_extension": ".py",
   "mimetype": "text/x-python",
   "name": "python",
   "nbconvert_exporter": "python",
   "pygments_lexer": "ipython3",
   "version": "3.8.10"
  },
  "orig_nbformat": 4,
  "vscode": {
   "interpreter": {
    "hash": "e7370f93d1d0cde622a1f8e1c04877d8463912d04d973331ad4851f04de6915a"
   }
  }
 },
 "nbformat": 4,
 "nbformat_minor": 2
}
