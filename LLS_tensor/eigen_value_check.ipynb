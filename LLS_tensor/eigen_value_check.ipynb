{
 "cells": [
  {
   "cell_type": "code",
   "execution_count": 62,
   "metadata": {},
   "outputs": [],
   "source": [
    "import yt\n",
    "import numpy as np \n",
    "import matplotlib.pyplot as plt \n",
    "import pandas as pd \n",
    "import pickle as pickle\n",
    "from unyt import g,cm\n",
    "from numpy.linalg import eig"
   ]
  },
  {
   "cell_type": "code",
   "execution_count": 63,
   "metadata": {},
   "outputs": [],
   "source": [
    "with open('peak_locations_box_c.pkl', 'rb') as f:\n",
    "    peaks = pickle.load(f)"
   ]
  },
  {
   "cell_type": "code",
   "execution_count": 64,
   "metadata": {},
   "outputs": [],
   "source": [
    "with open('value_total.pkl', 'rb') as f:\n",
    "    value = pickle.load(f)"
   ]
  },
  {
   "cell_type": "code",
   "execution_count": 65,
   "metadata": {},
   "outputs": [
    {
     "name": "stderr",
     "output_type": "stream",
     "text": [
      "yt : [WARNING  ] 2023-04-28 10:35:22,997 DeltaDC != 0, which implies auni != abox. Be sure you understand which expansion parameter is appropriate for your use! (Gnedin, Kravtsov, & Rudd 2011)\n",
      "yt : [INFO     ] 2023-04-28 10:35:23,049 Parameters: current_time              = 958007400.6400309 yr\n",
      "yt : [INFO     ] 2023-04-28 10:35:23,050 Parameters: domain_dimensions         = [256 256 256]\n",
      "yt : [INFO     ] 2023-04-28 10:35:23,051 Parameters: domain_left_edge          = [0. 0. 0.]\n",
      "yt : [INFO     ] 2023-04-28 10:35:23,052 Parameters: domain_right_edge         = [256. 256. 256.]\n",
      "yt : [INFO     ] 2023-04-28 10:35:23,053 Parameters: cosmological_simulation   = True\n",
      "yt : [INFO     ] 2023-04-28 10:35:23,053 Parameters: current_redshift          = 5.881049592936443\n",
      "yt : [INFO     ] 2023-04-28 10:35:23,054 Parameters: omega_lambda              = 0.6964000165462494\n",
      "yt : [INFO     ] 2023-04-28 10:35:23,055 Parameters: omega_matter              = 0.3035999834537506\n",
      "yt : [INFO     ] 2023-04-28 10:35:23,055 Parameters: omega_radiation           = 0.0\n",
      "yt : [INFO     ] 2023-04-28 10:35:23,056 Parameters: hubble_constant           = 0.6814000010490417\n"
     ]
    }
   ],
   "source": [
    "\n",
    "box_A_root = '/data/gnedin/REI/D/Cai.B40.N256L2.sf=1_uv=0.15_bw=10_res=100.WC1/C/'\n",
    "hc = pd.read_csv(box_A_root+'a=0.1453/hpropsRS.res', names=['Mvir','Mstar','Z','SFR','luminosity','px','py','pz','Rvir'],delim_whitespace=True,index_col=False)\n",
    "ds = yt.load('/data/gnedin/REI/D/Cai.B40.N256L2.sf=1_uv=0.15_bw=10_res=100.WC1/C/rei40c1_a0.1453/rei40c1_a0.1453.art')\n",
    "p = ds.artio_parameters\n",
    "abox = p[\"abox\"][0]\n",
    "auni = p[\"auni\"][0]\n",
    "scale = auni/abox\n",
    "##difference is llyman - the galaxies distances\n",
    "data = []\n"
   ]
  },
  {
   "cell_type": "code",
   "execution_count": 66,
   "metadata": {},
   "outputs": [],
   "source": [
    "sp = ds.sphere(ds.arr((peaks[0][0]/scale,peaks[0][1]/scale,peaks[0][2]/scale), 'Mpccm/h'), (0.026/scale, \"Mpccm/h\"))"
   ]
  },
  {
   "cell_type": "code",
   "execution_count": 68,
   "metadata": {},
   "outputs": [],
   "source": [
    "x = (sp[(\"gas\",\"x\")] - (sp.center.to('cm'))[0]).to('(Mpccm/h)')\n",
    "y = (sp[(\"gas\",\"y\")] - (sp.center.to('cm'))[1]).to('(Mpccm/h)')\n",
    "z = (sp[(\"gas\",\"z\")] - (sp.center.to('cm'))[2]).to('(Mpccm/h)')"
   ]
  },
  {
   "cell_type": "code",
   "execution_count": 69,
   "metadata": {},
   "outputs": [
    {
     "data": {
      "text/plain": [
       "unyt_quantity(1.28018253e+24, 'cm')"
      ]
     },
     "execution_count": 69,
     "metadata": {},
     "output_type": "execute_result"
    }
   ],
   "source": [
    "sp[(\"gas\",\"x\")][0]"
   ]
  },
  {
   "cell_type": "code",
   "execution_count": 70,
   "metadata": {},
   "outputs": [
    {
     "data": {
      "text/plain": [
       "unyt_quantity(-0.01406658, 'Mpccm/h')"
      ]
     },
     "execution_count": 70,
     "metadata": {},
     "output_type": "execute_result"
    }
   ],
   "source": [
    "x[0]"
   ]
  },
  {
   "cell_type": "code",
   "execution_count": 71,
   "metadata": {},
   "outputs": [],
   "source": [
    "dx = sp[('gas','dx')]"
   ]
  },
  {
   "cell_type": "code",
   "execution_count": 72,
   "metadata": {},
   "outputs": [
    {
     "data": {
      "text/plain": [
       "unyt_quantity(1.56981304e+21, 'cm')"
      ]
     },
     "execution_count": 72,
     "metadata": {},
     "output_type": "execute_result"
    }
   ],
   "source": [
    "dx[0]"
   ]
  },
  {
   "cell_type": "code",
   "execution_count": 73,
   "metadata": {},
   "outputs": [],
   "source": [
    "volume = (sp[('gas','dx')] *sp[('gas','dy')]*sp[('gas','dz')]).to('(Mpccm/h)**3')"
   ]
  },
  {
   "cell_type": "code",
   "execution_count": 74,
   "metadata": {},
   "outputs": [],
   "source": [
    "r = 0.026"
   ]
  },
  {
   "cell_type": "code",
   "execution_count": 75,
   "metadata": {},
   "outputs": [],
   "source": [
    "v = 4/3 *np.pi*r**3"
   ]
  },
  {
   "cell_type": "code",
   "execution_count": 76,
   "metadata": {},
   "outputs": [
    {
     "data": {
      "text/plain": [
       "7.36221766393256e-05"
      ]
     },
     "execution_count": 76,
     "metadata": {},
     "output_type": "execute_result"
    }
   ],
   "source": [
    "v"
   ]
  },
  {
   "cell_type": "code",
   "execution_count": 79,
   "metadata": {},
   "outputs": [],
   "source": [
    "density =sp[('gas','density')].to('g/(Mpccm/h)**3')"
   ]
  },
  {
   "cell_type": "code",
   "execution_count": 80,
   "metadata": {},
   "outputs": [],
   "source": [
    "d = {'dx(cMpc)':x,'dy(cMpc)':y,'dz(cMpc)':z,'volume(cMpc**3)':volume,'density(g/cMpc**3)':density}"
   ]
  },
  {
   "cell_type": "code",
   "execution_count": 81,
   "metadata": {},
   "outputs": [],
   "source": [
    "df =pd.DataFrame(data = d)"
   ]
  },
  {
   "cell_type": "code",
   "execution_count": 82,
   "metadata": {},
   "outputs": [
    {
     "data": {
      "text/html": [
       "<div>\n",
       "<style scoped>\n",
       "    .dataframe tbody tr th:only-of-type {\n",
       "        vertical-align: middle;\n",
       "    }\n",
       "\n",
       "    .dataframe tbody tr th {\n",
       "        vertical-align: top;\n",
       "    }\n",
       "\n",
       "    .dataframe thead th {\n",
       "        text-align: right;\n",
       "    }\n",
       "</style>\n",
       "<table border=\"1\" class=\"dataframe\">\n",
       "  <thead>\n",
       "    <tr style=\"text-align: right;\">\n",
       "      <th></th>\n",
       "      <th>dx(cMpc)</th>\n",
       "      <th>dy(cMpc)</th>\n",
       "      <th>dz(cMpc)</th>\n",
       "      <th>volume(cMpc**3)</th>\n",
       "      <th>density(g/cMpc**3)</th>\n",
       "    </tr>\n",
       "  </thead>\n",
       "  <tbody>\n",
       "    <tr>\n",
       "      <th>0</th>\n",
       "      <td>-0.014067</td>\n",
       "      <td>-0.006534</td>\n",
       "      <td>-0.019916</td>\n",
       "      <td>1.357259e-08</td>\n",
       "      <td>6.154848e+46</td>\n",
       "    </tr>\n",
       "    <tr>\n",
       "      <th>1</th>\n",
       "      <td>-0.014067</td>\n",
       "      <td>-0.004149</td>\n",
       "      <td>-0.019916</td>\n",
       "      <td>1.357259e-08</td>\n",
       "      <td>6.925734e+46</td>\n",
       "    </tr>\n",
       "    <tr>\n",
       "      <th>2</th>\n",
       "      <td>-0.020030</td>\n",
       "      <td>-0.010112</td>\n",
       "      <td>-0.011567</td>\n",
       "      <td>1.085807e-07</td>\n",
       "      <td>9.827473e+45</td>\n",
       "    </tr>\n",
       "    <tr>\n",
       "      <th>3</th>\n",
       "      <td>-0.015259</td>\n",
       "      <td>-0.014883</td>\n",
       "      <td>-0.011567</td>\n",
       "      <td>1.085807e-07</td>\n",
       "      <td>8.027501e+45</td>\n",
       "    </tr>\n",
       "    <tr>\n",
       "      <th>4</th>\n",
       "      <td>-0.016452</td>\n",
       "      <td>-0.011305</td>\n",
       "      <td>-0.015145</td>\n",
       "      <td>1.357259e-08</td>\n",
       "      <td>7.474894e+45</td>\n",
       "    </tr>\n",
       "    <tr>\n",
       "      <th>...</th>\n",
       "      <td>...</td>\n",
       "      <td>...</td>\n",
       "      <td>...</td>\n",
       "      <td>...</td>\n",
       "      <td>...</td>\n",
       "    </tr>\n",
       "    <tr>\n",
       "      <th>407</th>\n",
       "      <td>0.010980</td>\n",
       "      <td>-0.002956</td>\n",
       "      <td>0.005131</td>\n",
       "      <td>8.686455e-07</td>\n",
       "      <td>1.919244e+45</td>\n",
       "    </tr>\n",
       "    <tr>\n",
       "      <th>408</th>\n",
       "      <td>0.010980</td>\n",
       "      <td>-0.002956</td>\n",
       "      <td>0.014672</td>\n",
       "      <td>8.686455e-07</td>\n",
       "      <td>1.663166e+45</td>\n",
       "    </tr>\n",
       "    <tr>\n",
       "      <th>409</th>\n",
       "      <td>0.020521</td>\n",
       "      <td>-0.012497</td>\n",
       "      <td>0.005131</td>\n",
       "      <td>8.686455e-07</td>\n",
       "      <td>4.740688e+44</td>\n",
       "    </tr>\n",
       "    <tr>\n",
       "      <th>410</th>\n",
       "      <td>0.020521</td>\n",
       "      <td>-0.002956</td>\n",
       "      <td>0.005131</td>\n",
       "      <td>8.686455e-07</td>\n",
       "      <td>3.415864e+44</td>\n",
       "    </tr>\n",
       "    <tr>\n",
       "      <th>411</th>\n",
       "      <td>0.020521</td>\n",
       "      <td>-0.002956</td>\n",
       "      <td>0.014672</td>\n",
       "      <td>8.686455e-07</td>\n",
       "      <td>3.356631e+44</td>\n",
       "    </tr>\n",
       "  </tbody>\n",
       "</table>\n",
       "<p>412 rows × 5 columns</p>\n",
       "</div>"
      ],
      "text/plain": [
       "     dx(cMpc)  dy(cMpc)  dz(cMpc)  volume(cMpc**3)  density(g/cMpc**3)\n",
       "0   -0.014067 -0.006534 -0.019916     1.357259e-08        6.154848e+46\n",
       "1   -0.014067 -0.004149 -0.019916     1.357259e-08        6.925734e+46\n",
       "2   -0.020030 -0.010112 -0.011567     1.085807e-07        9.827473e+45\n",
       "3   -0.015259 -0.014883 -0.011567     1.085807e-07        8.027501e+45\n",
       "4   -0.016452 -0.011305 -0.015145     1.357259e-08        7.474894e+45\n",
       "..        ...       ...       ...              ...                 ...\n",
       "407  0.010980 -0.002956  0.005131     8.686455e-07        1.919244e+45\n",
       "408  0.010980 -0.002956  0.014672     8.686455e-07        1.663166e+45\n",
       "409  0.020521 -0.012497  0.005131     8.686455e-07        4.740688e+44\n",
       "410  0.020521 -0.002956  0.005131     8.686455e-07        3.415864e+44\n",
       "411  0.020521 -0.002956  0.014672     8.686455e-07        3.356631e+44\n",
       "\n",
       "[412 rows x 5 columns]"
      ]
     },
     "execution_count": 82,
     "metadata": {},
     "output_type": "execute_result"
    }
   ],
   "source": [
    "df"
   ]
  },
  {
   "cell_type": "code",
   "execution_count": null,
   "metadata": {},
   "outputs": [
    {
     "data": {
      "text/plain": [
       "[2.005363879937967, 12.166111410859045, 25.194943977006197]"
      ]
     },
     "execution_count": 40,
     "metadata": {},
     "output_type": "execute_result"
    }
   ],
   "source": [
    "peaks[0]"
   ]
  },
  {
   "cell_type": "code",
   "execution_count": null,
   "metadata": {},
   "outputs": [],
   "source": [
    "df.to_csv('2.0054_12.1661_25.1949.csv')"
   ]
  }
 ],
 "metadata": {
  "kernelspec": {
   "display_name": "base",
   "language": "python",
   "name": "python3"
  },
  "language_info": {
   "codemirror_mode": {
    "name": "ipython",
    "version": 3
   },
   "file_extension": ".py",
   "mimetype": "text/x-python",
   "name": "python",
   "nbconvert_exporter": "python",
   "pygments_lexer": "ipython3",
   "version": "3.8.3"
  },
  "orig_nbformat": 4
 },
 "nbformat": 4,
 "nbformat_minor": 2
}
