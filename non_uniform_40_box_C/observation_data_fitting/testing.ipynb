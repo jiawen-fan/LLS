{
 "cells": [
  {
   "cell_type": "code",
   "execution_count": 1,
   "metadata": {},
   "outputs": [
    {
     "name": "stderr",
     "output_type": "stream",
     "text": [
      "\n",
      "Bad key \"legend.title_fontsize\" on line 22 in\n",
      "/home/jiawen/.config/matplotlib/stylelib/notebook.mplstyle.\n",
      "You probably need to get an updated matplotlibrc file from\n",
      "http://github.com/matplotlib/matplotlib/blob/master/matplotlibrc.template\n",
      "or from the matplotlib source distribution\n"
     ]
    },
    {
     "name": "stdout",
     "output_type": "stream",
     "text": [
      "-----------------------------------------------------------\n",
      "-----------------------------------------------------------\n",
      "WARNING: Not loading mcmc in pyigm.fN   \n",
      " Install pymc if you want it\n",
      "-----------------------------------------------------------\n"
     ]
    }
   ],
   "source": [
    "# imports\n",
    "try:\n",
    "    import seaborn as sns; sns.set_style(\"white\")\n",
    "except:\n",
    "    pass\n",
    "\n",
    "import time\n",
    "from bokeh.io import output_notebook, show, output_file\n",
    "from bokeh.plotting import figure\n",
    "from bokeh.models import Range1d\n",
    "import imp\n",
    "from linetools.spectra.xspectrum1d import XSpectrum1D\n",
    "import numpy as np\n",
    "from pyigm.fN.fnmodel import FNModel\n",
    "from pyigm.fN import tau_eff as teff\n",
    "import matplotlib.pyplot as plt\n",
    "import numpy as np\n"
   ]
  },
  {
   "cell_type": "code",
   "execution_count": 2,
   "metadata": {},
   "outputs": [
    {
     "data": {
      "text/plain": [
       "(0.0, 10.0)"
      ]
     },
     "execution_count": 2,
     "metadata": {},
     "output_type": "execute_result"
    }
   ],
   "source": [
    "fN_I14 = FNModel('Gamma')\n",
    "fN_I14.zmnx"
   ]
  },
  {
   "cell_type": "code",
   "execution_count": 3,
   "metadata": {},
   "outputs": [
    {
     "name": "stdout",
     "output_type": "stream",
     "text": [
      "Using P14 spline values to generate a default model\n",
      "Loading: /mnt/c/Users/jiawen/vir_en/lib/python2.7/site-packages/pyigm/data/fN/fN_spline_z24.fits.gz\n"
     ]
    },
    {
     "data": {
      "text/plain": [
       "<FNModel: Hspline zmnx=(0.5,3) zpivot=2.4, gamma=1.5>"
      ]
     },
     "execution_count": 3,
     "metadata": {},
     "output_type": "execute_result"
    }
   ],
   "source": [
    "fN_default = FNModel.default_model()\n",
    "fN_default"
   ]
  },
  {
   "cell_type": "code",
   "execution_count": 4,
   "metadata": {},
   "outputs": [
    {
     "name": "stdout",
     "output_type": "stream",
     "text": [
      "Using P14 spline values to generate a default model\n",
      "Loading: /mnt/c/Users/jiawen/vir_en/lib/python2.7/site-packages/pyigm/data/fN/fN_spline_z24.fits.gz\n",
      "l(X) = 0.362987\n"
     ]
    }
   ],
   "source": [
    "fN_default = FNModel.default_model()\n",
    "lX = fN_default.calculate_lox(2.4, 17.19+np.log10(2.), 23.) \n",
    "print('l(X) = {:g}'.format(lX))"
   ]
  },
  {
   "cell_type": "code",
   "execution_count": 5,
   "metadata": {},
   "outputs": [
    {
     "name": "stdout",
     "output_type": "stream",
     "text": [
      "Using P14 spline values to generate a default model\n",
      "Loading: /mnt/c/Users/jiawen/vir_en/lib/python2.7/site-packages/pyigm/data/fN/fN_spline_z24.fits.gz\n"
     ]
    }
   ],
   "source": [
    "fN_default = FNModel.default_model()\n",
    "imp.reload(teff)\n",
    "zval,teff_LL = teff.lyman_limit(fN_default, 0.5, 2.45)"
   ]
  },
  {
   "cell_type": "code",
   "execution_count": 6,
   "metadata": {},
   "outputs": [
    {
     "data": {
      "text/plain": [
       "(0.5, 1.8429875838699887)"
      ]
     },
     "execution_count": 6,
     "metadata": {},
     "output_type": "execute_result"
    }
   ],
   "source": [
    "zval[0], teff_LL[0]"
   ]
  },
  {
   "cell_type": "code",
   "execution_count": 7,
   "metadata": {},
   "outputs": [
    {
     "data": {
      "image/png": "[encoded data removed]",
      "text/plain": [
       "<Figure size 432x288 with 1 Axes>"
      ]
     },
     "metadata": {
      "needs_background": "light"
     },
     "output_type": "display_data"
    }
   ],
   "source": [
    "plt.clf()\n",
    "plt.plot(zval,teff_LL)\n",
    "# \n",
    "plt.xlabel('z')\n",
    "plt.ylabel(r'$\\tau_{\\rm eff}^{\\rm LL}$')\n",
    "plt.show()"
   ]
  },
  {
   "cell_type": "code",
   "execution_count": 8,
   "metadata": {},
   "outputs": [],
   "source": [
    "#testing for f(n)"
   ]
  },
  {
   "cell_type": "code",
   "execution_count": 9,
   "metadata": {},
   "outputs": [
    {
     "data": {
      "text/html": [
       "\n",
       "    <div class=\"bk-root\">\n",
       "        <a href=\"https://bokeh.org\" target=\"_blank\" class=\"bk-logo bk-logo-small bk-logo-notebook\"></a>\n",
       "        <span id=\"1001\">Loading BokehJS ...</span>\n",
       "    </div>"
      ]
     },
     "metadata": {},
     "output_type": "display_data"
    },
    {
     "data": {
      "application/javascript": "\n(function(root) {\n  function now() {\n    return new Date();\n  }\n\n  var force = true;\n\n  if (typeof root._bokeh_onload_callbacks === \"undefined\" || force === true) {\n    root._bokeh_onload_callbacks = [];\n    root._bokeh_is_loading = undefined;\n  }\n\n  var JS_MIME_TYPE = 'application/javascript';\n  var HTML_MIME_TYPE = 'text/html';\n  var EXEC_MIME_TYPE = 'application/vnd.bokehjs_exec.v0+json';\n  var CLASS_NAME = 'output_bokeh rendered_html';\n\n  /**\n   * Render data to the DOM node\n   */\n  function render(props, node) {\n    var script = document.createElement(\"script\");\n    node.appendChild(script);\n  }\n\n  /**\n   * Handle when an output is cleared or removed\n   */\n  function handleClearOutput(event, handle) {\n    var cell = handle.cell;\n\n    var id = cell.output_area._bokeh_element_id;\n    var server_id = cell.output_area._bokeh_server_id;\n    // Clean up Bokeh references\n    if (id != null && id in Bokeh.index) {\n      Bokeh.index[id].model.document.clear();\n      delete Bokeh.index[id];\n    }\n\n    if (server_id !== undefined) {\n      // Clean up Bokeh references\n      var cmd = \"from bokeh.io.state import curstate; print(curstate().uuid_to_server['\" + server_id + \"'].get_sessions()[0].document.roots[0]._id)\";\n      cell.notebook.kernel.execute(cmd, {\n        iopub: {\n          output: function(msg) {\n            var id = msg.content.text.trim();\n            if (id in Bokeh.index) {\n              Bokeh.index[id].model.document.clear();\n              delete Bokeh.index[id];\n            }\n          }\n        }\n      });\n      // Destroy server and session\n      var cmd = \"import bokeh.io.notebook as ion; ion.destroy_server('\" + server_id + \"')\";\n      cell.notebook.kernel.execute(cmd);\n    }\n  }\n\n  /**\n   * Handle when a new output is added\n   */\n  function handleAddOutput(event, handle) {\n    var output_area = handle.output_area;\n    var output = handle.output;\n\n    // limit handleAddOutput to display_data with EXEC_MIME_TYPE content only\n    if ((output.output_type != \"display_data\") || (!output.data.hasOwnProperty(EXEC_MIME_TYPE))) {\n      return\n    }\n\n    var toinsert = output_area.element.find(\".\" + CLASS_NAME.split(' ')[0]);\n\n    if (output.metadata[EXEC_MIME_TYPE][\"id\"] !== undefined) {\n      toinsert[toinsert.length - 1].firstChild.textContent = output.data[JS_MIME_TYPE];\n      // store reference to embed id on output_area\n      output_area._bokeh_element_id = output.metadata[EXEC_MIME_TYPE][\"id\"];\n    }\n    if (output.metadata[EXEC_MIME_TYPE][\"server_id\"] !== undefined) {\n      var bk_div = document.createElement(\"div\");\n      bk_div.innerHTML = output.data[HTML_MIME_TYPE];\n      var script_attrs = bk_div.children[0].attributes;\n      for (var i = 0; i < script_attrs.length; i++) {\n        toinsert[toinsert.length - 1].firstChild.setAttribute(script_attrs[i].name, script_attrs[i].value);\n      }\n      // store reference to server id on output_area\n      output_area._bokeh_server_id = output.metadata[EXEC_MIME_TYPE][\"server_id\"];\n    }\n  }\n\n  function register_renderer(events, OutputArea) {\n\n    function append_mime(data, metadata, element) {\n      // create a DOM node to render to\n      var toinsert = this.create_output_subarea(\n        metadata,\n        CLASS_NAME,\n        EXEC_MIME_TYPE\n      );\n      this.keyboard_manager.register_events(toinsert);\n      // Render to node\n      var props = {data: data, metadata: metadata[EXEC_MIME_TYPE]};\n      render(props, toinsert[toinsert.length - 1]);\n      element.append(toinsert);\n      return toinsert\n    }\n\n    /* Handle when an output is cleared or removed */\n    events.on('clear_output.CodeCell', handleClearOutput);\n    events.on('delete.Cell', handleClearOutput);\n\n    /* Handle when a new output is added */\n    events.on('output_added.OutputArea', handleAddOutput);\n\n    /**\n     * Register the mime type and append_mime function with output_area\n     */\n    OutputArea.prototype.register_mime_type(EXEC_MIME_TYPE, append_mime, {\n      /* Is output safe? */\n      safe: true,\n      /* Index of renderer in `output_area.display_order` */\n      index: 0\n    });\n  }\n\n  // register the mime type if in Jupyter Notebook environment and previously unregistered\n  if (root.Jupyter !== undefined) {\n    var events = require('base/js/events');\n    var OutputArea = require('notebook/js/outputarea').OutputArea;\n\n    if (OutputArea.prototype.mime_types().indexOf(EXEC_MIME_TYPE) == -1) {\n      register_renderer(events, OutputArea);\n    }\n  }\n\n  \n  if (typeof (root._bokeh_timeout) === \"undefined\" || force === true) {\n    root._bokeh_timeout = Date.now() + 5000;\n    root._bokeh_failed_load = false;\n  }\n\n  var NB_LOAD_WARNING = {'data': {'text/html':\n     \"<div style='background-color: #fdd'>\\n\"+\n     \"<p>\\n\"+\n     \"BokehJS does not appear to have successfully loaded. If loading BokehJS from CDN, this \\n\"+\n     \"may be due to a slow or bad network connection. Possible fixes:\\n\"+\n     \"</p>\\n\"+\n     \"<ul>\\n\"+\n     \"<li>re-rerun `output_notebook()` to attempt to load from CDN again, or</li>\\n\"+\n     \"<li>use INLINE resources instead, as so:</li>\\n\"+\n     \"</ul>\\n\"+\n     \"<code>\\n\"+\n     \"from bokeh.resources import INLINE\\n\"+\n     \"output_notebook(resources=INLINE)\\n\"+\n     \"</code>\\n\"+\n     \"</div>\"}};\n\n  function display_loaded() {\n    var el = document.getElementById(\"1001\");\n    if (el != null) {\n      el.textContent = \"BokehJS is loading...\";\n    }\n    if (root.Bokeh !== undefined) {\n      if (el != null) {\n        el.textContent = \"BokehJS \" + root.Bokeh.version + \" successfully loaded.\";\n      }\n    } else if (Date.now() < root._bokeh_timeout) {\n      setTimeout(display_loaded, 100)\n    }\n  }\n\n\n  function run_callbacks() {\n    try {\n      root._bokeh_onload_callbacks.forEach(function(callback) {\n        if (callback != null)\n          callback();\n      });\n    } finally {\n      delete root._bokeh_onload_callbacks\n    }\n    console.debug(\"Bokeh: all callbacks have finished\");\n  }\n\n  function load_libs(css_urls, js_urls, callback) {\n    if (css_urls == null) css_urls = [];\n    if (js_urls == null) js_urls = [];\n\n    root._bokeh_onload_callbacks.push(callback);\n    if (root._bokeh_is_loading > 0) {\n      console.debug(\"Bokeh: BokehJS is being loaded, scheduling callback at\", now());\n      return null;\n    }\n    if (js_urls == null || js_urls.length === 0) {\n      run_callbacks();\n      return null;\n    }\n    console.debug(\"Bokeh: BokehJS not loaded, scheduling load and callback at\", now());\n    root._bokeh_is_loading = css_urls.length + js_urls.length;\n\n    function on_load() {\n      root._bokeh_is_loading--;\n      if (root._bokeh_is_loading === 0) {\n        console.debug(\"Bokeh: all BokehJS libraries/stylesheets loaded\");\n        run_callbacks()\n      }\n    }\n\n    function on_error() {\n      console.error(\"failed to load \" + url);\n    }\n\n    for (var i = 0; i < css_urls.length; i++) {\n      var url = css_urls[i];\n      const element = document.createElement(\"link\");\n      element.onload = on_load;\n      element.onerror = on_error;\n      element.rel = \"stylesheet\";\n      element.type = \"text/css\";\n      element.href = url;\n      console.debug(\"Bokeh: injecting link tag for BokehJS stylesheet: \", url);\n      document.body.appendChild(element);\n    }\n\n    for (var i = 0; i < js_urls.length; i++) {\n      var url = js_urls[i];\n      var element = document.createElement('script');\n      element.onload = on_load;\n      element.onerror = on_error;\n      element.async = false;\n      element.src = url;\n      console.debug(\"Bokeh: injecting script tag for BokehJS library: \", url);\n      document.head.appendChild(element);\n    }\n  };var element = document.getElementById(\"1001\");\n  if (element == null) {\n    console.error(\"Bokeh: ERROR: autoload.js configured with elementid '1001' but no matching script tag was found. \")\n    return false;\n  }\n\n  function inject_raw_css(css) {\n    const element = document.createElement(\"style\");\n    element.appendChild(document.createTextNode(css));\n    document.body.appendChild(element);\n  }\n\n  \n  var js_urls = [\"https://cdn.pydata.org/bokeh/release/bokeh-1.4.0.min.js\", \"https://cdn.pydata.org/bokeh/release/bokeh-widgets-1.4.0.min.js\", \"https://cdn.pydata.org/bokeh/release/bokeh-tables-1.4.0.min.js\", \"https://cdn.pydata.org/bokeh/release/bokeh-gl-1.4.0.min.js\"];\n  var css_urls = [];\n  \n\n  var inline_js = [\n    function(Bokeh) {\n      Bokeh.set_log_level(\"info\");\n    },\n    function(Bokeh) {\n    \n    \n    }\n  ];\n\n  function run_inline_js() {\n    \n    if (root.Bokeh !== undefined || force === true) {\n      \n    for (var i = 0; i < inline_js.length; i++) {\n      inline_js[i].call(root, root.Bokeh);\n    }\n    if (force === true) {\n        display_loaded();\n      }} else if (Date.now() < root._bokeh_timeout) {\n      setTimeout(run_inline_js, 100);\n    } else if (!root._bokeh_failed_load) {\n      console.log(\"Bokeh: BokehJS failed to load within specified timeout.\");\n      root._bokeh_failed_load = true;\n    } else if (force !== true) {\n      var cell = $(document.getElementById(\"1001\")).parents('.cell').data().cell;\n      cell.output_area.append_execute_result(NB_LOAD_WARNING)\n    }\n\n  }\n\n  if (root._bokeh_is_loading === 0) {\n    console.debug(\"Bokeh: BokehJS loaded, going straight to plotting\");\n    run_inline_js();\n  } else {\n    load_libs(css_urls, js_urls, function() {\n      console.debug(\"Bokeh: BokehJS plotting callback run at\", now());\n      run_inline_js();\n    });\n  }\n}(window));",
      "application/vnd.bokehjs_load.v0+json": ""
     },
     "metadata": {},
     "output_type": "display_data"
    }
   ],
   "source": [
    "# imports\n",
    "try:\n",
    "    import seaborn as sns; sns.set_style(\"white\")\n",
    "except:\n",
    "    pass\n",
    "\n",
    "import time\n",
    "import imp\n",
    "\n",
    "import bokeh\n",
    "from bokeh.io import output_notebook, show,output_file\n",
    "from bokeh.plotting import figure\n",
    "from bokeh.models import Range1d\n",
    "\n",
    "output_notebook()\n",
    "\n",
    "from pyigm.fN.fnmodel import FNModel\n",
    "from pyigm.fN.constraints import FNConstraint\n",
    "\n",
    "from pyigm.fN import tau_eff as teff\n",
    "\n",
    "pyigm_path = imp.find_module('pyigm')[1]"
   ]
  },
  {
   "cell_type": "code",
   "execution_count": 10,
   "metadata": {},
   "outputs": [],
   "source": [
    "fn_file = pyigm_path+'/data/fN/fn_constraints_z2.5_vanilla.fits'\n",
    "k13r13_file = pyigm_path+'/data/fN/fn_constraints_K13R13_vanilla.fits'\n",
    "n12_file = pyigm_path+'/data/fN/fn_constraints_N12_vanilla.fits'"
   ]
  },
  {
   "cell_type": "code",
   "execution_count": 11,
   "metadata": {},
   "outputs": [],
   "source": [
    "all_fN_cs = FNConstraint.from_fitsfile([fn_file,k13r13_file, n12_file])"
   ]
  },
  {
   "cell_type": "code",
   "execution_count": 12,
   "metadata": {},
   "outputs": [
    {
     "data": {
      "text/plain": [
       "[<FNConstraint: fN_SLLS zeval=2.51004, ref=OPB07>,\n",
       " <FNConstraint: LLS_\\tlox zeval=2.22584, ref=OPW12>,\n",
       " <FNConstraint: MFP_\\lmfp zeval=2.44, ref=OPW13>,\n",
       " <FNConstraint: teff_\\tlya zeval=2.4, ref=K05>,\n",
       " <FNConstraint: fN_Lya Forest zeval=2.37, ref=K13R13>,\n",
       " <FNConstraint: fN_DLA zeval=2.5, ref=N12>]"
      ]
     },
     "execution_count": 12,
     "metadata": {},
     "output_type": "execute_result"
    }
   ],
   "source": [
    "fN_cs = [fN_c for fN_c in all_fN_cs if ((fN_c.ref != 'K02') & (fN_c.ref != 'PW09'))]\n",
    "fN_dtype = [fc.fN_dtype for fc in fN_cs]\n",
    "fN_cs"
   ]
  },
  {
   "cell_type": "code",
   "execution_count": 13,
   "metadata": {},
   "outputs": [
    {
     "name": "stdout",
     "output_type": "stream",
     "text": [
      "Using P14 spline values to generate a default model\n",
      "Loading: /mnt/c/Users/jiawen/vir_en/lib/python2.7/site-packages/pyigm/data/fN/fN_spline_z24.fits.gz\n"
     ]
    }
   ],
   "source": [
    "fN_model = FNModel.default_model()\n"
   ]
  },
  {
   "cell_type": "code",
   "execution_count": 14,
   "metadata": {},
   "outputs": [],
   "source": [
    "data_dict = dict(Nbin=[], fN=[], ref=[], pcolor=[], zeval=[])"
   ]
  },
  {
   "cell_type": "code",
   "execution_count": 15,
   "metadata": {},
   "outputs": [],
   "source": [
    "clrs = ['blue', 'green', 'red', 'purple']\n",
    "cnt=0\n",
    "for fN_c in fN_cs: \n",
    "    if fN_c.fN_dtype == 'fN':\n",
    "        # Length\n",
    "        ip = range(fN_c.data['NPT'])\n",
    "        val = np.where(fN_c.data['FN'][ip] > -90)[0]\n",
    "        npt = len(val)\n",
    "        # Add in\n",
    "        if npt > 0:\n",
    "            ipv = np.array(ip)[val]\n",
    "            data_dict['Nbin'] += list(np.median(fN_c.data['BINS'][:,ipv],0))\n",
    "            #xerror = [ fN_c.data['BINS'][1,ipv]-xval, xval-fN_c.data['BINS'][0,ipv] ]\n",
    "            #yerror = [ fN_c.data['SIG_FN'][1,ipv], fN_c.data['SIG_FN'][0,ipv] ] # Inverted!\n",
    "            data_dict['fN'] += list(fN_c.data['FN'][ipv])\n",
    "            data_dict['ref'] += [fN_c.ref]*npt\n",
    "            data_dict['pcolor'] += [clrs[cnt]]*npt\n",
    "            data_dict['zeval'] += [fN_c.zeval]*npt\n",
    "            cnt += 1"
   ]
  },
  {
   "cell_type": "code",
   "execution_count": 16,
   "metadata": {},
   "outputs": [],
   "source": [
    "plot_source = bokeh.models.ColumnDataSource(data_dict)"
   ]
  },
  {
   "cell_type": "code",
   "execution_count": 17,
   "metadata": {},
   "outputs": [],
   "source": [
    "if fN_model is not None: \n",
    "    xplt = 12.01 + 0.01*np.arange(1100)\n",
    "    line_dict = dict(xplt=xplt,\n",
    "                     yplt=fN_model.evaluate(xplt, 2.4).flatten(),\n",
    "                     ref=['P14']*1100, zeval=[fN_model.zpivot]*1100)\n",
    "    model_source = bokeh.models.ColumnDataSource(line_dict)"
   ]
  },
  {
   "cell_type": "code",
   "execution_count": 18,
   "metadata": {},
   "outputs": [
    {
     "name": "stderr",
     "output_type": "stream",
     "text": [
      "BokehDeprecationWarning: 'legend' keyword is deprecated, use explicit 'legend_label', 'legend_field', or 'legend_group' keywords instead\n",
      "BokehDeprecationWarning: 'legend' keyword is deprecated, use explicit 'legend_label', 'legend_field', or 'legend_group' keywords instead\n"
     ]
    },
    {
     "data": {
      "text/html": [
       "\n",
       "\n",
       "\n",
       "\n",
       "\n",
       "\n",
       "  <div class=\"bk-root\" id=\"0ca805da-2afb-4252-83b9-92f83eab7879\" data-root-id=\"1005\"></div>\n"
      ]
     },
     "metadata": {},
     "output_type": "display_data"
    },
    {
     "data": {
      "application/javascript": "(function(root) {\n  function embed_document(root) {\n    \n  var docs_json = {\"a86796f4-e934-4291-be76-031877b55ae4\":{\"roots\":{\"references\":[{\"attributes\":{\"label\":{\"value\":\"P14\"},\"renderers\":[{\"id\":\"1040\",\"type\":\"GlyphRenderer\"}]},\"id\":\"1048\",\"type\":\"LegendItem\"},{\"attributes\":{\"fill_color\":{\"field\":\"pcolor\"},\"line_color\":{\"field\":\"pcolor\"},\"size\":{\"units\":\"screen\",\"value\":8},\"x\":{\"field\":\"Nbin\"},\"y\":{\"field\":\"fN\"}},\"id\":\"1050\",\"type\":\"Scatter\"},{\"attributes\":{\"fill_alpha\":{\"value\":0.1},\"fill_color\":{\"value\":\"#1f77b4\"},\"line_alpha\":{\"value\":0.1},\"line_color\":{\"value\":\"#1f77b4\"},\"size\":{\"units\":\"screen\",\"value\":8},\"x\":{\"field\":\"Nbin\"},\"y\":{\"field\":\"fN\"}},\"id\":\"1051\",\"type\":\"Scatter\"},{\"attributes\":{\"data_source\":{\"id\":\"1002\",\"type\":\"ColumnDataSource\"},\"glyph\":{\"id\":\"1050\",\"type\":\"Scatter\"},\"hover_glyph\":null,\"muted_glyph\":null,\"nonselection_glyph\":{\"id\":\"1051\",\"type\":\"Scatter\"},\"selection_glyph\":null,\"view\":{\"id\":\"1053\",\"type\":\"CDSView\"}},\"id\":\"1052\",\"type\":\"GlyphRenderer\"},{\"attributes\":{\"source\":{\"id\":\"1002\",\"type\":\"ColumnDataSource\"}},\"id\":\"1053\",\"type\":\"CDSView\"},{\"attributes\":{},\"id\":\"1059\",\"type\":\"Selection\"},{\"attributes\":{},\"id\":\"1070\",\"type\":\"UnionRenderers\"},{\"attributes\":{\"line_width\":2,\"x\":{\"field\":\"xplt\"},\"y\":{\"field\":\"yplt\"}},\"id\":\"1038\",\"type\":\"Line\"},{\"attributes\":{\"line_alpha\":0.1,\"line_color\":\"#1f77b4\",\"line_width\":2,\"x\":{\"field\":\"xplt\"},\"y\":{\"field\":\"yplt\"}},\"id\":\"1039\",\"type\":\"Line\"},{\"attributes\":{},\"id\":\"1014\",\"type\":\"LinearScale\"},{\"attributes\":{},\"id\":\"1030\",\"type\":\"PanTool\"},{\"attributes\":{},\"id\":\"1017\",\"type\":\"BasicTicker\"},{\"attributes\":{\"callback\":null},\"id\":\"1010\",\"type\":\"DataRange1d\"},{\"attributes\":{},\"id\":\"1012\",\"type\":\"LinearScale\"},{\"attributes\":{},\"id\":\"1069\",\"type\":\"Selection\"},{\"attributes\":{\"active_drag\":\"auto\",\"active_inspect\":\"auto\",\"active_multi\":null,\"active_scroll\":\"auto\",\"active_tap\":\"auto\",\"tools\":[{\"id\":\"1026\",\"type\":\"ResetTool\"},{\"id\":\"1027\",\"type\":\"HoverTool\"},{\"id\":\"1028\",\"type\":\"TapTool\"},{\"id\":\"1029\",\"type\":\"WheelZoomTool\"},{\"id\":\"1030\",\"type\":\"PanTool\"}]},\"id\":\"1031\",\"type\":\"Toolbar\"},{\"attributes\":{\"source\":{\"id\":\"1004\",\"type\":\"ColumnDataSource\"}},\"id\":\"1041\",\"type\":\"CDSView\"},{\"attributes\":{\"data_source\":{\"id\":\"1004\",\"type\":\"ColumnDataSource\"},\"glyph\":{\"id\":\"1038\",\"type\":\"Line\"},\"hover_glyph\":null,\"muted_glyph\":null,\"nonselection_glyph\":{\"id\":\"1039\",\"type\":\"Line\"},\"selection_glyph\":null,\"view\":{\"id\":\"1041\",\"type\":\"CDSView\"}},\"id\":\"1040\",\"type\":\"GlyphRenderer\"},{\"attributes\":{\"axis_label\":\"log f(N)\",\"formatter\":{\"id\":\"1046\",\"type\":\"BasicTickFormatter\"},\"ticker\":{\"id\":\"1022\",\"type\":\"BasicTicker\"}},\"id\":\"1021\",\"type\":\"LinearAxis\"},{\"attributes\":{\"axis_label\":\"log N_HI\",\"formatter\":{\"id\":\"1044\",\"type\":\"BasicTickFormatter\"},\"ticker\":{\"id\":\"1017\",\"type\":\"BasicTicker\"}},\"id\":\"1016\",\"type\":\"LinearAxis\"},{\"attributes\":{},\"id\":\"1046\",\"type\":\"BasicTickFormatter\"},{\"attributes\":{\"dimension\":1,\"ticker\":{\"id\":\"1022\",\"type\":\"BasicTicker\"}},\"id\":\"1025\",\"type\":\"Grid\"},{\"attributes\":{\"callback\":null,\"tooltips\":[[\"Ref\",\"@ref\"],[\"redshift\",\"@zeval\"]]},\"id\":\"1027\",\"type\":\"HoverTool\"},{\"attributes\":{},\"id\":\"1026\",\"type\":\"ResetTool\"},{\"attributes\":{\"items\":[{\"id\":\"1048\",\"type\":\"LegendItem\"},{\"id\":\"1061\",\"type\":\"LegendItem\"}]},\"id\":\"1047\",\"type\":\"Legend\"},{\"attributes\":{\"ticker\":{\"id\":\"1017\",\"type\":\"BasicTicker\"}},\"id\":\"1020\",\"type\":\"Grid\"},{\"attributes\":{},\"id\":\"1022\",\"type\":\"BasicTicker\"},{\"attributes\":{\"label\":{\"value\":\"data\"},\"renderers\":[{\"id\":\"1052\",\"type\":\"GlyphRenderer\"}]},\"id\":\"1061\",\"type\":\"LegendItem\"},{\"attributes\":{},\"id\":\"1060\",\"type\":\"UnionRenderers\"},{\"attributes\":{},\"id\":\"1044\",\"type\":\"BasicTickFormatter\"},{\"attributes\":{},\"id\":\"1029\",\"type\":\"WheelZoomTool\"},{\"attributes\":{\"callback\":null},\"id\":\"1028\",\"type\":\"TapTool\"},{\"attributes\":{\"callback\":null},\"id\":\"1008\",\"type\":\"DataRange1d\"},{\"attributes\":{\"text\":\"f(N)\"},\"id\":\"1006\",\"type\":\"Title\"},{\"attributes\":{\"below\":[{\"id\":\"1016\",\"type\":\"LinearAxis\"}],\"center\":[{\"id\":\"1020\",\"type\":\"Grid\"},{\"id\":\"1025\",\"type\":\"Grid\"},{\"id\":\"1047\",\"type\":\"Legend\"}],\"left\":[{\"id\":\"1021\",\"type\":\"LinearAxis\"}],\"renderers\":[{\"id\":\"1040\",\"type\":\"GlyphRenderer\"},{\"id\":\"1052\",\"type\":\"GlyphRenderer\"}],\"title\":{\"id\":\"1006\",\"type\":\"Title\"},\"toolbar\":{\"id\":\"1031\",\"type\":\"Toolbar\"},\"x_range\":{\"id\":\"1008\",\"type\":\"DataRange1d\"},\"x_scale\":{\"id\":\"1012\",\"type\":\"LinearScale\"},\"y_range\":{\"id\":\"1010\",\"type\":\"DataRange1d\"},\"y_scale\":{\"id\":\"1014\",\"type\":\"LinearScale\"}},\"id\":\"1005\",\"subtype\":\"Figure\",\"type\":\"Plot\"},{\"attributes\":{\"callback\":null,\"data\":{\"ref\":[\"P14\",\"P14\",\"P14\",\"P14\",\"P14\",\"P14\",\"P14\",\"P14\",\"P14\",\"P14\",\"P14\",\"P14\",\"P14\",\"P14\",\"P14\",\"P14\",\"P14\",\"P14\",\"P14\",\"P14\",\"P14\",\"P14\",\"P14\",\"P14\",\"P14\",\"P14\",\"P14\",\"P14\",\"P14\",\"P14\",\"P14\",\"P14\",\"P14\",\"P14\",\"P14\",\"P14\",\"P14\",\"P14\",\"P14\",\"P14\",\"P14\",\"P14\",\"P14\",\"P14\",\"P14\",\"P14\",\"P14\",\"P14\",\"P14\",\"P14\",\"P14\",\"P14\",\"P14\",\"P14\",\"P14\",\"P14\",\"P14\",\"P14\",\"P14\",\"P14\",\"P14\",\"P14\",\"P14\",\"P14\",\"P14\",\"P14\",\"P14\",\"P14\",\"P14\",\"P14\",\"P14\",\"P14\",\"P14\",\"P14\",\"P14\",\"P14\",\"P14\",\"P14\",\"P14\",\"P14\",\"P14\",\"P14\",\"P14\",\"P14\",\"P14\",\"P14\",\"P14\",\"P14\",\"P14\",\"P14\",\"P14\",\"P14\",\"P14\",\"P14\",\"P14\",\"P14\",\"P14\",\"P14\",\"P14\",\"P14\",\"P14\",\"P14\",\"P14\",\"P14\",\"P14\",\"P14\",\"P14\",\"P14\",\"P14\",\"P14\",\"P14\",\"P14\",\"P14\",\"P14\",\"P14\",\"P14\",\"P14\",\"P14\",\"P14\",\"P14\",\"P14\",\"P14\",\"P14\",\"P14\",\"P14\",\"P14\",\"P14\",\"P14\",\"P14\",\"P14\",\"P14\",\"P14\",\"P14\",\"P14\",\"P14\",\"P14\",\"P14\",\"P14\",\"P14\",\"P14\",\"P14\",\"P14\",\"P14\",\"P14\",\"P14\",\"P14\",\"P14\",\"P14\",\"P14\",\"P14\",\"P14\",\"P14\",\"P14\",\"P14\",\"P14\",\"P14\",\"P14\",\"P14\",\"P14\",\"P14\",\"P14\",\"P14\",\"P14\",\"P14\",\"P14\",\"P14\",\"P14\",\"P14\",\"P14\",\"P14\",\"P14\",\"P14\",\"P14\",\"P14\",\"P14\",\"P14\",\"P14\",\"P14\",\"P14\",\"P14\",\"P14\",\"P14\",\"P14\",\"P14\",\"P14\",\"P14\",\"P14\",\"P14\",\"P14\",\"P14\",\"P14\",\"P14\",\"P14\",\"P14\",\"P14\",\"P14\",\"P14\",\"P14\",\"P14\",\"P14\",\"P14\",\"P14\",\"P14\",\"P14\",\"P14\",\"P14\",\"P14\",\"P14\",\"P14\",\"P14\",\"P14\",\"P14\",\"P14\",\"P14\",\"P14\",\"P14\",\"P14\",\"P14\",\"P14\",\"P14\",\"P14\",\"P14\",\"P14\",\"P14\",\"P14\",\"P14\",\"P14\",\"P14\",\"P14\",\"P14\",\"P14\",\"P14\",\"P14\",\"P14\",\"P14\",\"P14\",\"P14\",\"P14\",\"P14\",\"P14\",\"P14\",\"P14\",\"P14\",\"P14\",\"P14\",\"P14\",\"P14\",\"P14\",\"P14\",\"P14\",\"P14\",\"P14\",\"P14\",\"P14\",\"P14\",\"P14\",\"P14\",\"P14\",\"P14\",\"P14\",\"P14\",\"P14\",\"P14\",\"P14\",\"P14\",\"P14\",\"P14\",\"P14\",\"P14\",\"P14\",\"P14\",\"P14\",\"P14\",\"P14\",\"P14\",\"P14\",\"P14\",\"P14\",\"P14\",\"P14\",\"P14\",\"P14\",\"P14\",\"P14\",\"P14\",\"P14\",\"P14\",\"P14\",\"P14\",\"P14\",\"P14\",\"P14\",\"P14\",\"P14\",\"P14\",\"P14\",\"P14\",\"P14\",\"P14\",\"P14\",\"P14\",\"P14\",\"P14\",\"P14\",\"P14\",\"P14\",\"P14\",\"P14\",\"P14\",\"P14\",\"P14\",\"P14\",\"P14\",\"P14\",\"P14\",\"P14\",\"P14\",\"P14\",\"P14\",\"P14\",\"P14\",\"P14\",\"P14\",\"P14\",\"P14\",\"P14\",\"P14\",\"P14\",\"P14\",\"P14\",\"P14\",\"P14\",\"P14\",\"P14\",\"P14\",\"P14\",\"P14\",\"P14\",\"P14\",\"P14\",\"P14\",\"P14\",\"P14\",\"P14\",\"P14\",\"P14\",\"P14\",\"P14\",\"P14\",\"P14\",\"P14\",\"P14\",\"P14\",\"P14\",\"P14\",\"P14\",\"P14\",\"P14\",\"P14\",\"P14\",\"P14\",\"P14\",\"P14\",\"P14\",\"P14\",\"P14\",\"P14\",\"P14\",\"P14\",\"P14\",\"P14\",\"P14\",\"P14\",\"P14\",\"P14\",\"P14\",\"P14\",\"P14\",\"P14\",\"P14\",\"P14\",\"P14\",\"P14\",\"P14\",\"P14\",\"P14\",\"P14\",\"P14\",\"P14\",\"P14\",\"P14\",\"P14\",\"P14\",\"P14\",\"P14\",\"P14\",\"P14\",\"P14\",\"P14\",\"P14\",\"P14\",\"P14\",\"P14\",\"P14\",\"P14\",\"P14\",\"P14\",\"P14\",\"P14\",\"P14\",\"P14\",\"P14\",\"P14\",\"P14\",\"P14\",\"P14\",\"P14\",\"P14\",\"P14\",\"P14\",\"P14\",\"P14\",\"P14\",\"P14\",\"P14\",\"P14\",\"P14\",\"P14\",\"P14\",\"P14\",\"P14\",\"P14\",\"P14\",\"P14\",\"P14\",\"P14\",\"P14\",\"P14\",\"P14\",\"P14\",\"P14\",\"P14\",\"P14\",\"P14\",\"P14\",\"P14\",\"P14\",\"P14\",\"P14\",\"P14\",\"P14\",\"P14\",\"P14\",\"P14\",\"P14\",\"P14\",\"P14\",\"P14\",\"P14\",\"P14\",\"P14\",\"P14\",\"P14\",\"P14\",\"P14\",\"P14\",\"P14\",\"P14\",\"P14\",\"P14\",\"P14\",\"P14\",\"P14\",\"P14\",\"P14\",\"P14\",\"P14\",\"P14\",\"P14\",\"P14\",\"P14\",\"P14\",\"P14\",\"P14\",\"P14\",\"P14\",\"P14\",\"P14\",\"P14\",\"P14\",\"P14\",\"P14\",\"P14\",\"P14\",\"P14\",\"P14\",\"P14\",\"P14\",\"P14\",\"P14\",\"P14\",\"P14\",\"P14\",\"P14\",\"P14\",\"P14\",\"P14\",\"P14\",\"P14\",\"P14\",\"P14\",\"P14\",\"P14\",\"P14\",\"P14\",\"P14\",\"P14\",\"P14\",\"P14\",\"P14\",\"P14\",\"P14\",\"P14\",\"P14\",\"P14\",\"P14\",\"P14\",\"P14\",\"P14\",\"P14\",\"P14\",\"P14\",\"P14\",\"P14\",\"P14\",\"P14\",\"P14\",\"P14\",\"P14\",\"P14\",\"P14\",\"P14\",\"P14\",\"P14\",\"P14\",\"P14\",\"P14\",\"P14\",\"P14\",\"P14\",\"P14\",\"P14\",\"P14\",\"P14\",\"P14\",\"P14\",\"P14\",\"P14\",\"P14\",\"P14\",\"P14\",\"P14\",\"P14\",\"P14\",\"P14\",\"P14\",\"P14\",\"P14\",\"P14\",\"P14\",\"P14\",\"P14\",\"P14\",\"P14\",\"P14\",\"P14\",\"P14\",\"P14\",\"P14\",\"P14\",\"P14\",\"P14\",\"P14\",\"P14\",\"P14\",\"P14\",\"P14\",\"P14\",\"P14\",\"P14\",\"P14\",\"P14\",\"P14\",\"P14\",\"P14\",\"P14\",\"P14\",\"P14\",\"P14\",\"P14\",\"P14\",\"P14\",\"P14\",\"P14\",\"P14\",\"P14\",\"P14\",\"P14\",\"P14\",\"P14\",\"P14\",\"P14\",\"P14\",\"P14\",\"P14\",\"P14\",\"P14\",\"P14\",\"P14\",\"P14\",\"P14\",\"P14\",\"P14\",\"P14\",\"P14\",\"P14\",\"P14\",\"P14\",\"P14\",\"P14\",\"P14\",\"P14\",\"P14\",\"P14\",\"P14\",\"P14\",\"P14\",\"P14\",\"P14\",\"P14\",\"P14\",\"P14\",\"P14\",\"P14\",\"P14\",\"P14\",\"P14\",\"P14\",\"P14\",\"P14\",\"P14\",\"P14\",\"P14\",\"P14\",\"P14\",\"P14\",\"P14\",\"P14\",\"P14\",\"P14\",\"P14\",\"P14\",\"P14\",\"P14\",\"P14\",\"P14\",\"P14\",\"P14\",\"P14\",\"P14\",\"P14\",\"P14\",\"P14\",\"P14\",\"P14\",\"P14\",\"P14\",\"P14\",\"P14\",\"P14\",\"P14\",\"P14\",\"P14\",\"P14\",\"P14\",\"P14\",\"P14\",\"P14\",\"P14\",\"P14\",\"P14\",\"P14\",\"P14\",\"P14\",\"P14\",\"P14\",\"P14\",\"P14\",\"P14\",\"P14\",\"P14\",\"P14\",\"P14\",\"P14\",\"P14\",\"P14\",\"P14\",\"P14\",\"P14\",\"P14\",\"P14\",\"P14\",\"P14\",\"P14\",\"P14\",\"P14\",\"P14\",\"P14\",\"P14\",\"P14\",\"P14\",\"P14\",\"P14\",\"P14\",\"P14\",\"P14\",\"P14\",\"P14\",\"P14\",\"P14\",\"P14\",\"P14\",\"P14\",\"P14\",\"P14\",\"P14\",\"P14\",\"P14\",\"P14\",\"P14\",\"P14\",\"P14\",\"P14\",\"P14\",\"P14\",\"P14\",\"P14\",\"P14\",\"P14\",\"P14\",\"P14\",\"P14\",\"P14\",\"P14\",\"P14\",\"P14\",\"P14\",\"P14\",\"P14\",\"P14\",\"P14\",\"P14\",\"P14\",\"P14\",\"P14\",\"P14\",\"P14\",\"P14\",\"P14\",\"P14\",\"P14\",\"P14\",\"P14\",\"P14\",\"P14\",\"P14\",\"P14\",\"P14\",\"P14\",\"P14\",\"P14\",\"P14\",\"P14\",\"P14\",\"P14\",\"P14\",\"P14\",\"P14\",\"P14\",\"P14\",\"P14\",\"P14\",\"P14\",\"P14\",\"P14\",\"P14\",\"P14\",\"P14\",\"P14\",\"P14\",\"P14\",\"P14\",\"P14\",\"P14\",\"P14\",\"P14\",\"P14\",\"P14\",\"P14\",\"P14\",\"P14\",\"P14\",\"P14\",\"P14\",\"P14\",\"P14\",\"P14\",\"P14\",\"P14\",\"P14\",\"P14\",\"P14\",\"P14\",\"P14\",\"P14\",\"P14\",\"P14\",\"P14\",\"P14\",\"P14\",\"P14\",\"P14\",\"P14\",\"P14\",\"P14\",\"P14\",\"P14\",\"P14\",\"P14\",\"P14\",\"P14\",\"P14\",\"P14\",\"P14\",\"P14\",\"P14\",\"P14\",\"P14\",\"P14\",\"P14\",\"P14\",\"P14\",\"P14\",\"P14\",\"P14\",\"P14\",\"P14\",\"P14\",\"P14\",\"P14\",\"P14\",\"P14\",\"P14\",\"P14\",\"P14\",\"P14\",\"P14\",\"P14\",\"P14\",\"P14\",\"P14\",\"P14\",\"P14\",\"P14\",\"P14\",\"P14\",\"P14\",\"P14\",\"P14\",\"P14\",\"P14\",\"P14\",\"P14\",\"P14\",\"P14\",\"P14\",\"P14\",\"P14\",\"P14\",\"P14\",\"P14\",\"P14\",\"P14\",\"P14\",\"P14\",\"P14\",\"P14\",\"P14\",\"P14\",\"P14\",\"P14\",\"P14\",\"P14\",\"P14\",\"P14\",\"P14\",\"P14\",\"P14\",\"P14\",\"P14\",\"P14\",\"P14\",\"P14\",\"P14\",\"P14\",\"P14\",\"P14\",\"P14\",\"P14\",\"P14\",\"P14\",\"P14\",\"P14\",\"P14\",\"P14\",\"P14\",\"P14\",\"P14\",\"P14\",\"P14\",\"P14\",\"P14\",\"P14\",\"P14\",\"P14\",\"P14\",\"P14\",\"P14\",\"P14\",\"P14\",\"P14\",\"P14\",\"P14\",\"P14\",\"P14\",\"P14\",\"P14\",\"P14\",\"P14\",\"P14\",\"P14\",\"P14\",\"P14\",\"P14\",\"P14\",\"P14\",\"P14\",\"P14\",\"P14\",\"P14\",\"P14\",\"P14\",\"P14\",\"P14\",\"P14\",\"P14\",\"P14\",\"P14\",\"P14\",\"P14\",\"P14\",\"P14\",\"P14\",\"P14\",\"P14\",\"P14\",\"P14\",\"P14\",\"P14\",\"P14\",\"P14\",\"P14\",\"P14\",\"P14\",\"P14\",\"P14\",\"P14\",\"P14\",\"P14\",\"P14\",\"P14\",\"P14\",\"P14\",\"P14\",\"P14\",\"P14\",\"P14\",\"P14\",\"P14\",\"P14\",\"P14\",\"P14\",\"P14\",\"P14\",\"P14\",\"P14\",\"P14\",\"P14\",\"P14\",\"P14\",\"P14\",\"P14\",\"P14\",\"P14\",\"P14\",\"P14\",\"P14\",\"P14\",\"P14\",\"P14\",\"P14\",\"P14\",\"P14\",\"P14\",\"P14\",\"P14\",\"P14\",\"P14\",\"P14\",\"P14\",\"P14\",\"P14\",\"P14\",\"P14\",\"P14\",\"P14\",\"P14\",\"P14\",\"P14\",\"P14\",\"P14\",\"P14\",\"P14\",\"P14\",\"P14\",\"P14\",\"P14\",\"P14\",\"P14\",\"P14\",\"P14\",\"P14\",\"P14\",\"P14\",\"P14\",\"P14\",\"P14\",\"P14\",\"P14\",\"P14\",\"P14\",\"P14\",\"P14\",\"P14\",\"P14\",\"P14\",\"P14\",\"P14\",\"P14\",\"P14\",\"P14\",\"P14\",\"P14\",\"P14\",\"P14\",\"P14\",\"P14\",\"P14\",\"P14\",\"P14\",\"P14\",\"P14\",\"P14\",\"P14\",\"P14\",\"P14\",\"P14\",\"P14\",\"P14\",\"P14\",\"P14\",\"P14\",\"P14\",\"P14\",\"P14\",\"P14\",\"P14\",\"P14\",\"P14\",\"P14\"],\"xplt\":{\"__ndarray__\":\"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\",\"dtype\":\"float64\",\"shape\":[1100]},\"yplt\":{\"__ndarray__\":\"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\",\"dtype\":\"float64\",\"shape\":[1100]},\"zeval\":[2.4,2.4,2.4,2.4,2.4,2.4,2.4,2.4,2.4,2.4,2.4,2.4,2.4,2.4,2.4,2.4,2.4,2.4,2.4,2.4,2.4,2.4,2.4,2.4,2.4,2.4,2.4,2.4,2.4,2.4,2.4,2.4,2.4,2.4,2.4,2.4,2.4,2.4,2.4,2.4,2.4,2.4,2.4,2.4,2.4,2.4,2.4,2.4,2.4,2.4,2.4,2.4,2.4,2.4,2.4,2.4,2.4,2.4,2.4,2.4,2.4,2.4,2.4,2.4,2.4,2.4,2.4,2.4,2.4,2.4,2.4,2.4,2.4,2.4,2.4,2.4,2.4,2.4,2.4,2.4,2.4,2.4,2.4,2.4,2.4,2.4,2.4,2.4,2.4,2.4,2.4,2.4,2.4,2.4,2.4,2.4,2.4,2.4,2.4,2.4,2.4,2.4,2.4,2.4,2.4,2.4,2.4,2.4,2.4,2.4,2.4,2.4,2.4,2.4,2.4,2.4,2.4,2.4,2.4,2.4,2.4,2.4,2.4,2.4,2.4,2.4,2.4,2.4,2.4,2.4,2.4,2.4,2.4,2.4,2.4,2.4,2.4,2.4,2.4,2.4,2.4,2.4,2.4,2.4,2.4,2.4,2.4,2.4,2.4,2.4,2.4,2.4,2.4,2.4,2.4,2.4,2.4,2.4,2.4,2.4,2.4,2.4,2.4,2.4,2.4,2.4,2.4,2.4,2.4,2.4,2.4,2.4,2.4,2.4,2.4,2.4,2.4,2.4,2.4,2.4,2.4,2.4,2.4,2.4,2.4,2.4,2.4,2.4,2.4,2.4,2.4,2.4,2.4,2.4,2.4,2.4,2.4,2.4,2.4,2.4,2.4,2.4,2.4,2.4,2.4,2.4,2.4,2.4,2.4,2.4,2.4,2.4,2.4,2.4,2.4,2.4,2.4,2.4,2.4,2.4,2.4,2.4,2.4,2.4,2.4,2.4,2.4,2.4,2.4,2.4,2.4,2.4,2.4,2.4,2.4,2.4,2.4,2.4,2.4,2.4,2.4,2.4,2.4,2.4,2.4,2.4,2.4,2.4,2.4,2.4,2.4,2.4,2.4,2.4,2.4,2.4,2.4,2.4,2.4,2.4,2.4,2.4,2.4,2.4,2.4,2.4,2.4,2.4,2.4,2.4,2.4,2.4,2.4,2.4,2.4,2.4,2.4,2.4,2.4,2.4,2.4,2.4,2.4,2.4,2.4,2.4,2.4,2.4,2.4,2.4,2.4,2.4,2.4,2.4,2.4,2.4,2.4,2.4,2.4,2.4,2.4,2.4,2.4,2.4,2.4,2.4,2.4,2.4,2.4,2.4,2.4,2.4,2.4,2.4,2.4,2.4,2.4,2.4,2.4,2.4,2.4,2.4,2.4,2.4,2.4,2.4,2.4,2.4,2.4,2.4,2.4,2.4,2.4,2.4,2.4,2.4,2.4,2.4,2.4,2.4,2.4,2.4,2.4,2.4,2.4,2.4,2.4,2.4,2.4,2.4,2.4,2.4,2.4,2.4,2.4,2.4,2.4,2.4,2.4,2.4,2.4,2.4,2.4,2.4,2.4,2.4,2.4,2.4,2.4,2.4,2.4,2.4,2.4,2.4,2.4,2.4,2.4,2.4,2.4,2.4,2.4,2.4,2.4,2.4,2.4,2.4,2.4,2.4,2.4,2.4,2.4,2.4,2.4,2.4,2.4,2.4,2.4,2.4,2.4,2.4,2.4,2.4,2.4,2.4,2.4,2.4,2.4,2.4,2.4,2.4,2.4,2.4,2.4,2.4,2.4,2.4,2.4,2.4,2.4,2.4,2.4,2.4,2.4,2.4,2.4,2.4,2.4,2.4,2.4,2.4,2.4,2.4,2.4,2.4,2.4,2.4,2.4,2.4,2.4,2.4,2.4,2.4,2.4,2.4,2.4,2.4,2.4,2.4,2.4,2.4,2.4,2.4,2.4,2.4,2.4,2.4,2.4,2.4,2.4,2.4,2.4,2.4,2.4,2.4,2.4,2.4,2.4,2.4,2.4,2.4,2.4,2.4,2.4,2.4,2.4,2.4,2.4,2.4,2.4,2.4,2.4,2.4,2.4,2.4,2.4,2.4,2.4,2.4,2.4,2.4,2.4,2.4,2.4,2.4,2.4,2.4,2.4,2.4,2.4,2.4,2.4,2.4,2.4,2.4,2.4,2.4,2.4,2.4,2.4,2.4,2.4,2.4,2.4,2.4,2.4,2.4,2.4,2.4,2.4,2.4,2.4,2.4,2.4,2.4,2.4,2.4,2.4,2.4,2.4,2.4,2.4,2.4,2.4,2.4,2.4,2.4,2.4,2.4,2.4,2.4,2.4,2.4,2.4,2.4,2.4,2.4,2.4,2.4,2.4,2.4,2.4,2.4,2.4,2.4,2.4,2.4,2.4,2.4,2.4,2.4,2.4,2.4,2.4,2.4,2.4,2.4,2.4,2.4,2.4,2.4,2.4,2.4,2.4,2.4,2.4,2.4,2.4,2.4,2.4,2.4,2.4,2.4,2.4,2.4,2.4,2.4,2.4,2.4,2.4,2.4,2.4,2.4,2.4,2.4,2.4,2.4,2.4,2.4,2.4,2.4,2.4,2.4,2.4,2.4,2.4,2.4,2.4,2.4,2.4,2.4,2.4,2.4,2.4,2.4,2.4,2.4,2.4,2.4,2.4,2.4,2.4,2.4,2.4,2.4,2.4,2.4,2.4,2.4,2.4,2.4,2.4,2.4,2.4,2.4,2.4,2.4,2.4,2.4,2.4,2.4,2.4,2.4,2.4,2.4,2.4,2.4,2.4,2.4,2.4,2.4,2.4,2.4,2.4,2.4,2.4,2.4,2.4,2.4,2.4,2.4,2.4,2.4,2.4,2.4,2.4,2.4,2.4,2.4,2.4,2.4,2.4,2.4,2.4,2.4,2.4,2.4,2.4,2.4,2.4,2.4,2.4,2.4,2.4,2.4,2.4,2.4,2.4,2.4,2.4,2.4,2.4,2.4,2.4,2.4,2.4,2.4,2.4,2.4,2.4,2.4,2.4,2.4,2.4,2.4,2.4,2.4,2.4,2.4,2.4,2.4,2.4,2.4,2.4,2.4,2.4,2.4,2.4,2.4,2.4,2.4,2.4,2.4,2.4,2.4,2.4,2.4,2.4,2.4,2.4,2.4,2.4,2.4,2.4,2.4,2.4,2.4,2.4,2.4,2.4,2.4,2.4,2.4,2.4,2.4,2.4,2.4,2.4,2.4,2.4,2.4,2.4,2.4,2.4,2.4,2.4,2.4,2.4,2.4,2.4,2.4,2.4,2.4,2.4,2.4,2.4,2.4,2.4,2.4,2.4,2.4,2.4,2.4,2.4,2.4,2.4,2.4,2.4,2.4,2.4,2.4,2.4,2.4,2.4,2.4,2.4,2.4,2.4,2.4,2.4,2.4,2.4,2.4,2.4,2.4,2.4,2.4,2.4,2.4,2.4,2.4,2.4,2.4,2.4,2.4,2.4,2.4,2.4,2.4,2.4,2.4,2.4,2.4,2.4,2.4,2.4,2.4,2.4,2.4,2.4,2.4,2.4,2.4,2.4,2.4,2.4,2.4,2.4,2.4,2.4,2.4,2.4,2.4,2.4,2.4,2.4,2.4,2.4,2.4,2.4,2.4,2.4,2.4,2.4,2.4,2.4,2.4,2.4,2.4,2.4,2.4,2.4,2.4,2.4,2.4,2.4,2.4,2.4,2.4,2.4,2.4,2.4,2.4,2.4,2.4,2.4,2.4,2.4,2.4,2.4,2.4,2.4,2.4,2.4,2.4,2.4,2.4,2.4,2.4,2.4,2.4,2.4,2.4,2.4,2.4,2.4,2.4,2.4,2.4,2.4,2.4,2.4,2.4,2.4,2.4,2.4,2.4,2.4,2.4,2.4,2.4,2.4,2.4,2.4,2.4,2.4,2.4,2.4,2.4,2.4,2.4,2.4,2.4,2.4,2.4,2.4,2.4,2.4,2.4,2.4,2.4,2.4,2.4,2.4,2.4,2.4,2.4,2.4,2.4,2.4,2.4,2.4,2.4,2.4,2.4,2.4,2.4,2.4,2.4,2.4,2.4,2.4,2.4,2.4,2.4,2.4,2.4,2.4,2.4,2.4,2.4,2.4,2.4,2.4,2.4,2.4,2.4,2.4,2.4,2.4,2.4,2.4,2.4,2.4,2.4,2.4,2.4,2.4,2.4,2.4,2.4,2.4,2.4,2.4,2.4,2.4,2.4,2.4,2.4,2.4,2.4,2.4,2.4,2.4,2.4,2.4,2.4,2.4,2.4,2.4,2.4,2.4,2.4,2.4,2.4,2.4,2.4,2.4,2.4,2.4,2.4,2.4,2.4,2.4,2.4,2.4,2.4,2.4,2.4,2.4,2.4,2.4,2.4,2.4,2.4,2.4,2.4,2.4,2.4,2.4,2.4,2.4,2.4,2.4,2.4,2.4,2.4,2.4,2.4,2.4,2.4,2.4,2.4,2.4,2.4,2.4,2.4,2.4,2.4,2.4,2.4,2.4,2.4,2.4,2.4,2.4,2.4,2.4,2.4,2.4,2.4,2.4,2.4,2.4,2.4,2.4,2.4,2.4,2.4,2.4,2.4,2.4,2.4,2.4,2.4,2.4,2.4,2.4,2.4,2.4,2.4,2.4,2.4,2.4,2.4,2.4,2.4,2.4,2.4,2.4,2.4,2.4,2.4,2.4,2.4,2.4,2.4,2.4,2.4,2.4,2.4,2.4,2.4,2.4,2.4,2.4,2.4,2.4,2.4,2.4,2.4]},\"selected\":{\"id\":\"1059\",\"type\":\"Selection\"},\"selection_policy\":{\"id\":\"1060\",\"type\":\"UnionRenderers\"}},\"id\":\"1004\",\"type\":\"ColumnDataSource\"},{\"attributes\":{\"callback\":null,\"data\":{\"Nbin\":[19.299999237060547,19.950000762939453,13.05935001373291,13.158649444580078,13.267549514770508,13.38694953918457,13.517849922180176,13.661399841308594,13.81879997253418,13.991350173950195,14.1806001663208,14.388099670410156,14.6156005859375,14.865049362182617,15.1385498046875,15.43844985961914,15.75,16.25,16.75,17.25,17.75,20.150001525878906,20.25,20.349998474121094,20.450000762939453,20.549999237060547,20.650001525878906,20.75,20.849998474121094,20.950000762939453,21.049999237060547,21.150001525878906,21.25,21.349998474121094,21.450000762939453,21.549999237060547,21.650001525878906,21.75,21.849998474121094,21.950000762939453,22.100000381469727,22.299999237060547],\"fN\":[-20.601049423217773,-21.476150512695312,-11.327500343322754,-11.4822998046875,-11.647299766540527,-11.756999969482422,-11.959500312805176,-12.2322998046875,-12.52869987487793,-12.775699615478516,-13.11139965057373,-13.410400390625,-13.74020004272461,-14.19909954071045,-14.751299858093262,-15.19219970703125,-15.812666893005371,-16.53441619873047,-17.176666259765625,-17.884916305541992,-18.893667221069336,-21.491106033325195,-21.611106872558594,-21.701107025146484,-21.841106414794922,-22.00110626220703,-22.16110610961914,-22.341106414794922,-22.53110694885254,-22.69110679626465,-22.931106567382812,-23.131107330322266,-23.30110740661621,-23.601106643676758,-23.831106185913086,-24.03110694885254,-24.221107482910156,-24.6411075592041,-24.87110710144043,-25.62110710144043,-26.07110595703125,-26.271106719970703],\"pcolor\":[\"blue\",\"blue\",\"green\",\"green\",\"green\",\"green\",\"green\",\"green\",\"green\",\"green\",\"green\",\"green\",\"green\",\"green\",\"green\",\"green\",\"green\",\"green\",\"green\",\"green\",\"green\",\"red\",\"red\",\"red\",\"red\",\"red\",\"red\",\"red\",\"red\",\"red\",\"red\",\"red\",\"red\",\"red\",\"red\",\"red\",\"red\",\"red\",\"red\",\"red\",\"red\",\"red\"],\"ref\":[\"OPB07\",\"OPB07\",\"K13R13\",\"K13R13\",\"K13R13\",\"K13R13\",\"K13R13\",\"K13R13\",\"K13R13\",\"K13R13\",\"K13R13\",\"K13R13\",\"K13R13\",\"K13R13\",\"K13R13\",\"K13R13\",\"K13R13\",\"K13R13\",\"K13R13\",\"K13R13\",\"K13R13\",\"N12\",\"N12\",\"N12\",\"N12\",\"N12\",\"N12\",\"N12\",\"N12\",\"N12\",\"N12\",\"N12\",\"N12\",\"N12\",\"N12\",\"N12\",\"N12\",\"N12\",\"N12\",\"N12\",\"N12\",\"N12\"],\"zeval\":[2.510042190551758,2.510042190551758,2.369999885559082,2.369999885559082,2.369999885559082,2.369999885559082,2.369999885559082,2.369999885559082,2.369999885559082,2.369999885559082,2.369999885559082,2.369999885559082,2.369999885559082,2.369999885559082,2.369999885559082,2.369999885559082,2.369999885559082,2.369999885559082,2.369999885559082,2.369999885559082,2.369999885559082,2.5,2.5,2.5,2.5,2.5,2.5,2.5,2.5,2.5,2.5,2.5,2.5,2.5,2.5,2.5,2.5,2.5,2.5,2.5,2.5,2.5]},\"selected\":{\"id\":\"1069\",\"type\":\"Selection\"},\"selection_policy\":{\"id\":\"1070\",\"type\":\"UnionRenderers\"}},\"id\":\"1002\",\"type\":\"ColumnDataSource\"}],\"root_ids\":[\"1005\"]},\"title\":\"Bokeh Application\",\"version\":\"1.4.0\"}};\n  var render_items = [{\"docid\":\"a86796f4-e934-4291-be76-031877b55ae4\",\"roots\":{\"1005\":\"0ca805da-2afb-4252-83b9-92f83eab7879\"}}];\n  root.Bokeh.embed.embed_items_notebook(docs_json, render_items);\n\n  }\n  if (root.Bokeh !== undefined) {\n    embed_document(root);\n  } else {\n    var attempts = 0;\n    var timer = setInterval(function(root) {\n      if (root.Bokeh !== undefined) {\n        clearInterval(timer);\n        embed_document(root);\n      } else {\n        attempts++;\n        if (attempts > 100) {\n          clearInterval(timer);\n          console.log(\"Bokeh: ERROR: Unable to run BokehJS code because BokehJS library is missing\");\n        }\n      }\n    }, 10, root)\n  }\n})(window);",
      "application/vnd.bokehjs_exec.v0+json": ""
     },
     "metadata": {
      "application/vnd.bokehjs_exec.v0+json": {
       "id": "1005"
      }
     },
     "output_type": "display_data"
    }
   ],
   "source": [
    "if fN_model is not None: \n",
    "    xplt = 12.01 + 0.01*np.arange(1100)\n",
    "    line_dict = dict(xplt=xplt,\n",
    "                     yplt=fN_model.evaluate(xplt, 2.4).flatten(),\n",
    "                     ref=['P14']*1100, zeval=[fN_model.zpivot]*1100)\n",
    "    model_source = bokeh.models.ColumnDataSource(line_dict)\n",
    "p = bokeh.plotting.figure(tools=\"reset, hover, tap, wheel_zoom, pan\",\n",
    "                          title=\"f(N)\",\n",
    "                          x_axis_label=\"log N_HI\",\n",
    "                          y_axis_label=\"log f(N)\")\n",
    "#\n",
    "if fN_model is not None:\n",
    "    p.line(\"xplt\", \"yplt\", source=model_source, color='black', line_width=2, legend='P14')\n",
    "# plot our data\n",
    "data = p.scatter(\"Nbin\", \"fN\", \n",
    "          source=plot_source, \n",
    "          color=\"pcolor\", \n",
    "          size=8, legend='data')\n",
    "# print useful data when you hover\n",
    "hover = p.select(bokeh.models.HoverTool)\n",
    "hover.tooltips = {\"Ref\"    : \"@ref\",\n",
    "                  \"redshift\" : \"@zeval\"}\n",
    "#\n",
    "show(p)"
   ]
  },
  {
   "cell_type": "code",
   "execution_count": 19,
   "metadata": {},
   "outputs": [],
   "source": [
    "con_dict = dict(xval=[], value=[], error=[], ftype=[], pcolor=[], ref=[], zeval=[])\n"
   ]
  },
  {
   "cell_type": "code",
   "execution_count": 20,
   "metadata": {},
   "outputs": [],
   "source": [
    "itau = fN_dtype.index('teff') # Passes back the first one\n"
   ]
  },
  {
   "cell_type": "code",
   "execution_count": 21,
   "metadata": {},
   "outputs": [
    {
     "data": {
      "text/plain": [
       "0.19778812"
      ]
     },
     "execution_count": 21,
     "metadata": {},
     "output_type": "execute_result"
    }
   ],
   "source": [
    "\n",
    "fN_cs[itau].data['TEFF']\n"
   ]
  },
  {
   "cell_type": "code",
   "execution_count": 22,
   "metadata": {},
   "outputs": [],
   "source": [
    "itau = fN_dtype.index('teff')     \n",
    "con_dict['value'] += [float(fN_cs[itau].data['TEFF'])]\n",
    "D_A = 1. - np.exp(-1. * con_dict['value'][0])\n",
    "SIGDA_LIMIT = 0.1  # Allows for systemtics and b-value uncertainty\n",
    "con_dict['error'] += [np.max([fN_cs[itau].data['SIG_TEFF'], (SIGDA_LIMIT*con_dict['value'][0])])]\n",
    "con_dict['pcolor'] += ['blue']\n",
    "con_dict['ref'] += [fN_cs[itau].ref]\n",
    "con_dict['zeval'] += [fN_cs[itau].zeval]\n",
    "con_dict['xval'] += [1]\n",
    "con_dict['ftype'] += ['tau_eff']\n",
    "\n"
   ]
  },
  {
   "cell_type": "code",
   "execution_count": 23,
   "metadata": {},
   "outputs": [],
   "source": [
    "\n",
    "iLLS = fN_dtype.index('LLS') # Passes back the first one\n",
    "con_dict['value'] += [fN_cs[iLLS].data['LX']]\n",
    "con_dict['error'] += [fN_cs[iLLS].data['SIG_LX']]\n",
    "con_dict['pcolor'] += ['green']\n",
    "con_dict['ref'] += [fN_cs[iLLS].ref]\n",
    "con_dict['zeval'] += [fN_cs[iLLS].zeval]\n",
    "con_dict['xval'] += [2]\n",
    "con_dict['ftype'] += ['l(X)']\n"
   ]
  },
  {
   "cell_type": "code",
   "execution_count": 24,
   "metadata": {},
   "outputs": [],
   "source": [
    "iMFP = fN_dtype.index('MFP') \n",
    "con_dict['value'] += [fN_cs[iMFP].data['MFP']/500]\n",
    "con_dict['error'] += [fN_cs[iMFP].data['SIG_MFP']/500]\n",
    "con_dict['pcolor'] += ['red']\n",
    "con_dict['ref'] += [fN_cs[iMFP].ref]\n",
    "con_dict['zeval'] += [fN_cs[iMFP].zeval]\n",
    "con_dict['xval'] += [3]\n",
    "con_dict['ftype'] += ['MFP/(500 Mpc)']\n"
   ]
  },
  {
   "cell_type": "code",
   "execution_count": 25,
   "metadata": {},
   "outputs": [],
   "source": [
    "\n",
    "x_model = [1,2,3]\n",
    "y_model = [None]*3\n"
   ]
  },
  {
   "cell_type": "code",
   "execution_count": 26,
   "metadata": {},
   "outputs": [
    {
     "name": "stdout",
     "output_type": "stream",
     "text": [
      "read_sets: Using set file -- \n",
      "  /mnt/c/Users/jiawen/vir_en/lib/python2.7/site-packages/linetools/lists/sets/llist_v1.3.ascii\n",
      "Loading abundances from Asplund2009\n",
      "Abundances are relative by number on a logarithmic scale with H=12\n"
     ]
    }
   ],
   "source": [
    "y_model[0] = teff.lyman_ew(1215.6701*(1+fN_cs[itau].zeval), \n",
    "                           fN_cs[itau].zeval+0.1, fN_model, \n",
    "                           NHI_MIN=fN_cs[itau].data['NHI_MNX'][0],\n",
    "                           NHI_MAX=fN_cs[itau].data['NHI_MNX'][1])"
   ]
  },
  {
   "cell_type": "code",
   "execution_count": 27,
   "metadata": {},
   "outputs": [],
   "source": [
    "y_model[1] = fN_model.calculate_lox(fN_cs[iLLS].zeval, \n",
    "                                    17.19+np.log10(fN_cs[iLLS].data['TAU_LIM']), NHI_max=22.)"
   ]
  },
  {
   "cell_type": "code",
   "execution_count": 28,
   "metadata": {},
   "outputs": [],
   "source": [
    "y_model[2] = fN_model.mfp(fN_cs[iMFP].zeval).value / 500.\n"
   ]
  },
  {
   "cell_type": "code",
   "execution_count": 29,
   "metadata": {},
   "outputs": [
    {
     "data": {
      "text/plain": [
       "([1, 2, 3], [0.19827288812908228, 0.3353448285305825, 0.5052785526476037])"
      ]
     },
     "execution_count": 29,
     "metadata": {},
     "output_type": "execute_result"
    }
   ],
   "source": [
    "x_model, y_model\n"
   ]
  },
  {
   "cell_type": "code",
   "execution_count": 30,
   "metadata": {},
   "outputs": [],
   "source": [
    "con_source = bokeh.models.ColumnDataSource(con_dict)\n"
   ]
  },
  {
   "cell_type": "code",
   "execution_count": 31,
   "metadata": {},
   "outputs": [],
   "source": [
    "yplt=fN_model.evaluate(xplt, 2.4).flatten()"
   ]
  },
  {
   "cell_type": "code",
   "execution_count": 32,
   "metadata": {},
   "outputs": [],
   "source": [
    "x = [16.116112341773917, 16.231732489092252, 16.34735263641059, 16.462972783728926, 16.578592931047265, 16.6942130783656, 16.80983322568394, 16.925453373002274, 17.041073520320612, 17.156693667638947, 17.272313814957286, 17.38793396227562, 17.50355410959396, 17.619174256912295, 17.734794404230634, 17.85041455154897, 17.966034698867308, 18.081654846185643, 18.19727499350398, 18.312895140822317, 18.428515288140655, 18.54413543545899, 18.65975558277733, 18.775375730095668, 18.890995877414003, 19.006616024732338, 19.122236172050677, 19.237856319369016, 19.35347646668735, 19.46909661400569, 19.584716761324025, 19.700336908642363, 19.8159570559607, 19.931577203279037, 20.047197350597372, 20.16281749791571, 20.278437645234046, 20.394057792552385, 20.50967793987072, 20.62529808718906, 20.740918234507394, 20.856538381825732, 20.972158529144068, 21.087778676462406, 21.203398823780745, 21.31901897109908, 21.434639118417415, 21.550259265735754, 21.665879413054093]\n",
    "y = [3.48687750e-03, 4.23559353e-03, 4.64203937e-03 ,3.74358014e-03,\n",
    " 4.49229617e-03 ,3.65801259e-03 ,3.85053957e-03, 3.23017486e-03,\n",
    " 3.55105316e-03 ,2.84512091e-03, 2.13918865e-03 ,1.73274281e-03,\n",
    " 1.39047262e-03, 1.41186451e-03, 1.43325640e-03 ,1.00541867e-03,\n",
    " 8.34283574e-04, 1.21933753e-03, 7.70107914e-04 ,7.48716028e-04,\n",
    " 7.27324141e-04, 7.05932255e-04 ,9.84026780e-04 ,7.48716028e-04,\n",
    " 8.12891687e-04 ,7.05932255e-04, 8.55675460e-04, 6.84540368e-04,\n",
    " 1.09098621e-03 ,7.05932255e-04 ,5.98972822e-04, 6.20364709e-04,\n",
    " 5.13405276e-04 ,7.70107914e-04 ,5.13405276e-04 ,6.41756595e-04,\n",
    " 6.84540368e-04, 3.42270184e-04 ,3.63662071e-04 ,3.20878298e-04,\n",
    " 1.71135092e-04, 6.41756595e-05, 1.28351319e-04, 1.06959433e-04,\n",
    " 1.06959433e-04 ,4.27837730e-05, 6.41756595e-05, 2.13918865e-05,\n",
    " 2.13918865e-05]"
   ]
  },
  {
   "cell_type": "code",
   "execution_count": 33,
   "metadata": {},
   "outputs": [
    {
     "data": {
      "text/plain": [
       "array([1.02329299e+12, 1.04712855e+12, 1.07151931e+12, ...,\n",
       "       9.54992586e+22, 9.77237221e+22, 1.00000000e+23])"
      ]
     },
     "execution_count": 33,
     "metadata": {},
     "output_type": "execute_result"
    }
   ],
   "source": [
    "scale_x = 10**xplt\n",
    "scale_x"
   ]
  },
  {
   "cell_type": "code",
   "execution_count": 34,
   "metadata": {},
   "outputs": [
    {
     "data": {
      "text/plain": [
       "array([ -9.73779721,  -9.75222554,  -9.76666313, ..., -29.41247355,\n",
       "       -29.45410353, -29.49569924])"
      ]
     },
     "execution_count": 34,
     "metadata": {},
     "output_type": "execute_result"
    }
   ],
   "source": [
    "yplt"
   ]
  },
  {
   "cell_type": "code",
   "execution_count": 35,
   "metadata": {},
   "outputs": [],
   "source": [
    "scale_factor = (1+5.88)**2 *68/3e5\n",
    "prochaska_x = xplt\n",
    "prochaska_y = np.multiply(10**yplt*scale_factor,scale_x)\n",
    "prochaska_cut_x = []\n",
    "prochaska_cut_y = []\n",
    "for i,z in zip(prochaska_x,prochaska_y):\n",
    "    if i >16 and i<22:\n",
    "        prochaska_cut_x.append(i)\n",
    "        prochaska_cut_y.append(z)\n"
   ]
  },
  {
   "cell_type": "code",
   "execution_count": 1,
   "metadata": {},
   "outputs": [],
   "source": [
    "import pickle\n",
    "import matplotlib.pyplot as plt\n",
    "x =[16.009999999999998, 16.02, 16.03, 16.04, 16.05, 16.06, 16.07, 16.08, 16.09, 16.1, 16.11, 16.12, 16.13, 16.14, 16.15, 16.16, 16.17, 16.18, 16.189999999999998, 16.2, 16.21, 16.22, 16.23, 16.240000000000002, 16.25, 16.259999999999998, 16.27, 16.28, 16.29, 16.3, 16.31, 16.32, 16.33, 16.34, 16.35, 16.36, 16.37, 16.38, 16.39, 16.4, 16.41, 16.42, 16.43, 16.439999999999998, 16.45, 16.46, 16.47, 16.48, 16.490000000000002, 16.5, 16.509999999999998, 16.52, 16.53, 16.54, 16.55, 16.56, 16.57, 16.58, 16.59, 16.6, 16.61, 16.62, 16.63, 16.64, 16.65, 16.66, 16.67, 16.68, 16.689999999999998, 16.7, 16.71, 16.72, 16.73, 16.740000000000002, 16.75, 16.759999999999998, 16.77, 16.78, 16.79, 16.8, 16.81, 16.82, 16.83, 16.84, 16.85, 16.86, 16.87, 16.88, 16.89, 16.9, 16.91, 16.92, 16.93, 16.939999999999998, 16.95, 16.96, 16.97, 16.98, 16.990000000000002, 17.0, 17.009999999999998, 17.02, 17.03, 17.04, 17.05, 17.06, 17.07, 17.08, 17.09, 17.1, 17.11, 17.12, 17.13, 17.14, 17.15, 17.16, 17.17, 17.18, 17.189999999999998, 17.2, 17.21, 17.22, 17.23, 17.240000000000002, 17.25, 17.259999999999998, 17.27, 17.28, 17.29, 17.3, 17.31, 17.32, 17.33, 17.34, 17.35, 17.36, 17.37, 17.38, 17.39, 17.4, 17.41, 17.42, 17.43, 17.439999999999998, 17.45, 17.46, 17.47, 17.48, 17.490000000000002, 17.5, 17.509999999999998, 17.52, 17.53, 17.54, 17.55, 17.56, 17.57, 17.58, 17.59, 17.6, 17.61, 17.62, 17.63, 17.64, 17.65, 17.66, 17.67, 17.68, 17.689999999999998, 17.7, 17.71, 17.72, 17.73, 17.740000000000002, 17.75, 17.759999999999998, 17.77, 17.78, 17.79, 17.8, 17.81, 17.82, 17.83, 17.84, 17.85, 17.86, 17.87, 17.88, 17.89, 17.9, 17.91, 17.92, 17.93, 17.939999999999998, 17.95, 17.96, 17.97, 17.98, 17.990000000000002, 18.0, 18.009999999999998, 18.02, 18.03, 18.04, 18.05, 18.06, 18.07, 18.08, 18.09, 18.1, 18.11, 18.12, 18.13, 18.14, 18.15, 18.16, 18.17, 18.18, 18.189999999999998, 18.2, 18.21, 18.22, 18.23, 18.240000000000002, 18.25, 18.259999999999998, 18.27, 18.28, 18.29, 18.3, 18.31, 18.32, 18.33, 18.34, 18.35, 18.36, 18.37, 18.38, 18.39, 18.4, 18.41, 18.42, 18.43, 18.439999999999998, 18.45, 18.46, 18.47, 18.48, 18.490000000000002, 18.5, 18.509999999999998, 18.52, 18.53, 18.54, 18.55, 18.56, 18.57, 18.58, 18.59, 18.6, 18.61, 18.62, 18.63, 18.64, 18.65, 18.66, 18.67, 18.68, 18.689999999999998, 18.7, 18.71, 18.72, 18.73, 18.740000000000002, 18.75, 18.759999999999998, 18.77, 18.78, 18.79, 18.8, 18.81, 18.82, 18.83, 18.84, 18.85, 18.86, 18.87, 18.88, 18.89, 18.9, 18.91, 18.92, 18.93, 18.939999999999998, 18.95, 18.96, 18.97, 18.98, 18.990000000000002, 19.0, 19.009999999999998, 19.02, 19.03, 19.04, 19.05, 19.06, 19.07, 19.08, 19.09, 19.1, 19.11, 19.12, 19.13, 19.14, 19.15, 19.16, 19.17, 19.18, 19.189999999999998, 19.2, 19.21, 19.22, 19.23, 19.240000000000002, 19.25, 19.259999999999998, 19.27, 19.28, 19.29, 19.3, 19.31, 19.32, 19.33, 19.34, 19.35, 19.36, 19.37, 19.38, 19.39, 19.4, 19.41, 19.42, 19.43, 19.439999999999998, 19.45, 19.46, 19.47, 19.48, 19.490000000000002, 19.5, 19.509999999999998, 19.52, 19.53, 19.54, 19.55, 19.56, 19.57, 19.58, 19.59, 19.6, 19.61, 19.62, 19.63, 19.64, 19.65, 19.66, 19.67, 19.68, 19.689999999999998, 19.7, 19.71, 19.72, 19.73, 19.740000000000002, 19.75, 19.759999999999998, 19.77, 19.78, 19.79, 19.8, 19.81, 19.82, 19.83, 19.84, 19.85, 19.86, 19.87, 19.88, 19.89, 19.9, 19.91, 19.92, 19.93, 19.94, 19.95, 19.96, 19.97, 19.98, 19.990000000000002, 20.0, 20.009999999999998, 20.02, 20.03, 20.04, 20.05, 20.060000000000002, 20.07, 20.08, 20.09, 20.1, 20.11, 20.119999999999997, 20.130000000000003, 20.14, 20.15, 20.16, 20.17, 20.18, 20.189999999999998, 20.2, 20.21, 20.22, 20.23, 20.240000000000002, 20.25, 20.259999999999998, 20.27, 20.28, 20.29, 20.3, 20.310000000000002, 20.32, 20.33, 20.34, 20.35, 20.36, 20.369999999999997, 20.380000000000003, 20.39, 20.4, 20.41, 20.42, 20.43, 20.439999999999998, 20.45, 20.46, 20.47, 20.48, 20.490000000000002, 20.5, 20.509999999999998, 20.52, 20.53, 20.54, 20.55, 20.560000000000002, 20.57, 20.58, 20.59, 20.6, 20.61, 20.619999999999997, 20.630000000000003, 20.64, 20.65, 20.66, 20.67, 20.68, 20.689999999999998, 20.7, 20.71, 20.72, 20.73, 20.740000000000002, 20.75, 20.759999999999998, 20.77, 20.78, 20.79, 20.8, 20.810000000000002, 20.82, 20.83, 20.84, 20.85, 20.86, 20.869999999999997, 20.880000000000003, 20.89, 20.9, 20.91, 20.92, 20.93, 20.939999999999998, 20.95, 20.96, 20.97, 20.98, 20.990000000000002, 21.0, 21.009999999999998, 21.02, 21.03, 21.04, 21.05, 21.060000000000002, 21.07, 21.08, 21.09, 21.1, 21.11, 21.119999999999997, 21.130000000000003, 21.14, 21.15, 21.16, 21.17, 21.18, 21.189999999999998, 21.2, 21.21, 21.22, 21.23, 21.240000000000002, 21.25, 21.259999999999998, 21.27, 21.28, 21.29, 21.3, 21.310000000000002, 21.32, 21.33, 21.34, 21.35, 21.36, 21.369999999999997, 21.380000000000003, 21.39, 21.4, 21.41, 21.42, 21.43, 21.439999999999998, 21.45, 21.46, 21.47, 21.48, 21.490000000000002, 21.5, 21.509999999999998, 21.52, 21.53, 21.54, 21.55, 21.560000000000002, 21.57, 21.58, 21.59, 21.6, 21.61, 21.619999999999997, 21.630000000000003, 21.64, 21.65, 21.66, 21.67, 21.68, 21.689999999999998, 21.7, 21.71, 21.72, 21.73, 21.740000000000002, 21.75, 21.759999999999998, 21.77, 21.78, 21.79, 21.8, 21.810000000000002, 21.82, 21.83, 21.84, 21.85, 21.86, 21.869999999999997, 21.880000000000003, 21.89, 21.9, 21.91, 21.92, 21.93, 21.939999999999998, 21.95, 21.96, 21.97, 21.98, 21.990000000000002]\n",
    "y = [0.006660519896324093, 0.006533460666858152, 0.006408864782812292, 0.006286702728048453, 0.006166944508652043, 0.006049559704167885, 0.005934517516929085, 0.005821786819504663, 0.005711336200288108, 0.005603134007255076, 0.005497092557906284, 0.00539312833473803, 0.005291215495159797, 0.005191327850727664, 0.0050934389087770515, 0.004997521912445681, 0.004903549879108395, 0.004811495637248592, 0.004721331861791657, 0.004633031107928728, 0.004546518850203649, 0.004461724138925083, 0.004378624635979678, 0.004297197778951117, 0.004217420813786073, 0.004139270826131471, 0.00406272477136449, 0.00398775950333886, 0.0039143518018726516, 0.003842478399002583, 0.0037720760526459922, 0.0037030845878482125, 0.003635485191283776, 0.0035692589017556173, 0.003504386635988684, 0.0034408492133362802, 0.003378627379418645, 0.0033177018287163353, 0.0032580532261398867, 0.003199662227599459, 0.0031424751642163745, 0.003086440998231461, 0.0030315442491505936, 0.002977769334131155, 0.002925100588564357, 0.002873522285773604, 0.0028230186558450476, 0.0027735739036105667, 0.0027251722258020182, 0.0026777978273966963, 0.0026314050816554704, 0.0025859506215976016, 0.0025414219904314017, 0.002497806654211419, 0.0024550920184978793, 0.0024132654442986963, 0.0023723142633092042, 0.002332225792465866, 0.002292987347830099, 0.0022545862578194, 0.002216983589232269, 0.0021801423541388493, 0.002144052759825225, 0.002108704948908763, 0.0020740890130540083, 0.0020401950061079135, 0.0020070129566677987, 0.0019745328800948782, 0.0019427447899870716, 0.001911638709124898, 0.0018811812255147924, 0.0018513406074458598, 0.0018221093604911848, 0.0017934799306389476, 0.0017654447158004605, 0.0017379960768503394, 0.0017111263482089442, 0.0016848278479778094, 0.0016590928876393531, 0.001633913781331872, 0.001609261629293495, 0.0015851089897177364, 0.0015614503221105657, 0.0015382800276576, 0.0015155924590746184, 0.0014933819300825266, 0.0014716427245148927, 0.0014503691050670314, 0.0014295553216948824, 0.0014091956196735907, 0.0013893032281590036, 0.001369873629243847, 0.00135087555820733, 0.0013322791715646258, 0.0013140559780232717, 0.0012961787753095672, 0.0012786215924606816, 0.0012613596372064745, 0.0012443692480887504, 0.0012276278509881435, 0.0012111688690086826, 0.00119502528816396, 0.0011791754066636552, 0.001163598474412052, 0.0011482746539810851, 0.0011331849849025167, 0.0011183113510553554, 0.0011036364509389332, 0.0010891437706323718, 0.0010748175592523084, 0.0010606571947311273, 0.0010466753675432594, 0.0010328766014981252, 0.0010192650930452055, 0.0010058447227407473, 0.0009926190668142398, 0.0009795914088039346, 0.000966764751232905, 0.0009541418272990605, 0.0009417251125543086, 0.0009294965942522474, 0.000917439135637412, 0.000905556133948202, 0.0008938507188809326, 0.0008823257632199445, 0.0008709838934919099, 0.0008598275006214643, 0.0008488587505668798, 0.0008380795949162516, 0.0008274917814263398, 0.0008170784951507212, 0.0008068237565068171, 0.0007967302509500837, 0.0007868004454957566, 0.0007770365984119746, 0.0007674407689010898, 0.0007580148267514443, 0.000748760461943956, 0.000739679194199287, 0.000730772382452634, 0.0007220241907140061, 0.000713419579941833, 0.0007049608508369473, 0.0006966501250957184, 0.0006884893542247096, 0.0006804803283355748, 0.0006726246849063601, 0.0006649239174976923, 0.0006573793844131266, 0.0006499923172945919, 0.0006427476377769857, 0.0006356310292081548, 0.0006286446612887636, 0.0006217905562653327, 0.0006150705970202251, 0.0006084865351548639, 0.000602039999055565, 0.0005957325019332803, 0.0005895654498293485, 0.0005835401495810291, 0.0005776420434477428, 0.0005718573041889102, 0.0005661881697747181, 0.000560636756520971, 0.0005552050666661261, 0.0005498949959728572, 0.0005447083413459795, 0.000539646808459974, 0.0005347120193909488, 0.0005299055202488209, 0.0005252130094636382, 0.0005206208894923205, 0.0005161316320841403, 0.0005117476097010399, 0.0005074711028399495, 0.0005033043074299193, 0.0004992493422979487, 0.0004953082566992049, 0.00049148303790858, 0.00048777561887189885, 0.00048417164734942996, 0.0004806574539952794, 0.000477235898099474, 0.0004739097611277039, 0.00047068175410561555, 0.00046755452515277756, 0.0004645306671629121, 0.0004616127256288057, 0.0004588032066119235, 0.00045610458485836414, 0.00045350739595284844, 0.00045100037813662505, 0.00044858331296919885, 0.0004462560105334807, 0.0004440183104912614, 0.00044187008315433647, 0.00043981123057311835, 0.00043784168764521097, 0.00043596142324609085, 0.000434170441384323, 0.000432467928399161, 0.0004308508212582515, 0.0004293158414455745, 0.0004278597920702572, 0.0004264795526856309, 0.0004251720743660551, 0.0004239343750292761, 0.0004227635349934572, 0.0004216566927584931, 0.00042061104100209716, 0.00041962797319076945, 0.00041870968361785353, 0.00041785463415842944, 0.00041706132486005215, 0.00041632829198782545, 0.00041565410613920057, 0.00041503737042526304, 0.00041447671871552746, 0.0004139708139434494, 0.0004135183464699618, 0.0004131205364562946, 0.0004127785023515861, 0.00041249082155106145, 0.0004122560968489373, 0.000412072954694414, 0.0004119400435071794, 0.0004118560320497958, 0.00041181960785498, 0.0004118294757055637, 0.0004118843561652616, 0.00041198635073674546, 0.0004121374651963353, 0.0004123362988900377, 0.00041258146527548586, 0.0004128715903013537, 0.0004132053108416417, 0.00041358127318313393, 0.000413998131564713, 0.0004144545467670229, 0.0004149491847514393, 0.00041548494624939225, 0.00041606465071182595, 0.00041668684869169026, 0.00041735009435240423, 0.00041805294392344904, 0.0004187939542112405, 0.000419571681164382, 0.00042038467849265555, 0.00042123149633921695, 0.0004221106800055942, 0.0004230258588622054, 0.0004239806025315158, 0.000424973358147474, 0.0004260025664462452, 0.0004270666602841214, 0.0004281640632155967, 0.0004292931881314315, 0.0004304524359570055, 0.000431640194411298, 0.00043285483682688354, 0.00043410064811190885, 0.0004353818807451958, 0.00043669683655560683, 0.0004380438014804191, 0.0004394210441620031, 0.0004408268146134393, 0.00044225934295386786, 0.0004437168382147036, 0.00044519748721801077, 0.00044669945352839876, 0.000448227590984553, 0.00044978675263067684, 0.0004513750647653888, 0.0004529906290934972, 0.00045463152144616776, 0.0004562957905821158, 0.00045798145707148476, 0.00045968651226461235, 0.0004614089173477572, 0.00046314660248799856, 0.00046490488247284836, 0.0004666891054799805, 0.0004684972042606446, 0.0004703270795421523, 0.000472176598941048, 0.00047404359597174196, 0.0004759258691530105, 0.0004778211812154006, 0.00047972725841235455, 0.0004816417899381419, 0.0004835704180258178, 0.0004855188529734841, 0.00048748482985962025, 0.0004894660462022398, 0.0004914601611530994, 0.0004934647948023944, 0.0004954775275971, 0.0004974958998764891, 0.00049951741152822, 0.0005015395217685629, 0.0005035680415707555, 0.0005056088829274991, 0.000507659595416477, 0.0005097176880938584, 0.0005117806290648701, 0.0005138458451786984, 0.0005159107218510819, 0.00051797260301849, 0.0005200287912273187, 0.0005220765478618314, 0.00052412167402488, 0.0005261701009764803, 0.0005282192239751169, 0.0005302663980119225, 0.0005323089378450363, 0.0005343441181685765, 0.0005363691739192918, 0.0005383813007244646, 0.0005403776554944356, 0.0005423553571629988, 0.000544320008653963, 0.000546277366722571, 0.0005482247250337285, 0.0005501593409325368, 0.000552078436003609, 0.0005539791967689166, 0.0005558587755266838, 0.0005577142913342088, 0.0005595428311372774, 0.0005613414510483799, 0.0005631153720462702, 0.000564869986273875, 0.000566602561815916, 0.0005683103382683882, 0.0005699905278377563, 0.0005716403165742591, 0.0005732568657408827, 0.0005748373133198068, 0.0005763787756575988, 0.0005778783492504484, 0.0005793407104481189, 0.0005807707178494095, 0.0005821657134390053, 0.0005835230222088887, 0.0005848399537490896, 0.0005861138039584996, 0.00058734185687589, 0.0005885213866315815, 0.0005896496595196163, 0.0005907239361902533, 0.0005917482231608488, 0.0005927267151060323, 0.0005936569485616208, 0.0005945364575092717, 0.0005953627753367971, 0.000596133436894536, 0.0005968459806466342, 0.000597497950916094, 0.0005980869002221068, 0.0005986103917080495, 0.0005990716877814084, 0.0005994742415642459, 0.0005998159202757376, 0.000600094604689299, 0.0006003081912666307, 0.0006004545943556338, 0.0006005317484496387, 0.0006005376105058474, 0.0006004701623201273, 0.0006003274129554155, 0.0006001118651336009, 0.0005998262136551418, 0.0005994687982658942, 0.0005990379882498019, 0.0005985321844810129, 0.0005979498215027254, 0.0005972893696295889, 0.0005965493370706132, 0.0005957282720693109, 0.0005948247650574887, 0.0005938406022174703, 0.0005927777639422737, 0.0005916351960950358, 0.0005904118877493354, 0.0005891068728731196, 0.000587719232002631, 0.000586248093902974, 0.0005846926372123068, 0.0005830520920663643, 0.000581325741699941, 0.0005795124442189774, 0.0005776123071656803, 0.0005756265545552386, 0.0005735564438449181, 0.0005714032647261196, 0.0005691683379025309, 0.0005668530138556692, 0.0005644586715994806, 0.0005619867174253251, 0.0005594385836388423, 0.0005568091375663174, 0.0005540946774670271, 0.0005512987969885382, 0.0005484250804799544, 0.0005454770986873018, 0.0005424584046266781, 0.0005393725296370122, 0.0005362229796144361, 0.0005330132314290966, 0.0005297467295252318, 0.0005264185743343831, 0.000523023599241945, 0.0005195648117913519, 0.0005160452029341829, 0.0005124677441558161, 0.0005088353847186664, 0.0005051510490235776, 0.0005014176340904193, 0.0004976380071580957, 0.0004938150034042072, 0.0004899450729422709, 0.000486024782426231, 0.00048205709466363976, 0.0004780449407718792, 0.00047399121782510403, 0.0004698987866240589, 0.00046577046958810376, 0.0004616090487693156, 0.0004574172639876022, 0.0004531978110859789, 0.0004489478483706579, 0.0004446646550719876, 0.00044035104282610465, 0.0004360097790589676, 0.0004316435852153678, 0.00042725513510953687, 0.00042284705339595916, 0.0004184219141587837, 0.00041398223961812707, 0.0004095304989513061, 0.00040506441861315505, 0.00040058184367439804, 0.0003960853417667993, 0.0003915774269865192, 0.00038706055872465573, 0.00038253714061238736, 0.0003780095195782009, 0.00037347998501509333, 0.00036895076805498126, 0.0003644240409478087, 0.00035989796536419464, 0.0003553708146532036, 0.0003508448403008004, 0.0003463222344488584, 0.0003418051293062441, 0.0003372955966623369, 0.0003327956475000176, 0.000328307231705298, 0.00032383223787043133, 0.00031937249318743724, 0.0003149264769954037, 0.0003104927705693847, 0.00030607326205577364, 0.00030166977797574845, 0.00029728408316004963, 0.00029291788077053725, 0.0002885728124051735, 0.00028425045828319617, 0.000279952337507183, 0.0002756799083986504, 0.00027143187113682585, 0.00026720701678121736, 0.0002630068491560248, 0.00025883281142862483, 0.0002546862864839553, 0.00025056859736784286, 0.00024648100779579667, 0.0002424247227240388, 0.0002384008889794393, 0.00023441059594503212, 0.00023045269084637587, 0.00022652610054045203, 0.00022263194827562511, 0.00021877130035325793, 0.00021494516684044925, 0.00021115450233328225, 0.00020740020676725764, 0.00020368312627192146, 0.00020000405406646465, 0.00019636373139325506, 0.00019277024156452892, 0.00018922707570043153, 0.00018572835944269677, 0.00018226862330255727, 0.00017884279051889448, 0.0001754461664210684, 0.000172074429106801, 0.00016872362125396506, 0.00016539014289228577, 0.00016207074496750318, 0.00015877575945800573, 0.00015551532529342553, 0.00015228637409596993, 0.0001490861134585933, 0.00014591201956774106, 0.00014276183027846462, 0.00013963353854768345, 0.00013652538613621138, 0.0001334358574946461, 0.00013036367375289244, 0.00012730955512954607, 0.00012427721990055914, 0.00012126990423640099, 0.00011829063772647716, 0.00011534224554155047, 0.00011242735124827005, 0.00010954838021989656, 0.00010670756358805645, 0.00010390694268116681, 0.00010114837389640581, 9.842881312932447e-05, 9.574549268503613e-05, 9.310041257807222e-05, 9.049539515999123e-05, 8.793208972908381e-05, 8.541197749764594e-05, 8.293637687047595e-05, 8.050644899000284e-05, 7.812320350511823e-05, 7.57875045227804e-05, 7.349688577288431e-05, 7.124909759859257e-05, 6.904511679242351e-05, 6.688578181708699e-05, 6.47717983524165e-05, 6.270374497089557e-05, 6.068207890812321e-05, 5.87071418965818e-05, 5.6779166032998534e-05, 5.489827965161128e-05, 5.3064687674731834e-05, 5.1277478890776424e-05, 4.953512341737828e-05, 4.783620573177405e-05, 4.617941738089329e-05, 4.4563550033522255e-05, 4.298748884628975e-05, 4.145020611829544e-05, 3.995075521195156e-05, 3.848826472028028e-05, 3.706340639957681e-05, 3.567688956755063e-05, 3.4327975419661504e-05, 3.3015954200651525e-05, 3.1740142706647414e-05, 3.049988190680848e-05, 2.9294534681623976e-05, 2.8123483675292656e-05, 2.698612925990129e-05, 2.5881887609339146e-05, 2.4809471036434693e-05, 2.376824995592481e-05, 2.275853771303549e-05, 2.17805204369835e-05, 2.0834266031030095e-05, 1.99197331026595e-05, 1.9036779774324567e-05, 1.8185172322104373e-05, 1.736459359629169e-05, 1.657465118436998e-05, 1.581357597754512e-05, 1.507976052666372e-05, 1.4372948409719127e-05, 1.3692815575149493e-05, 1.3038977158366285e-05, 1.2410994050386633e-05, 1.180837919625127e-05, 1.1230603605366006e-05, 1.067710206004181e-05, 1.0147278512343147e-05, 9.639803645479608e-06, 9.153459349914724e-06, 8.687772970820348e-06, 8.242244263272852e-06, 7.816349754913363e-06, 7.409546846370418e-06, 7.02127764735309e-06, 6.650972548611103e-06, 6.298053531984487e-06, 5.961937222567246e-06, 5.641666746069965e-06, 5.336360485549227e-06, 5.045540200265825e-06, 4.768722395491386e-06, 4.505420706029906e-06, 4.255148078081188e-06, 4.0174187552517715e-06, 3.79175007539072e-06, 3.577664085642374e-06]\n",
    "with open('number_density_box_a_x.pkl', 'rb') as f:\n",
    "    x_value = pickle.load(f)\n",
    "with open('number_density_box_a_y.pkl', 'rb') as f:\n",
    "    y_value = pickle.load(f)\n",
    "with open('number_density_box_b_x.pkl', 'rb') as f:\n",
    "    x_value2 = pickle.load(f)\n",
    "with open('number_density_box_b_y.pkl', 'rb') as f:\n",
    "    y_value2 = pickle.load(f)\n",
    "with open('number_density_box_c_x.pkl', 'rb') as f:\n",
    "    x_value3 = pickle.load(f)\n",
    "with open('number_density_box_c_y.pkl', 'rb') as f:\n",
    "    y_value3 = pickle.load(f)"
   ]
  },
  {
   "cell_type": "code",
   "execution_count": 2,
   "metadata": {},
   "outputs": [],
   "source": [
    "import numpy as np\n",
    "column_density_spacing = [10**16,10**18,10**20,10**21.5,10**22]\n",
    "x_axis_2= [16,18,20,21.5,22]\n",
    "median = [10**-15.87,10**-18.94,10**-21.51,10**-23.41,10**-25.08]\n",
    "mean = [10**-8.38,10**-12.30,10**-16.00,10**-19.12,10**-21.20,10**-23.60,10**-24.94]\n",
    "percentile_16th  = [10**(-8.38-.5),10**(-12.3-0.07),10**(-16.0-0.14),10**(-19.12-0.11),10**(-21.2-0.16),10**(-23.60-0.13),10**(-24.94-0.46)]\n",
    "percentile_84th  = [10**(-8.38+.5),10**(-12.3+0.07),10**(-16.0+0.14),10**(-19.12+0.11),10**(-21.2+0.16),10**(-23.60+0.13),10**(-24.94+0.46)]\n",
    "scale_factor = (1+5.8)**2 *68/3e5\n",
    "\n",
    "\n",
    "median_scaled = np.multiply(median,scale_factor)\n",
    "\n"
   ]
  },
  {
   "cell_type": "code",
   "execution_count": 14,
   "metadata": {},
   "outputs": [
    {
     "data": {
      "image/png": "[encoded data removed]",
      "text/plain": [
       "<Figure size 350x262.5 with 1 Axes>"
      ]
     },
     "metadata": {},
     "output_type": "display_data"
    }
   ],
   "source": [
    "with plt.style.context('science','notebook'):\n",
    "    plt.figure()   \n",
    "    plt.plot(x_value,(y_value+y_value2+y_value3)/3,color='red',label =\"CROC boxes z$\\mathrm{\\sim}$6\")\n",
    "    plt.plot(x,y,label =\"Crighton+19 z$\\mathrm{=}$2.4\",color = \"blue\")\n",
    "    \n",
    "    plt.plot(x_axis_2, np.multiply(median_scaled,column_density_spacing),label = \"Crighton+19 z$\\mathrm{=}$4.4\",color = \"black\")\n",
    "    plt.scatter(x_axis_2, np.multiply(median_scaled,column_density_spacing),s=6,color = 'black')\n",
    "    plt.yscale(\"log\")\n",
    "    plt.rcParams['font.size'] = 8\n",
    "    plt.yscale(\"log\") \n",
    "    plt.yticks()\n",
    "    plt.xlabel(\"$\\mathrm{log10(N_{HI})}$\",fontsize = 10)\n",
    "    plt.ylabel(\"$\\mathrm{N_{HI}\\: dN/(dl\\: dN_{HI})}$\",fontsize =10,)\n",
    "    plt.xlim(15.5)\n",
    "    plt.ylim(10**(-5.6),10**(-1))\n",
    "    plt.grid()\n",
    "    plt.legend()\n",
    "    plt.savefig(\"overplot.pdf\")\n",
    "    "
   ]
  },
  {
   "cell_type": "code",
   "execution_count": 15,
   "metadata": {},
   "outputs": [
    {
     "data": {
      "image/png": "[encoded data removed]",
      "text/plain": [
       "<Figure size 350x262.5 with 1 Axes>"
      ]
     },
     "metadata": {},
     "output_type": "display_data"
    }
   ],
   "source": [
    "with plt.style.context('science','notebook'):\n",
    "    plt.figure()   \n",
    "    plt.plot(x_value,y_value,color='red',label =\"Box A\")\n",
    "    plt.plot(x_value,y_value2,color='blue',label =\"Box B\")\n",
    "    plt.plot(x_value,y_value3,color='black',label =\"Box C\")\n",
    "    plt.yscale(\"log\")\n",
    "    plt.rcParams['font.size'] = 8\n",
    "    plt.yscale(\"log\") \n",
    "    plt.yticks()\n",
    "    plt.xlabel(\"$\\mathrm{log10(N_{HI})}$\",fontsize = 10)\n",
    "    plt.ylabel(\"$\\mathrm{N_{HI}\\: dN/(dl\\: dN_{HI})}$\",fontsize =10,)\n",
    "    plt.xlim(15.5)\n",
    "    plt.ylim(10**(-5.6),10**(-1))\n",
    "    plt.grid()\n",
    "    plt.legend()\n",
    "    plt.savefig(\"combined_number_density_large_bins.pdf\")"
   ]
  }
 ],
 "metadata": {
  "kernelspec": {
   "display_name": "Python 3",
   "language": "python",
   "name": "python3"
  },
  "language_info": {
   "codemirror_mode": {
    "name": "ipython",
    "version": 3
   },
   "file_extension": ".py",
   "mimetype": "text/x-python",
   "name": "python",
   "nbconvert_exporter": "python",
   "pygments_lexer": "ipython3",
   "version": "3.8.10"
  },
  "orig_nbformat": 4,
  "vscode": {
   "interpreter": {
    "hash": "f92b2924b84ff19c1c3dc485f7644d4486f64738191026bf8e6de303969141b5"
   }
  }
 },
 "nbformat": 4,
 "nbformat_minor": 2
}
