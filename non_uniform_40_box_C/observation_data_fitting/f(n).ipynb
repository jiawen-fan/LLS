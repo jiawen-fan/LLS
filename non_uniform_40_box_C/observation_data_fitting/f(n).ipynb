{
 "cells": [
  {
   "cell_type": "code",
   "execution_count": 9,
   "metadata": {},
   "outputs": [
    {
     "ename": "OSError",
     "evalue": "Need to specify sply parameters!",
     "output_type": "error",
     "traceback": [
      "\u001b[0;31m---------------------------------------------------------------------------\u001b[0m",
      "\u001b[0;31mOSError\u001b[0m                                   Traceback (most recent call last)",
      "\u001b[1;32m/mnt/c/Users/jiawen/desktop/LLS_research/non_uniform_40_box_c/observation_data_fitting/f(n).ipynb Cell 1\u001b[0m in \u001b[0;36m<cell line: 2>\u001b[0;34m()\u001b[0m\n\u001b[1;32m      <a href='vscode-notebook-cell://wsl%2Bubuntu/mnt/c/Users/jiawen/desktop/LLS_research/non_uniform_40_box_c/observation_data_fitting/f%28n%29.ipynb#W0sdnNjb2RlLXJlbW90ZQ%3D%3D?line=0'>1</a>\u001b[0m \u001b[39mfrom\u001b[39;00m \u001b[39mpyigm\u001b[39;00m\u001b[39m.\u001b[39;00m\u001b[39mfN\u001b[39;00m\u001b[39m.\u001b[39;00m\u001b[39mfnmodel\u001b[39;00m \u001b[39mimport\u001b[39;00m FNModel\n\u001b[0;32m----> <a href='vscode-notebook-cell://wsl%2Bubuntu/mnt/c/Users/jiawen/desktop/LLS_research/non_uniform_40_box_c/observation_data_fitting/f%28n%29.ipynb#W0sdnNjb2RlLXJlbW90ZQ%3D%3D?line=1'>2</a>\u001b[0m fN_P14 \u001b[39m=\u001b[39m FNModel(\u001b[39m'\u001b[39;49m\u001b[39mHspline\u001b[39;49m\u001b[39m'\u001b[39;49m, zmnx\u001b[39m=\u001b[39;49m(\u001b[39m2.\u001b[39;49m,\u001b[39m5.\u001b[39;49m))\n\u001b[1;32m      <a href='vscode-notebook-cell://wsl%2Bubuntu/mnt/c/Users/jiawen/desktop/LLS_research/non_uniform_40_box_c/observation_data_fitting/f%28n%29.ipynb#W0sdnNjb2RlLXJlbW90ZQ%3D%3D?line=2'>3</a>\u001b[0m fN_I14 \u001b[39m=\u001b[39m FNModel(\u001b[39m'\u001b[39m\u001b[39mGamma\u001b[39m\u001b[39m'\u001b[39m)\n",
      "File \u001b[0;32m~/.local/lib/python3.8/site-packages/pyigm/fN/fnmodel.py:148\u001b[0m, in \u001b[0;36mFNModel.__init__\u001b[0;34m(self, mtype, zmnx, pivots, param, zpivot, gamma, cosmo)\u001b[0m\n\u001b[1;32m    146\u001b[0m \u001b[39melif\u001b[39;00m mtype \u001b[39m==\u001b[39m \u001b[39m'\u001b[39m\u001b[39mHspline\u001b[39m\u001b[39m'\u001b[39m:\n\u001b[1;32m    147\u001b[0m     \u001b[39mif\u001b[39;00m \u001b[39mlen\u001b[39m(\u001b[39mself\u001b[39m\u001b[39m.\u001b[39mparam) \u001b[39m==\u001b[39m \u001b[39m0\u001b[39m:\n\u001b[0;32m--> 148\u001b[0m         \u001b[39mraise\u001b[39;00m \u001b[39mIOError\u001b[39;00m(\u001b[39m\"\u001b[39m\u001b[39mNeed to specify sply parameters!\u001b[39m\u001b[39m\"\u001b[39m)\n\u001b[1;32m    149\u001b[0m     \u001b[39mself\u001b[39m\u001b[39m.\u001b[39mmodel \u001b[39m=\u001b[39m scii\u001b[39m.\u001b[39mPchipInterpolator(\u001b[39mself\u001b[39m\u001b[39m.\u001b[39mpivots, \u001b[39mself\u001b[39m\u001b[39m.\u001b[39mparam[\u001b[39m'\u001b[39m\u001b[39msply\u001b[39m\u001b[39m'\u001b[39m],\n\u001b[1;32m    150\u001b[0m                                         extrapolate\u001b[39m=\u001b[39m\u001b[39mTrue\u001b[39;00m)  \u001b[39m# scipy 0.16\u001b[39;00m\n\u001b[1;32m    151\u001b[0m \u001b[39melif\u001b[39;00m mtype \u001b[39m==\u001b[39m \u001b[39m'\u001b[39m\u001b[39mPowerLaw\u001b[39m\u001b[39m'\u001b[39m:\n",
      "\u001b[0;31mOSError\u001b[0m: Need to specify sply parameters!"
     ]
    }
   ],
   "source": [
    "from pyigm.fN.fnmodel import FNModel\n",
    "fN_P14 = FNModel('Hspline', zmnx=(2.,5.))\n",
    "fN_I14 = FNModel('Gamma')\n"
   ]
  }
 ],
 "metadata": {
  "kernelspec": {
   "display_name": "Python 2.7.18 ('vir_en')",
   "language": "python",
   "name": "python3"
  },
  "language_info": {
   "codemirror_mode": {
    "name": "ipython",
    "version": 3
   },
   "file_extension": ".py",
   "mimetype": "text/x-python",
   "name": "python",
   "nbconvert_exporter": "python",
   "pygments_lexer": "ipython3",
   "version": "2.7.18 (default, Aug  4 2020, 11:16:42) \n[GCC 9.3.0]"
  },
  "orig_nbformat": 4,
  "vscode": {
   "interpreter": {
    "hash": "1175968f52d40337d9430979eb5c2a85d00dd50fe92935791edc9411a88e913c"
   }
  }
 },
 "nbformat": 4,
 "nbformat_minor": 2
}
