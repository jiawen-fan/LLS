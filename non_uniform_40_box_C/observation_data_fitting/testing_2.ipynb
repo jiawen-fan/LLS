{
 "cells": [
  {
   "cell_type": "code",
   "execution_count": 62,
   "metadata": {},
   "outputs": [],
   "source": [
    "%matplotlib inline\n"
   ]
  },
  {
   "cell_type": "code",
   "execution_count": 85,
   "metadata": {},
   "outputs": [
    {
     "data": {
      "text/html": [
       "\n",
       "    <div class=\"bk-root\">\n",
       "        <a href=\"https://bokeh.org\" target=\"_blank\" class=\"bk-logo bk-logo-small bk-logo-notebook\"></a>\n",
       "        <span id=\"1179\">Loading BokehJS ...</span>\n",
       "    </div>"
      ]
     },
     "metadata": {},
     "output_type": "display_data"
    },
    {
     "data": {
      "application/javascript": "\n(function(root) {\n  function now() {\n    return new Date();\n  }\n\n  var force = true;\n\n  if (typeof root._bokeh_onload_callbacks === \"undefined\" || force === true) {\n    root._bokeh_onload_callbacks = [];\n    root._bokeh_is_loading = undefined;\n  }\n\n  var JS_MIME_TYPE = 'application/javascript';\n  var HTML_MIME_TYPE = 'text/html';\n  var EXEC_MIME_TYPE = 'application/vnd.bokehjs_exec.v0+json';\n  var CLASS_NAME = 'output_bokeh rendered_html';\n\n  /**\n   * Render data to the DOM node\n   */\n  function render(props, node) {\n    var script = document.createElement(\"script\");\n    node.appendChild(script);\n  }\n\n  /**\n   * Handle when an output is cleared or removed\n   */\n  function handleClearOutput(event, handle) {\n    var cell = handle.cell;\n\n    var id = cell.output_area._bokeh_element_id;\n    var server_id = cell.output_area._bokeh_server_id;\n    // Clean up Bokeh references\n    if (id != null && id in Bokeh.index) {\n      Bokeh.index[id].model.document.clear();\n      delete Bokeh.index[id];\n    }\n\n    if (server_id !== undefined) {\n      // Clean up Bokeh references\n      var cmd = \"from bokeh.io.state import curstate; print(curstate().uuid_to_server['\" + server_id + \"'].get_sessions()[0].document.roots[0]._id)\";\n      cell.notebook.kernel.execute(cmd, {\n        iopub: {\n          output: function(msg) {\n            var id = msg.content.text.trim();\n            if (id in Bokeh.index) {\n              Bokeh.index[id].model.document.clear();\n              delete Bokeh.index[id];\n            }\n          }\n        }\n      });\n      // Destroy server and session\n      var cmd = \"import bokeh.io.notebook as ion; ion.destroy_server('\" + server_id + \"')\";\n      cell.notebook.kernel.execute(cmd);\n    }\n  }\n\n  /**\n   * Handle when a new output is added\n   */\n  function handleAddOutput(event, handle) {\n    var output_area = handle.output_area;\n    var output = handle.output;\n\n    // limit handleAddOutput to display_data with EXEC_MIME_TYPE content only\n    if ((output.output_type != \"display_data\") || (!output.data.hasOwnProperty(EXEC_MIME_TYPE))) {\n      return\n    }\n\n    var toinsert = output_area.element.find(\".\" + CLASS_NAME.split(' ')[0]);\n\n    if (output.metadata[EXEC_MIME_TYPE][\"id\"] !== undefined) {\n      toinsert[toinsert.length - 1].firstChild.textContent = output.data[JS_MIME_TYPE];\n      // store reference to embed id on output_area\n      output_area._bokeh_element_id = output.metadata[EXEC_MIME_TYPE][\"id\"];\n    }\n    if (output.metadata[EXEC_MIME_TYPE][\"server_id\"] !== undefined) {\n      var bk_div = document.createElement(\"div\");\n      bk_div.innerHTML = output.data[HTML_MIME_TYPE];\n      var script_attrs = bk_div.children[0].attributes;\n      for (var i = 0; i < script_attrs.length; i++) {\n        toinsert[toinsert.length - 1].firstChild.setAttribute(script_attrs[i].name, script_attrs[i].value);\n      }\n      // store reference to server id on output_area\n      output_area._bokeh_server_id = output.metadata[EXEC_MIME_TYPE][\"server_id\"];\n    }\n  }\n\n  function register_renderer(events, OutputArea) {\n\n    function append_mime(data, metadata, element) {\n      // create a DOM node to render to\n      var toinsert = this.create_output_subarea(\n        metadata,\n        CLASS_NAME,\n        EXEC_MIME_TYPE\n      );\n      this.keyboard_manager.register_events(toinsert);\n      // Render to node\n      var props = {data: data, metadata: metadata[EXEC_MIME_TYPE]};\n      render(props, toinsert[toinsert.length - 1]);\n      element.append(toinsert);\n      return toinsert\n    }\n\n    /* Handle when an output is cleared or removed */\n    events.on('clear_output.CodeCell', handleClearOutput);\n    events.on('delete.Cell', handleClearOutput);\n\n    /* Handle when a new output is added */\n    events.on('output_added.OutputArea', handleAddOutput);\n\n    /**\n     * Register the mime type and append_mime function with output_area\n     */\n    OutputArea.prototype.register_mime_type(EXEC_MIME_TYPE, append_mime, {\n      /* Is output safe? */\n      safe: true,\n      /* Index of renderer in `output_area.display_order` */\n      index: 0\n    });\n  }\n\n  // register the mime type if in Jupyter Notebook environment and previously unregistered\n  if (root.Jupyter !== undefined) {\n    var events = require('base/js/events');\n    var OutputArea = require('notebook/js/outputarea').OutputArea;\n\n    if (OutputArea.prototype.mime_types().indexOf(EXEC_MIME_TYPE) == -1) {\n      register_renderer(events, OutputArea);\n    }\n  }\n\n  \n  if (typeof (root._bokeh_timeout) === \"undefined\" || force === true) {\n    root._bokeh_timeout = Date.now() + 5000;\n    root._bokeh_failed_load = false;\n  }\n\n  var NB_LOAD_WARNING = {'data': {'text/html':\n     \"<div style='background-color: #fdd'>\\n\"+\n     \"<p>\\n\"+\n     \"BokehJS does not appear to have successfully loaded. If loading BokehJS from CDN, this \\n\"+\n     \"may be due to a slow or bad network connection. Possible fixes:\\n\"+\n     \"</p>\\n\"+\n     \"<ul>\\n\"+\n     \"<li>re-rerun `output_notebook()` to attempt to load from CDN again, or</li>\\n\"+\n     \"<li>use INLINE resources instead, as so:</li>\\n\"+\n     \"</ul>\\n\"+\n     \"<code>\\n\"+\n     \"from bokeh.resources import INLINE\\n\"+\n     \"output_notebook(resources=INLINE)\\n\"+\n     \"</code>\\n\"+\n     \"</div>\"}};\n\n  function display_loaded() {\n    var el = document.getElementById(\"1179\");\n    if (el != null) {\n      el.textContent = \"BokehJS is loading...\";\n    }\n    if (root.Bokeh !== undefined) {\n      if (el != null) {\n        el.textContent = \"BokehJS \" + root.Bokeh.version + \" successfully loaded.\";\n      }\n    } else if (Date.now() < root._bokeh_timeout) {\n      setTimeout(display_loaded, 100)\n    }\n  }\n\n\n  function run_callbacks() {\n    try {\n      root._bokeh_onload_callbacks.forEach(function(callback) {\n        if (callback != null)\n          callback();\n      });\n    } finally {\n      delete root._bokeh_onload_callbacks\n    }\n    console.debug(\"Bokeh: all callbacks have finished\");\n  }\n\n  function load_libs(css_urls, js_urls, callback) {\n    if (css_urls == null) css_urls = [];\n    if (js_urls == null) js_urls = [];\n\n    root._bokeh_onload_callbacks.push(callback);\n    if (root._bokeh_is_loading > 0) {\n      console.debug(\"Bokeh: BokehJS is being loaded, scheduling callback at\", now());\n      return null;\n    }\n    if (js_urls == null || js_urls.length === 0) {\n      run_callbacks();\n      return null;\n    }\n    console.debug(\"Bokeh: BokehJS not loaded, scheduling load and callback at\", now());\n    root._bokeh_is_loading = css_urls.length + js_urls.length;\n\n    function on_load() {\n      root._bokeh_is_loading--;\n      if (root._bokeh_is_loading === 0) {\n        console.debug(\"Bokeh: all BokehJS libraries/stylesheets loaded\");\n        run_callbacks()\n      }\n    }\n\n    function on_error() {\n      console.error(\"failed to load \" + url);\n    }\n\n    for (var i = 0; i < css_urls.length; i++) {\n      var url = css_urls[i];\n      const element = document.createElement(\"link\");\n      element.onload = on_load;\n      element.onerror = on_error;\n      element.rel = \"stylesheet\";\n      element.type = \"text/css\";\n      element.href = url;\n      console.debug(\"Bokeh: injecting link tag for BokehJS stylesheet: \", url);\n      document.body.appendChild(element);\n    }\n\n    for (var i = 0; i < js_urls.length; i++) {\n      var url = js_urls[i];\n      var element = document.createElement('script');\n      element.onload = on_load;\n      element.onerror = on_error;\n      element.async = false;\n      element.src = url;\n      console.debug(\"Bokeh: injecting script tag for BokehJS library: \", url);\n      document.head.appendChild(element);\n    }\n  };var element = document.getElementById(\"1179\");\n  if (element == null) {\n    console.error(\"Bokeh: ERROR: autoload.js configured with elementid '1179' but no matching script tag was found. \")\n    return false;\n  }\n\n  function inject_raw_css(css) {\n    const element = document.createElement(\"style\");\n    element.appendChild(document.createTextNode(css));\n    document.body.appendChild(element);\n  }\n\n  \n  var js_urls = [\"https://cdn.pydata.org/bokeh/release/bokeh-1.4.0.min.js\", \"https://cdn.pydata.org/bokeh/release/bokeh-widgets-1.4.0.min.js\", \"https://cdn.pydata.org/bokeh/release/bokeh-tables-1.4.0.min.js\", \"https://cdn.pydata.org/bokeh/release/bokeh-gl-1.4.0.min.js\"];\n  var css_urls = [];\n  \n\n  var inline_js = [\n    function(Bokeh) {\n      Bokeh.set_log_level(\"info\");\n    },\n    function(Bokeh) {\n    \n    \n    }\n  ];\n\n  function run_inline_js() {\n    \n    if (root.Bokeh !== undefined || force === true) {\n      \n    for (var i = 0; i < inline_js.length; i++) {\n      inline_js[i].call(root, root.Bokeh);\n    }\n    if (force === true) {\n        display_loaded();\n      }} else if (Date.now() < root._bokeh_timeout) {\n      setTimeout(run_inline_js, 100);\n    } else if (!root._bokeh_failed_load) {\n      console.log(\"Bokeh: BokehJS failed to load within specified timeout.\");\n      root._bokeh_failed_load = true;\n    } else if (force !== true) {\n      var cell = $(document.getElementById(\"1179\")).parents('.cell').data().cell;\n      cell.output_area.append_execute_result(NB_LOAD_WARNING)\n    }\n\n  }\n\n  if (root._bokeh_is_loading === 0) {\n    console.debug(\"Bokeh: BokehJS loaded, going straight to plotting\");\n    run_inline_js();\n  } else {\n    load_libs(css_urls, js_urls, function() {\n      console.debug(\"Bokeh: BokehJS plotting callback run at\", now());\n      run_inline_js();\n    });\n  }\n}(window));",
      "application/vnd.bokehjs_load.v0+json": ""
     },
     "metadata": {},
     "output_type": "display_data"
    }
   ],
   "source": [
    "# imports\n",
    "\n",
    "import importlib\n",
    "try:\n",
    "    import seaborn as sns; sns.set_style(\"white\")\n",
    "except:\n",
    "    pass\n",
    "\n",
    "import time\n",
    "import numpy as np\n",
    "import bokeh\n",
    "from bokeh.io import output_notebook, show, output_file\n",
    "from bokeh.plotting import figure\n",
    "from bokeh.models import Range1d\n",
    "\n",
    "from matplotlib import pyplot as plt\n",
    "\n",
    "output_notebook()\n",
    "\n",
    "from linetools.spectra.xspectrum1d import XSpectrum1D\n",
    "\n",
    "from pyigm.fN.fnmodel import FNModel\n",
    "from pyigm.fN import tau_eff as teff\n"
   ]
  },
  {
   "cell_type": "code",
   "execution_count": 64,
   "metadata": {},
   "outputs": [],
   "source": [
    "\n",
    "from pyigm import utils as pyigmu\n"
   ]
  },
  {
   "cell_type": "code",
   "execution_count": 65,
   "metadata": {},
   "outputs": [],
   "source": [
    "\n",
    "fN_I14 = FNModel('Gamma')\n"
   ]
  },
  {
   "cell_type": "code",
   "execution_count": 66,
   "metadata": {},
   "outputs": [
    {
     "data": {
      "text/plain": [
       "(0.0, 10.0)"
      ]
     },
     "execution_count": 66,
     "metadata": {},
     "output_type": "execute_result"
    }
   ],
   "source": [
    "fN_I14.zmnx"
   ]
  },
  {
   "cell_type": "code",
   "execution_count": 67,
   "metadata": {},
   "outputs": [
    {
     "name": "stdout",
     "output_type": "stream",
     "text": [
      "Using P14 spline values to generate a default model\n",
      "Loading: /mnt/c/Users/jiawen/vir_en/lib/python2.7/site-packages/pyigm/data/fN/fN_spline_z24.fits.gz\n"
     ]
    }
   ],
   "source": [
    "fN_default = FNModel.default_model()"
   ]
  },
  {
   "cell_type": "code",
   "execution_count": 68,
   "metadata": {},
   "outputs": [
    {
     "data": {
      "text/plain": [
       "<FNModel: Hspline zmnx=(0.5,3) zpivot=2.4, gamma=1.5>"
      ]
     },
     "execution_count": 68,
     "metadata": {},
     "output_type": "execute_result"
    }
   ],
   "source": [
    "\n",
    "fN_default"
   ]
  },
  {
   "cell_type": "code",
   "execution_count": 69,
   "metadata": {},
   "outputs": [
    {
     "name": "stdout",
     "output_type": "stream",
     "text": [
      "Using P14 spline values to generate a default model\n",
      "Loading: /mnt/c/Users/jiawen/vir_en/lib/python2.7/site-packages/pyigm/data/fN/fN_spline_z24.fits.gz\n",
      "l(X) = 0.362987\n"
     ]
    }
   ],
   "source": [
    "fN_default = FNModel.default_model()\n",
    "lX = fN_default.calculate_lox(2.4, 17.19+np.log10(2.), 23.) \n",
    "print('l(X) = {:g}'.format(lX))"
   ]
  },
  {
   "cell_type": "code",
   "execution_count": 70,
   "metadata": {},
   "outputs": [
    {
     "name": "stdout",
     "output_type": "stream",
     "text": [
      "Using P14 spline values to generate a default model\n",
      "Loading: /mnt/c/Users/jiawen/vir_en/lib/python2.7/site-packages/pyigm/data/fN/fN_spline_z24.fits.gz\n"
     ]
    }
   ],
   "source": [
    "\n",
    "fN_default = FNModel.default_model()\n",
    "zval,teff_LL = teff.lyman_limit(fN_default, 0.5, 2.45)\n"
   ]
  },
  {
   "cell_type": "code",
   "execution_count": 71,
   "metadata": {},
   "outputs": [
    {
     "data": {
      "text/plain": [
       "(0.5, 1.8429875838699887)"
      ]
     },
     "execution_count": 71,
     "metadata": {},
     "output_type": "execute_result"
    }
   ],
   "source": [
    "\n",
    "zval[0], teff_LL[0]"
   ]
  },
  {
   "cell_type": "code",
   "execution_count": 72,
   "metadata": {},
   "outputs": [
    {
     "data": {
      "image/png": "[encoded data removed]",
      "text/plain": [
       "<Figure size 432x288 with 1 Axes>"
      ]
     },
     "metadata": {},
     "output_type": "display_data"
    }
   ],
   "source": [
    "plt.clf()\n",
    "plt.plot(zval,teff_LL)\n",
    "# \n",
    "plt.xlabel('z')\n",
    "plt.ylabel(r'$\\tau_{\\rm eff}^{\\rm LL}$')\n",
    "plt.show()"
   ]
  },
  {
   "cell_type": "code",
   "execution_count": 73,
   "metadata": {},
   "outputs": [
    {
     "data": {
      "text/latex": [
       "$252.6393 \\; \\mathrm{Mpc}$"
      ],
      "text/plain": [
       "<Quantity 252.6393047 Mpc>"
      ]
     },
     "execution_count": 73,
     "metadata": {},
     "output_type": "execute_result"
    }
   ],
   "source": [
    "\n",
    "z = 2.44\n",
    "mfp = fN_default.mfp(z)\n",
    "mfp\n"
   ]
  },
  {
   "cell_type": "code",
   "execution_count": 74,
   "metadata": {},
   "outputs": [
    {
     "name": "stdout",
     "output_type": "stream",
     "text": [
      "rho_HI = 8.358e+07 solMass / Mpc3\n"
     ]
    }
   ],
   "source": [
    "# Evaluate\n",
    "rho_HI = fN_default.calculate_rhoHI(z, (20.3, 22.))\n",
    "print('rho_HI = {:g}'.format(rho_HI))"
   ]
  },
  {
   "cell_type": "code",
   "execution_count": 75,
   "metadata": {},
   "outputs": [
    {
     "name": "stdout",
     "output_type": "stream",
     "text": [
      "Using a Planck15 cosmology with H0=67.74 km / (Mpc s) and Om=0.3075 and Ob=0.0486\n",
      "1235.82826463 pc / cm3\n"
     ]
    }
   ],
   "source": [
    "\n",
    "reload(teff)\n",
    "DM = teff.DM(1.)\n",
    "print(DM)\n"
   ]
  },
  {
   "cell_type": "code",
   "execution_count": 76,
   "metadata": {},
   "outputs": [
    {
     "name": "stdout",
     "output_type": "stream",
     "text": [
      "Loading abundances from Asplund2009\n",
      "Abundances are relative by number on a logarithmic scale with H=12\n",
      "line = 912.703\n",
      "line = 912.768\n",
      "line = 912.839\n",
      "line = 912.918\n",
      "line = 913.006\n",
      "line = 913.104\n",
      "line = 913.215\n",
      "line = 913.339\n",
      "line = 913.48\n",
      "line = 913.641\n",
      "line = 913.826\n",
      "line = 914.038\n",
      "line = 914.286\n",
      "line = 914.576\n",
      "line = 914.919\n",
      "line = 915.329\n",
      "line = 915.824\n",
      "line = 916.429\n",
      "line = 917.181\n",
      "line = 918.129\n",
      "line = 919.351\n",
      "line = 920.963\n",
      "line = 923.15\n",
      "line = 926.226\n",
      "line = 930.748\n",
      "line = 937.803\n",
      "line = 949.743\n",
      "line = 972.537\n",
      "line = 1025.72\n",
      "line = 1215.67\n",
      "Writing EW_SPLINE_b24.yml\n"
     ]
    }
   ],
   "source": [
    "\n",
    "pyigmu.mk_ew_lyman_spline(24, 'EW_SPLINE_b24.yml')\n"
   ]
  },
  {
   "cell_type": "code",
   "execution_count": 78,
   "metadata": {},
   "outputs": [
    {
     "name": "stdout",
     "output_type": "stream",
     "text": [
      "Using P14 spline values to generate a default model\n",
      "Loading: /mnt/c/Users/jiawen/vir_en/lib/python2.7/site-packages/pyigm/data/fN/fN_spline_z24.fits.gz\n",
      "Loading abundances from Asplund2009\n",
      "Abundances are relative by number on a logarithmic scale with H=12\n",
      "teff(Lya) = 0.198273\n"
     ]
    }
   ],
   "source": [
    "\n",
    "fN_model = FNModel.default_model()\n",
    "# tau_eff\n",
    "lamb = 1215.6701*(1+2.4)\n",
    "lya_teff = teff.lyman_ew(lamb, 2.5, fN_model, NHI_MIN=12., NHI_MAX=17.)\n",
    "print('teff(Lya) = {:g}'.format(lya_teff))\n"
   ]
  },
  {
   "cell_type": "code",
   "execution_count": 80,
   "metadata": {},
   "outputs": [
    {
     "name": "stdout",
     "output_type": "stream",
     "text": [
      "Loading abundances from Asplund2009\n",
      "Abundances are relative by number on a logarithmic scale with H=12\n",
      "Using P14 spline values to generate a default model\n",
      "Loading: /mnt/c/Users/jiawen/vir_en/lib/python2.7/site-packages/pyigm/data/fN/fN_spline_z24.fits.gz\n",
      "Thu Dec  8 00:01:31 2022\n",
      "Thu Dec  8 00:02:16 2022\n"
     ]
    }
   ],
   "source": [
    "import multiprocessing\n",
    "from linetools.lists.linelist import LineList\n",
    "import copy\n",
    "from astropy import units as u\n",
    "HI = LineList('HI')\n",
    "tst_wv = HI._data['wrest']\n",
    "    \n",
    "# f(N)\n",
    "fN_model = FNModel.default_model()\n",
    "# Evaluations\n",
    "saw_wv = np.linspace(910., 1220., num=1000)*u.AA\n",
    "#\n",
    "adict = []\n",
    "for wrest in saw_wv:\n",
    "    tdict = dict(ilambda=wrest.value*(1+2.4), zem=2.5, fN_model=fN_model,\n",
    "                wrest=copy.deepcopy(tst_wv))\n",
    "    adict.append(tdict)\n",
    "\n",
    "print(time.asctime( time.localtime(time.time()) ))\n",
    "pool = multiprocessing.Pool(4) # initialize thread pool N threads\n",
    "ateff = pool.map(teff.map_lymanew, adict)\n",
    "print(time.asctime( time.localtime(time.time()) ))\n"
   ]
  },
  {
   "cell_type": "code",
   "execution_count": 83,
   "metadata": {},
   "outputs": [
    {
     "data": {
      "text/html": [
       "\n",
       "\n",
       "\n",
       "\n",
       "\n",
       "\n",
       "  <div class=\"bk-root\" id=\"ad8f4fae-6a8d-44d3-b0dd-1c10987efacf\" data-root-id=\"1084\"></div>\n"
      ]
     },
     "metadata": {},
     "output_type": "display_data"
    },
    {
     "data": {
      "application/javascript": "(function(root) {\n  function embed_document(root) {\n    \n  var docs_json = {\"f4544882-3dbb-405a-ae80-81a4c9d43147\":{\"roots\":{\"references\":[{\"attributes\":{\"callback\":null},\"id\":\"1087\",\"type\":\"DataRange1d\"},{\"attributes\":{},\"id\":\"1129\",\"type\":\"UnionRenderers\"},{\"attributes\":{\"text\":\"Sawtooth (z=2.5)\"},\"id\":\"1085\",\"type\":\"Title\"},{\"attributes\":{\"below\":[{\"id\":\"1095\",\"type\":\"LinearAxis\"}],\"center\":[{\"id\":\"1099\",\"type\":\"Grid\"},{\"id\":\"1104\",\"type\":\"Grid\"}],\"left\":[{\"id\":\"1100\",\"type\":\"LinearAxis\"}],\"plot_height\":400,\"plot_width\":500,\"renderers\":[{\"id\":\"1121\",\"type\":\"GlyphRenderer\"}],\"title\":{\"id\":\"1085\",\"type\":\"Title\"},\"toolbar\":{\"id\":\"1111\",\"type\":\"Toolbar\"},\"x_range\":{\"id\":\"1087\",\"type\":\"DataRange1d\"},\"x_scale\":{\"id\":\"1091\",\"type\":\"LinearScale\"},\"y_range\":{\"id\":\"1089\",\"type\":\"DataRange1d\"},\"y_scale\":{\"id\":\"1093\",\"type\":\"LinearScale\"}},\"id\":\"1084\",\"subtype\":\"Figure\",\"type\":\"Plot\"},{\"attributes\":{\"line_alpha\":0.1,\"line_color\":\"#1f77b4\",\"line_width\":2,\"x\":{\"field\":\"x\"},\"y\":{\"field\":\"y\"}},\"id\":\"1120\",\"type\":\"Line\"},{\"attributes\":{\"data_source\":{\"id\":\"1118\",\"type\":\"ColumnDataSource\"},\"glyph\":{\"id\":\"1119\",\"type\":\"Line\"},\"hover_glyph\":null,\"muted_glyph\":null,\"nonselection_glyph\":{\"id\":\"1120\",\"type\":\"Line\"},\"selection_glyph\":null,\"view\":{\"id\":\"1122\",\"type\":\"CDSView\"}},\"id\":\"1121\",\"type\":\"GlyphRenderer\"},{\"attributes\":{\"source\":{\"id\":\"1118\",\"type\":\"ColumnDataSource\"}},\"id\":\"1122\",\"type\":\"CDSView\"},{\"attributes\":{},\"id\":\"1125\",\"type\":\"BasicTickFormatter\"},{\"attributes\":{\"callback\":null},\"id\":\"1089\",\"type\":\"DataRange1d\"},{\"attributes\":{},\"id\":\"1127\",\"type\":\"BasicTickFormatter\"},{\"attributes\":{\"active_drag\":\"auto\",\"active_inspect\":\"auto\",\"active_multi\":null,\"active_scroll\":\"auto\",\"active_tap\":\"auto\",\"tools\":[{\"id\":\"1105\",\"type\":\"PanTool\"},{\"id\":\"1106\",\"type\":\"WheelZoomTool\"},{\"id\":\"1107\",\"type\":\"BoxZoomTool\"},{\"id\":\"1108\",\"type\":\"SaveTool\"},{\"id\":\"1109\",\"type\":\"ResetTool\"},{\"id\":\"1110\",\"type\":\"HelpTool\"}]},\"id\":\"1111\",\"type\":\"Toolbar\"},{\"attributes\":{},\"id\":\"1110\",\"type\":\"HelpTool\"},{\"attributes\":{\"line_width\":2,\"x\":{\"field\":\"x\"},\"y\":{\"field\":\"y\"}},\"id\":\"1119\",\"type\":\"Line\"},{\"attributes\":{\"callback\":null,\"data\":{\"x\":{\"__ndarray__\":\"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\",\"dtype\":\"float64\",\"shape\":[1000]},\"y\":{\"__ndarray__\":\"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\",\"dtype\":\"float64\",\"shape\":[1000]}},\"selected\":{\"id\":\"1128\",\"type\":\"Selection\"},\"selection_policy\":{\"id\":\"1129\",\"type\":\"UnionRenderers\"}},\"id\":\"1118\",\"type\":\"ColumnDataSource\"},{\"attributes\":{\"axis_label\":\"Rest Wavelength\",\"formatter\":{\"id\":\"1125\",\"type\":\"BasicTickFormatter\"},\"ticker\":{\"id\":\"1096\",\"type\":\"BasicTicker\"}},\"id\":\"1095\",\"type\":\"LinearAxis\"},{\"attributes\":{},\"id\":\"1096\",\"type\":\"BasicTicker\"},{\"attributes\":{},\"id\":\"1091\",\"type\":\"LinearScale\"},{\"attributes\":{},\"id\":\"1093\",\"type\":\"LinearScale\"},{\"attributes\":{},\"id\":\"1128\",\"type\":\"Selection\"},{\"attributes\":{\"bottom_units\":\"screen\",\"fill_alpha\":{\"value\":0.5},\"fill_color\":{\"value\":\"lightgrey\"},\"left_units\":\"screen\",\"level\":\"overlay\",\"line_alpha\":{\"value\":1.0},\"line_color\":{\"value\":\"black\"},\"line_dash\":[4,4],\"line_width\":{\"value\":2},\"render_mode\":\"css\",\"right_units\":\"screen\",\"top_units\":\"screen\"},\"id\":\"1130\",\"type\":\"BoxAnnotation\"},{\"attributes\":{\"ticker\":{\"id\":\"1096\",\"type\":\"BasicTicker\"}},\"id\":\"1099\",\"type\":\"Grid\"},{\"attributes\":{},\"id\":\"1106\",\"type\":\"WheelZoomTool\"},{\"attributes\":{\"overlay\":{\"id\":\"1130\",\"type\":\"BoxAnnotation\"}},\"id\":\"1107\",\"type\":\"BoxZoomTool\"},{\"attributes\":{\"dimension\":1,\"ticker\":{\"id\":\"1101\",\"type\":\"BasicTicker\"}},\"id\":\"1104\",\"type\":\"Grid\"},{\"attributes\":{},\"id\":\"1105\",\"type\":\"PanTool\"},{\"attributes\":{\"axis_label\":\"Transmission\",\"formatter\":{\"id\":\"1127\",\"type\":\"BasicTickFormatter\"},\"ticker\":{\"id\":\"1101\",\"type\":\"BasicTicker\"}},\"id\":\"1100\",\"type\":\"LinearAxis\"},{\"attributes\":{},\"id\":\"1101\",\"type\":\"BasicTicker\"},{\"attributes\":{},\"id\":\"1108\",\"type\":\"SaveTool\"},{\"attributes\":{},\"id\":\"1109\",\"type\":\"ResetTool\"}],\"root_ids\":[\"1084\"]},\"title\":\"Bokeh Application\",\"version\":\"1.4.0\"}};\n  var render_items = [{\"docid\":\"f4544882-3dbb-405a-ae80-81a4c9d43147\",\"roots\":{\"1084\":\"ad8f4fae-6a8d-44d3-b0dd-1c10987efacf\"}}];\n  root.Bokeh.embed.embed_items_notebook(docs_json, render_items);\n\n  }\n  if (root.Bokeh !== undefined) {\n    embed_document(root);\n  } else {\n    var attempts = 0;\n    var timer = setInterval(function(root) {\n      if (root.Bokeh !== undefined) {\n        clearInterval(timer);\n        embed_document(root);\n      } else {\n        attempts++;\n        if (attempts > 100) {\n          clearInterval(timer);\n          console.log(\"Bokeh: ERROR: Unable to run BokehJS code because BokehJS library is missing\");\n        }\n      }\n    }, 10, root)\n  }\n})(window);",
      "application/vnd.bokehjs_exec.v0+json": ""
     },
     "metadata": {
      "application/vnd.bokehjs_exec.v0+json": {
       "id": "1084"
      }
     },
     "output_type": "display_data"
    }
   ],
   "source": [
    "# Lya\n",
    "p = figure(plot_width=500, plot_height=400, title='Sawtooth (z=2.5)')\n",
    "# Data\n",
    "p.line(saw_wv.value, np.exp(-1*np.array(ateff)), color='black', line_width=2)\n",
    "# Labels\n",
    "p.xaxis.axis_label = \"Rest Wavelength\"\n",
    "p.yaxis.axis_label = \"Transmission\"\n",
    "# Show\n",
    "\n",
    "show(p)\n"
   ]
  },
  {
   "cell_type": "code",
   "execution_count": 89,
   "metadata": {},
   "outputs": [],
   "source": [
    "\n",
    "from pyigm.fN import mockforest as pyimock"
   ]
  }
 ],
 "metadata": {
  "kernelspec": {
   "display_name": "vir_en",
   "language": "python",
   "name": "python3"
  },
  "language_info": {
   "codemirror_mode": {
    "name": "ipython",
    "version": 2
   },
   "file_extension": ".py",
   "mimetype": "text/x-python",
   "name": "python",
   "nbconvert_exporter": "python",
   "pygments_lexer": "ipython2",
   "version": "2.7.18"
  },
  "orig_nbformat": 4,
  "vscode": {
   "interpreter": {
    "hash": "1175968f52d40337d9430979eb5c2a85d00dd50fe92935791edc9411a88e913c"
   }
  }
 },
 "nbformat": 4,
 "nbformat_minor": 2
}
