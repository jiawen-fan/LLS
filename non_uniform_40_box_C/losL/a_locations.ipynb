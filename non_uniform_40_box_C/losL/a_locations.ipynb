{
 "cells": [
  {
   "cell_type": "code",
   "execution_count": 1,
   "metadata": {},
   "outputs": [],
   "source": [
    "from scipy import integrate\n",
    "import matplotlib.pyplot as plt\n",
    "import os\n",
    "import numpy as np\n",
    "from matplotlib import pyplot as plt      \n",
    "import pandas as pd\n",
    "from scipy import special                 \n",
    "import array\n",
    "import scipy as sp\n",
    "import scipy.interpolate\n",
    "import re\n",
    "import pickle as pickle\n",
    "def unPackRawFile(raw_path):\n",
    "    \"\"\"\n",
    "\n",
    "\n",
    "    \n",
    "    - unpacks the .raw file. Not used for the neural network.\n",
    "    \"\"\"\n",
    "    y = np.loadtxt(raw_path, skiprows=6)\n",
    "    distance = y[:,0]\n",
    "    pec_vel = y[:,1]\n",
    "    temp = y[:,2]\n",
    "    HI_density = y[:,3]\n",
    "    gas_density = y[:,4]\n",
    "    gas_metallicity = y[:,5]\n",
    "   \n",
    "    return distance, pec_vel, temp, HI_density, gas_density, gas_metallicity\n",
    "\n",
    "def getPos(path_LOS,linenumber=8):\n",
    "    \"\"\"\n",
    "    the start position of the LOS is given inside each file, (in the comments)\n",
    "    this function parses the comments to get that information\n",
    "    \"\"\"\n",
    "    f = open(path_LOS)\n",
    "    x = f.readlines()[linenumber]\n",
    "    answer = re.search('\\(([^)]+)', x).group(1)\n",
    "    arr = np.array(answer.split(','),dtype=float)\n",
    "    return arr\n",
    "\n",
    "def getDir(path_LOS,linenumber=8):\n",
    "    \"\"\"\n",
    "    the direction of the LOS is given inside each file, (in the comments)\n",
    "    this function parses the comments to get that information\n",
    "    \"\"\"\n",
    "    f = open(path_LOS)\n",
    "    x = f.readlines()[linenumber]\n",
    "    answer = re.search('\\(([^)]+)', x.split(', ')[1]).group(1)\n",
    "    arr = np.array(answer.split(','),dtype=float)\n",
    "    return arr\n",
    "\n",
    "\n",
    "def convertSphereToCart(theta, phi):\n",
    "    \"converts a unit vector in spherical to cartesian, needed for getGalaxies\"\n",
    "    return np.array([np.sin(theta)*np.cos(phi), np.sin(theta)*np.sin(phi), np.cos(theta)])\n",
    "\n",
    "def calculate_gamma(temperature,density,xHI,scale):\n",
    "    '''Gamma = R(T)*ne/xHI, R(T) = 4.3e-13 * (T/1e4K)^{-0.7), ne = 0.82*nb.\n",
    "    '''\n",
    "    omega_b = 0.0479; h = 0.6814\n",
    "    mean_nb = 1.123e-5/scale**3*omega_b*h**2\n",
    "    nb = np.multiply(density ,mean_nb); ne = 0.82*nb\n",
    "    R_T = 4.3e-13 * (np.divide(temperature,1e4))**(-0.7)\n",
    "    gamma = R_T * ne / xHI\n",
    "    \n",
    "def lyman_identification():\n",
    "    \"\"\"\n",
    "    function for identifying lls using neutral fraction as filter\n",
    "    \"\"\"\n",
    "    neutral_fraction_limit = 1e-3\n",
    "    \n",
    "    neutral_fraction = []\n",
    "    real_lyman = []\n",
    "    gamma = []\n",
    "    HI = []\n",
    "    gas_den = []\n",
    "    real_area_under = []\n",
    "    which = []\n",
    "    direction_sphere =[]\n",
    "    for i in range(1000):\n",
    "        raw_path = 'los.00' + '{0:03}'.format(i) +'.raw'\n",
    "        distance, pec_vel, temp, HI_density, gas_density, gas_metallicity = unPackRawFile(raw_path)\n",
    "        #changing the distance from chimp to cmeters\n",
    "        distance_cm = distance *0.1453*3.086e24 /0.68\n",
    "        position = getPos(raw_path)\n",
    "        direction = convertSphereToCart(getDir(raw_path)[0],getDir(raw_path)[1])\n",
    "        for k in range(len(distance) -2):\n",
    "            if(HI_density[k]/gas_density[k]<neutral_fraction_limit and HI_density[k+1]/gas_density[k+1]>neutral_fraction_limit):\n",
    "                left_bases = k +1\n",
    "                peak_fraction = HI_density[k]/gas_density[k]\n",
    "                peak_HI = HI_density[k]\n",
    "                peak_distance = distance[k]\n",
    "                peak_gas = gas_density[k]\n",
    "                if( k+1 <len(distance)):\n",
    "                    while(not(HI_density[k]/gas_density[k]>neutral_fraction_limit and HI_density[k+1]/gas_density[k+1]<neutral_fraction_limit) and k <len(distance)-2):\n",
    "                        right_bases = k +1\n",
    "                        if(k<len(distance)-1):\n",
    "                            k+=1\n",
    "                        if(HI_density[k]/gas_density[k]>peak_fraction):\n",
    "                            peak_fraction = HI_density[k]/gas_density[k]\n",
    "                            peak_HI = HI_density[k]\n",
    "                            peak_distance = distance[k]\n",
    "                            peak_gas = gas_density[k]\n",
    "                            peak_gamma = calculate_gamma(temp[k],gas_density[k],peak_fraction,0.1452)\n",
    "                    area_under = peak_HI *1/2*(distance_cm[right_bases]-distance_cm[left_bases])/0.937415\n",
    "                    real_distance = [(position[0]/256*40+peak_distance*direction[0])%40, (position[1]/256*40+peak_distance*direction[1])%40,(position[2]/256*40+peak_distance*direction[2])%40]\n",
    "                    distance_graph = []\n",
    "                    HI_graph = [ ]\n",
    "                    distance_real = []\n",
    "                    for i in range(len(distance)):\n",
    "                        if(distance[left_bases]<=distance[i]<= distance[right_bases]):\n",
    "                            distance_graph.append(distance_cm[i])\n",
    "                            HI_graph.append(HI_density[i])\n",
    "                            distance_real.append(distance[i])\n",
    "                    y_int = integrate.cumtrapz(HI_graph,distance_graph,initial = 0)\n",
    "                    area_under = peak_HI *1/2*(distance_cm[right_bases]-distance_cm[left_bases])/0.937415\n",
    "                    if(y_int[-1] >= (1.6e16)and y_int[-1]  <= (10**22)):\n",
    "                        real_lyman.append([y_int,real_distance])\n",
    "                        real_area_under.append(y_int)\n",
    "                        neutral_fraction.append(peak_fraction)\n",
    "                        HI.append(peak_HI)\n",
    "                        gamma.append(peak_gamma)\n",
    "                        gas_den.append(peak_gas)\n",
    "                        which.append([i,distance[left_bases], distance[right_bases], peak_distance])\n",
    "                        #need to change this\n",
    "                        direction_sphere.append([getDir(raw_path)[0],getDir(raw_path)[1]])\n",
    "    return real_lyman,neutral_fraction,gamma,HI,gas_den,which,real_area_under,direction_sphere"
   ]
  },
  {
   "cell_type": "code",
   "execution_count": 16,
   "metadata": {},
   "outputs": [],
   "source": [
    "import numpy as np\n",
    "real_lyman,neutral_fraction,gamma,HI,gas_den,which,real_area_under,direction = lyman_identification()"
   ]
  },
  {
   "cell_type": "code",
   "execution_count": 3,
   "metadata": {},
   "outputs": [],
   "source": [
    "with open('cul_integral.pkl', 'wb') as f:\n",
    "    pickle.dump(real_lyman, f, protocol=pickle.HIGHEST_PROTOCOL)"
   ]
  },
  {
   "cell_type": "code",
   "execution_count": 4,
   "metadata": {},
   "outputs": [],
   "source": [
    "import pickle as pickle\n",
    "with open('cul_integral.pkl', 'rb') as f:\n",
    "    real_lyman = pickle.load(f)"
   ]
  },
  {
   "cell_type": "code",
   "execution_count": 5,
   "metadata": {},
   "outputs": [],
   "source": [
    "peaks = []\n",
    "for i in real_lyman:\n",
    "    peaks.append(i[1])"
   ]
  },
  {
   "cell_type": "code",
   "execution_count": 6,
   "metadata": {},
   "outputs": [],
   "source": [
    "with open('peak_locations_box_c.pkl', 'wb') as f:\n",
    "    pickle.dump(peaks, f, protocol=pickle.HIGHEST_PROTOCOL)"
   ]
  },
  {
   "cell_type": "code",
   "execution_count": 18,
   "metadata": {},
   "outputs": [],
   "source": [
    "with open('locations_directions_box_c.pkl', 'wb') as f:\n",
    "    pickle.dump(direction, f, protocol=pickle.HIGHEST_PROTOCOL)"
   ]
  }
 ],
 "metadata": {
  "kernelspec": {
   "display_name": "Python 3",
   "language": "python",
   "name": "python3"
  },
  "language_info": {
   "codemirror_mode": {
    "name": "ipython",
    "version": 3
   },
   "file_extension": ".py",
   "mimetype": "text/x-python",
   "name": "python",
   "nbconvert_exporter": "python",
   "pygments_lexer": "ipython3",
   "version": "3.8.10"
  },
  "orig_nbformat": 4,
  "vscode": {
   "interpreter": {
    "hash": "916dbcbb3f70747c44a77c7bcd40155683ae19c65e1c03b4aa3499c5328201f1"
   }
  }
 },
 "nbformat": 4,
 "nbformat_minor": 2
}
