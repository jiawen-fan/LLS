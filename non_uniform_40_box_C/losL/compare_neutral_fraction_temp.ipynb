{
 "cells": [
  {
   "cell_type": "code",
   "execution_count": 2,
   "metadata": {},
   "outputs": [],
   "source": [
    "from scipy import integrate\n",
    "import matplotlib.pyplot as plt\n",
    "import os\n",
    "import numpy as np\n",
    "from matplotlib import pyplot as plt      \n",
    "import pandas as pd\n",
    "from scipy import special                 \n",
    "import array\n",
    "import scipy as sp\n",
    "import scipy.interpolate\n",
    "import re\n",
    "import pickle as pickle"
   ]
  },
  {
   "cell_type": "code",
   "execution_count": 3,
   "metadata": {},
   "outputs": [],
   "source": [
    "with open('low_neutral_fraction_cut_x.pkl', 'rb') as f:\n",
    "   x = pickle.load(f)\n",
    "with open('low_neutral_fraction_cut_y.pkl', 'rb') as f:\n",
    "   y = pickle.load(f) \n",
    "with open('high_neutral_fraction_cut_x.pkl', 'rb') as f:\n",
    "   x2 = pickle.load(f)\n",
    "with open('high_neutral_fraction_cut_y.pkl', 'rb') as f:\n",
    "   y2 = pickle.load(f) \n",
    "with open('very_low_neutral_fraction_cut_x.pkl', 'rb') as f:\n",
    "   x3 = pickle.load(f)\n",
    "with open('very_low_neutral_fraction_cut_y.pkl', 'rb') as f:\n",
    "   y3 = pickle.load(f) "
   ]
  },
  {
   "cell_type": "code",
   "execution_count": 16,
   "metadata": {},
   "outputs": [],
   "source": [
    "\n",
    "def cut(x,y):\n",
    "    x_new = []\n",
    "    y_new = []\n",
    "    for i,z in zip(x,y):\n",
    "        if i>17:\n",
    "            x_new.append(i)\n",
    "            y_new.append(z)\n",
    "    return x_new,y_new\n",
    "\n",
    "x_new,y_new = cut(x,y)\n",
    "x_new2,y_new2 = cut(x2,y2)\n",
    "x_new3,y_new3 = cut(x3,y3)"
   ]
  },
  {
   "cell_type": "code",
   "execution_count": 23,
   "metadata": {},
   "outputs": [
    {
     "data": {
      "image/png": "[encoded data removed]",
      "text/plain": [
       "<Figure size 350x262.5 with 1 Axes>"
      ]
     },
     "metadata": {},
     "output_type": "display_data"
    }
   ],
   "source": [
    "with plt.style.context('science','notebook'):\n",
    "    plt.figure()  \n",
    "    plt.plot(x_new3,y_new3,color = \"red\",label = \"0.0001 $\\mathrm{X_{HI}}$\")  \n",
    "    plt.plot(x_new,y_new,color = \"blue\",label = \"0.001 $\\mathrm{X_{HI}}$\")\n",
    "    plt.plot(x_new2,y_new2,color = \"black\",label = \"0.003 $\\mathrm{X_{HI}}$\")\n",
    "    \n",
    "    plt.yscale(\"log\") \n",
    "    plt.yticks()\n",
    "    plt.xlim(16.5)\n",
    "    plt.xlabel(\"$\\mathrm{log10(N_{HI})}$\",fontsize = 10)\n",
    "    plt.ylabel(\"$\\mathrm{dN/(dl\\: dN_{HI})}$\",fontsize =10,)\n",
    "    plt.legend()\n",
    "    plt.savefig(\"compare_neutral_fraction.pdf\")\n",
    "    "
   ]
  },
  {
   "cell_type": "code",
   "execution_count": 24,
   "metadata": {},
   "outputs": [],
   "source": [
    "with open('low_neutral_fraction_cut_x.pkl', 'rb') as f:\n",
    "   check = pickle.load(f)"
   ]
  },
  {
   "cell_type": "code",
   "execution_count": 25,
   "metadata": {},
   "outputs": [
    {
     "data": {
      "text/plain": [
       "[16.116112341773917,\n",
       " 16.231732489092252,\n",
       " 16.34735263641059,\n",
       " 16.462972783728926,\n",
       " 16.578592931047265,\n",
       " 16.6942130783656,\n",
       " 16.80983322568394,\n",
       " 16.925453373002274,\n",
       " 17.041073520320612,\n",
       " 17.156693667638947,\n",
       " 17.272313814957286,\n",
       " 17.38793396227562,\n",
       " 17.50355410959396,\n",
       " 17.619174256912295,\n",
       " 17.734794404230634,\n",
       " 17.85041455154897,\n",
       " 17.966034698867308,\n",
       " 18.081654846185643,\n",
       " 18.19727499350398,\n",
       " 18.312895140822317,\n",
       " 18.428515288140655,\n",
       " 18.54413543545899,\n",
       " 18.65975558277733,\n",
       " 18.775375730095668,\n",
       " 18.890995877414003,\n",
       " 19.006616024732338,\n",
       " 19.122236172050677,\n",
       " 19.237856319369016,\n",
       " 19.35347646668735,\n",
       " 19.46909661400569,\n",
       " 19.584716761324025,\n",
       " 19.700336908642363,\n",
       " 19.8159570559607,\n",
       " 19.931577203279037,\n",
       " 20.047197350597372,\n",
       " 20.16281749791571,\n",
       " 20.278437645234046,\n",
       " 20.394057792552385,\n",
       " 20.50967793987072,\n",
       " 20.62529808718906,\n",
       " 20.740918234507394,\n",
       " 20.856538381825732,\n",
       " 20.972158529144068,\n",
       " 21.087778676462406,\n",
       " 21.203398823780745,\n",
       " 21.31901897109908,\n",
       " 21.434639118417415,\n",
       " 21.550259265735754,\n",
       " 21.665879413054093]"
      ]
     },
     "execution_count": 25,
     "metadata": {},
     "output_type": "execute_result"
    }
   ],
   "source": [
    "check"
   ]
  }
 ],
 "metadata": {
  "kernelspec": {
   "display_name": "Python 3.8.10 64-bit",
   "language": "python",
   "name": "python3"
  },
  "language_info": {
   "codemirror_mode": {
    "name": "ipython",
    "version": 3
   },
   "file_extension": ".py",
   "mimetype": "text/x-python",
   "name": "python",
   "nbconvert_exporter": "python",
   "pygments_lexer": "ipython3",
   "version": "3.8.10 (default, Mar 15 2022, 12:22:08) \n[GCC 9.4.0]"
  },
  "orig_nbformat": 4,
  "vscode": {
   "interpreter": {
    "hash": "916dbcbb3f70747c44a77c7bcd40155683ae19c65e1c03b4aa3499c5328201f1"
   }
  }
 },
 "nbformat": 4,
 "nbformat_minor": 2
}
