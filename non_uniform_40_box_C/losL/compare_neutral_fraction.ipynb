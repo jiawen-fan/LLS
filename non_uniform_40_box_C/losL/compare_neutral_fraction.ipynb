{
 "cells": [
  {
   "cell_type": "code",
   "execution_count": 1,
   "metadata": {},
   "outputs": [],
   "source": [
    "from scipy import integrate\n",
    "import matplotlib.pyplot as plt\n",
    "import os\n",
    "import numpy as np\n",
    "from matplotlib import pyplot as plt      \n",
    "import pandas as pd\n",
    "from scipy import special                 \n",
    "import array\n",
    "import scipy as sp\n",
    "import scipy.interpolate\n",
    "import re\n",
    "import pickle as pickle\n",
    "def unPackRawFile(raw_path):\n",
    "    \"\"\"\n",
    "\n",
    "\n",
    "    \n",
    "    - unpacks the .raw file. Not used for the neural network.\n",
    "    \"\"\"\n",
    "    y = np.loadtxt(raw_path, skiprows=6)\n",
    "    distance = y[:,0]\n",
    "    pec_vel = y[:,1]\n",
    "    temp = y[:,2]\n",
    "    HI_density = y[:,3]\n",
    "    gas_density = y[:,4]\n",
    "    gas_metallicity = y[:,5]\n",
    "   \n",
    "    return distance, pec_vel, temp, HI_density, gas_density, gas_metallicity\n",
    "\n",
    "def getPos(path_LOS,linenumber=8):\n",
    "    \"\"\"\n",
    "    the start position of the LOS is given inside each file, (in the comments)\n",
    "    this function parses the comments to get that information\n",
    "    \"\"\"\n",
    "    f = open(path_LOS)\n",
    "    x = f.readlines()[linenumber]\n",
    "    answer = re.search('\\(([^)]+)', x).group(1)\n",
    "    arr = np.array(answer.split(','),dtype=float)\n",
    "    return arr\n",
    "\n",
    "def getDir(path_LOS,linenumber=8):\n",
    "    \"\"\"\n",
    "    the direction of the LOS is given inside each file, (in the comments)\n",
    "    this function parses the comments to get that information\n",
    "    \"\"\"\n",
    "    f = open(path_LOS)\n",
    "    x = f.readlines()[linenumber]\n",
    "    answer = re.search('\\(([^)]+)', x.split(', ')[1]).group(1)\n",
    "    arr = np.array(answer.split(','),dtype=float)\n",
    "    return arr\n",
    "\n",
    "\n",
    "def convertSphereToCart(theta, phi):\n",
    "    \"converts a unit vector in spherical to cartesian, needed for getGalaxies\"\n",
    "    return np.array([np.sin(theta)*np.cos(phi), np.sin(theta)*np.sin(phi), np.cos(theta)])\n",
    "\n",
    "def calculate_gamma(temperature,density,xHI,scale):\n",
    "    '''Gamma = R(T)*ne/xHI, R(T) = 4.3e-13 * (T/1e4K)^{-0.7), ne = 0.82*nb.\n",
    "    '''\n",
    "    omega_b = 0.0479; h = 0.6814\n",
    "    mean_nb = 1.123e-5/scale**3*omega_b*h**2\n",
    "    nb = np.multiply(density ,mean_nb); ne = 0.82*nb\n",
    "    R_T = 4.3e-13 * (np.divide(temperature,1e4))**(-0.7)\n",
    "    gamma = R_T * ne / xHI\n",
    "    \n",
    "def lyman_identification(input):\n",
    "    \"\"\"\n",
    "    function for identifying lls using neutral fraction as filter\n",
    "    \"\"\"\n",
    "    neutral_fraction_limit = input\n",
    "    \n",
    "    neutral_fraction = []\n",
    "    real_lyman = []\n",
    "    gamma = []\n",
    "    HI = []\n",
    "    gas_den = []\n",
    "    real_area_under = []\n",
    "    which = 0\n",
    "    for i in range(1000):\n",
    "        raw_path = 'los.00' + '{0:03}'.format(i) +'.raw'\n",
    "        distance, pec_vel, temp, HI_density, gas_density, gas_metallicity = unPackRawFile(raw_path)\n",
    "        #changing the distance from chimp to cmeters\n",
    "        distance_cm = distance *0.1453*3.086e24 /0.68\n",
    "        position = getPos(raw_path)\n",
    "        direction = convertSphereToCart(getDir(raw_path)[0],getDir(raw_path)[1])\n",
    "        for k in range(len(distance) -2):\n",
    "            if(HI_density[k]/gas_density[k]<neutral_fraction_limit and HI_density[k+1]/gas_density[k+1]>neutral_fraction_limit):\n",
    "                left_bases = k+1\n",
    "                peak_fraction = HI_density[k]/gas_density[k]\n",
    "                peak_HI = HI_density[k]\n",
    "                peak_distance = distance[k]\n",
    "                peak_gas = gas_density[k]\n",
    "                if( k+1 <len(distance)):\n",
    "                    while(not(HI_density[k]/gas_density[k]>neutral_fraction_limit and HI_density[k+1]/gas_density[k+1]<neutral_fraction_limit) and k <len(distance)-2):\n",
    "                        right_bases = k +1\n",
    "                        if(k<len(distance)-1):\n",
    "                            k+=1\n",
    "                        if(HI_density[k]/gas_density[k]>peak_fraction):\n",
    "                            peak_fraction = HI_density[k]/gas_density[k]\n",
    "                            peak_HI = HI_density[k]\n",
    "                            peak_distance = distance[k]\n",
    "                            peak_gas = gas_density[k]\n",
    "                            peak_gamma = calculate_gamma(temp[k],gas_density[k],peak_fraction,0.1452)\n",
    "                    area_under = peak_HI *1/2*(distance_cm[right_bases]-distance_cm[left_bases])/0.937415\n",
    "                    real_distance = [(position[0]/256*40+peak_distance*direction[0])%40, (position[1]/256*40+peak_distance*direction[1])%40,(position[2]/256*40+peak_distance*direction[2])%40]\n",
    "                    distance_graph = []\n",
    "                    HI_graph = [ ]\n",
    "                    distance_real = []\n",
    "                    for i in range(len(distance)):\n",
    "                        if(distance[left_bases]<=distance[i]<= distance[right_bases]):\n",
    "                            distance_graph.append(distance_cm[i])\n",
    "                            HI_graph.append(HI_density[i])\n",
    "                            distance_real.append(distance[i])\n",
    "                    y_int = integrate.cumtrapz(HI_graph,distance_graph,initial = 0)\n",
    "                    area_under = peak_HI *1/2*(distance_cm[right_bases]-distance_cm[left_bases])/0.937415\n",
    "                    if(y_int[-1] >= (10**16)and y_int[-1]  <= (10**22)):\n",
    "                        real_lyman.append(y_int[-1])\n",
    "                        real_area_under.append(y_int[-1])\n",
    "                        neutral_fraction.append(peak_fraction)\n",
    "                        HI.append(peak_HI)\n",
    "                        gamma.append(peak_gamma)\n",
    "                        gas_den.append(peak_gas)\n",
    "                        which = [i,distance[left_bases], distance[right_bases], peak_distance]\n",
    "    return real_lyman,neutral_fraction,gamma,HI,gas_den,which,real_area_under"
   ]
  },
  {
   "cell_type": "code",
   "execution_count": 2,
   "metadata": {},
   "outputs": [],
   "source": [
    "real_lyman,neutral_fraction,gamma,HI,gas_den,which,real_area_under  = lyman_identification(1e-4)\n",
    "middle_real_lyman,neutral_fraction,gamma,HI,gas_den,which,real_area_under  = lyman_identification(1e-3)\n",
    "high_real_lyman,neutral_fraction,gamma,HI,gas_den,which,real_area_under  = lyman_identification(3e-3)"
   ]
  },
  {
   "cell_type": "code",
   "execution_count": 3,
   "metadata": {},
   "outputs": [
    {
     "data": {
      "text/plain": [
       "17.204119982655925"
      ]
     },
     "execution_count": 3,
     "metadata": {},
     "output_type": "execute_result"
    }
   ],
   "source": [
    "np.log10(1.6*10**17)"
   ]
  },
  {
   "cell_type": "code",
   "execution_count": 4,
   "metadata": {},
   "outputs": [
    {
     "data": {
      "text/plain": [
       "20.30102999566398"
      ]
     },
     "execution_count": 4,
     "metadata": {},
     "output_type": "execute_result"
    }
   ],
   "source": [
    "np.log10(2.0*10**20)"
   ]
  },
  {
   "cell_type": "code",
   "execution_count": 5,
   "metadata": {},
   "outputs": [],
   "source": [
    "\n",
    "def plot(lyman_value):\n",
    "    lyman_limited_value_sorted = sorted(lyman_value)\n",
    "    min_value_lyman_limited_value = np.log10(min(lyman_limited_value_sorted))\n",
    "    max_value_lyman_limited_value = np.log10(max(lyman_limited_value_sorted))\n",
    "    bins = np.arange(16,22,0.25)\n",
    "    bin_data = pd.DataFrame()\n",
    "    bin_data['cut_lyman_limited'] = np.array(lyman_limited_value_sorted)\n",
    "    bin_data['cut_lyman_limited'] = pd.cut(np.log10(bin_data['cut_lyman_limited']), bins = bins,include_lowest = True).astype(str)\n",
    "    number_count = []\n",
    "    for i in range(1, len(bins)):\n",
    "        number_count.append(0)\n",
    "        for k in range(0,len(lyman_limited_value_sorted)):\n",
    "            if(np.log10(lyman_limited_value_sorted[k]) < bins[i]):\n",
    "                number_count[i-1] += 1\n",
    "\n",
    "    number_count2 = []\n",
    "    for i in range(1,len(number_count)):\n",
    "        number_count2.append(number_count[i] - number_count[i-1])\n",
    "\n",
    "    d_N_column= []\n",
    "    for i in range(1,len(bins)-1):\n",
    "        d_N_column.append(10**bins[i]-10**bins[i-1])\n",
    "    dl = (100*1000)\n",
    "    y_value = []\n",
    "    for i,k in zip(number_count2,d_N_column):\n",
    "        y_value.append(i/(dl*(k)))\n",
    "\n",
    "    x_value = []\n",
    "    for i in range(1,len(bins)-1):\n",
    "        x_value.append(bins[i])\n",
    "    temp = []\n",
    "    for i in range(0,len(bins)-2):\n",
    "        temp.append(bins[i+1])\n",
    "    y_value = np.multiply(y_value,np.power(10,temp))\n",
    "    return x_value,y_value\n",
    "   \n",
    "\n"
   ]
  },
  {
   "cell_type": "code",
   "execution_count": 6,
   "metadata": {},
   "outputs": [
    {
     "data": {
      "image/png": "[encoded data removed]",
      "text/plain": [
       "<Figure size 350x262.5 with 1 Axes>"
      ]
     },
     "metadata": {},
     "output_type": "display_data"
    }
   ],
   "source": [
    "x_value, y_value = plot(real_lyman) \n",
    "x_value2, y_value2 = plot(middle_real_lyman) \n",
    "x_value3, y_value3 = plot(high_real_lyman) \n",
    "with plt.style.context('science','notebook'):\n",
    "    plt.figure()    \n",
    "    plt.plot(x_value,y_value,color = \"red\",label = \"0.0001 $\\mathrm{X_{HI}}$\")\n",
    "    plt.plot(x_value2,y_value2,color = \"blue\",label = \"0.001 $\\mathrm{X_{HI}}$\")\n",
    "    plt.plot(x_value3,y_value3,color = \"black\",label = \"0.003 $\\mathrm{X_{HI}}$\")\n",
    "    plt.yscale(\"log\") \n",
    "    plt.yticks()\n",
    "    plt.xlabel(\"$\\mathrm{log10(N_{HI})}$\",fontsize = 10)\n",
    "    plt.ylabel(\"$\\mathrm{N_{HI} \\: dN/(dl\\: dN_{HI})}$\",fontsize =10,)\n",
    "    plt.legend()\n",
    "    plt.savefig(\"compare_neutral_fraction.pdf\")\n",
    "    \n"
   ]
  },
  {
   "cell_type": "code",
   "execution_count": 7,
   "metadata": {},
   "outputs": [
    {
     "data": {
      "text/plain": [
       "array([5.20953915e-02, 3.61011923e-02, 2.34886239e-02, 1.34579761e-02,\n",
       "       7.74576215e-03, 3.99854978e-03, 2.74186271e-03, 2.33058330e-03,\n",
       "       1.80505962e-03, 1.75936191e-03, 1.87360618e-03, 1.82790847e-03,\n",
       "       2.17064131e-03, 1.43947792e-03, 1.30238479e-03, 1.43947792e-03,\n",
       "       1.21098936e-03, 7.76861101e-04, 2.74186271e-04, 2.74186271e-04,\n",
       "       1.82790847e-04, 4.56977118e-05])"
      ]
     },
     "execution_count": 7,
     "metadata": {},
     "output_type": "execute_result"
    }
   ],
   "source": [
    "y_value"
   ]
  },
  {
   "cell_type": "code",
   "execution_count": null,
   "metadata": {},
   "outputs": [],
   "source": []
  }
 ],
 "metadata": {
  "kernelspec": {
   "display_name": "Python 3.8.10 64-bit",
   "language": "python",
   "name": "python3"
  },
  "language_info": {
   "codemirror_mode": {
    "name": "ipython",
    "version": 3
   },
   "file_extension": ".py",
   "mimetype": "text/x-python",
   "name": "python",
   "nbconvert_exporter": "python",
   "pygments_lexer": "ipython3",
   "version": "3.8.10"
  },
  "orig_nbformat": 4,
  "vscode": {
   "interpreter": {
    "hash": "916dbcbb3f70747c44a77c7bcd40155683ae19c65e1c03b4aa3499c5328201f1"
   }
  }
 },
 "nbformat": 4,
 "nbformat_minor": 2
}
