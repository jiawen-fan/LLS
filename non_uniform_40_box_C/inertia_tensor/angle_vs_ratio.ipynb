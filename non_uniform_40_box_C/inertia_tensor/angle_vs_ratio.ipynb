{
 "cells": [
  {
   "cell_type": "code",
   "execution_count": 1,
   "metadata": {},
   "outputs": [],
   "source": [
    "import yt\n",
    "import numpy as np \n",
    "import matplotlib.pyplot as plt \n",
    "import pandas as pd \n",
    "import pickle as pickle\n",
    "from unyt import g,cm\n",
    "from numpy.linalg import eig\n"
   ]
  },
  {
   "cell_type": "code",
   "execution_count": 2,
   "metadata": {},
   "outputs": [],
   "source": [
    "\n",
    "with open('angle_new.pkl','rb')as f:\n",
    "    angle = pickle.load(f)\n",
    "\n",
    "with open('lyman_cul.pkl','rb')as f:\n",
    "    lyman = pickle.load(f)"
   ]
  },
  {
   "cell_type": "code",
   "execution_count": 3,
   "metadata": {},
   "outputs": [],
   "source": [
    "with open(\"new_value_total.pkl\",'rb') as f:\n",
    "    value = pickle.load(f)\n",
    "with open(\"peak_locations_box_c.pkl\",'rb') as f:\n",
    "    peak = pickle.load(f)"
   ]
  },
  {
   "cell_type": "code",
   "execution_count": 17,
   "metadata": {},
   "outputs": [],
   "source": [
    "#this is to clean any data that is outside of the box boundry\n",
    "clean_data = []\n",
    "for i in value:\n",
    "    clean_data.append(i[0])\n",
    "remove = np.loadtxt('remove.raw', skiprows=0)\n",
    "for i in reversed(range(len(remove))):\n",
    "    clean_data[int(remove[i])] = clean_data[-1]\n",
    "    clean_data = clean_data[:-1]\n",
    "for i in reversed(range(len(remove))):\n",
    "    angle[int(remove[i])] = angle[-1]\n",
    "    angle = angle[:-1]"
   ]
  },
  {
   "cell_type": "code",
   "execution_count": 18,
   "metadata": {},
   "outputs": [],
   "source": [
    "#this is to arrange a,b,c in largest to smallest in the ellipsoid, they are all calculated from the eigenvalues \n",
    "a = []\n",
    "for i in clean_data:\n",
    "    a.append(np.sqrt((i[1]+i[2]-i[0])/2))\n",
    "b = []\n",
    "for i in clean_data:\n",
    "    b.append(np.sqrt((i[0]+i[2]-i[1])/2))\n",
    "c = []\n",
    "for i in clean_data:\n",
    "    c.append(np.sqrt((i[0]+i[1]-i[2])/2))\n",
    "    largest = []\n",
    "middle = []\n",
    "smallest = []\n",
    "temp = []\n",
    "for i,j,k in zip(a,b,c):\n",
    "    temp.append(i)\n",
    "    temp.append(j)\n",
    "    temp.append(k)\n",
    "    temp.sort()\n",
    "    middle.append(temp[1])\n",
    "    largest.append(max(temp))\n",
    "    smallest.append(min(temp))\n",
    "    temp = []\n",
    "a = largest\n",
    "b = middle\n",
    "c = smallest"
   ]
  },
  {
   "cell_type": "code",
   "execution_count": 19,
   "metadata": {},
   "outputs": [],
   "source": [
    "ratio = np.divide(a,c)"
   ]
  },
  {
   "cell_type": "code",
   "execution_count": 25,
   "metadata": {},
   "outputs": [
    {
     "data": {
      "text/plain": [
       "<matplotlib.collections.PathCollection at 0x7fb04d3eaf10>"
      ]
     },
     "execution_count": 25,
     "metadata": {},
     "output_type": "execute_result"
    },
    {
     "data": {
      "image/png": "[encoded data removed]",
      "text/plain": [
       "<Figure size 432x288 with 1 Axes>"
      ]
     },
     "metadata": {
      "needs_background": "light"
     },
     "output_type": "display_data"
    }
   ],
   "source": [
    "plt.scatter(ratio,angle)\n"
   ]
  }
 ],
 "metadata": {
  "kernelspec": {
   "display_name": "Python 3",
   "language": "python",
   "name": "python3"
  },
  "language_info": {
   "codemirror_mode": {
    "name": "ipython",
    "version": 3
   },
   "file_extension": ".py",
   "mimetype": "text/x-python",
   "name": "python",
   "nbconvert_exporter": "python",
   "pygments_lexer": "ipython3",
   "version": "3.8.10"
  },
  "orig_nbformat": 4
 },
 "nbformat": 4,
 "nbformat_minor": 2
}
