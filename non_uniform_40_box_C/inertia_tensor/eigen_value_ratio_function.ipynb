{
 "cells": [
  {
   "cell_type": "code",
   "execution_count": 2,
   "metadata": {},
   "outputs": [],
   "source": [
    "import numpy as np \n",
    "import matplotlib.pyplot as plt \n",
    "import pandas as pd \n",
    "import pickle as pickle\n",
    "from unyt import g,cm\n",
    "from numpy.linalg import eig\n",
    "import math"
   ]
  },
  {
   "cell_type": "code",
   "execution_count": 3,
   "metadata": {},
   "outputs": [],
   "source": [
    "with open(\"value_total.pkl\",'rb') as f:\n",
    "    value = pickle.load(f)\n",
    "with open(\"lyman_cul.pkl\",'rb') as f:\n",
    "    integral_value = pickle.load(f)\n",
    "data =[]\n",
    "for i,k in zip(integral_value, value):\n",
    "    data.append([i,k])\n",
    "data.sort()"
   ]
  },
  {
   "cell_type": "code",
   "execution_count": 4,
   "metadata": {},
   "outputs": [],
   "source": [
    "with open('peak_locations_box_c.pkl', 'rb') as f:\n",
    "    peaks = pickle.load(f)"
   ]
  },
  {
   "cell_type": "code",
   "execution_count": 5,
   "metadata": {},
   "outputs": [
    {
     "name": "stdout",
     "output_type": "stream",
     "text": [
      "1\n",
      "457\n",
      "583\n",
      "705\n",
      "706\n",
      "1067\n",
      "1262\n",
      "1317\n",
      "1371\n",
      "1454\n",
      "1577\n",
      "1774\n",
      "1885\n",
      "1937\n",
      "2042\n",
      "2131\n",
      "2141\n",
      "2197\n",
      "2490\n",
      "2491\n",
      "2604\n",
      "2638\n",
      "2685\n",
      "2806\n"
     ]
    }
   ],
   "source": [
    "for i in range(len(peaks)):\n",
    "    for z in peaks[i]:\n",
    "        if (z<.03 or z>39.97):\n",
    "            print(i)"
   ]
  },
  {
   "cell_type": "code",
   "execution_count": 6,
   "metadata": {},
   "outputs": [
    {
     "data": {
      "text/plain": [
       "2895"
      ]
     },
     "execution_count": 6,
     "metadata": {},
     "output_type": "execute_result"
    }
   ],
   "source": [
    "len(peaks)"
   ]
  },
  {
   "cell_type": "code",
   "execution_count": 7,
   "metadata": {},
   "outputs": [],
   "source": [
    "def min_max_mid(value):\n",
    "    min_values = []\n",
    "    max_values = []\n",
    "    mid_values = []\n",
    "    array = []\n",
    "    for i in value:\n",
    "        array = []\n",
    "        min_values.append(min(i[0]))\n",
    "        max_values.append(max(i[0]))\n",
    "        array.append(i[0])\n",
    "        array[0].sort()\n",
    "        mid_values.append(array[0][1])\n",
    "    return min_values,max_values,mid_values\n"
   ]
  },
  {
   "cell_type": "code",
   "execution_count": 8,
   "metadata": {},
   "outputs": [],
   "source": [
    "def seperation_data(data):\n",
    "    bins = []\n",
    "    min = 1.6022738131189712e+16; max = 6.04643739275747e+21\n",
    "    bins = 10**np.linspace(np.log10(min),np.log10(max),6)\n",
    "    _16_17 = []\n",
    "    for i in data:\n",
    "        if i[0]<bins[1]:\n",
    "            _16_17.append(i[1])\n",
    "    _17_18 = []\n",
    "    for i in data:\n",
    "        if bins[1]<i[0]<bins[2]:\n",
    "            _17_18.append(i[1])\n",
    "    _18_19 = []\n",
    "    for i in data:\n",
    "        if bins[2]<i[0]<bins[3]:\n",
    "            _18_19.append(i[1])\n",
    "    _19_20 = []\n",
    "    for i in data:\n",
    "        if bins[3]<i[0]<bins[4]:\n",
    "            _19_20.append(i[1])\n",
    "    _20_21 = []\n",
    "    for i in data:\n",
    "        if bins[4]<i[0]<bins[5]:\n",
    "            _20_21.append(i[1])\n",
    "    return _16_17, _17_18, _18_19, _19_20, _20_21"
   ]
  },
  {
   "cell_type": "code",
   "execution_count": 9,
   "metadata": {},
   "outputs": [],
   "source": [
    "_16_17, _17_18, _18_19, _19_20, _20_21 = seperation_data(data)"
   ]
  },
  {
   "cell_type": "code",
   "execution_count": 10,
   "metadata": {},
   "outputs": [],
   "source": [
    "min_values,max_values,mid_values = min_max_mid(value)"
   ]
  },
  {
   "cell_type": "code",
   "execution_count": 11,
   "metadata": {},
   "outputs": [],
   "source": [
    "remove = np.loadtxt('remove.raw', skiprows=0)"
   ]
  },
  {
   "cell_type": "code",
   "execution_count": 27,
   "metadata": {},
   "outputs": [
    {
     "name": "stdout",
     "output_type": "stream",
     "text": [
      "2895\n",
      "744\n"
     ]
    }
   ],
   "source": [
    "ratio = np.divide(max_values,min_values)\n",
    "print(len(ratio))\n",
    "for i in range(len(ratio)):\n",
    "    if(30<ratio[i]<35):\n",
    "        print(i)"
   ]
  },
  {
   "cell_type": "code",
   "execution_count": 28,
   "metadata": {},
   "outputs": [
    {
     "data": {
      "text/plain": [
       "2895"
      ]
     },
     "execution_count": 28,
     "metadata": {},
     "output_type": "execute_result"
    }
   ],
   "source": [
    "len(ratio)"
   ]
  },
  {
   "cell_type": "code",
   "execution_count": 13,
   "metadata": {},
   "outputs": [
    {
     "data": {
      "text/plain": [
       "6.065581230326913"
      ]
     },
     "execution_count": 13,
     "metadata": {},
     "output_type": "execute_result"
    }
   ],
   "source": [
    "ratio[279]"
   ]
  },
  {
   "cell_type": "code",
   "execution_count": 14,
   "metadata": {},
   "outputs": [
    {
     "data": {
      "text/plain": [
       "Text(0, 0.5, 'number counts')"
      ]
     },
     "execution_count": 14,
     "metadata": {},
     "output_type": "execute_result"
    },
    {
     "data": {
      "image/png": "[encoded data removed]",
      "text/plain": [
       "<Figure size 432x288 with 1 Axes>"
      ]
     },
     "metadata": {
      "needs_background": "light"
     },
     "output_type": "display_data"
    }
   ],
   "source": [
    "ratio = np.divide(max_values,min_values)\n",
    "\n",
    "for i in reversed(range(len(remove))):\n",
    "    ratio[int(remove[i])] = ratio[-1]\n",
    "    ratio = ratio[:-1]\n",
    "total_ratio = sum(ratio)\n",
    "\n",
    "start,stop =math.floor(min(ratio)), math.ceil(max(ratio))\n",
    "bins = np.linspace(start,stop,10)\n",
    "\n",
    "total,x,_ = plt.hist(ratio, bins=bins)\n",
    "plt.yscale(\"log\")\n",
    "plt.xlabel(\"ratio max/min\")\n",
    "plt.ylabel(\"number counts\")"
   ]
  },
  {
   "cell_type": "code",
   "execution_count": 15,
   "metadata": {},
   "outputs": [
    {
     "data": {
      "text/plain": [
       "Text(0, 0.5, 'number counts percentage')"
      ]
     },
     "execution_count": 15,
     "metadata": {},
     "output_type": "execute_result"
    },
    {
     "data": {
      "image/png": "[encoded data removed]",
      "text/plain": [
       "<Figure size 432x288 with 1 Axes>"
      ]
     },
     "metadata": {
      "needs_background": "light"
     },
     "output_type": "display_data"
    }
   ],
   "source": [
    "width = np.diff(x)\n",
    "freq = total / float(sum(total))\n",
    "plt.bar(x[1:], freq, width=width, align=\"edge\", ec=\"k\")\n",
    "plt.yscale(\"log\")\n",
    "plt.xlabel(\"ratio max/min\")\n",
    "plt.ylabel(\"number counts percentage\")"
   ]
  },
  {
   "cell_type": "code",
   "execution_count": 16,
   "metadata": {},
   "outputs": [
    {
     "name": "stdout",
     "output_type": "stream",
     "text": [
      "2895\n"
     ]
    },
    {
     "data": {
      "text/plain": [
       "Text(0, 0.5, 'number counts')"
      ]
     },
     "execution_count": 16,
     "metadata": {},
     "output_type": "execute_result"
    },
    {
     "data": {
      "image/png": "[encoded data removed]",
      "text/plain": [
       "<Figure size 432x288 with 1 Axes>"
      ]
     },
     "metadata": {
      "needs_background": "light"
     },
     "output_type": "display_data"
    }
   ],
   "source": [
    "ratio = np.divide(mid_values,min_values)\n",
    "print(len(ratio))\n",
    "for i in reversed(range(len(remove))):\n",
    "    ratio[int(remove[i])] = ratio[-1]\n",
    "    ratio = ratio[:-1]\n",
    "start,stop =math.floor(min(ratio)), math.ceil(max(ratio))\n",
    "bins = np.linspace(start,stop,10)\n",
    "total,x,_ = plt.hist(ratio,bins=bins)\n",
    "plt.xlabel(\"ratio mid/min\")\n",
    "plt.yscale(\"log\")\n",
    "plt.ylabel(\"number counts\")"
   ]
  },
  {
   "cell_type": "code",
   "execution_count": 17,
   "metadata": {},
   "outputs": [
    {
     "data": {
      "text/plain": [
       "Text(0, 0.5, 'number counts percentage')"
      ]
     },
     "execution_count": 17,
     "metadata": {},
     "output_type": "execute_result"
    },
    {
     "data": {
      "image/png": "[encoded data removed]",
      "text/plain": [
       "<Figure size 432x288 with 1 Axes>"
      ]
     },
     "metadata": {
      "needs_background": "light"
     },
     "output_type": "display_data"
    }
   ],
   "source": [
    "width = np.diff(x)\n",
    "freq = total / float(sum(total))\n",
    "plt.bar(x[1:], freq, width=width, align=\"edge\", ec=\"k\")\n",
    "plt.yscale(\"log\")\n",
    "plt.xlabel(\"ratio mid/min\")\n",
    "plt.ylabel(\"number counts percentage\")"
   ]
  },
  {
   "cell_type": "code",
   "execution_count": 18,
   "metadata": {},
   "outputs": [],
   "source": [
    "bin_centers = 0.5*(x[1:]+x[:-1])"
   ]
  },
  {
   "cell_type": "code",
   "execution_count": 19,
   "metadata": {},
   "outputs": [
    {
     "data": {
      "text/plain": [
       "[<matplotlib.lines.Line2D at 0x7f2365f65700>]"
      ]
     },
     "execution_count": 19,
     "metadata": {},
     "output_type": "execute_result"
    },
    {
     "data": {
      "image/png": "[encoded data removed]",
      "text/plain": [
       "<Figure size 432x288 with 1 Axes>"
      ]
     },
     "metadata": {
      "needs_background": "light"
     },
     "output_type": "display_data"
    }
   ],
   "source": [
    "plt.plot(bin_centers,total,c =\"blue\",label = \"19-20\")"
   ]
  },
  {
   "cell_type": "code",
   "execution_count": 20,
   "metadata": {},
   "outputs": [
    {
     "data": {
      "image/png": "[encoded data removed]",
      "text/plain": [
       "<Figure size 432x288 with 1 Axes>"
      ]
     },
     "metadata": {
      "needs_background": "light"
     },
     "output_type": "display_data"
    }
   ],
   "source": [
    "ratio = np.divide(max_values,mid_values)\n",
    "for i in reversed(range(len(remove))):\n",
    "    ratio[int(remove[i])] = ratio[-1]\n",
    "    ratio = ratio[:-1]\n",
    "start,stop =math.floor(min(ratio)), math.ceil(max(ratio))\n",
    "bins = np.linspace(start,stop,10)\n",
    "total,x,_ = plt.hist(ratio,bins=bins)\n",
    "plt.xlabel(\"ratio max/mid\")\n",
    "plt.ylabel(\"number counts\") \n",
    "plt.yscale(\"log\")"
   ]
  },
  {
   "cell_type": "code",
   "execution_count": 21,
   "metadata": {},
   "outputs": [
    {
     "data": {
      "text/plain": [
       "Text(0, 0.5, 'number counts percentage')"
      ]
     },
     "execution_count": 21,
     "metadata": {},
     "output_type": "execute_result"
    },
    {
     "data": {
      "image/png": "[encoded data removed]",
      "text/plain": [
       "<Figure size 432x288 with 1 Axes>"
      ]
     },
     "metadata": {
      "needs_background": "light"
     },
     "output_type": "display_data"
    }
   ],
   "source": [
    "width = np.diff(x)\n",
    "freq = total / float(sum(total))\n",
    "plt.bar(x[1:], freq, width=width, align=\"edge\", ec=\"k\")\n",
    "plt.yscale(\"log\")\n",
    "plt.xlabel(\"ratio max/mid\")\n",
    "plt.ylabel(\"number counts percentage\")"
   ]
  },
  {
   "cell_type": "code",
   "execution_count": 22,
   "metadata": {},
   "outputs": [
    {
     "data": {
      "image/png": "[encoded data removed]",
      "text/plain": [
       "<Figure size 432x288 with 1 Axes>"
      ]
     },
     "metadata": {
      "needs_background": "light"
     },
     "output_type": "display_data"
    }
   ],
   "source": [
    "ratio = np.divide(mid_values,min_values)\n",
    "for i in reversed(range(len(remove))):\n",
    "    ratio[int(remove[i])] = ratio[-1]\n",
    "    ratio = ratio[:-1]\n",
    "start,stop =math.floor(min(ratio)), math.ceil(max(ratio))\n",
    "bins = np.linspace(start,stop,10)\n",
    "total,x,_ = plt.hist(ratio,bins=bins)\n",
    "plt.xlabel(\"ratio max/mid\")\n",
    "plt.ylabel(\"number counts\") \n",
    "plt.yscale(\"log\")"
   ]
  },
  {
   "cell_type": "code",
   "execution_count": 23,
   "metadata": {},
   "outputs": [
    {
     "data": {
      "text/plain": [
       "Text(0, 0.5, 'number counts percentage')"
      ]
     },
     "execution_count": 23,
     "metadata": {},
     "output_type": "execute_result"
    },
    {
     "data": {
      "image/png": "[encoded data removed]",
      "text/plain": [
       "<Figure size 432x288 with 1 Axes>"
      ]
     },
     "metadata": {
      "needs_background": "light"
     },
     "output_type": "display_data"
    }
   ],
   "source": [
    "width = np.diff(x)\n",
    "freq = total / float(sum(total))\n",
    "plt.bar(x[1:], freq, width=width, align=\"edge\", ec=\"k\")\n",
    "plt.yscale(\"log\")\n",
    "plt.xlabel(\"ratio max/min\")\n",
    "plt.ylabel(\"number counts percentage\")"
   ]
  },
  {
   "cell_type": "code",
   "execution_count": 24,
   "metadata": {},
   "outputs": [
    {
     "ename": "NameError",
     "evalue": "name 'total1' is not defined",
     "output_type": "error",
     "traceback": [
      "\u001b[0;31m---------------------------------------------------------------------------\u001b[0m",
      "\u001b[0;31mNameError\u001b[0m                                 Traceback (most recent call last)",
      "\u001b[1;32m/mnt/c/users/jiawen/desktop/LLS_research/non_uniform_40_box_C/inertia_tensor/eigen_value_ratio_function.ipynb Cell 23\u001b[0m in \u001b[0;36m<cell line: 2>\u001b[0;34m()\u001b[0m\n\u001b[1;32m      <a href='vscode-notebook-cell://wsl%2Bubuntu/mnt/c/users/jiawen/desktop/LLS_research/non_uniform_40_box_C/inertia_tensor/eigen_value_ratio_function.ipynb#X35sdnNjb2RlLXJlbW90ZQ%3D%3D?line=0'>1</a>\u001b[0m bin_centers \u001b[39m=\u001b[39m \u001b[39m0.5\u001b[39m\u001b[39m*\u001b[39m(x[\u001b[39m1\u001b[39m:]\u001b[39m+\u001b[39mx[:\u001b[39m-\u001b[39m\u001b[39m1\u001b[39m])\n\u001b[0;32m----> <a href='vscode-notebook-cell://wsl%2Bubuntu/mnt/c/users/jiawen/desktop/LLS_research/non_uniform_40_box_C/inertia_tensor/eigen_value_ratio_function.ipynb#X35sdnNjb2RlLXJlbW90ZQ%3D%3D?line=1'>2</a>\u001b[0m plt\u001b[39m.\u001b[39mplot(bin_centers,total1,c \u001b[39m=\u001b[39m\u001b[39m\"\u001b[39m\u001b[39mblue\u001b[39m\u001b[39m\"\u001b[39m)\n",
      "\u001b[0;31mNameError\u001b[0m: name 'total1' is not defined"
     ]
    }
   ],
   "source": [
    "bin_centers = 0.5*(x[1:]+x[:-1])\n",
    "plt.plot(bin_centers,total1,c =\"blue\")"
   ]
  },
  {
   "cell_type": "code",
   "execution_count": null,
   "metadata": {},
   "outputs": [
    {
     "data": {
      "image/png": "[encoded data removed]",
      "text/plain": [
       "<Figure size 432x288 with 1 Axes>"
      ]
     },
     "metadata": {
      "needs_background": "light"
     },
     "output_type": "display_data"
    }
   ],
   "source": [
    "difference = ratio/ratio1\n",
    "start,stop =math.floor(min(difference)), math.ceil(max(difference))\n",
    "bins = np.linspace(start,stop,20)\n",
    "total2,x,_ = plt.hist(difference,bins=bins)\n",
    "plt.yscale(\"log\")"
   ]
  }
 ],
 "metadata": {
  "kernelspec": {
   "display_name": "Python 3",
   "language": "python",
   "name": "python3"
  },
  "language_info": {
   "codemirror_mode": {
    "name": "ipython",
    "version": 3
   },
   "file_extension": ".py",
   "mimetype": "text/x-python",
   "name": "python",
   "nbconvert_exporter": "python",
   "pygments_lexer": "ipython3",
   "version": "3.8.10"
  },
  "orig_nbformat": 4
 },
 "nbformat": 4,
 "nbformat_minor": 2
}
