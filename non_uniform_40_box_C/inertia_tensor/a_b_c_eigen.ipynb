{
 "cells": [
  {
   "cell_type": "code",
   "execution_count": 160,
   "metadata": {},
   "outputs": [],
   "source": [
    "import numpy as np \n",
    "import matplotlib.pyplot as plt \n",
    "import pandas as pd \n",
    "import pickle as pickle\n",
    "from unyt import g,cm\n",
    "from numpy.linalg import eig\n",
    "import math\n",
    "import cmath\n",
    "import yt\n",
    "import numpy as np \n",
    "import matplotlib.pyplot as plt \n",
    "import pandas as pd \n",
    "import pickle as pickle\n",
    "from unyt import g,cm\n",
    "from numpy.linalg import eig\n",
    "import seaborn as sns\n",
    "import pandas as pd\n",
    "import scipy"
   ]
  },
  {
   "cell_type": "code",
   "execution_count": 161,
   "metadata": {},
   "outputs": [],
   "source": [
    "with open(\"new_value_total.pkl\",'rb') as f:\n",
    "    value = pickle.load(f)\n",
    "with open(\"peak_locations_box_c.pkl\",'rb') as f:\n",
    "    peak = pickle.load(f)"
   ]
  },
  {
   "cell_type": "code",
   "execution_count": 162,
   "metadata": {},
   "outputs": [
    {
     "name": "stdout",
     "output_type": "stream",
     "text": [
      "[array([1.22374902e+85, 5.73901475e+85, 6.05967280e+85])]\n"
     ]
    }
   ],
   "source": [
    "print(value[0])"
   ]
  },
  {
   "cell_type": "code",
   "execution_count": 163,
   "metadata": {},
   "outputs": [
    {
     "data": {
      "text/plain": [
       "2895"
      ]
     },
     "execution_count": 163,
     "metadata": {},
     "output_type": "execute_result"
    }
   ],
   "source": [
    "len(value)"
   ]
  },
  {
   "cell_type": "code",
   "execution_count": 164,
   "metadata": {},
   "outputs": [],
   "source": [
    "with open(\"lyman_cul.pkl\",'rb') as f:\n",
    "    lyman = pickle.load(f)"
   ]
  },
  {
   "cell_type": "code",
   "execution_count": 165,
   "metadata": {},
   "outputs": [
    {
     "data": {
      "text/plain": [
       "9.332462167857738e+18"
      ]
     },
     "execution_count": 165,
     "metadata": {},
     "output_type": "execute_result"
    }
   ],
   "source": [
    "lyman[0]"
   ]
  },
  {
   "cell_type": "code",
   "execution_count": 166,
   "metadata": {},
   "outputs": [
    {
     "data": {
      "text/plain": [
       "[2.005363879937967, 12.166111410859045, 25.194943977006197]"
      ]
     },
     "execution_count": 166,
     "metadata": {},
     "output_type": "execute_result"
    }
   ],
   "source": [
    "peak[0]"
   ]
  },
  {
   "cell_type": "code",
   "execution_count": 167,
   "metadata": {},
   "outputs": [
    {
     "data": {
      "text/plain": [
       "[array([1.22374902e+85, 5.73901475e+85, 6.05967280e+85])]"
      ]
     },
     "execution_count": 167,
     "metadata": {},
     "output_type": "execute_result"
    }
   ],
   "source": [
    "value[0]"
   ]
  },
  {
   "cell_type": "code",
   "execution_count": 168,
   "metadata": {},
   "outputs": [],
   "source": [
    "clean_data = []\n",
    "for i in value:\n",
    "    clean_data.append(i[0])"
   ]
  },
  {
   "cell_type": "code",
   "execution_count": 169,
   "metadata": {},
   "outputs": [],
   "source": [
    "remove = np.loadtxt('remove.raw', skiprows=0)"
   ]
  },
  {
   "cell_type": "code",
   "execution_count": 170,
   "metadata": {},
   "outputs": [
    {
     "data": {
      "text/plain": [
       "array([1.22374902e+85, 5.73901475e+85, 6.05967280e+85])"
      ]
     },
     "execution_count": 170,
     "metadata": {},
     "output_type": "execute_result"
    }
   ],
   "source": [
    "clean_data[0]"
   ]
  },
  {
   "cell_type": "code",
   "execution_count": 171,
   "metadata": {},
   "outputs": [],
   "source": [
    "a = []\n",
    "for i in clean_data:\n",
    "    a.append(np.sqrt((i[1]+i[2]-i[0])/2))\n",
    "b = []\n",
    "for i in clean_data:\n",
    "    b.append(np.sqrt((i[0]+i[2]-i[1])/2))\n",
    "c = []\n",
    "for i in clean_data:\n",
    "    c.append(np.sqrt((i[0]+i[1]-i[2])/2))"
   ]
  },
  {
   "cell_type": "code",
   "execution_count": 172,
   "metadata": {},
   "outputs": [],
   "source": [
    "largest = []\n",
    "middle = []\n",
    "smallest = []\n",
    "temp = []\n",
    "for i,j,k in zip(a,b,c):\n",
    "    temp.append(i)\n",
    "    temp.append(j)\n",
    "    temp.append(k)\n",
    "    temp.sort()\n",
    "    middle.append(temp[1])\n",
    "    largest.append(max(temp))\n",
    "    smallest.append(min(temp))\n",
    "    temp = []"
   ]
  },
  {
   "cell_type": "code",
   "execution_count": 173,
   "metadata": {},
   "outputs": [],
   "source": [
    "a = largest\n",
    "b = middle\n",
    "c = smallest"
   ]
  },
  {
   "cell_type": "code",
   "execution_count": 174,
   "metadata": {},
   "outputs": [],
   "source": [
    "remove = np.loadtxt('remove.raw', skiprows=0)"
   ]
  },
  {
   "cell_type": "code",
   "execution_count": 175,
   "metadata": {},
   "outputs": [],
   "source": [
    "ratio = np.divide(a,c)"
   ]
  },
  {
   "cell_type": "code",
   "execution_count": 176,
   "metadata": {},
   "outputs": [
    {
     "name": "stdout",
     "output_type": "stream",
     "text": [
      "1\n",
      "457\n",
      "706\n",
      "1067\n",
      "1262\n",
      "1317\n",
      "1371\n",
      "1454\n",
      "1577\n",
      "1774\n",
      "1885\n",
      "2042\n",
      "2131\n",
      "2197\n",
      "2638\n"
     ]
    }
   ],
   "source": [
    "len(ratio)\n",
    "for i in range(len(ratio)):\n",
    "    if(ratio[i]>170):\n",
    "        print(i)"
   ]
  },
  {
   "cell_type": "code",
   "execution_count": 177,
   "metadata": {},
   "outputs": [
    {
     "data": {
      "image/png": "[encoded data removed]",
      "text/plain": [
       "<Figure size 350x262.5 with 1 Axes>"
      ]
     },
     "metadata": {},
     "output_type": "display_data"
    }
   ],
   "source": [
    "ratio = np.divide(a,b)\n",
    "for i in reversed(range(len(remove))):\n",
    "    ratio[int(remove[i])] = ratio[-1]\n",
    "    ratio = ratio[:-1]\n",
    "total_ratio = sum(ratio)\n",
    "start,stop =math.floor(min(ratio)), math.ceil(max(ratio))\n",
    "bins = np.linspace(start,stop,10)\n",
    "with plt.style.context('science','notebook'):\n",
    "    total,x,_ = plt.hist(ratio, bins=bins)\n",
    "    plt.yscale(\"log\")\n",
    "    plt.xlabel(\"ratio a/b\")\n",
    "    plt.ylabel(\"number counts\")\n",
    "    plt.savefig('a_b.png')\n"
   ]
  },
  {
   "cell_type": "code",
   "execution_count": 178,
   "metadata": {},
   "outputs": [
    {
     "data": {
      "image/png": "[encoded data removed]",
      "text/plain": [
       "<Figure size 350x262.5 with 1 Axes>"
      ]
     },
     "metadata": {},
     "output_type": "display_data"
    }
   ],
   "source": [
    "ratio = np.divide(a,c)\n",
    "for i in reversed(range(len(remove))):\n",
    "    ratio[int(remove[i])] = ratio[-1]\n",
    "    ratio = ratio[:-1]\n",
    "total_ratio = sum(ratio)\n",
    "start,stop =math.floor(min(ratio)), math.ceil(max(ratio))\n",
    "bins = np.linspace(start,stop,10)\n",
    "with plt.style.context('science','notebook'):\n",
    "    total,x,_ = plt.hist(ratio, bins=bins)\n",
    "    plt.yscale(\"log\")\n",
    "    plt.xlabel(\"ratio a/b\")\n",
    "    plt.ylabel(\"number counts\")\n",
    "    plt.savefig('a_b.png')\n"
   ]
  },
  {
   "cell_type": "code",
   "execution_count": 179,
   "metadata": {},
   "outputs": [
    {
     "data": {
      "image/png": "[encoded data removed]",
      "text/plain": [
       "<Figure size 350x262.5 with 1 Axes>"
      ]
     },
     "metadata": {},
     "output_type": "display_data"
    }
   ],
   "source": [
    "ratio = np.divide(b,c)\n",
    "for i in reversed(range(len(remove))):\n",
    "    ratio[int(remove[i])] = ratio[-1]\n",
    "    ratio = ratio[:-1]\n",
    "total_ratio = sum(ratio)\n",
    "start,stop =math.floor(min(ratio)), math.ceil(max(ratio))\n",
    "bins = np.linspace(start,stop,10)\n",
    "with plt.style.context('science','notebook'):\n",
    "    total,x,_ = plt.hist(ratio, bins=bins)\n",
    "    plt.yscale(\"log\")\n",
    "    plt.xlabel(\"ratio a/b\")\n",
    "    plt.ylabel(\"number counts\")\n",
    "    plt.savefig('a_b.png')\n"
   ]
  },
  {
   "cell_type": "code",
   "execution_count": 180,
   "metadata": {},
   "outputs": [],
   "source": [
    "ratio_a_b = np.divide(a,b)\n",
    "ratio_b_c = np.divide(b,c)\n",
    "ratio_a_c = np.divide(a,c)"
   ]
  },
  {
   "cell_type": "code",
   "execution_count": 181,
   "metadata": {},
   "outputs": [
    {
     "data": {
      "text/plain": [
       "0.19130133577703654"
      ]
     },
     "execution_count": 181,
     "metadata": {},
     "output_type": "execute_result"
    }
   ],
   "source": [
    "np.min(ratio_a_b/ratio_a_c)"
   ]
  },
  {
   "cell_type": "code",
   "execution_count": 182,
   "metadata": {},
   "outputs": [
    {
     "data": {
      "image/png": "[encoded data removed]",
      "text/plain": [
       "<Figure size 350x262.5 with 1 Axes>"
      ]
     },
     "metadata": {},
     "output_type": "display_data"
    }
   ],
   "source": [
    "ratio = np.divide(b,c)\n",
    "for i in reversed(range(len(remove))):\n",
    "    ratio[int(remove[i])] = ratio[-1]\n",
    "    ratio = ratio[:-1]\n",
    "total_ratio = sum(ratio)\n",
    "start,stop =math.floor(min(ratio)), math.ceil(max(ratio))\n",
    "bins = np.linspace(start,stop,20)\n",
    "\n",
    "\n",
    "\n",
    "\n",
    "ratio1 = np.divide(a,c)\n",
    "for i in reversed(range(len(remove))):\n",
    "    ratio1[int(remove[i])] = ratio1[-1]\n",
    "    ratio1 = ratio1[:-1]\n",
    "total_ratio1 = sum(ratio1)\n",
    "start1,stop1 =math.floor(min(ratio1)), math.ceil(max(ratio1))\n",
    "\n",
    "ratio3 = np.divide(a,b)\n",
    "for i in reversed(range(len(remove))):\n",
    "    ratio3[int(remove[i])] = ratio3[-1]\n",
    "    ratio3 = ratio3[:-1]\n",
    "total_ratio3 = sum(ratio1)\n",
    "start3,stop3 =math.floor(min(ratio3)), math.ceil(max(ratio3))\n",
    "\n",
    "\n",
    "with plt.style.context('science','notebook'):\n",
    "    total,x,_ = plt.hist((ratio) ,bins=bins, label = \"b/c\")\n",
    "    total2,x2,_ = plt.hist((ratio3), bins=bins, label = \"a/b\")\n",
    "    total1,x1,_ = plt.hist((ratio1), bins=bins, label = \"a/c\")\n",
    "    plt.xlabel(\"ratio between axis\")\n",
    "    plt.ylabel(\"number counts\")\n",
    "    plt.legend()\n",
    "    plt.savefig('b_c.png')"
   ]
  },
  {
   "cell_type": "code",
   "execution_count": 203,
   "metadata": {},
   "outputs": [
    {
     "data": {
      "text/plain": [
       "1.244924426416484"
      ]
     },
     "execution_count": 203,
     "metadata": {},
     "output_type": "execute_result"
    }
   ],
   "source": [
    "np.median(ratio3)"
   ]
  },
  {
   "cell_type": "code",
   "execution_count": 201,
   "metadata": {},
   "outputs": [
    {
     "data": {
      "text/plain": [
       "1.609636209766799"
      ]
     },
     "execution_count": 201,
     "metadata": {},
     "output_type": "execute_result"
    }
   ],
   "source": [
    "np.median(ratio1)"
   ]
  },
  {
   "cell_type": "code",
   "execution_count": 186,
   "metadata": {},
   "outputs": [
    {
     "data": {
      "text/plain": [
       "1.070178498345537"
      ]
     },
     "execution_count": 186,
     "metadata": {},
     "output_type": "execute_result"
    }
   ],
   "source": [
    "min(ratio1)"
   ]
  },
  {
   "cell_type": "code",
   "execution_count": 187,
   "metadata": {},
   "outputs": [
    {
     "data": {
      "text/plain": [
       "(array([1.10955822e+00, 1.00418622e-01, 3.33227713e-02, 2.07141551e-02,\n",
       "        9.00615440e-03, 2.70184632e-03, 1.35092316e-03, 9.00615440e-04,\n",
       "        4.50307720e-04, 9.00615440e-04]),\n",
       " array([1.00702425, 1.78868692, 2.57034959, 3.35201227, 4.13367494,\n",
       "        4.91533761, 5.69700029, 6.47866296, 7.26032563, 8.04198831,\n",
       "        8.82365098]),\n",
       " <BarContainer object of 10 artists>)"
      ]
     },
     "execution_count": 187,
     "metadata": {},
     "output_type": "execute_result"
    },
    {
     "data": {
      "image/png": "[encoded data removed]",
      "text/plain": [
       "<Figure size 432x288 with 1 Axes>"
      ]
     },
     "metadata": {
      "needs_background": "light"
     },
     "output_type": "display_data"
    }
   ],
   "source": [
    "plt.hist(ratio1/ratio,density = True, stacked = True)"
   ]
  },
  {
   "cell_type": "code",
   "execution_count": 188,
   "metadata": {},
   "outputs": [
    {
     "data": {
      "text/plain": [
       "1.452543845563493"
      ]
     },
     "execution_count": 188,
     "metadata": {},
     "output_type": "execute_result"
    }
   ],
   "source": [
    "np.mean(ratio1/ratio)"
   ]
  },
  {
   "cell_type": "code",
   "execution_count": 189,
   "metadata": {},
   "outputs": [],
   "source": [
    "bin_centers = 0.5*(x[1:]+x[:-1])\n",
    "bin_centers1 = 0.5*(x1[1:]+x1[:-1])\n",
    "bin_centers2 = 0.5*(x2[1:]+x2[:-1])"
   ]
  },
  {
   "cell_type": "code",
   "execution_count": 196,
   "metadata": {},
   "outputs": [
    {
     "data": {
      "image/png": "[encoded data removed]",
      "text/plain": [
       "<Figure size 350x262.5 with 1 Axes>"
      ]
     },
     "metadata": {},
     "output_type": "display_data"
    }
   ],
   "source": [
    "with plt.style.context('science','notebook'):\n",
    "    plt.plot(bin_centers,total,c =\"black\",label = \"b/c\")\n",
    "    plt.plot(bin_centers,total2,c =\"blue\",label = \"a/b\")\n",
    "    plt.plot(bin_centers,total1,c =\"red\",label = \"a/c\")\n",
    "    plt.scatter(1.4,600)\n",
    "    plt.xlabel('Ratio Between Axis',fontsize = 10)\n",
    "    plt.ylabel('Number Count',fontsize = 10)\n",
    "    plt.xlim(1,4.1)\n",
    "    plt.legend()\n",
    "    plt.savefig('ratio_ellipsoid.pdf')"
   ]
  },
  {
   "cell_type": "code",
   "execution_count": 191,
   "metadata": {},
   "outputs": [
    {
     "data": {
      "text/plain": [
       "19"
      ]
     },
     "execution_count": 191,
     "metadata": {},
     "output_type": "execute_result"
    }
   ],
   "source": [
    "len(total)"
   ]
  },
  {
   "cell_type": "code",
   "execution_count": 192,
   "metadata": {},
   "outputs": [
    {
     "ename": "NameError",
     "evalue": "name 'normalized' is not defined",
     "output_type": "error",
     "traceback": [
      "\u001b[0;31m---------------------------------------------------------------------------\u001b[0m",
      "\u001b[0;31mNameError\u001b[0m                                 Traceback (most recent call last)",
      "\u001b[1;32m/mnt/c/Users/jiawen/desktop/LLS_research/non_uniform_40_box_C/inertia_tensor/a_b_c_eigen.ipynb Cell 33\u001b[0m in \u001b[0;36m<cell line: 1>\u001b[0;34m()\u001b[0m\n\u001b[0;32m----> <a href='vscode-notebook-cell://wsl%2Bubuntu/mnt/c/Users/jiawen/desktop/LLS_research/non_uniform_40_box_C/inertia_tensor/a_b_c_eigen.ipynb#X30sdnNjb2RlLXJlbW90ZQ%3D%3D?line=0'>1</a>\u001b[0m plt\u001b[39m.\u001b[39mplot(bin_centers,normalized,c \u001b[39m=\u001b[39m\u001b[39m\"\u001b[39m\u001b[39mblack\u001b[39m\u001b[39m\"\u001b[39m,label \u001b[39m=\u001b[39m \u001b[39m\"\u001b[39m\u001b[39mAll\u001b[39m\u001b[39m\"\u001b[39m)\n",
      "\u001b[0;31mNameError\u001b[0m: name 'normalized' is not defined"
     ]
    }
   ],
   "source": [
    "plt.plot(bin_centers,normalized,c =\"black\",label = \"All\")"
   ]
  },
  {
   "cell_type": "code",
   "execution_count": null,
   "metadata": {},
   "outputs": [
    {
     "name": "stderr",
     "output_type": "stream",
     "text": [
      "/tmp/ipykernel_16483/2029886106.py:6: ComplexWarning: Casting complex values to real discards the imaginary part\n",
      "  start,stop =math.floor(min(ratio)), math.ceil(max(ratio))\n"
     ]
    },
    {
     "data": {
      "image/png": "[encoded data removed]",
      "text/plain": [
       "<Figure size 350x262.5 with 1 Axes>"
      ]
     },
     "metadata": {},
     "output_type": "display_data"
    }
   ],
   "source": [
    "ratio = np.divide(a,c)\n",
    "for i in reversed(range(len(remove))):\n",
    "    ratio[int(remove[i])] = ratio[-1]\n",
    "    ratio = ratio[:-1]\n",
    "total_ratio = sum(ratio)\n",
    "start,stop =math.floor(min(ratio)), math.ceil(max(ratio))\n",
    "bins = np.linspace(start,stop,10)\n",
    "with plt.style.context('science','notebook'):\n",
    "    total,x,_ = plt.hist(ratio, bins=bins)\n",
    "    plt.yscale(\"log\")\n",
    "    plt.xlabel(\"ratio a/c\")\n",
    "    plt.ylabel(\"number counts\")\n",
    "    plt.savefig('a_c.png')"
   ]
  },
  {
   "cell_type": "code",
   "execution_count": null,
   "metadata": {},
   "outputs": [
    {
     "name": "stdout",
     "output_type": "stream",
     "text": [
      "[7.271498652506112e+42, 1.2164305511929375e+42, 1.1330623528590492e+43, 2.17269462146984e+42, 2.3010838121768494e+42, 1.436580101209241e+42, 2.2132246989883463e+42, 1.5084640687283116e+42, 2.95057789216083e+42, 1.342701642045274e+42, 1.615857812267076e+42, 2.131831293932124e+42, 3.3244102978097644e+42, 2.247633882989732e+42, 3.3324261475040537e+42, 1.9757397385912457e+42, 1.7181604286506584e+42, 1.6160819020807222e+42, 3.428576528451108e+42, 2.051134361331939e+42, 2.676247070094594e+42, 3.000881629525823e+42, 1.2520212187719592e+42, 1.5262642064292752e+42, 1.9734229946668696e+42, 1.8557319643893827e+42, 4.113366222881998e+42, 4.4932828356616456e+42, 8.822750668348091e+42, 2.1021730576979528e+42, 2.676938436801817e+42, 1.5577320097529003e+42, 3.052663572554478e+42, 2.5565067731882158e+42, 1.522460226869786e+42, 1.8955064730493672e+42, 1.8005475594176333e+42, 3.885452019131871e+42, 2.9737532675565126e+42, 1.3576604103039162e+42, 3.3070874334131815e+42, 2.896953806569008e+42, 3.9948369872526683e+42, 2.299461706835701e+42, 2.3033554086124437e+42, 1.3269450058642033e+42, 4.129037964169488e+42, 3.091061800461874e+42, 1.855084936752974e+42, 2.276352245776302e+42, 5.982223041386882e+42, 1.561199892797456e+42, 1.9407679162751673e+42, 2.1483630835399622e+42, 1.8979531078983358e+42, 1.696765596126229e+42, 3.392167365078496e+42, 1.6091979595496878e+42, 1.8718904277611945e+42, 1.3069753020431186e+42, 1.9798498363610337e+43, 2.0279642530586707e+42, 5.563899749018092e+42, 4.276079453918177e+42, 1.7852459817403652e+42, 4.037737556929813e+42, 1.5146184949899758e+42, 2.1703825781591835e+42, 1.417526600355375e+42, 2.274115229385279e+42, 7.562324884617488e+42, 1.1621394375295399e+42, 1.8708369861142904e+42, 2.1187231877598953e+42, 1.3679332345977343e+42, 1.9270718880489253e+42, 1.8174230349917272e+42, 1.81465273148376e+42, 2.0159577427097612e+42, 2.9408079990478794e+42, 3.9836360087589905e+42, 4.083866305691579e+43, 4.936430086272241e+42, 1.5430796165733677e+42, 3.1702849731477737e+42, 3.9002169412328935e+42, 1.593713302637816e+42, 2.5439694832683942e+42, 2.189280232263474e+42, 1.4466546980582603e+42, 2.0038092517610072e+42, 2.217556275323354e+42, 2.8066153909766133e+42, 1.0405269535265746e+43, 1.6882987790282536e+42, 1.312997367675482e+43, 1.4063735149537087e+43, 2.844122778353428e+42, 1.7982230241279068e+42, 2.4754341400496394e+42, 2.1926419565703915e+42, 1.6470623830593262e+42, 1.4444028040992578e+42, 2.0863186763456266e+42, 3.651808375112104e+42, 2.200722241281529e+42, 3.119450598537681e+42, 2.909280304082188e+42, 1.0304199669127516e+43, 1.4659726405885907e+42, 1.2922856243281758e+43, 2.672788031153187e+43, 3.395726354915333e+43, 3.074134554139486e+42, 3.5731371271949755e+42, 2.54348325191956e+42, 1.892816499119202e+42, 1.802147966338744e+42, 2.5897124681039233e+42, 1.7416588118544054e+42, 1.6371398716089996e+42, 1.1062416433684044e+42, 3.142613676303819e+42, 1.8289671115723955e+42, 1.6381628122447464e+42, 3.1838887361938803e+42, 2.1146709072318368e+42, 2.1692545504203394e+42, 2.5374680959477884e+42, 1.8212332556081388e+42, 1.3888433814211675e+42, 1.2907068598940742e+42, 1.9670407083689736e+42, 4.41786734176418e+42, 3.6596731603239285e+42, 2.1442124383621768e+42, 2.403370056209563e+42, 2.5587170799807665e+42, 3.2582853132095926e+42, 3.114855002034195e+42, 4.2133861290599094e+42, 2.6042883668117685e+42, 2.7521775611877875e+42, 2.2465829869783023e+42, 2.792532978532024e+42, 1.2300773170122657e+42, 5.726953907694252e+42, 1.852405893089315e+42, 3.401231024464395e+42, 2.111367841656192e+42, 1.4789388447218898e+42, 1.058578693478929e+42, 2.4419686580187286e+42, 2.5607337985025028e+42, 1.576340502626219e+42, 3.571691073012212e+42, 1.9402960459185127e+42, 2.3287959633042784e+42, 2.3819610367350007e+42, 3.719253352157894e+42, 2.4084897250479415e+42, 1.8316295318316744e+42, 1.2392121799845543e+43, 1.659348899449568e+42, 1.473725940517105e+42, 1.6392915705184535e+42, 3.478801915933171e+42, 4.6491862245029664e+42, 2.5683664751183367e+42, 4.69120636127853e+42, 1.5378302829716512e+42, 1.1045618374938814e+42, 1.115694456376894e+42, 1.0977606619274734e+42, 2.1451670797029765e+42, 2.436522507296178e+42, 2.767573179988247e+42, 2.427315446044766e+42, 2.9759073965518703e+42, 3.866157443732088e+42, 1.3533574016168276e+42, 2.3077325016729814e+42, 3.015386487057466e+42, 2.2397183683390686e+42, 2.039748695647072e+42, 1.3826005372252716e+42, 1.3148132859637518e+42, 1.6405223758945906e+42, 1.2882651763594675e+43, 1.0395690456227726e+43, 2.1700072219478042e+42, 1.4419445331009775e+42, 2.0029745270810618e+42, 1.0261610094449634e+43, 3.2807389712542455e+42, 1.727215127613241e+42, 1.604638100519578e+42, 2.0583556285280517e+42, 2.3927289338660233e+42, 1.685967578401256e+42, 2.0460895676941255e+42, 1.738835371931492e+42, 1.8421690527268148e+42, 3.954396412369636e+42, 3.9036555001663333e+42, 1.7487397049946864e+42, 1.3862678093006916e+42, 4.8135681511400185e+42, 5.896042226019629e+42, 1.6642112334132018e+42, 3.88727616003443e+42, 2.35522197396879e+42, 1.5090358690753633e+42, 2.0022368973793012e+42, 2.5166991159805702e+42, 7.445553743343811e+42, 2.228676101165379e+42, 3.248635516067017e+42, 7.367104871812089e+42, 5.406832177175316e+42, 2.498998556973619e+42, 2.414653107515199e+42, 2.0277348058966487e+42, 1.3754792584839187e+43, 1.0379117246311825e+43, 3.014154437814769e+42, 1.564583484728181e+42, 1.5363002126578715e+42, 1.5303260408422105e+42, 1.663965892709807e+43, 1.6341265785757028e+43, 3.3090276320382885e+42, 5.768852913234613e+42, 2.825443602322806e+42, 3.1175361989384195e+42, 2.1947101341053845e+42, 5.617678133527586e+42, 2.7798740287063288e+42, 2.403860275014989e+42, 3.54588567708396e+42, 1.8262794236724165e+42, 2.708491940588785e+42, 3.120696616807388e+42, 3.0064867628023316e+43, 3.521324061019029e+42, 3.2093767885193414e+42, 2.0913292137336982e+42, 1.9143161740176754e+42, 5.255866845077566e+42, 5.048617465315381e+42, 4.0860818953670584e+42, 1.8384298121325013e+42, 1.8478837852668804e+42, 1.996151563008403e+42, 2.333982930075184e+42, 9.872560368779607e+41, 2.0235095827766937e+42, 1.8253765549630752e+42, 2.830252431944501e+42, 1.7721756427685742e+42, 6.496420562792034e+42, 1.5167657969166566e+42, 2.1747010717264792e+42, 1.94552515890943e+42, 7.466662741145847e+42, 3.0377885807808765e+42, 1.4128747687101418e+43, 4.037867371417046e+42, 4.683948213908898e+42, 5.928515819154332e+42, 2.756207557714193e+42, 2.7783902814518222e+42, 5.1165468631000125e+42, 4.2335492058889706e+42, 2.8252797962248665e+42, 2.4744349812968498e+42, 1.9455753370664678e+42, 3.2903160849805227e+42, 1.3807991011175897e+43, 1.374163887490702e+43, 2.9783282762378854e+42, 1.5465954124441335e+42, 8.037371230519445e+42, 1.8051885734631244e+42, 1.066952633433441e+43, 4.255407715252814e+42, 1.612973168946137e+42, 2.1038038739678066e+42, 2.1833841578863002e+42, 1.8139748421753268e+42, 6.005054523767711e+42, 2.4854511588124132e+42, 2.369064981449135e+42, 5.513576588734339e+42, 8.605033306513701e+42, 1.5112245541198742e+42, 1.334001598353334e+42, 4.48443249422329e+42, 2.508601308921357e+42, 2.0118644284801503e+42, 2.3569301975354332e+42, 2.2499150368839255e+42, 3.462100303228138e+42, 1.2622750164754662e+42, 2.500831990511779e+42, 4.48819393814807e+42, 7.690288591269598e+42, 8.323440812940201e+42, 5.895557544628182e+42, 2.891038505556541e+42, 2.0916694842406244e+42, 3.0983595698770365e+42, 3.037720206744973e+42, 1.8788195474864228e+42, 2.144434207754019e+42, 8.01350213065957e+42, 3.241444762222416e+42, 3.0171884561643426e+42, 1.6288299863575058e+42, 1.666690768725993e+42, 5.645088687978266e+42, 1.815436678714223e+42, 1.4889422036115268e+42, 1.8484675783022424e+42, 3.368867604148004e+42, 2.4694437267846572e+42, 2.6692137658953108e+42, 4.3386123993686226e+42, 4.367617072138455e+42, 3.87073685837885e+42, 2.351329201629971e+42, 1.9113590157642964e+42, 6.401043862802713e+42, 5.834813490740004e+42, 3.170239766847403e+42, 1.2540106120495347e+42, 2.472990876346487e+42, 2.4503864323640065e+42, 1.8407946823486687e+42, 2.2110581234385514e+42, 1.5551208357386686e+42, 1.861709963736316e+42, 2.0443882009458154e+42, 3.566474015838234e+42, 1.7137176106595685e+42, 2.01625574859559e+43, 1.771323364258581e+42, 2.3253431807325076e+42, 3.585171697763376e+42, 1.6803594896486725e+42, 3.640909880955231e+42, 1.536571117976224e+42, 1.7865342782751774e+42, 1.8642407236493556e+42, 1.2678890121207514e+42, 2.3784200767362668e+42, 1.5451199547730913e+42, 5.367543365547413e+42, 2.579116934894581e+42, 1.3770058377628575e+42, 2.5103300048858313e+42, 5.91909242233524e+42, 6.690892716668248e+42, 1.9634536639504758e+42, 5.714355690188784e+42, 6.959843286823978e+42, 2.9377927663185416e+42, 1.4332520518547272e+42, 2.6320258748585243e+42, 2.5714242849691075e+42, 2.0093383280094992e+42, 1.76479759373088e+42, 2.5992800115913395e+42, 2.0145846058018333e+42, 1.31895595046754e+42, 2.8983164590659e+42, 3.2484541340177524e+42, 2.66798272775273e+42, 9.062542527296384e+42, 3.337747237555599e+42, 1.875049373881905e+42, 2.961001288791844e+42, 1.5053789940828888e+42, 1.6461259668368948e+42, 1.3834207899699226e+42, 2.137245696334927e+42, 1.8720245328176863e+42, 8.341215277282817e+42, 2.8867814583378735e+42, 2.104584655815039e+42, 2.153801764866854e+42, 2.0580382049171868e+42, 2.7220212049323754e+42, 2.121226668315274e+42, 6.33174337029558e+42, 2.6651058897905222e+42, 1.653468647163418e+42, 3.870871697578925e+42, 2.1916757948075353e+42, 3.39467917824633e+42, 3.505722389766525e+42, 3.3763446190870395e+42, 3.347172623098325e+42, 6.022229061681762e+42, 1.1949883469979538e+43, 2.1315411440025954e+42, 1.7490024125372814e+42, 5.268600018142387e+42, 6.241950055982362e+42, 1.4126901261534526e+42, 3.3771837433512657e+42, 4.5478753138477776e+42, 2.1209004731677595e+42, 4.571036560802398e+42, 2.282337065669899e+42, 1.477930734031718e+43, 4.6424886899042233e+42, 2.4423941757397862e+42, 1.4172342239580303e+42, 2.841872746074107e+42, 1.7027496802243428e+42, 2.2550669473155805e+42, 2.78091204506067e+42, 1.753901655910993e+42, 2.4503826857748078e+42, 5.4252324510646105e+42, 2.2076807853410247e+42, 2.0272670883964784e+42, 1.7011954662441884e+42, 1.420607886374419e+42, 4.475054396763008e+42, 3.438981971757661e+42, 3.2336077225815506e+42, 2.3052459588643024e+42, 1.4046116296012323e+43, 5.2445213021753284e+42, 2.872533714331725e+42, 1.7002825400181295e+42, 1.4537824723287264e+42, 1.6933785969476335e+42, 1.42077519565554e+42, 2.856564040898034e+42, 2.3404082335268953e+42, 1.393623475100337e+42, 1.5314338164888182e+42, 5.413939502635527e+42, 2.3260247604459715e+42, 2.5466341820258127e+42, 1.5171694733238803e+42, 2.508376060145854e+42, 1.8588398337225463e+42, 2.497915207686365e+42, 2.4912729837161334e+42, 5.1378601371149375e+42, 2.5793800238273827e+42, 6.04821531137025e+42, 1.5260130723495222e+42, 1.4678103615797544e+42, 1.4987379645217664e+42, 2.6011316997281586e+42, 3.12609048346202e+42, 1.2692801365669908e+42, 1.6575571718861558e+42, 1.6406445170188357e+42, 4.2956746320171043e+42, 2.6950052581982467e+42, 5.1728528962971297e+42, 6.831426850495106e+42, 3.7501168906092513e+42, 8.191294248307061e+42, 5.606088222983785e+42, 1.762375116643199e+42, 2.28095224596135e+42, 1.6360744416455394e+42, 2.520096851816869e+42, 1.9611168784510386e+42, 1.4473025982922118e+42, 2.7143977862305788e+42, 1.6803461789324624e+42, 1.5387032580665904e+42, 9.059629470805457e+42, 1.873682264473369e+42, 2.8181109042584146e+42, 3.111072674867616e+42, 1.7967022946869333e+42, 2.6085863170839863e+42, 1.3968412584617988e+42, 5.0738879335819434e+42, 2.855869515262107e+42, 4.259875934533967e+42, 4.1517511575826073e+43, 1.615437412761979e+42, 1.812660220431493e+42, 1.3488259527261022e+42, 3.072096793097873e+42, 4.989392206957035e+42, 1.7380167022804343e+42, 3.038917851624428e+42, 4.36093533764258e+42, 1.826362810557277e+42, 1.4771717588179763e+43, 1.4649936533329874e+42, 1.4945713837001684e+42, 3.2042590725193806e+42, 2.2633888999281125e+42, 1.3379892337743516e+42, 4.088081346682621e+42, 7.745278405647916e+42, 1.936550565249601e+42, 1.6826836566400464e+42, 4.8277264542901073e+42, 3.3225494053583005e+42, 1.6729741311223524e+42, 2.2416139507276422e+42, 1.6171608049180206e+42, 1.2859909694550972e+42, 2.838592990555222e+42, 2.0125806235278907e+42, 2.4426646218667415e+42, 1.858948025908244e+42, 2.698857287923254e+42, 1.5179247485654542e+42, 2.4793628025242895e+42, 4.954960882849322e+42, 1.8063312649875642e+42, 2.5415148562296535e+42, 2.30998404496378e+42, 2.535882959185703e+42, 1.3978639658234745e+42, 2.4261660376104494e+42, 1.4366900405431452e+42, 1.7414795382549552e+42, 4.3286639451630575e+42, 1.48658203141833e+42, 3.810485719019599e+42, 2.3835146479730952e+42, 7.759000666631955e+42, 2.405819887897071e+42, 1.4578979137546077e+42, 3.3457414758834604e+42, 2.1832208100402888e+42, 5.3197576243174315e+42, 1.3358862452190107e+42, 2.829775725148523e+42, 1.6890964638204498e+42, 1.57536209476803e+42, 3.6842276592892275e+42, 2.834047737926631e+42, 1.187653277325346e+42, 4.757811635798799e+42, 1.9030879292850855e+42, 1.6895078705505622e+42, 1.3537915877740248e+42, 1.7708417989237902e+42, 4.294978032737922e+42, 5.88948482660131e+42, 1.4089604008558656e+42, 2.0481173232427985e+42, 2.4323610215901523e+42, 2.0755373838469535e+42, 5.582862651453674e+42, 2.387598887623813e+42, 1.2622085002839208e+43, 2.9918824751379153e+42, 8.679260778493638e+42, 2.257638115964915e+42, 2.4280661509671942e+42, 1.8225557414931867e+42, 1.3537963001117327e+42, 1.421695668339262e+42, 4.587643032227683e+42, 2.0725791144543896e+42, 4.009297328714424e+42, 3.1460568088182016e+42, 2.0982871111779397e+42, 2.1292554594615576e+42, 1.2546348040869468e+42, 2.865450201449987e+42, 4.38677385799167e+42, 8.964037549129858e+41, 2.610175290625838e+42, 2.1954318137705776e+42, 2.1294861981055033e+42, 2.911223362066172e+42, 1.2676264791741307e+42, 1.6625107600739674e+42, 8.965927950166744e+42, 1.4636932369013008e+42, 3.786066049629625e+42, 1.7255572233151226e+42, 1.673165868056765e+42, 1.9062489252374124e+42, 2.637185388758975e+42, 5.384381858280115e+42, 2.774636178947993e+42, 1.50992903773739e+42, 2.6548932374006793e+42, 2.007599801036445e+42, 4.596193784429707e+42, 1.9828245101262638e+42, 1.98424472905276e+42, 2.2210579732557778e+42, 6.810549773019648e+42, 1.7573721468110337e+42, 5.287462250926484e+42, 1.59531321305052e+42, 2.702478034271898e+42, 2.865021651696239e+42, 2.1606535722648542e+42, 7.894628461479296e+42, 1.6292865050972794e+42, 1.0801266511492531e+42, 1.3113746397285426e+42, 1.910782334837413e+42, 2.6892381548964332e+42, 2.360939700303926e+42, 1.8306897231536527e+42, 1.739760750433412e+42, 2.1376866930193978e+42, 2.196122813391455e+42, 1.5065825286861785e+42, 2.2097367718512044e+42, 1.2096271723904375e+42, 1.1958640126112381e+42, 1.6549962184391553e+42, 2.4356587052564686e+42, 3.888074009673092e+42, 2.832173303060214e+42, 2.8982523268470725e+42, 1.427218639351095e+42, 2.1528667129472257e+42, 6.86085370229958e+42, 5.293963259799936e+42, 1.5024259252943823e+42, 3.625861871629668e+42, 1.086215946302446e+42, 1.3095943375929057e+42, 4.011122471392591e+42, 2.244200636131807e+42, 2.6765385508856052e+42, 1.6486451482516467e+42, 2.1261411234545516e+42, 1.5966786392655968e+42, 2.3103839740575567e+42, 1.3945462213986144e+42, 4.857444938617804e+42, 2.620564562193002e+42, 1.7825731255346825e+42, 3.5852252509780186e+42, 3.157834100787499e+42, 1.9577686495167638e+42, 1.788123148755637e+42, 2.1772561691928634e+42, 1.1046066902384387e+43, 1.345255898011982e+43, 2.6019498879813007e+42, 4.6761300179939783e+42, 1.4083419702521493e+42, 1.585430397116237e+42, 3.589550408481576e+42, 1.7399415908389338e+42, 1.291865204261309e+42, 2.5824451348394636e+42, 1.4475546875447433e+42, 4.1192094607414994e+42, 1.9938423221917302e+42, 1.9666315398433344e+42, 2.0541683604748734e+42, 1.4462800633227065e+42, 3.2422286091483414e+42, 3.884092401206809e+42, 1.8352324844910382e+42, 3.1469385346523024e+42, 1.6541695843122173e+42, 1.6532628485603248e+42, 1.4292154640456887e+42, 2.2531114937139968e+42, 1.5864685290239704e+42, 1.2658039748773296e+42, 1.1796011009223378e+42, 1.6113430949129522e+42, 2.5806878081375937e+42, 1.8711040683948294e+42, 1.401146597755657e+42, 1.938676725048896e+42, 1.363804916677218e+42, 9.697554811557533e+41, 1.3878881154493206e+42, 1.426559606164193e+42, 1.5583247584206287e+42, 2.4198050893544654e+42, 3.394753836768991e+42, 2.1023384334696156e+42, 2.2558167360774796e+42, 1.7410724704399785e+42, 1.7036787853769197e+42, 3.3462245559251036e+42, 2.942610906896854e+42, 2.644788082994808e+42, 3.460321309789661e+42, 3.119063368353697e+42, 2.727925367908497e+42, 2.4020425385183326e+42, 2.157696220286522e+42, 3.549461608793982e+42, 2.2740338974482645e+42, 1.4873815709075382e+42, 2.334148697828964e+42, 3.2121115107665765e+42, 1.830663813251452e+42, 6.631376115496442e+42, 3.23685279047962e+42, 5.224369703283029e+42, 2.012970398872951e+42, 1.6666378835653143e+42, 2.8556798098217834e+42, 5.554639168456352e+42, 5.4824882341752994e+42, 5.057130345475667e+42, 1.7372038023405563e+42, 5.387861945938254e+42, 2.7296976074765517e+42, 7.341423769161314e+42, 2.704295754829837e+42, 2.0019569139748282e+42, 1.9133243553048232e+42, 1.2083171320232969e+42, 4.671060665183188e+42, 9.921337161589956e+42, 3.113243947826269e+42, 2.7424310547877997e+42, 1.5507196291646148e+42, 1.8629946832468686e+42, 3.848108591701416e+42, 2.4679380909912926e+42, 2.1615391657730856e+42, 1.4320880410001103e+42, 3.798728356009977e+42, 2.997356428861068e+42, 3.1055062070310436e+42, 1.9621377985043807e+42, 1.698250372822034e+42, 2.2939835992827283e+42, 1.4900776841996025e+42, 1.0360822417912537e+44, 9.561677059657699e+43, 3.0762985370509824e+42, 1.549385481606762e+42, 3.908370776347086e+42, 1.894045302903601e+42, 1.402185443925971e+42, 3.532200926492235e+42, 1.5515443163607537e+42, 2.409377625993215e+42, 4.257647294764162e+42, 3.5091435609440055e+42, 1.4940784111770894e+42, 2.3052629356756236e+42, 1.6398432081090022e+42, 2.2347150633327787e+42, 3.8474692914586143e+42, 2.830917717775336e+42, 2.1421016790731405e+42, 4.0078431475197916e+42, 4.2699513676397446e+42, 2.962820033174786e+42, 1.7278006527170002e+42, 2.6576483897649007e+42, 3.1271085830159544e+42, 7.928789707154951e+42, 2.006343130680116e+42, 8.292086873685598e+42, 2.219227882803197e+42, 1.873077444664035e+42, 2.1307302770166894e+42, 1.5810139607199484e+42, 2.5403951771053357e+42, 5.881308238458546e+42, 1.3432519634868925e+42, 8.976658283380456e+42, 2.3984442606688883e+42, 2.5399825143920538e+42, 2.2269622822627013e+42, 2.2798120503628085e+42, 2.3996502890678026e+42, 1.746538605232438e+42, 3.003490983180252e+42, 2.6115825206887473e+42, 3.653604171760564e+42, 4.9669253951541205e+42, 1.2872514348162228e+42, 7.82080780176078e+42, 2.0695377402786285e+42, 4.117597472696031e+42, 4.042044486705585e+42, 5.81066174233761e+42, 6.269491402296375e+42, 3.787284757089316e+42, 2.617876617860673e+42, 2.1644245997349574e+42, 2.9719614558217044e+42, 3.7445585144850616e+42, 2.8122533642149873e+42, 1.972962950291342e+42, 2.3924230026954103e+42, 2.4436297407919452e+42, 4.764743341000883e+42, 2.1461358383338886e+42, 1.752762995167896e+42, 1.973423485261706e+42, 1.9335393554907333e+42, 2.194688889837208e+42, 3.881823840448356e+42, 4.255368844987825e+42, 1.418639531772448e+42, 1.849871912377791e+42, 1.468927666435566e+42, 2.530759739683363e+42, 1.522971638977016e+42, 1.4147090406304945e+42, 1.0296047998875644e+43, 2.5130712847861875e+42, 3.081895628883911e+42, 3.452533333181927e+42, 1.7806182788587626e+42, 4.0766937461247106e+42, 1.7383948422232686e+42, 1.7115019584707297e+42, 2.0566259208429494e+42, 2.467609662866719e+42, 1.8320649237091188e+42, 1.5555129987567786e+42, 2.6555576629796316e+42, 1.1897195212845153e+42, 1.9828454962912107e+42, 5.392789278123302e+42, 2.241744722006385e+42, 2.3814648386079037e+42, 4.025294527677308e+42, 1.8972618086434274e+42, 5.686748743013907e+42, 1.0021517541782101e+43, 1.4472948680165256e+42, 3.522755748080901e+42, 1.8063633515569646e+42, 1.9771437778608357e+42, 4.965647110219926e+42, 5.591032646921643e+42, 1.2654623265147754e+42, 1.3686637234238347e+42, 2.5921808477423712e+42, 3.402838291607966e+42, 2.0012239277801995e+42, 2.3396973268655816e+42, 1.785457411066321e+42, 1.606706059163344e+42, 2.5590231249088746e+42, 1.5598703849811043e+42, 1.7269134196162706e+42, 2.079460423794897e+42, 2.1778106516124142e+42, 3.5335263987132414e+42, 6.888993678395034e+42, 2.0487813658155517e+42, 1.3474414373911278e+43, 1.7036012763052358e+42, 3.2593294408871024e+42, 3.1445120451047454e+42, 2.516744623449066e+42, 2.2085687624211776e+42, 2.606817062345184e+42, 3.768640325473359e+42, 2.6378711285638565e+42, 1.6945606049639996e+42, 1.6605328590065668e+42, 2.6907245746758898e+42, 1.405152457297653e+42, 3.3204683799117334e+42, 2.3261224989847274e+42, 1.4926972957314626e+42, 1.742320227709369e+42, 3.908341393059534e+42, 4.2576509642522343e+42, 1.9383038658290627e+42, 2.4138961887478365e+42, 1.3108801443658037e+42, 2.6742600587912276e+42, 3.0489584841224243e+42, 3.1565244516500805e+42, 1.4731203408210236e+42, 1.8666625873003186e+42, 3.6878009567877935e+42, 2.8225276534361573e+42, 4.527195880075495e+42, 2.981422305954978e+42, 3.0224658303954936e+42, 1.77645129631557e+42, 1.228734712641167e+43, 1.5419775308447438e+42, 2.0389035938872584e+42, 4.768006484802303e+42, 2.496584829938579e+42, 1.147205239135599e+43, 1.8141700139348012e+42, 3.3378935794456013e+42, 3.452165594971732e+42, 2.1738136989232728e+42, 1.3675626551181923e+42, 4.257002251531733e+42, 4.394463988928516e+42, 3.713738853308391e+42, 3.8897908293156074e+42, 2.4641678450757673e+42, 1.7419020509467698e+42, 4.1125682668210624e+42, 1.7470166563454187e+42, 2.584242036840989e+42, 3.0893119479791356e+42, 2.2891899503971312e+42, 1.2682155917085934e+42, 1.6875924715531243e+42, 1.679511704176768e+42, 1.9173737261070357e+42, 1.6894788498166776e+42, 2.6921090223402144e+42, 2.1656963973401537e+42, 2.4582336233386708e+42, 1.1762392305148439e+42, 2.0805873318247202e+42, 1.4794797496153327e+42, 3.596297354199158e+42, 1.9389650262056002e+42, 2.089551183271401e+42, 3.18322364597014e+42, 1.746929930233322e+42, 2.957426722426839e+42, 1.145573703813948e+43, 1.577127660763135e+42, 2.4564593877227746e+42, 1.9198821966665127e+42, 1.756332199989958e+42, 1.2417188938779755e+42, 3.033129391416125e+42, 2.749201474875091e+42, 1.5922931578616716e+42, 3.3154035364615943e+42, 2.1665426881932906e+42, 1.7399204607873604e+42, 1.2445913061816046e+43, 2.1669436109669864e+42, 2.217909352299989e+42, 2.8051759080173936e+42, 1.7668569788163045e+42, 3.0382212651715826e+42, 3.7144651109114564e+42, 3.286792530044004e+42, 7.417970226269165e+42, 2.4260141103173856e+42, 3.2562306104131846e+42, 1.2198402835556766e+42, 2.7804584735387242e+42, 3.6498173587445275e+42, 2.0827326435417853e+42, 2.4686758626703813e+42, 5.341004876497524e+42, 1.663481164878919e+42, 1.469157028149323e+42, 2.6393792564254887e+42, 2.218845548038133e+42, 2.2307846832581554e+42, 4.171325278288222e+42, 2.5476355677371606e+42, 2.706880401454316e+42, 1.6462959426057318e+42, 2.0821193435479133e+42, 1.3852967432899645e+43, 2.066033490080144e+42, 5.493003562573474e+42, 1.3243980623774733e+42, 8.101409860984785e+42, 1.5247311840564797e+42, 1.5460991985213902e+42, 2.0071983663170042e+42, 1.2561101466326606e+43, 7.386718075080542e+42, 1.5841554628006377e+42, 1.7713978252087842e+42, 2.330281528856891e+42, 4.0248572762807655e+42, 3.998116453287548e+42, 2.102349505073745e+42, 4.8575483729125126e+42, 4.227684838875137e+42, 3.1303429485806156e+42, 1.2841774875818032e+42, 1.5248344951546873e+42, 1.8977783173298057e+42, 2.7379411521791234e+42, 2.3823309482187812e+42, 2.5269390175044375e+42, 1.46427597429321e+42, 3.5306817630663445e+42, 1.7614781104765752e+42, 2.18736676904402e+42, 2.3997468268221707e+42, 1.3504205899602853e+42, 1.3711308629119232e+42, 3.381948410105056e+42, 1.5779682028105988e+42, 2.434617181610398e+42, 1.406425888885049e+42, 3.502757573389395e+42, 1.6956826806179983e+42, 3.031026788324405e+42, 2.1673365776340617e+42, 1.6499962605070504e+42, 1.6472576842527585e+42, 3.15691555466441e+43, 1.3902517250585921e+42, 2.1103337434996075e+42, 1.9294276236168345e+42, 1.9185376949582697e+42, 3.796105861521176e+42, 2.942586173533709e+42, 1.3192318049650671e+42, 2.4751601485633956e+42, 1.9572837740536245e+42, 1.672336902056483e+42, 2.5165385762636033e+42, 3.4829990545511574e+42, 2.548170482063306e+42, 1.6310823687680817e+42, 2.1824181098974402e+42, 1.745544446433997e+42, 2.3232283329109122e+42, 9.154489436484415e+42, 3.172692319565731e+42, 2.424461873993331e+42, 3.9573272431711316e+42, 1.953020420432327e+42, 4.40092003870429e+42, 2.2290508841983328e+42, 1.99237871002257e+42, 1.785610589783362e+42, 3.221507851209446e+42, 3.4806023284066056e+42, 2.0331943662995484e+42, 2.5203296083249384e+42, 1.9138336222374133e+42, 1.8247718937357895e+42, 1.2936306365935778e+42, 1.5908904554694247e+42, 2.170858286415171e+42, 3.129497655369696e+42, 1.8764210594366248e+42, 1.2307068284324798e+42, 1.7052428964667666e+42, 2.0369009562476038e+42, 2.157503129783885e+42, 3.778275704886036e+42, 5.095103732130757e+42, 1.7229870337669363e+42, 1.1774345631922542e+42, 2.0161439475952063e+42, 1.396985165185772e+42, 1.155535581812939e+42, 1.7488985658311138e+42, 2.7279192653895177e+42, 1.7188993807249504e+42, 1.5248933464951557e+42, 7.693690390425989e+42, 2.3411846198793205e+42, 1.8982458267355065e+42, 1.381899472733831e+42, 1.5039799848003714e+42, 2.2065940167404965e+42, 2.1117791443965576e+42, 2.1686152977298493e+42, 2.487287561259125e+42, 2.147919590061054e+42, 3.4063450971175374e+42, 1.2870410222418012e+42, 2.0942140573376513e+42, 3.19122505625927e+42, 2.1759562546562386e+42, 2.129283372805433e+42, 1.8264890899039805e+42, 3.614521051174968e+42, 2.7218195269454924e+42, 3.119221273416561e+42, 1.6787039359257433e+42, 2.7809173371381807e+42, 2.5623765006386884e+42, 2.1809528717978053e+42, 2.0073055543011885e+42, 3.0529309326990323e+42, 1.6414128203634722e+42, 2.3912908339945524e+42, 1.9551841207382798e+42, 1.2040652814392194e+42, 2.4640035098947632e+42, 2.2170508886339073e+42, 3.466292133864879e+42, 6.870924085052911e+42, 3.324954232882223e+42, 1.4544577979925482e+42, 3.4608907215655156e+42, 1.7677362115049293e+42, 2.1735341843877522e+42, 2.868458481066342e+42, 2.1361691142188177e+42, 3.8785428999455685e+42, 7.570430399760633e+42, 1.8854447810811423e+42, 2.2859522222913724e+42, 1.9980481441673604e+42, 2.4316772305860894e+42, 3.310102265545219e+42, 4.156052121994162e+42, 1.0441336456984538e+43, 3.0047953812975725e+42, 5.4002506750441404e+42, 4.0301209237905997e+42, 5.970850608508048e+42, 9.613129785342381e+42, 1.4491608631446967e+42, 2.178811118004199e+42, 2.638539966290843e+42, 1.8436211964431895e+42, 1.2482633796006826e+43, 3.919842855088944e+42, 1.621776879132478e+42, 2.5443836804362738e+42, 2.7641567082131885e+42, 8.730626134767091e+42, 1.9702286040796247e+42, 2.2666335673832715e+42, 2.821277997779649e+42, 1.44297397341869e+42, 1.3008736975231017e+42, 3.8834312531246046e+42, 2.167080569335874e+42, 2.467655494178766e+42, 7.432338630182964e+42, 3.416187936118861e+42, 5.375270943596084e+42, 4.527258574422753e+42, 6.051300230626072e+42, 3.0487313516238665e+42, 3.751562799043911e+42, 6.650477670495724e+42, 2.0589852220856302e+42, 2.342911674715839e+42, 7.477067742308711e+42, 1.847330599294297e+42, 3.0927869037743004e+42, 4.750430020523488e+42, 1.661887296017991e+42, 1.7451856387004254e+42, 1.59560619024846e+42, 2.0637563328106558e+42, 2.0399243743852328e+42, 1.8904992531393304e+42, 1.7677907495353026e+42, 2.3455187532387113e+42, 2.6535366581331187e+42, 2.232969167830819e+42, 1.784678370890626e+42, 1.7399441677976776e+42, 2.0501238128348928e+42, 2.2109485481065064e+42, 2.4242822412395136e+42, 7.804496571425624e+42, 2.259600103247912e+42, 2.0121692225792464e+42, 3.9624604840686394e+42, 1.464392469150903e+42, 5.17205146943762e+42, 1.9757239801848482e+42, 2.8608117483280305e+42, 7.538308886576849e+42, 4.599069863268571e+42, 2.3082061058828326e+42, 2.8260171009443025e+42, 3.2511005628985744e+42, 2.6274762076160297e+42, 3.468294603677811e+42, 1.7380776728876396e+42, 1.0462735058929516e+43, 2.0953404944401994e+42, 2.9164545458038015e+42, 1.8711176298285524e+42, 2.999253421087225e+42, 4.611857079945694e+42, 9.814223011651105e+42, 1.3565138677538849e+42, 1.6608747537561128e+42, 3.6535115147724756e+42, 1.5992441757233914e+42, 4.82193365848785e+42, 5.158130589002339e+42, 2.142134539416867e+42, 9.855523487126737e+41, 1.935771939393286e+42, 2.851705672168374e+42, 4.695838884929937e+42, 1.734963265661012e+42, 2.2560261028943986e+42, 3.461853445793778e+42, 1.4182084662666093e+42, 2.2824136849814705e+42, 5.589197906361767e+42, 6.74410134250687e+42, 4.5525928011800495e+42, 9.797315165328373e+42, 1.3653102350458644e+42, 3.641117994523212e+42, 3.420927039168855e+42, 3.546936278280235e+42, 1.4834575285327805e+42, 2.975472491791082e+42, 1.6935893975080006e+42, 2.4689741906699886e+42, 1.6935140277009005e+42, 1.2696071059959108e+42, 3.347472578815785e+42, 1.766637496251291e+42, 1.677011491837756e+42, 2.258220952751781e+42, 2.7279073265873554e+42, 3.666575210488811e+42, 3.513794766408434e+42, 1.2946907382802562e+42, 1.1926885691696763e+42, 2.7419426360490306e+42, 3.115207387568801e+42, 2.2245779825558858e+42, 2.5056020554874108e+42, 1.4154426669672655e+42, 5.50299923234986e+42, 5.984816637713662e+42, 2.562690178263708e+42, 1.838708575709975e+42, 8.033008146825972e+42, 2.2327079358010194e+42, 3.618381159184772e+42, 1.6439294097015167e+42, 1.0482069408179474e+42, 2.4049900146610294e+42, 2.2309422238133084e+42, 2.2108863767570648e+42, 1.5208357701890085e+42, 3.320187055021386e+42, 2.889654925096518e+42, 1.466705001606487e+42, 3.1925951650131425e+42, 1.5316040449122638e+42, 3.4497679075159e+42, 2.2613252054905827e+42, 7.479205517716767e+42, 1.419816046639763e+42, 1.8416639287717118e+42, 6.341590444165086e+42, 2.7001780986593146e+42, 3.996675364353908e+42, 1.4019683021266334e+42, 1.2100466934350096e+42, 1.6455126855910797e+42, 1.463133637786373e+42, 2.6163161592158707e+42, 1.7371434306385692e+42, 1.9921487128097872e+42, 2.684065285891588e+42, 1.2837569601188446e+42, 2.8971498442079173e+42, 8.01714793092679e+42, 4.78870515442699e+42, 1.1248659827154528e+42, 1.8139944720762496e+42, 1.102667263843438e+42, 1.2845040510406664e+42, 3.62730888692e+42, 1.5181704621999912e+42, 6.510182671303464e+42, 1.4322680656300293e+42, 3.797624805649189e+42, 3.255605770604549e+42, 2.067197339213221e+42, 2.0864634666237247e+42, 1.3569831913174103e+42, 1.669954064142086e+42, 1.6120511527307963e+42, 1.4624969081953444e+42, 1.772431857740603e+43, 2.385532273527252e+42, 1.8344582355349995e+42, 1.610157813546515e+43, 1.1748867857818055e+42, 2.0500600237725934e+42, 8.190841653264737e+42, 2.052455371765233e+42, 2.1204344386620644e+42, 3.580099360565778e+42, 1.7692074553097413e+43, 1.3718520301053954e+42, 1.8185323919130937e+42, 1.4767007854637927e+42, 1.8458635558287198e+42, 4.329506023488145e+42, 1.9536855437081795e+42, 2.9677730148684864e+42, 3.648595466337923e+42, 2.420929745029846e+42, 5.4959355823035235e+42, 1.5174239771251663e+42, 1.6846225304336054e+42, 2.3509016918742915e+42, 2.1375266521361986e+42, 2.66722490832105e+42, 7.227717481512312e+42, 1.6710819653167026e+42, 4.390100384752474e+42, 1.7456337339717858e+42, 2.159532443421611e+42, 2.3219807008973773e+42, 1.414391022809379e+42, 2.163326393629944e+42, 1.9671912349910293e+42, 2.319042948570317e+42, 1.1780063814776132e+42, 3.635175135368916e+42, 3.049343009137062e+43, 5.3740556924687583e+42, 6.068913125054692e+42, 1.290145364956696e+43, 2.157079660567951e+42, 1.9145447407133542e+42, 1.8273394513453943e+42, 1.6937486164752208e+42, 1.9543223694930464e+42, 2.3916983468405864e+42, 3.106794127355523e+42, 5.2681673060942435e+42, 2.2812743581181697e+42, 3.405053773417452e+42, 2.458682512130467e+42, 2.7110556511185918e+42, 1.5337386267153126e+42, 2.39289654921137e+42, 3.3333507616333875e+42, 5.778272239555213e+42, 4.1369574864157516e+42, 4.509026635797185e+42, 1.463329327928359e+42, 4.6705148847736225e+42, 7.234946452624949e+42, 2.148892343935068e+42, 2.952890655716935e+42, 1.946318486407875e+42, 1.3501948716437759e+42, 4.828843859330238e+42, 2.086274669685818e+42, 2.354414541845031e+42, 5.255061416290422e+42, 2.163379917556042e+42, 2.2569680201506286e+42, 1.9935415814932794e+42, 2.962139832624453e+42, 5.0833290382447e+42, 3.293173705906006e+42, 2.156133224015105e+42, 3.0388506968373597e+42, 3.41669967629761e+42, 2.84722818344597e+42, 2.2461052960548867e+42, 1.7419651183108336e+42, 2.4108708343855606e+42, 4.5276996737041626e+42, 1.49825279847248e+42, 2.5431790375797426e+42, 3.9018334903439974e+42, 2.6997137797310742e+42, 1.5007239940498226e+42, 1.5273125325163488e+42, 4.4876480800650787e+42, 1.165271750875067e+42, 6.317008324453745e+42, 2.2699749569009348e+42, 1.6888815048428478e+42, 4.63718774381469e+42, 3.326695078467345e+42, 4.071578176620165e+42, 1.5153845022158756e+42, 1.3366922087537172e+42, 3.476276354341264e+42, 3.0684539084344925e+42, 1.8388588284099066e+42, 2.6815088656915968e+42, 4.9269871107708994e+42, 1.7518072634374475e+42, 4.394381495089532e+42, 1.4506543131560791e+43, 1.248206770508778e+43, 2.3826903323670602e+42, 1.4806010667089398e+42, 1.2810701008654691e+42, 4.1649277140711664e+42, 1.568312576197224e+42, 1.4160702403487554e+42, 1.4597948835396253e+42, 1.743006847246108e+42, 2.1468740342780454e+42, 2.2347655641718062e+42, 3.016626868724271e+42, 3.4101314599177096e+42, 2.4048384160087786e+42, 2.049563695108203e+42, 2.004197578513277e+42, 3.441814816472303e+42, 3.29676203354075e+42, 1.7533666753445665e+42, 7.203234425623393e+42, 1.953861338087065e+42, 1.5381781520678106e+42, 2.7683373769345073e+42, 2.0193275306659618e+42, 1.8821487215705032e+42, 1.826449422823767e+42, 1.2942494776020908e+42, 1.3549760205938254e+42, 1.78360606521773e+42, 2.811260044316452e+42, 1.672100173368694e+42, 4.097896218761319e+42, 1.425174771276257e+42, 2.458770990597132e+42, 4.101278811556238e+42, 1.5573211983699993e+42, 1.9423760630108427e+42, 2.0849672680861315e+42, 3.380671915503866e+42, 1.895474678954394e+42, 1.6812173492035027e+42, 8.84499840606623e+41, 3.9291174072438446e+42, 1.976505827690343e+42, 2.7773119375418082e+42, 2.1082667759071796e+42, 1.869586043793774e+42, 6.274517965422196e+42, 2.799613453684089e+42, 1.92242020346937e+42, 8.070410813276425e+42, 5.591463278071261e+42, 2.0394587138714508e+42, 3.338410106526636e+42, 1.7770258253464582e+42, 9.341567576176676e+43, 5.912957312081601e+43, 4.925904947471181e+43, 4.3751553564576365e+43, 4.4400446555865535e+43, 8.993788196320995e+43, 1.3289916777510246e+43, 9.590107378333037e+42, 4.710621491204037e+42, 2.072365505571764e+42, 3.303277494043328e+42, 1.7055700344148955e+42, 1.8748628569311084e+42, 1.6233101470066017e+42, 3.2035846935980235e+42, 3.133038579310925e+42, 1.4864917025576984e+42, 2.0939194684217587e+42, 2.0311777485614413e+43, 1.9835110518826558e+43, 1.8908351167009596e+42, 3.5583345959981454e+42, 1.5350844091592173e+42, 2.4407876662110414e+42, 2.3026145958438236e+42, 2.487967418426912e+42, 3.5465229657219915e+42, 6.703544503210261e+42, 1.3023381169572734e+42, 2.3251176532794673e+42, 4.540578036142255e+42, 2.172083431788509e+42, 1.687937062568813e+42, 2.5030910880157195e+42, 3.8970559266652314e+42, 3.995638021529344e+42, 1.0140387471882018e+43, 1.5419610073423186e+42, 4.220494333126112e+42, 2.4973798983923384e+42, 2.0502130841889005e+42, 2.3283231142396347e+42, 1.619319831913587e+42, 1.2129042352137543e+42, 1.516977254412277e+42, 2.0538215665161247e+42, 2.1339775678426565e+42, 2.038360308820594e+42, 1.1864165081992096e+43, 2.014252779374681e+42, 4.274512759742005e+42, 4.095460749896614e+42, 3.9072123325432195e+42, 1.3964579076236368e+42, 2.658894852189157e+42, 5.0845830907423416e+42, 4.1461703658604565e+42, 3.2556835588430284e+42, 9.782356467943046e+41, 2.1796830384073585e+42, 4.471894033406159e+42, 3.111071549121479e+42, 4.2213326194403937e+42, 1.9709181126670978e+42, 2.034667250845231e+42, 8.327091123705625e+42, 1.651814762280882e+42, 3.2255663765648526e+42, 3.154292258376105e+42, 1.6159790333071572e+42, 3.634898191182286e+42, 2.2298164823878862e+43, 1.9543868822659337e+42, 7.562264764591568e+42, 1.0569052378759862e+43, 2.404544543810547e+42, 1.3844029851505125e+42, 4.2465038252019664e+42, 6.21513686334304e+42, 2.407511896552215e+42, 2.4854111050506123e+42, 2.6625498171363434e+42, 1.597590976249245e+42, 1.7127459586717632e+42, 2.6186940705997003e+42, 5.1277571657402275e+42, 3.0609748237887095e+42, 1.3084622466883538e+42, 2.2601855560757036e+42, 6.491656345199517e+42, 1.543010652366626e+42, 1.2755222630325518e+42, 2.1789978972226962e+42, 9.996143624304399e+41, 1.6382384873646698e+42, 6.116616280682443e+42, 9.960819634500838e+41, 2.539368258487734e+42, 4.2685800733073975e+42, 2.4486409634738755e+42, 2.227294985487694e+42, 1.734918271914e+42, 2.530815453261647e+42, 2.1262827216744494e+42, 1.4602751650774678e+42, 1.3314643051960577e+42, 8.514217914918099e+42, 1.3856586759923774e+42, 1.3250547557996058e+43, 1.883595961606383e+42, 1.089971431143323e+43, 1.2403618110030268e+43, 4.705195991314534e+42, 1.8332978057654326e+43, 2.0598356480371077e+42, 3.87805072072775e+42, 2.4282650479902798e+42, 1.038135166428599e+43, 2.2940786567822186e+42, 3.5232623461150434e+42, 3.66450704828118e+42, 2.442188092166959e+42, 3.9473084522260536e+42, 6.39369683241062e+42, 3.8661886799371845e+42, 2.0096516492955838e+42, 1.3408186065526126e+42, 1.7398764082967256e+42, 2.17788553956138e+43, 1.8694244272539497e+42, 3.3504518075532184e+42, 3.113345835749985e+42, 2.3224807738647427e+42, 1.8100754248297386e+42, 1.988149252128834e+42, 2.7682491456015048e+42, 2.029734123383764e+42, 4.182166560553205e+42, 1.426348935294584e+42, 2.7047639508172653e+42, 2.2956314557565327e+42, 4.162667278934011e+42, 2.4991462126609535e+42, 3.4275569467194335e+42, 2.5581877217450743e+42, 2.6216456394788428e+42, 3.833908376596675e+42, 2.7660333736152163e+42, 1.4444151487997005e+42, 2.2637267973689158e+42, 2.929368379810567e+42, 1.2111179114124358e+42, 2.4003868282430143e+42, 1.983381267372609e+42, 4.283243565419969e+42, 5.3338150444565376e+42, 2.7817682063626105e+42, 2.9187370493479954e+42, 1.412889956332339e+42, 1.5331405501315957e+42, 1.3883638287510801e+42, 7.251006034825913e+42, 1.536247969029481e+42, 2.6484285786347445e+42, 1.8446775688008246e+42, 2.1477145997345962e+42, 3.0402335819166354e+42, 1.3921205477525202e+42, 1.249670519074383e+42, 1.0995006809105218e+43, 3.4801811770354105e+42, 3.4601010667516683e+42, 2.3848977895448824e+42, 1.3108270089590537e+42, 6.117746490930721e+42, 7.14793236025003e+42, 4.523854398603084e+42, 4.7395768610224734e+42, 3.741473456042115e+42, 2.5573294188858098e+42, 2.2111208087972095e+42, 3.8467341469998377e+42, 9.890097632599309e+42, 2.2262907217095933e+42, 2.4231312163666354e+42, 1.3794061506841247e+42, 5.4965575839492996e+42, 3.3071706918020924e+42, 1.5078770098787157e+42, 1.6170073580570796e+42, 1.6661288536797887e+42, 2.817441010781459e+42, 1.6904551071628994e+42, 1.9161086954599707e+42, 1.9837801083700006e+42, 5.809742905827072e+42, 5.225988230220174e+42, 1.807932076298773e+42, 2.0035882885065885e+42, 1.4298092512550707e+42, 4.294548544954139e+42, 1.8719152813460586e+42, 1.867116625588948e+42, 2.6427757369665523e+42, 1.7372442844938846e+42, 2.271495091621979e+42, 3.243008209854504e+42, 1.5858456092304693e+42, 3.605700116205401e+42, 4.1960239284655574e+42, 2.8237035608833785e+42, 2.247158525311611e+42, 1.6550925149021846e+42, 2.02980157627834e+42, 2.5520474504681453e+42, 1.7713082966607058e+42, 1.9595154796619945e+42, 1.8070184261817467e+42, 3.127779847291596e+42, 6.08524748195226e+42, 3.0624695018659214e+42, 8.428195263682187e+42, 4.384887772805882e+42, 9.114573664271877e+42, 3.5527119067519913e+42, 1.5028253974468626e+42, 8.854646493295684e+42, 1.3670932496272956e+42, 4.168937608192319e+42, 2.6240678516205468e+42, 9.015951730259272e+42, 1.5250144372043415e+42, 1.7639640656598553e+42, 2.3167896815706507e+42, 1.9598250528334237e+42, 2.0615342193810832e+42, 1.7070120332104162e+42, 2.945665830944794e+42, 2.5097008850106215e+42, 1.6037257404232965e+42, 1.6156147352238728e+42, 4.1353117201639385e+42, 2.164267580225753e+42, 4.8086171534976694e+42, 2.4216412544184994e+42, 2.61045010683483e+42, 2.1723073983979863e+42, 1.214460189784193e+42, 2.997156349481141e+42, 1.628041322059654e+42, 6.888526036322438e+42, 3.031233348735543e+42, 2.1518234181101253e+42, 2.2856038691023376e+42, 5.99237536623779e+42, 1.2844099782254688e+42, 2.4480836237924595e+42, 3.782525863102905e+42, 2.837539994200461e+42, 2.6628244368924546e+42, 1.7048595137471852e+42, 2.2040326687222462e+42, 1.788781994089528e+42, 3.398819045204752e+42, 2.6215585430931276e+42, 2.387959782354939e+42, 3.8234988151380746e+42, 2.082014067528955e+42, 3.7523634375982807e+42, 6.945277774817913e+42, 5.190855080022024e+42, 1.7629305995545303e+43, 2.253970913882843e+42, 1.41097368861192e+42, 3.5925183231685775e+42, 5.582199058521009e+42, 2.0591773539085286e+42, 9.42661026152909e+41, 2.290510766307908e+42, 2.4291640214982914e+42, 1.2790958306097669e+42, 2.682683435607368e+42, 2.11021199134725e+42, 2.6732235301793176e+42, 5.4247386834486603e+42, 2.3876301049188983e+42, 4.707835049574237e+42, 1.3888670576467953e+42, 1.7779156872296158e+42, 2.284439563904383e+42, 3.484085321237567e+42, 2.5287025729401208e+42, 2.82339213085179e+42, 3.467153426586892e+42, 2.1378781843075688e+42, 3.303600920297355e+42, 2.064468698032991e+42, 2.136536318916363e+42, 2.207627623938147e+42, 3.1045961387344594e+42, 1.5039360197249013e+42, 1.3609873320723684e+42, 1.8946146465051406e+42, 1.8324785558269668e+42, 9.842534327413677e+42, 2.3256069672288244e+42, 6.544338961724076e+42, 5.57706540798376e+42, 2.3740863026720108e+42, 1.857688183855404e+42, 4.261887727269602e+42, 2.25746663479208e+42, 4.810429835235833e+42, 2.093309956909445e+42, 1.8216786458396707e+42, 2.747568498501842e+42, 8.258788014429215e+42, 1.2674590394210959e+42, 3.749329370421235e+42, 4.628212361298412e+42, 2.7064742422464208e+42, 2.523680682178366e+42, 1.560649858939103e+42, 8.651068752483532e+42, 7.737406253941578e+42, 2.8389923226488893e+42, 1.9591857123501112e+42, 2.6805124554629483e+42, 2.263475659626881e+42, 3.0611105041395315e+42, 1.652268022296442e+42, 2.208972017050625e+42, 3.9133416667176454e+42, 2.801381174436632e+42, 1.0289227785615348e+42, 1.948542078012216e+42, 2.1901352764777425e+42, 1.4402550351742944e+42, 2.5802831739422836e+42, 9.325296754247261e+42, 3.471712938578219e+42, 2.1916340816412063e+42, 3.074776413999851e+42, 2.0440784718045924e+42, 4.5529182668948916e+42, 1.230077937355183e+42, 2.545634657476628e+42, 1.3252116697208275e+42, 2.50509476587651e+42, 2.4222567712845527e+42, 3.5941603928676614e+42, 4.607322388300316e+42, 1.3458344416145123e+42, 1.704666628266178e+42, 2.6230370830996902e+42, 1.826524072652778e+42, 2.547862420187241e+42, 6.563670751471678e+42, 3.280893513741087e+42, 1.2857005844674286e+42, 2.1690640635408902e+42, 3.0937728826771943e+42, 1.788128909466407e+42, 2.2288942864661034e+42, 2.7107034265144784e+42, 8.100692335353871e+42, 2.496645856898701e+42, 1.5614281000776354e+42, 3.0646594834062604e+42, 1.706848189694506e+42, 5.581790257990145e+42, 2.1827573270724978e+42, 3.02574546616886e+42, 6.865702531576584e+42, 2.0480092059881307e+42, 2.973582491180305e+42, 2.247105443990562e+42, 1.1202418103588198e+43, 3.592579289688356e+42, 1.8188960555779883e+42, 3.1159757219989903e+42, 1.4381884719519762e+42, 6.20326722103671e+42, 2.4045298987566307e+42, 1.639241545597173e+42, 1.6445747539373868e+42, 3.775239329498368e+42, 2.65663260556944e+42, 2.333801610210986e+42, 7.678341798505233e+42, 3.021209398879283e+42, 2.909893815740524e+42, 1.9895512854249097e+42, 3.0442956661149496e+42, 4.3351025393551726e+42, 2.5154443982286308e+42, 1.1637372005819931e+42, 2.0284120988404443e+42, 2.5339205030305565e+42, 1.3433375101174077e+42, 2.827651143092854e+42, 1.7517937824499018e+42, 2.560489974365833e+42, 5.529620603969398e+42, 1.5728296558203006e+42, 2.2680460700637674e+42, 2.655116100655223e+42, 2.583044422793917e+42, 1.9851931137045004e+42, 1.783838687883498e+42, 1.980651737086983e+42, 3.518624232941117e+42, 1.4153040481768624e+42, 3.9786651640382336e+42, 1.0603042508051777e+42, 2.688278772075577e+42, 1.587468870654148e+42, 2.4192597385711962e+42, 3.974551821607426e+42, 7.504485138904243e+42, 1.7273188215407984e+42, 1.5132226423141486e+42, 2.1550990680294235e+42, 4.274175642221839e+42, 1.992324796798274e+42, 4.6697151635182483e+42, 2.1921535187776878e+42, 2.4898707871578795e+42, 2.1755681818111127e+42, 4.183760287369196e+42, 2.4396399988010933e+42, 1.6940902334411734e+42, 1.34795603118016e+42, 5.0028653312570133e+42, 4.000049242165289e+42, 1.6820370984589093e+42, 2.1516755180154955e+42, 2.3473475877619672e+42, 2.1521872639433573e+42, 2.3884135557861008e+42, 2.205932379679897e+42, 4.09613948449651e+42, 2.2002078638518608e+42, 1.6613343613690785e+42, 3.717599590056254e+42, 1.2386732925740403e+43, 1.6577979197940565e+42, 2.4696279195517913e+42, 1.60680159115081e+43, 1.2714357771550726e+43, 2.682837983068724e+42, 5.531735944977382e+42, 3.3790730334257364e+42, 1.9029460646118547e+42, 1.1688781441559454e+42, 2.284530428509359e+42, 5.928826684553339e+42, 5.365934497020573e+42, 2.4316245683975023e+42, 2.920543874156799e+42, 3.455755833185082e+42, 2.5695363000196977e+42, 7.225024509225763e+42, 2.5460203544121834e+42, 1.4456692923404163e+42, 1.0153576900956312e+43, 2.1073642010937425e+42, 2.2183521338713553e+43, 1.86601153379784e+42, 5.704021216809684e+42, 1.6050867310501967e+42, 1.9522961537612822e+42, 4.380035411808667e+42, 2.6693611655004644e+42, 2.450037536941013e+42, 2.2008129510813924e+42, 2.3232327442586782e+42, 1.8776702524345563e+42, 3.282871082687198e+42, 2.0381922841559964e+42, 1.3893377432829802e+42, 1.499693725523307e+42, 1.8587084619750215e+42, 1.3422055372666168e+42, 1.6370731099871915e+42, 1.6346395815932802e+42, 9.038345573846571e+42, 1.6808923150033592e+42, 2.9313074501502765e+42, 5.0418022686343795e+42, 9.679426375326566e+42, 1.9606880655218094e+42, 6.700740309481009e+42, 1.840422002330462e+42, 1.8362467912451482e+42, 2.2282415768119242e+42, 2.19378166131817e+42, 2.8972727156939886e+42, 1.7798077090393244e+42, 2.0317377390232663e+42, 3.867252773286425e+42, 7.94282500719204e+42, 4.001886552127774e+42, 2.1430366633823445e+42, 4.1217356057567074e+42, 3.226357749858794e+42, 1.7116462144230218e+42, 8.888301617234538e+42, 6.369927056004459e+42, 4.166642258441084e+42, 2.2003708914895045e+42, 1.9678962743415436e+42, 1.272914733826717e+42, 3.2318469575838504e+42, 1.1125318033064894e+42, 2.041540429114986e+42, 4.5119440038570006e+42, 3.775208272293749e+42, 1.3437606227862298e+42, 2.735148758637762e+42, 1.6119936704321546e+42, 1.5028401361338287e+42, 3.314709271671499e+42, 3.5957518122392915e+42, 2.0150512697716972e+42, 5.073365941081767e+42, 2.2717691642223916e+42, 1.9729413411887377e+42, 2.2241930766162274e+42, 1.2612814033864789e+42, 2.2944112255419976e+42, 2.268942263168256e+42, 1.7925639293173495e+42, 1.9191318206434717e+42, 1.7604285144017428e+42, 1.4913786185885537e+42, 1.3018914697436766e+42, 1.1933567762283753e+42, 1.4204452481670754e+42, 2.869363986399929e+42, 2.928900851554562e+42, 3.5629051029345795e+42, 3.7941871526417916e+42, 1.5396546338599988e+42, 2.7802863726607888e+42, 2.0303038042926955e+42, 3.6147346461017034e+42, 2.0830287605433176e+42, 4.066119997303278e+42, 8.825104246102854e+42, 3.557038131697089e+42, 4.1656968521847834e+42, 2.5364771115875342e+42, 2.4030121840556228e+42, 1.4681484680577373e+42, 1.975115467021758e+42, 2.4351179711975472e+42, 2.868715874120301e+42, 8.836248069021716e+42, 6.929097155353025e+42, 1.3861959608390845e+42, 1.1901281404725051e+42, 1.946411615001256e+42, 1.5025943102090483e+42, 3.2567079779688946e+42, 1.0546912467859404e+42, 4.501396316380853e+42, 2.4022891872000307e+42, 3.127509555129862e+42, 3.1742733187270033e+42, 3.358238552019933e+42, 5.1447170901496026e+42, 4.06667345586935e+42, 3.8880239204654236e+42, 2.2065591608464335e+42, 4.8284601962460567e+42, 6.704630343857682e+42, 4.9388638396315745e+42, 3.198570797415162e+42, 3.968309739185451e+42, 4.6296016731128234e+42, 2.4070827331043305e+42, 2.2622889670068588e+42, 2.4411848738963507e+42, 2.1568117139432005e+42, 1.935050293834285e+42, 2.6057474541952278e+42, 2.281790688154615e+42, 2.5442114466747167e+42, 3.0890738592058837e+42, 6.982947930011678e+42, 2.6077831473410056e+42, 4.335146270734156e+42, 2.6766642167720615e+42, 4.706786257506025e+42, 2.117729500713953e+42, 2.0241380915906473e+42, 1.7848283705615256e+42, 2.219469561068593e+42, 2.061439392876479e+42, 3.152493455498851e+42, 1.9092801702381673e+42, 2.243074740953669e+42, 1.6991091474611503e+42, 1.6672720707030212e+42, 4.1037483610888885e+42, 2.276749659288189e+42, 4.6588173005146654e+42, 2.4888126889137738e+42, 1.1172096994253545e+42, 1.3932622085608557e+43, 1.7644342299781282e+42, 1.5521775082295434e+42, 2.3891110639872174e+42, 1.1997123279446765e+42, 4.64155242135668e+42, 2.098030833618333e+43, 1.644428104443564e+42, 4.614787476835241e+42, 2.85745875529907e+42, 4.8309927585013964e+42, 1.346359814777954e+42, 1.3719335844230022e+43, 9.191035947102322e+42, 1.255135968626544e+43, 3.692589528005608e+42, 2.3736212568494334e+42, 1.4387054776343807e+42, 2.128265238653471e+42, 2.2929337734880555e+42, 2.713311168603852e+42, 1.4978184504197983e+42, 1.7434917446242107e+42, 1.510568908611242e+42, 2.1242279339897372e+42, 1.5171706382484523e+42, 2.473523990059129e+42, 6.999384215363244e+42, 1.121402388923921e+43, 1.0408405941632735e+43, 1.671222181597331e+42, 2.0216018905703457e+42, 3.3182688904753083e+42, 7.808596022764442e+42, 2.0140409115486446e+42, 2.0191903445723043e+42, 1.6693471071298737e+42, 1.2935245731476405e+42, 2.3493132060405293e+42, 3.083671388379804e+42, 4.074526767159579e+42, 1.5278389784535315e+42, 2.3425117885834302e+42, 2.747212867307929e+42, 2.0711425922704427e+42, 2.0600562621936754e+43, 1.7947508592843938e+42, 1.6482414771223606e+42, 3.386405610818327e+42, 1.2084429388498172e+42, 2.7971962423053184e+42, 1.7821007613654825e+42, 4.1930636735563574e+42, 4.148744076411571e+42, 1.337631077925485e+43, 2.2437791079950635e+42, 1.8335208406554385e+42, 1.997278097141356e+42, 2.9318520141167233e+42, 6.239488694349345e+42, 1.9004626056176222e+42, 2.1188751262652776e+42, 4.035403832185757e+42, 1.9165777739774063e+43, 2.6344387836765986e+42, 4.1741177142108083e+42, 2.2910844606289575e+42, 2.3059029527915576e+42, 3.2021067570867256e+42, 1.9006771204220137e+42, 1.7198302633254437e+42, 2.900269980849716e+42, 1.0890313561594126e+43, 1.7555193739596906e+42, 1.6594778767986726e+42, 2.4018439116277292e+42, 4.172390181578466e+42, 2.346292954243896e+42, 4.4681789070973665e+42, 2.281229238837191e+42, 2.2433576784574867e+42, 2.3412892850156398e+42, 5.651316080306232e+42, 3.2449114762648977e+42, 2.143939667619079e+42, 2.034192011625071e+43, 2.1573456112817713e+42, 2.9910930112528664e+42, 2.2745259093005586e+42, 8.584457731709173e+42, 1.9894741058497325e+42, 1.138870751616758e+43, 1.7972702090955813e+42, 4.913579740168845e+42, 2.557089115499039e+42, 3.9364740976739925e+42, 1.47489922526653e+42, 1.7770197692437586e+42, 4.684944273881486e+42, 2.41554183472182e+42, 1.7611055330777734e+42, 4.4622631818863435e+42, 2.0557744908204014e+42, 5.552678515932771e+42, 2.6008934768238435e+42, 2.869995543945588e+42, 5.240913760012161e+42, 1.87114606553757e+42, 4.276000410771973e+42, 1.3487334244181704e+42, 1.4669823606029845e+42, 5.861355926227491e+42, 1.5266345599657644e+42, 2.6526520620277906e+42, 3.7359109010991385e+42, 1.6382865603540368e+42, 1.3173481941112395e+42, 1.8975357519097164e+42, 3.126882609582487e+42, 1.4925757613508168e+42, 9.553759040670254e+42, 3.2253254850747575e+42, 1.32706191875994e+42, 3.198529010926035e+42, 1.582902230963802e+42, 3.734445240808967e+42, 2.522431640220212e+42, 4.071628851333777e+42, 2.0444003105338627e+42, 1.606020157063473e+42, 2.0902209992238868e+42, 2.6804084147950172e+42, 5.145633748826602e+42, 2.3465699403873865e+42, 2.396085646718949e+42, 2.2821893214696093e+42, 2.4295127340257622e+42, 2.0174462745369095e+42, 3.479093637310274e+42, 5.703310490630905e+42, 2.3152906963407204e+42, 2.17300299990782e+42, 3.9243629828048404e+42, 3.5289010016087826e+42, 5.3393155710250894e+42, 4.6939570990451363e+42, 2.4404315969431435e+42, 2.6579026857488822e+42, 2.0845423437792163e+42, 1.433340763071576e+42, 4.293370694029596e+42, 2.558976507005878e+42, 1.4680737753745886e+42, 3.145885232187421e+42, 1.8200439335564557e+42, 3.4528039504104587e+42, 4.5665158265565965e+42, 7.769206543903807e+42, 2.1645655483406057e+42, 2.9578405005277214e+42, 3.062434685462257e+42, 2.1159696931773264e+42, 1.9936140107510503e+42, 1.446128893562891e+42, 3.0559529932062724e+42, 2.841374507423523e+42, 2.7260294141010152e+42, 1.285924807219992e+42, 3.7539389648270406e+42, 2.8751944887438175e+42, 2.2056382525762374e+42, 1.446141346649616e+42, 1.1590204375234118e+42, 1.5553117107855846e+42, 7.811182280463995e+42, 2.3004071812947034e+42, 1.460651382304734e+42, 1.4598809742477547e+42, 1.087549687499003e+42, 2.1907789152146916e+42, 4.154861618373083e+42, 9.475184422899233e+42, 8.355803118930344e+42, 1.5661714343975866e+42, 1.3373475651136784e+43, 8.475680675806239e+42, 6.756432711191404e+42, 1.7287217826785773e+42, 7.036900933822499e+42, 1.7530295976594525e+42, 2.3032478444637776e+42, 2.660834443960404e+42, 5.880029939616709e+42, 3.295229789544171e+42, 3.598745058852219e+42, 2.1343941602998593e+42, 3.6725318463598614e+42, 4.984804289446155e+42, 9.881210001855995e+42, 2.9608594807388006e+42, 8.220484920749573e+42, 2.36003875542427e+42, 2.0609019151108792e+42, 2.1365295438678574e+42, 3.6139264607153844e+42, 3.492414679667685e+42, 1.2581873305946235e+42, 3.7912958524681716e+42, 1.857111352522856e+42, 1.7406418140636436e+42, 2.6635307965765507e+42, 2.0223988366132987e+42, 3.7631895169231606e+42, 2.2292947374917954e+42, 2.1576614236119755e+42, 6.099916312800428e+42, 3.8126077653781485e+42, 1.40087296626899e+43, 2.9662606217361334e+42, 2.2158569189054722e+42, 4.0241278798301044e+42, 3.087155689888478e+42, 3.7817538849439164e+42, 1.1482894403123197e+42, 2.282603089856416e+42, 4.260377686394947e+42, 3.8939547380298675e+42, 5.646385198717656e+42, 1.2347753323252048e+42, 1.5680756518594065e+42, 1.7343989907863253e+42, 4.1662219396408186e+42, 2.013738742649134e+42, 1.621981336384612e+42, 1.8051797485291776e+42, 1.9937585428778183e+42, 9.966080218867483e+42, 1.3043303301156927e+42, 3.464559301029574e+42, 5.543302668469421e+42, 1.777135422581966e+42, 3.13175837002331e+42, 1.1323521589447019e+42, 3.814908389533179e+42, 2.2561668818963693e+42, 1.5915315918180423e+42, 1.4109854640220247e+42, 1.867366157035795e+42, 1.4119011116794263e+42, 8.190191470483707e+42, 2.4526934634709457e+42, 1.7438954915685778e+42, 2.8082388211539617e+42, 4.9491494054028505e+42, 5.298922305259868e+42, 5.4090512042382835e+42, 1.9102959402091666e+42, 2.848365548923405e+42, 1.897227530853884e+42, 5.99522104149172e+42, 2.5422459471256336e+42, 2.3818247923951172e+42, 3.8656965685397835e+42, 1.5426485757768626e+42, 1.663493624238165e+42, 1.3160932921270437e+42, 1.6823825813434364e+42, 2.175234849338485e+42, 4.495253960574583e+42, 1.2820577710728995e+42, 2.459812377857822e+42, 1.5087457890117007e+42, 1.4555410070684465e+42, 2.386792400427934e+42, 2.1691879933410014e+42, 1.5415324820875192e+42, 3.059875579335064e+42, 2.9200153399090684e+42, 1.8663996609194016e+42, 6.482768960249681e+42, 5.277944240322835e+42, 1.543175066926916e+42, 6.022716393840861e+42, 1.9290572432439584e+42, 2.201463741230867e+42, 2.1869151479860958e+42, 2.4676041828152156e+42, 3.497648556250109e+42, 2.3305244293436678e+42, 1.8844420868481984e+42, 1.542413965451985e+42, 1.7758090616683883e+42, 2.3476794098380006e+43, 2.739651292629638e+42, 5.4748637552937966e+42, 4.0969578621048894e+42, 4.180569269190998e+42, 4.590550526055052e+42, 2.320642045733923e+42, 3.360970940210004e+42, 1.9807102245589943e+42, 5.3555213979594806e+42, 1.0118287867083434e+43, 1.4294766646498754e+42, 5.726889686974566e+42, 1.6813449042758138e+42, 1.0470590549409154e+43, 1.6586539499971705e+42, 3.279519772700445e+42, 1.2185922729588902e+42, 1.794835858936105e+42, 2.091842786661124e+42, 1.4938172436529195e+42, 2.82611612798207e+42, 2.0308858764415843e+42, 3.336016066540429e+42, 2.216765143579188e+42, 2.0788438514312747e+42, 2.838893681854517e+42, 2.7275039311794028e+42, 7.11711835404739e+42, 1.640230336111363e+42, 2.1329113767389686e+42, 7.701073910246591e+42, 1.7454500033301807e+42, 1.5948198635669658e+42, 1.8501139541776183e+42, 2.009525514726225e+42, 1.269662778138159e+43, 7.566126504857055e+42, 2.2487750901224663e+42, 2.324708077266804e+42, 1.902640602888914e+42, 1.3891096801072115e+42, 3.72218736643906e+42, 1.5659848239215245e+42, 2.4189837302809816e+42, 5.641445088491614e+42, 2.0633899044881653e+42, 1.1664124824573287e+42, 2.7735652310237417e+42, 1.3806384206404943e+42, 3.0282706178758817e+42, 2.1110306494025678e+42, 3.0903487584981356e+42, 2.220444706965338e+42, 7.711207861321131e+42, 1.906694988172288e+42, 1.2422571664029846e+42, 1.552765776075256e+42, 1.7286088115360657e+42, 2.1328682606713074e+42, 4.222659575924639e+42, 4.3523019709955744e+42, 5.1126936756441493e+42, 2.6686057715928387e+42, 1.529698997823123e+42, 1.6057413530196818e+42, 1.7693932760546315e+42, 1.5926294611466314e+42, 1.949141634192659e+42, 6.525698148951062e+42, 7.868816828278949e+42, 3.212520004964364e+42, 1.71521965857033e+43, 3.3414330030447144e+42, 1.566238593489897e+42, 2.7267484709557838e+42, 1.9268496278218202e+42, 3.0258695131711615e+42, 9.598115574614128e+42, 1.8896527132478494e+42, 3.8297509865915155e+42, 2.50831799828982e+42, 1.5333277491191107e+42, 1.6305498931266675e+42, 4.193712929095292e+42, 1.8387409532727707e+42, 3.8287887542810147e+42, 1.6600739356276444e+42, 2.7743712874968932e+42, 2.392136668672683e+42, 9.611672158525907e+42, 3.703689606210503e+42, 1.5153959248061205e+42, 2.095284860454113e+42, 2.67169351496367e+42, 1.390138851265801e+42, 1.4559887139306544e+42, 1.9012575115851646e+42, 1.690819257494585e+42, 1.5180515695082005e+42, 3.113876383512208e+42, 1.9745765034250765e+42, 2.7766398055754886e+42, 9.486811650374589e+42, 1.539105295404881e+42, 2.6657757423169635e+42, 5.067798852781277e+42, 1.7508663970965643e+42, 1.7644869183055097e+42, 2.772542155390922e+42, 1.6403429566628865e+42, 1.8141367813393892e+42, 5.0601907467156926e+42, 2.5823229821202766e+42, 3.4572590994978624e+42, 1.726400351607666e+42, 1.5406551478924493e+42, 1.4877040508947013e+42, 3.221276577429811e+42, 2.0924310098819023e+42, 2.0103930213219283e+42, 1.3450561018455647e+42, 2.9016864849194186e+42, 3.721430743891887e+42, 1.386760899663315e+42, 2.263793032364877e+42, 2.7159483358240354e+42, 2.1309256699588286e+42, 6.202909490194154e+42, 1.7333931845833155e+42, 7.195009227342008e+42, 2.146148663076172e+42, 1.8727457652242665e+42, 2.193035457052903e+42, 1.6316978371532515e+42, 2.2310629911402868e+42, 5.94464230991385e+42, 2.454364626268654e+42, 1.988399450933812e+42, 1.5691737823032226e+42, 1.0646089151220616e+43, 5.000897870972857e+42, 3.088376320605667e+42, 2.062048761117194e+42, 9.435926385038428e+42, 1.791834799823271e+42, 8.47377737043923e+42, 5.444290449722284e+42, 1.4906875095748292e+42, 1.4849780173278663e+42, 1.8774633734493804e+42, 2.3362519833638315e+42, 1.37586627522063e+42, 6.132652141633891e+42, 2.422958065863971e+42, 2.1642907158870625e+43, 2.7995101287683033e+43, 1.573368656569168e+42, 2.0922428492645616e+42, 1.531050914046975e+42, 1.2834072186756535e+42, 3.2594108375796943e+42, 1.6659952740315205e+42, 1.3391398215690203e+43, 1.2147336957427467e+43, 2.5285889051806534e+42, 2.4335938588777544e+42, 1.9797295588196686e+42, 3.321256674542079e+42, 1.9370239923144322e+42, 1.2731387861096416e+42, 1.742548015873988e+43, 2.941190548794722e+42, 2.3067168984368324e+42, 2.0536108218739716e+42, 1.7910725411438115e+42, 7.004472257112719e+42, 1.9506693524923804e+42, 2.0799311279927404e+42, 4.2764193142076073e+42, 2.2523987552090602e+42, 1.438812161993948e+42, 1.8646639785739727e+42, 1.66977614179844e+42, 4.022907639243937e+42, 2.430450832915892e+42, 1.715115793812188e+42, 2.1382134271250586e+42, 3.027661533699284e+42, 1.9725883887764883e+42, 2.250588587728428e+42, 1.2873300950945078e+42, 2.586604531509436e+42, 2.740605462320971e+42, 2.5099008523502497e+42, 2.2157698911475225e+42, 1.6527724101212353e+42, 1.5951075275005478e+42, 2.4538866710457243e+42, 2.9890490755067456e+42, 2.841543379709251e+42, 1.4077060056179655e+42, 2.505112772107215e+42, 2.7749103150462775e+42, 1.803625867309654e+42, 1.062359632654154e+42, 3.2109978733506953e+42, 1.4295851595860762e+42, 3.43033470192193e+42, 2.2641844490040678e+42, 1.873111209225307e+42, 1.7422884015671105e+42, 2.6810351618360433e+42, 1.7966043197650183e+42, 2.6719242697353708e+42, 2.3306559547894604e+42, 1.0687203330955293e+43, 2.557861044900207e+43, 5.5182055730398536e+42, 2.7698665266031105e+42, 2.0917539811125065e+42, 1.4511217976594135e+42, 1.695514539141047e+42, 1.6366855283501208e+42, 6.28031511801308e+42, 4.854927968344624e+42, 9.299288894886053e+42, 3.834349111773498e+42, 2.7064110873091092e+42, 6.376709996128377e+42, 1.5517795219269967e+42, 2.1961262860334553e+42, 5.260279649584534e+42, 3.009811293495529e+42, 3.0188506999016764e+42, 2.167902322612842e+42, 1.9437181789344624e+42, 2.558037411587346e+42, 8.102544709807636e+42, 2.2165018383944245e+42, 2.6439955077931086e+42, 1.897841170298577e+42, 1.1148396342388743e+42, 1.2064903140386166e+42, 2.510630467365378e+42, 1.9842783859901775e+42, 1.9648738778508394e+42, 4.447757100525167e+42, 2.27434045597616e+42, 2.4877517904762514e+42, 2.1633790767096316e+42, 3.005298956107745e+42, 1.6386709857095575e+42, 2.409670018815923e+42, 1.3839900589636073e+42, 1.7028401457288807e+42, 4.2728730352680774e+42, 2.6240199591767913e+42, 2.0070358570925968e+42, 3.409116638192066e+42, 2.4297373143956023e+42, 1.8040613704070604e+42, 3.705785719803229e+42, 5.302002175068424e+42, 2.305171898564351e+42, 1.9885631634718757e+42, 2.7572444221152527e+42, 2.8097247022021e+42, 2.0046665719758617e+42, 1.5981263240858913e+42, 4.417661607366778e+42, 1.8925103724288465e+42, 2.8176127519815635e+42, 1.7114227293116257e+42, 2.6134777761724855e+42, 6.309255582014191e+42, 1.1028105837824606e+42, 2.1746561986615e+42, 3.946066762623834e+42, 4.3045853913047645e+42, 2.1746086849273148e+42, 2.11059083374922e+42, 1.4033667404389347e+42, 5.177587666938776e+42, 5.719006552805795e+42, 2.2133394681689598e+42, 2.6138285398242807e+42, 4.083880327074433e+42, 2.713870110486082e+42, 2.0533662815226668e+42, 1.5405887082455586e+42, 2.1980686631616626e+42, 5.421529987113166e+42, 1.7387622348914145e+42, 1.673244280645588e+42, 3.459440097695915e+42, 2.1545694371990384e+42, 2.96663256764951e+42, 4.9762188082980616e+42, 2.855162297863425e+42, 3.323530202957476e+42, 3.631363988383863e+42, 6.7117892595143e+42, 5.1278645149679266e+42, 3.124912991325478e+42, 2.2332075545174044e+42, 2.510428681818935e+42, 1.5166595487794312e+42, 1.4606854448273853e+42, 4.445101993063473e+42, 2.997765294443011e+42, 3.9351596642339116e+42, 9.378301741192351e+42, 2.4113417811173913e+42, 2.3449310869017128e+42, 2.6730827392091952e+42, 2.290533081003189e+42, 1.1882047367940682e+42, 3.5242351536178094e+42, 4.2879478827763416e+42, 1.5424420830939284e+42, 7.20282051995781e+42, 3.6191797394358084e+42, 1.7055400775153785e+42, 2.2932537889726638e+42, 2.2650062707106405e+42, 2.3609369375659767e+42, 1.8793258741396684e+42, 2.6330817319222513e+42, 1.3898573859573129e+42, 1.928694872289561e+42, 1.6263091845710528e+42, 1.6801554453348965e+42, 2.8373175560885926e+42, 3.854988122611162e+42, 1.9888711336245364e+42, 2.3089533207077544e+42, 6.360192064978585e+42, 3.753855851148416e+42, 2.077369475445009e+42, 6.612670140002563e+42, 2.5581604721786037e+42, 4.5000599977835684e+42, 1.964935558506486e+42, 3.773617666397962e+42, 5.754740098754992e+42, 8.263317544345152e+42, 5.4312216228311313e+42, 2.3105475620999285e+42, 1.9114394110368566e+42, 3.423181584902705e+42, 1.4202115324923747e+42, 1.4679570274501786e+42, 2.5361612332670425e+42, 3.0619457761376147e+42, 7.118142225765661e+42, 2.4743108148944168e+42, 4.517768768361554e+42, 1.4324842728424917e+42, 2.2436394287400225e+42, 1.408719124180295e+42, 1.598521798668188e+42, 1.4991961573958436e+42, 2.2259790022739832e+42, 1.3826746425412073e+43, 5.5460508996187156e+42, 5.4855727294307786e+42, 1.7682859461673464e+42, 1.613424344958999e+42, 3.521796961014783e+42, 1.3514547398164515e+42, 3.490703318576986e+42, 3.627553558116116e+42, 1.4928449623998677e+42, 3.046228148496392e+42, 1.4517718811459207e+42, 1.4733315947919677e+42, 3.346391184717823e+42, 2.4223141763118176e+42, 1.17876767358228e+42, 4.090016208712937e+42, 3.7133009779484095e+42, 1.9561639710202573e+42, 2.0780676535853535e+42, 2.136393052478121e+42, 3.4166460307541276e+42, 1.4394985527101253e+42, 1.2087589723659407e+42, 1.818145468319391e+42, 9.28097831709927e+42, 2.1246860862072562e+42, 1.9195099144227975e+42, 2.0437624144909217e+42, 2.9410519809700084e+42, 2.026575260098602e+42, 1.9852103492533828e+42, 2.251138255431596e+42, 3.499757273680383e+42, 1.8010257360853433e+42, 1.766205659379134e+42, 1.2634190772675117e+42, 2.3933627509378712e+42, 1.7370673688397324e+42, 2.027247859269942e+42, 4.623568963785379e+42, 2.0342384971261555e+42, 4.8196750826846174e+42, 4.0196694051756506e+42, 2.0039056180704522e+42, 2.3543750647013095e+42, 1.5796549066815663e+42, 3.034388448828408e+42, 9.169706841074042e+42, 4.861888953871224e+42, 2.5959213567950325e+42, 1.0030083978607823e+42, 3.1751395244310214e+42, 1.877954354067873e+42, 1.7469074785621065e+42, 2.9855049197235834e+42, 1.624799447120866e+42, 2.283387507640597e+42, 3.9034014104073576e+42, 1.4458606538502398e+42, 6.607386492808686e+42, 1.9221135990837757e+42, 1.3028435795835307e+42, 1.6233078094308608e+42, 1.9031489112471265e+42, 2.0479710407947518e+42, 2.3700563625210052e+42, 1.9069245345175154e+42, 1.4400467077098874e+42, 1.486311635745842e+42, 1.4658933612953656e+42, 2.524558795437469e+42, 1.5366738917358482e+42, 1.442343818228423e+42, 2.0200408743809935e+42, 2.99417043879113e+42, 6.169087692884505e+42, 2.2256948570264385e+42, 1.6072185298741142e+42, 2.779662765063485e+42, 3.222581059370726e+42, 2.129895018497264e+42, 6.47372136635322e+42, 2.173117406297945e+42, 2.7654875503864342e+42, 2.030889256201937e+42, 4.4715338317105166e+42, 2.4183380475662046e+42, 2.4280158018373076e+42, 1.7645180506146442e+42, 1.673575400452393e+42, 1.0879049410034126e+42, 3.724921649342767e+42, 3.6073155727001114e+42, 6.114944533677741e+42, 4.601668641565571e+42, 2.3341189821401916e+43, 6.84081301294996e+42, 1.8294446997228008e+43, 1.764022242261895e+42, 2.4467224690570083e+42, 2.225805713820746e+42, 1.8151310273019658e+42, 1.9672664575191508e+42, 9.35177961611384e+42, 1.5112878708348408e+42, 2.388600578735498e+42, 3.004763945123714e+42, 2.558979456481061e+42, 3.8711098252642544e+42, 2.0012558981253316e+42, 2.5144099816347774e+42, 1.707749160265936e+42, 1.589414282402616e+42, 2.3352599123799087e+42, 2.59432755875539e+42, 3.927345880342799e+42, 2.5502705275185167e+42]\n"
     ]
    }
   ],
   "source": [
    "print(a)"
   ]
  },
  {
   "cell_type": "code",
   "execution_count": null,
   "metadata": {},
   "outputs": [
    {
     "data": {
      "text/plain": [
       "array([1.22374902e+85, 5.73901475e+85, 6.05967280e+85])"
      ]
     },
     "execution_count": 97,
     "metadata": {},
     "output_type": "execute_result"
    }
   ],
   "source": [
    "clean_data[0]"
   ]
  },
  {
   "cell_type": "code",
   "execution_count": null,
   "metadata": {},
   "outputs": [],
   "source": [
    "for i in range(len(ratio)):\n",
    "    if ratio[i]>170:\n",
    "        print(i) "
   ]
  }
 ],
 "metadata": {
  "kernelspec": {
   "display_name": "Python 3",
   "language": "python",
   "name": "python3"
  },
  "language_info": {
   "codemirror_mode": {
    "name": "ipython",
    "version": 3
   },
   "file_extension": ".py",
   "mimetype": "text/x-python",
   "name": "python",
   "nbconvert_exporter": "python",
   "pygments_lexer": "ipython3",
   "version": "3.8.10"
  },
  "orig_nbformat": 4
 },
 "nbformat": 4,
 "nbformat_minor": 2
}
