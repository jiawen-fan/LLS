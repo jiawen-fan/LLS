{
 "cells": [
  {
   "cell_type": "code",
   "execution_count": 40,
   "metadata": {},
   "outputs": [],
   "source": [
    "### for 80mpc box\n",
    "import numpy as np\n",
    "import matplotlib.pyplot as plt\n",
    "import scipy.signal as signal\n",
    "import scipy.interpolate as interp\n",
    "import scipy as sp\n",
    "import re\n",
    "\n",
    "\n",
    "\n",
    "global1 =[]\n",
    "global2 =[]\n",
    "global3 = []\n",
    "global4 = []\n",
    "def unPackRawFile(raw_path):\n",
    "    \"\"\"\n",
    "    - unpacks the Raw conditions file. Not used for the neural network.\n",
    "    \"\"\"\n",
    "    y = np.loadtxt(raw_path, skiprows=6)\n",
    "    distance = y[:,0]\n",
    "    pec_vel = y[:,1]\n",
    "    temp = y[:,2]\n",
    "    HI_density = y[:,3]\n",
    "    gas_density = y[:,4]\n",
    "    gas_metallicity = y[:,5]\n",
    "    \n",
    "    return distance, pec_vel, temp, HI_density, gas_density, gas_metallicity\n",
    "    \n",
    "def unPackRawFlux(flux_path):\n",
    "    \"\"\"\n",
    "    - unpacks the Raw conditions file. Not used for the neural network.\n",
    "    \"\"\"\n",
    "    y2 = np.genfromtxt(flux_path, skip_header=1, delimiter=' , ')\n",
    "    velocity = y2[:,0]\n",
    "    flux = y2[:,1] \n",
    "    return velocity, flux\n",
    "def hubble_flow_convert(velocity, a, omega_m, omega_lam):\n",
    "    \"\"\"\n",
    "    - uses hubble flow to convert from velocity to distance\n",
    "    \"\"\"\n",
    "    aH = a * 100 * (omega_m / a ** 3 + omega_lam)** 0.5\n",
    "    return velocity/aH\n",
    "def resample(distance, item, new_distance):\n",
    "    \"\"\"\n",
    "    - interpolates the distances so that we can resample. useful because the velocity after converting using hubble flow doesn't have the same positions as the underlying properties.\n",
    "    - creates a consistent distance scale (obviously these distances are messed up by peculiar velocities)\n",
    "    \"\"\"\n",
    "    f = interp.interp1d(distance, item)\n",
    "    new_item = f(new_distance)\n",
    "    \n",
    "    return new_item\n",
    "def getDir(path_LOS,linenumber=7):\n",
    "    \"\"\"\n",
    "    the direction of the LOS is given inside each file, (in the comments)\n",
    "    this function parses the comments to get that information\n",
    "    \"\"\"\n",
    "    f = open(path_LOS)\n",
    "    x = f.readlines()[linenumber]\n",
    "    answer = re.search('\\(([^)]+)', x.split(', ')[1]).group(1)\n",
    "    arr = np.array(answer.split(','),dtype=float)\n",
    "    return arr\n",
    "def getPos(path_LOS,linenumber=7):\n",
    "    \"\"\"\n",
    "    the start position of the LOS is given inside each file, (in the comments)\n",
    "    this function parses the comments to get that information\n",
    "    \"\"\"\n",
    "    f = open(path_LOS)\n",
    "    x = f.readlines()[linenumber]\n",
    "    answer = re.search('\\(([^)]+)', x).group(1)\n",
    "    arr = np.array(answer.split(','),dtype=float)\n",
    "    return arr\n",
    "def convertSphereToCart(theta, phi):\n",
    "    \"converts a unit vector in spherical to cartesian, needed for getGalaxies\"\n",
    "    return np.array([np.sin(theta)*np.cos(phi), np.sin(theta)*np.sin(phi), np.cos(theta)])\n",
    "\n",
    "def get_galaxies(gals, path_LOS, number,Lbox = 80,aexp = 0.1452):\n",
    "    \"\"\"\n",
    "    function can take in the path of the galaxy file (.res) and the line of sight. Number should match the LOS #\n",
    "    \"\"\"   \n",
    "    # Parameter\n",
    "    #Lbox = 80  # box size\n",
    "    #aexp = 0.1452  # scale factor for the epoch\n",
    "    OmegaM = 0.3036\n",
    "    h100 = 0.6814    # normalized Hubble constant\n",
    "    pos = np.array(getPos(path_LOS))  # origin of LOS\n",
    "    pos = pos/512*80\n",
    "    sphere_los = np.array(getDir(path_LOS))  # direction of LOS , np.sum(e3**2) should be = 1\n",
    "    e3 = convertSphereToCart(sphere_los[0], sphere_los[1])\n",
    "    Mvir = gals[0] # SFR\n",
    "    xg = gals[1] #\\\n",
    "    yg = gals[2] # | positions of the galaxies in cMpc/h\n",
    "    zg = gals[3] #/\n",
    "    vx = gals[4] #\\\n",
    "    vy = gals[5] # | velocities of the galaxies in km/s\n",
    "    vz = gals[6] #/\n",
    "    \n",
    "    out_arr = Box(Lbox, OmegaM, h100, aexp, Mvir, xg, yg, zg, vx, vy, vz, pos, e3)\n",
    "    num_arr = number*np.ones(len(out_arr.T))\n",
    "    return np.vstack([out_arr, num_arr])\n",
    "def Box(Lbox, OmegaM, h100, aexp, Mvir, xg, yg, zg, vx, vy, vz, pos, e3):\n",
    "    \"\"\"\n",
    "    Wraps LOS to the original box (0-80), helper function for get galaxies.\n",
    "    \"\"\"\n",
    "    ##### find intersection between LOS and grid\n",
    "    planeNormal = np.array([[1, 0, 0],[0, 1, 0],[0, 0, 1]])\n",
    "    if e3[0] > 0:\n",
    "        planePoint_x = np.array([[80, 0, 0],[160, 0, 0],[240, 0, 0]])\n",
    "        planePoint_x_inverse = np.array([0,0,0])\n",
    "    else:\n",
    "        planePoint_x = np.array([[0, 0, 0],[-80, 0, 0],[-120, 0, 0]])\n",
    "        planePoint_x_inverse = np.array([80,0,0])\n",
    "    if e3[1] > 0:\n",
    "        planePoint_y = np.array([[0, 80, 0],[0, 160, 0],[0, 240, 0]])\n",
    "        planePoint_y_inverse = np.array([0,0,0])\n",
    "    else:\n",
    "        planePoint_y = np.array([[0, 0, 0],[0, -80, 0],[0, -160, 0]])\n",
    "        planePoint_y_inverse = np.array([0,80,0])\n",
    "    if e3[2] > 0:\n",
    "        planePoint_z = np.array([[0, 0, 80],[0, 0, 160],[0, 0, 240]])\n",
    "        planePoint_z_inverse = np.array([0,0,0])\n",
    "    else:\n",
    "        planePoint_z = np.array([[0, 0, 0],[0, 0, -80],[0, 0, -160]])\n",
    "        planePoint_z_inverse = np.array([0,0,80])\n",
    "    \n",
    "    planePoint = np.vstack((planePoint_x,planePoint_y,planePoint_z))\n",
    "    intercept_pts = LinePlaneIntersection(planeNormal=planeNormal, planePoint=planePoint, losDirection=e3, losPoint=pos)\n",
    "    intercept_pts[:,0][0:3] = planePoint_x[:,0]\n",
    "    intercept_pts[:,1][3:6] = planePoint_y[:,1]\n",
    "    intercept_pts[:,2][6:] = planePoint_z[:,2]\n",
    "    planePoint_inverse = np.vstack((planePoint_x_inverse,planePoint_y_inverse,planePoint_z_inverse))\n",
    "    intercept_pts_inverse = LinePlaneIntersection(planeNormal=planeNormal, planePoint=planePoint_inverse, losDirection=(-1)*e3, losPoint=pos)\n",
    "    for i in range(3):\n",
    "        intercept_pts_inverse[i,i] = planePoint_inverse[i,i]\n",
    "    los_start_pts_inverse = np.where(np.logical_and(e3>0, intercept_pts_inverse == 0), 80, intercept_pts_inverse)\n",
    "    distance_inverse = (-1)*np.sqrt(np.sum((intercept_pts_inverse-pos)**2,axis=1))\n",
    "    distance = np.sqrt(np.sum((intercept_pts-pos)**2,axis=1))\n",
    "    new_los_start_pts = np.vstack((pos,intercept_pts[distance<270]%80))\n",
    "    new_los_start_pts = np.where(np.logical_and(e3<0, new_los_start_pts == 0), 80, new_los_start_pts)\n",
    "    new_los_start_pts = np.vstack((new_los_start_pts,los_start_pts_inverse))\n",
    "    x = xg\n",
    "    y = yg\n",
    "    z = zg\n",
    "    new_x = np.tile(x, (len(new_los_start_pts), 1))\n",
    "    new_y = np.tile(y, (len(new_los_start_pts), 1))\n",
    "    new_z = np.tile(z, (len(new_los_start_pts), 1))\n",
    "    w = e3[0]*(new_x-new_los_start_pts[:,0][:, np.newaxis])+\\\n",
    "        e3[1]*(new_y-new_los_start_pts[:,1][:, np.newaxis])+\\\n",
    "        e3[2]*(new_z-new_los_start_pts[:,2][:, np.newaxis])\n",
    "    dx = new_x - new_los_start_pts[:,0][:, np.newaxis] - w*e3[0]\n",
    "    dy = new_y - new_los_start_pts[:,1][:, np.newaxis] - w*e3[1]\n",
    "    dz = new_z - new_los_start_pts[:,2][:, np.newaxis] - w*e3[2]\n",
    "    new_x = np.where(dx>40,new_x-80,new_x)\n",
    "    new_x = np.where(dx<-40,new_x+80,new_x)\n",
    "    new_y = np.where(dy>40,new_y-80,new_y)\n",
    "    new_y = np.where(dy<-40,new_y+80,new_y)\n",
    "    new_z = np.where(dz>40,new_z-80,new_z)\n",
    "    new_z = np.where(dz<-40,new_z+80,new_z)\n",
    "    w = e3[0]*(new_x-new_los_start_pts[:,0][:, np.newaxis])+\\\n",
    "        e3[1]*(new_y-new_los_start_pts[:,1][:, np.newaxis])+\\\n",
    "        e3[2]*(new_z-new_los_start_pts[:,2][:, np.newaxis])\n",
    "    dx = new_x - new_los_start_pts[:,0][:, np.newaxis] - w*e3[0]\n",
    "    dy = new_y - new_los_start_pts[:,1][:, np.newaxis] - w*e3[1]\n",
    "    dz = new_z - new_los_start_pts[:,2][:, np.newaxis] - w*e3[2]\n",
    "    distance_all = np.concatenate((np.insert(distance[distance<270],0,0),distance_inverse))[:, np.newaxis]\n",
    "    w += distance_all\n",
    "    # distance from the galaxy to the LOS\n",
    "    dr = np.sqrt(dx**2+dy**2+dz**2)\n",
    "    # convert w from real to redshift space\n",
    "    aH = 100*aexp*np.sqrt(OmegaM/aexp**3+(1-OmegaM))\n",
    "    w += (e3[0]*vx+e3[1]*vy+e3[2]*vz)/aH\n",
    "    # convert dr from comoving Mpc/h to proper Mpc\n",
    "    dr *= (aexp/h100)\n",
    "    Mvir = np.tile(Mvir, (len(new_los_start_pts), 1))\n",
    "    # select galaxies\n",
    "    sel1 = np.logical_and(w>5,w<195) # within first 200 cMpc/h\n",
    "    sel2 = np.logical_and(dr<.1,Mvir>10**8)\n",
    "    sel = np.logical_and(sel1,sel2)\n",
    "    if(len(sel) > 0):\n",
    "        Mvir1 = Mvir[sel]\n",
    "        w1 = w[sel]\n",
    "        w1 = np.round(w1,decimals=8)\n",
    "        dr1 = dr[sel]\n",
    "        dr1 = np.round(dr1,decimals=8)\n",
    "        global1.append(dx[sel])\n",
    "        global2.append(dy[sel])\n",
    "        global3.append(dz[sel])\n",
    "        global4.append(new_x[sel])\n",
    "        #gives Mvir, distance along LOS, and distance away from LOS\n",
    "        #why have unique\n",
    "        return np.array([Mvir1,w1,dr1])\n",
    "    else:\n",
    "        return np.array([[],[],[]])\n",
    "def LinePlaneIntersection(planeNormal, planePoint, losDirection, losPoint):\n",
    "    \"\"\"\n",
    "    Finds the intersection between LOS and grid\n",
    "    This function does a lot of floating point arithmetic\n",
    "    so the intersection at x=0 may be at x=-1e16, for example\n",
    "    I correct the result in Box() because intersection at 0 means the LOS starting pt is 80\n",
    "    \"\"\"\n",
    "    ndotu = planeNormal.dot(losDirection)\n",
    "    w = losPoint - planePoint\n",
    "    si = np.array([-planeNormal[i].dot(w[i*len(w)//3:(i+1)*len(w)//3].T) / ndotu[i] for i in [0,1,2]])\n",
    "    Psi = w + np.vstack(np.multiply.outer(si,losDirection)) + planePoint\n",
    "    return Psi\n",
    "def get_LOS_distance_zspace(path_LOS, aexp, OmegaM, new_distance):\n",
    "    \"\"\"\n",
    "    Distance along LOS is in real space. Needs to use peculiar velocity in .raw file to convert to redshift space.\n",
    "    new_distance is in real space (where data is sampled)\n",
    "    \"\"\"\n",
    "    distance, pec_vel, temp, HI_density, gas_density, gas_metallicity = unPackRawFile(path_LOS)\n",
    "    aH = 100*aexp*np.sqrt(OmegaM/aexp**3+(1-OmegaM))\n",
    "    x_redshift_space = distance + pec_vel/aH\n",
    "    f = interp.interp1d(distance, x_redshift_space)\n",
    "    new_distance_redshift_space = f(new_distance)\n",
    "    \n",
    "    return new_distance_redshift_space\n"
   ]
  },
  {
   "cell_type": "code",
   "execution_count": 2,
   "metadata": {},
   "outputs": [],
   "source": [
    "#galaxy Mvir, x,y,z, vx, vy, vz\n",
    "gals = np.loadtxt('hprops.res', usecols=[0,5,6,7],unpack=1) \n",
    "# setting vx, vy, vz to be 0, so the position is in real space, to match the v=0 LOS\n",
    "gals_vel = np.zeros((3,gals.shape[1]))\n",
    "gals = np.concatenate((gals,gals_vel))"
   ]
  },
  {
   "cell_type": "code",
   "execution_count": 83,
   "metadata": {},
   "outputs": [],
   "source": [
    "LOS_num = 10\n",
    "\n",
    "los_gal_list = []\n",
    "for i in np.arange(0,LOS_num):\n",
    "        #pulling data from galaxies\n",
    "    flux_path = 'los.00' + '{0:03}'.format(i) +'.raw'\n",
    "    \n",
    "    los_gal_data = get_galaxies(gals, flux_path, i, Lbox = 80,aexp = 0.1452)\n",
    "      \n",
    "    los_gal_list.append(los_gal_data)"
   ]
  },
  {
   "cell_type": "code",
   "execution_count": 84,
   "metadata": {},
   "outputs": [
    {
     "data": {
      "text/plain": [
       "array([8.993e+10, 1.508e+10, 9.402e+09, ..., 3.641e+08, 3.427e+08,\n",
       "       2.856e+08])"
      ]
     },
     "execution_count": 84,
     "metadata": {},
     "output_type": "execute_result"
    }
   ],
   "source": [
    "los_gal_list[0][0]"
   ]
  },
  {
   "cell_type": "code",
   "execution_count": 85,
   "metadata": {},
   "outputs": [],
   "source": [
    "halo =  np.loadtxt('hprops.res', usecols=[0,5,8],unpack=1) \n"
   ]
  },
  {
   "cell_type": "code",
   "execution_count": 86,
   "metadata": {},
   "outputs": [
    {
     "data": {
      "text/plain": [
       "array([0.4979  , 0.3528  , 0.3438  , ..., 0.00911 , 0.01239 , 0.009934])"
      ]
     },
     "execution_count": 86,
     "metadata": {},
     "output_type": "execute_result"
    }
   ],
   "source": [
    "halo[2]"
   ]
  },
  {
   "cell_type": "code",
   "execution_count": 87,
   "metadata": {},
   "outputs": [],
   "source": [
    "def lyman_identification():\n",
    "    \"\"\"\n",
    "    function for identifying lls using neutral fraction as filter\n",
    "    \"\"\"\n",
    "    neutral_fraction_limit = 1e-3\n",
    "    data = []\n",
    "    l_bases = []\n",
    "    r_bases = []\n",
    "    for i in range(10):\n",
    "        raw_path = 'los.00' + '{0:03}'.format(i) +'.raw'\n",
    "        distance, pec_vel, temp, HI_density, gas_density, gas_metallicity = unPackRawFile(raw_path)\n",
    "        #changing the distance from chimp to cmeters\n",
    "        distance_cm = distance *0.1474*3.086e24 /0.68\n",
    "        temp_data =[]\n",
    "        temp_left =[]\n",
    "        temp_right = []\n",
    "        for k in range(len(distance) -2):\n",
    "            if(HI_density[k]/gas_density[k]<neutral_fraction_limit and HI_density[k+1]/gas_density[k+1]>neutral_fraction_limit):\n",
    "                left_bases = k\n",
    "                peak_fraction = HI_density[k]/gas_density[k]\n",
    "                peak_HI = HI_density[k]\n",
    "                peak_distance = distance[k]\n",
    "                if( k+1 <len(distance)):\n",
    "                    while(not(HI_density[k]/gas_density[k]>neutral_fraction_limit and HI_density[k+1]/gas_density[k+1]<neutral_fraction_limit) and k <len(distance)-1):\n",
    "                        right_bases = k\n",
    "                        if(k<len(distance)-1):\n",
    "                            k+=1\n",
    "                        if(HI_density[k]/gas_density[k]>peak_fraction):\n",
    "                            peak_fraction = HI_density[k]/gas_density[k]\n",
    "                            peak_HI = HI_density[k]\n",
    "                            peak_distance = distance[k]\n",
    "                    area_under = peak_HI *1/2*(distance_cm[right_bases]-distance_cm[left_bases])/0.937415\n",
    "                    if(area_under >= (1.6*10**17)and area_under  <= (10**20)):\n",
    "                        temp_data.append(peak_distance)\n",
    "                        temp_left.append(distance[left_bases])\n",
    "                        temp_right.append(distance[right_bases])\n",
    "        data.append(temp_data)\n",
    "        l_bases.append(temp_left)\n",
    "        r_bases.append(temp_right)\n",
    "    return data,l_bases,r_bases\n",
    "lyman_limited_value,left_bases,right_bases = lyman_identification()"
   ]
  },
  {
   "cell_type": "code",
   "execution_count": 88,
   "metadata": {},
   "outputs": [
    {
     "data": {
      "text/plain": [
       "[[],\n",
       " [87.84425, 113.82144, 118.64769],\n",
       " [1.65065, 9.67578, 107.77678, 152.64549, 180.40597],\n",
       " [],\n",
       " [91.80602, 91.9904, 98.3885, 139.49486, 142.48364],\n",
       " [199.37549],\n",
       " [112.06471],\n",
       " [30.50207],\n",
       " [83.89149],\n",
       " [37.43754, 57.28296, 64.52623]]"
      ]
     },
     "execution_count": 88,
     "metadata": {},
     "output_type": "execute_result"
    }
   ],
   "source": [
    "lyman_limited_value"
   ]
  },
  {
   "cell_type": "code",
   "execution_count": 89,
   "metadata": {},
   "outputs": [],
   "source": [
    "##data is:gives sfr, distance along LOS, and distance away from LOS\n",
    "#I am just going to simply look at distance vs sfr right here, any thing within 2 chimp away form the lls is counted as a galaxy associated with it\n",
    "def associated_sphere(all_distance,data,counts):\n",
    "    \"\"\"\n",
    "    this function finds every galaxy associated with lls in a sphere radius. However, it might double count \n",
    "    \"\"\"\n",
    "    ##going through every los\n",
    "    associated = []\n",
    "    for i in range(counts):\n",
    "        ##going through the lls in the los\n",
    "        for k in all_distance[i]:\n",
    "            ##calculating the distance of every galaxy's relationship with lls\n",
    "            for z in range(len(data[i][1])):\n",
    "                if(np.square((k-data[i][1][z])**2 + (data[i][2][z]/0.1452*0.68)**2) <.1):\n",
    "                    ##mass, distance along, distance away, distance from lls.\n",
    "                    associated.append([data[i][1][z],data[i][2][z],global4[i][z],data[i][0][z],data[i][1][z]])\n",
    "    return associated"
   ]
  },
  {
   "cell_type": "code",
   "execution_count": 140,
   "metadata": {},
   "outputs": [
    {
     "data": {
      "text/plain": [
       "1009"
      ]
     },
     "execution_count": 140,
     "metadata": {},
     "output_type": "execute_result"
    }
   ],
   "source": [
    "len(global1[2])\n",
    "#the dx,dy,dz have different dimensions after the first two los.."
   ]
  },
  {
   "cell_type": "code",
   "execution_count": 141,
   "metadata": {},
   "outputs": [
    {
     "data": {
      "text/plain": [
       "1009"
      ]
     },
     "execution_count": 141,
     "metadata": {},
     "output_type": "execute_result"
    }
   ],
   "source": [
    "len(global4[2])"
   ]
  },
  {
   "cell_type": "code",
   "execution_count": 139,
   "metadata": {},
   "outputs": [
    {
     "data": {
      "text/plain": [
       "792"
      ]
     },
     "execution_count": 139,
     "metadata": {},
     "output_type": "execute_result"
    }
   ],
   "source": [
    "len(los_gal_list[2][1])"
   ]
  },
  {
   "cell_type": "code",
   "execution_count": 105,
   "metadata": {},
   "outputs": [
    {
     "ename": "IndexError",
     "evalue": "index 797 is out of bounds for axis 0 with size 792",
     "output_type": "error",
     "traceback": [
      "\u001b[0;31m---------------------------------------------------------------------------\u001b[0m",
      "\u001b[0;31mIndexError\u001b[0m                                Traceback (most recent call last)",
      "\u001b[1;32m/mnt/c/Users/Jiawen/desktop/research/los_a=0.1452/a_halo_lls.ipynb Cell 10'\u001b[0m in \u001b[0;36m<cell line: 1>\u001b[0;34m()\u001b[0m\n\u001b[0;32m----> <a href='vscode-notebook-cell://wsl%2Bubuntu/mnt/c/Users/Jiawen/desktop/research/los_a%3D0.1452/a_halo_lls.ipynb#ch0000013vscode-remote?line=0'>1</a>\u001b[0m associated_sphere_value \u001b[39m=\u001b[39m associated_sphere(lyman_limited_value,los_gal_list,\u001b[39m5\u001b[39;49m)\n",
      "\u001b[1;32m/mnt/c/Users/Jiawen/desktop/research/los_a=0.1452/a_halo_lls.ipynb Cell 9'\u001b[0m in \u001b[0;36massociated_sphere\u001b[0;34m(all_distance, data, counts)\u001b[0m\n\u001b[1;32m     <a href='vscode-notebook-cell://wsl%2Bubuntu/mnt/c/Users/Jiawen/desktop/research/los_a%3D0.1452/a_halo_lls.ipynb#ch0000019vscode-remote?line=12'>13</a>\u001b[0m         \u001b[39mfor\u001b[39;00m z \u001b[39min\u001b[39;00m \u001b[39mrange\u001b[39m(\u001b[39mlen\u001b[39m(data[i][\u001b[39m1\u001b[39m])):\n\u001b[1;32m     <a href='vscode-notebook-cell://wsl%2Bubuntu/mnt/c/Users/Jiawen/desktop/research/los_a%3D0.1452/a_halo_lls.ipynb#ch0000019vscode-remote?line=13'>14</a>\u001b[0m             \u001b[39mif\u001b[39;00m(np\u001b[39m.\u001b[39msquare((k\u001b[39m-\u001b[39mdata[i][\u001b[39m1\u001b[39m][z])\u001b[39m*\u001b[39m\u001b[39m*\u001b[39m\u001b[39m2\u001b[39m \u001b[39m+\u001b[39m (data[i][\u001b[39m2\u001b[39m][z]\u001b[39m/\u001b[39m\u001b[39m0.1452\u001b[39m\u001b[39m*\u001b[39m\u001b[39m0.68\u001b[39m)\u001b[39m*\u001b[39m\u001b[39m*\u001b[39m\u001b[39m2\u001b[39m) \u001b[39m<\u001b[39m\u001b[39m.\u001b[39m\u001b[39m1\u001b[39m):\n\u001b[1;32m     <a href='vscode-notebook-cell://wsl%2Bubuntu/mnt/c/Users/Jiawen/desktop/research/los_a%3D0.1452/a_halo_lls.ipynb#ch0000019vscode-remote?line=14'>15</a>\u001b[0m                 \u001b[39m##mass, distance along, distance away, distance from lls.\u001b[39;00m\n\u001b[0;32m---> <a href='vscode-notebook-cell://wsl%2Bubuntu/mnt/c/Users/Jiawen/desktop/research/los_a%3D0.1452/a_halo_lls.ipynb#ch0000019vscode-remote?line=15'>16</a>\u001b[0m                 associated\u001b[39m.\u001b[39mappend([data[i][\u001b[39m1\u001b[39m][z],data[i][\u001b[39m2\u001b[39m][z],global4[i][z],data[i][\u001b[39m0\u001b[39m][z],data[i][\u001b[39m1\u001b[39m][z]])\n\u001b[1;32m     <a href='vscode-notebook-cell://wsl%2Bubuntu/mnt/c/Users/Jiawen/desktop/research/los_a%3D0.1452/a_halo_lls.ipynb#ch0000019vscode-remote?line=16'>17</a>\u001b[0m \u001b[39mreturn\u001b[39;00m associated\n",
      "\u001b[0;31mIndexError\u001b[0m: index 797 is out of bounds for axis 0 with size 792"
     ]
    }
   ],
   "source": [
    "associated_sphere_value = associated_sphere(lyman_limited_value,los_gal_list,5)"
   ]
  },
  {
   "cell_type": "code",
   "execution_count": 101,
   "metadata": {},
   "outputs": [
    {
     "data": {
      "text/plain": [
       "[[88.19422237, 0.06438698, 25.09365, 2877000000.0, 88.19422237],\n",
       " [88.0805912, 0.03509942, 24.94672, 2085000000.0, 88.0805912],\n",
       " [88.12446114, 0.05261711, 25.02666, 835200000.0, 88.12446114],\n",
       " [88.19490719, 0.07025449, 24.63494, 778100000.0, 88.19490719],\n",
       " [88.21957797, 0.06943368, 24.67144, 656800000.0, 88.21957797],\n",
       " [88.07177158, 0.02641437, 24.91112, 606800000.0, 88.07177158],\n",
       " [87.8455278, 0.0029493, 24.68048, 528300000.0, 87.8455278],\n",
       " [87.63257228, 0.02426999, 24.66493, 371200000.0, 87.63257228],\n",
       " [113.53489729, 0.0466248, 38.43353, 22060000000.0, 113.53489729],\n",
       " [113.92799811, 0.0143503, 38.81847, 6332000000.0, 113.92799811],\n",
       " [113.72069613, 0.06984666, 38.50241, 4398000000.0, 113.72069613],\n",
       " [113.95403683, 0.02863693, 38.95048, 3662000000.0, 113.95403683],\n",
       " [113.87925, 0.01052576, 38.77889, 3255000000.0, 113.87925],\n",
       " [113.83268403, 0.01810193, 38.73241, 2920000000.0, 113.83268403],\n",
       " [114.12186745, 0.039522, 39.03516, 2720000000.0, 114.12186745],\n",
       " [113.5868173, 0.04725546, 38.46825, 2320000000.0, 113.5868173],\n",
       " [113.37630601, 0.06009273, 38.29358, 1114000000.0, 113.37630601],\n",
       " [113.82871231, 0.01293602, 38.8157, 1114000000.0, 113.82871231],\n",
       " [114.05058529, 0.04722679, 38.86851, 963700000.0, 114.05058529],\n",
       " [113.70713892, 0.07261129, 38.49976, 963700000.0, 113.70713892],\n",
       " [114.0627126, 0.02675525, 38.96289, 821000000.0, 114.0627126],\n",
       " [114.21465125, 0.06730189, 39.22293, 799500000.0, 114.21465125],\n",
       " [113.92534459, 0.08124749, 38.58853, 771000000.0, 113.92534459],\n",
       " [113.59065969, 0.06458043, 38.4423, 771000000.0, 113.59065969],\n",
       " [113.4283791, 0.04725167, 38.37256, 706700000.0, 113.4283791],\n",
       " [113.8317507, 0.04732537, 38.86446, 642500000.0, 113.8317507],\n",
       " [113.96190888, 0.08328114, 38.59698, 585400000.0, 113.96190888],\n",
       " [114.02062148, 0.0892968, 38.60411, 485400000.0, 114.02062148],\n",
       " [114.1559686, 0.04275667, 39.06307, 471200000.0, 114.1559686],\n",
       " [113.7241061, 0.09369265, 39.0203, 435500000.0, 113.7241061],\n",
       " [113.77215893, 0.05769287, 38.81577, 435500000.0, 113.77215893],\n",
       " [113.86192704, 0.01322272, 38.84155, 428300000.0, 113.86192704],\n",
       " [118.61436142, 0.03890706, 41.52258, 11500000000.0, 118.61436142],\n",
       " [118.63409626, 0.02416673, 41.47542, 6354000000.0, 118.63409626],\n",
       " [118.69860233, 0.08640957, 41.07758, 5333000000.0, 118.69860233],\n",
       " [118.5973909, 0.0963158, 41.7369, 1699000000.0, 118.5973909],\n",
       " [118.63680068, 0.07376425, 41.20154, 1206000000.0, 118.63680068],\n",
       " [118.69008623, 0.08324119, 41.08417, 1121000000.0, 118.69008623],\n",
       " [118.62266893, 0.04982232, 41.56951, 649600000.0, 118.62266893],\n",
       " [118.64397967, 0.06216643, 41.27207, 599700000.0, 118.64397967],\n",
       " [118.61051994, 0.04317154, 41.41976, 549700000.0, 118.61051994],\n",
       " [118.63710991, 0.05267802, 41.58677, 456900000.0, 118.63710991],\n",
       " [118.67287068, 0.05188616, 41.21076, 414100000.0, 118.67287068],\n",
       " [118.6480131, 0.05942914, 41.61608, 335500000.0, 118.6480131],\n",
       " [9.8658533, 0.04494841, 98.91752, 2641000000.0, 9.8658533],\n",
       " [10.04111574, 0.08119651, 64.75094, 606800000.0, 10.04111574],\n",
       " [9.93508477, 0.08871052, 97.75562, 578200000.0, 9.93508477],\n",
       " [9.92353542, 0.06490089, 64.37812, 521100000.0, 9.92353542],\n",
       " [9.8658533, 0.04494841, 83.39188, 2641000000.0, 9.8658533],\n",
       " [10.04111574, 0.08119651, 104.03809, 606800000.0, 10.04111574],\n",
       " [9.93508477, 0.08871052, 43.63067, 578200000.0, 9.93508477],\n",
       " [9.92353542, 0.06490089, 80.50777, 521100000.0, 9.92353542],\n",
       " [9.8658533, 0.04494841, 72.42974, 2641000000.0, 9.8658533],\n",
       " [10.04111574, 0.08119651, 68.59083, 606800000.0, 10.04111574],\n",
       " [9.93508477, 0.08871052, 69.09328, 578200000.0, 9.93508477],\n",
       " [9.92353542, 0.06490089, 28.65123, 521100000.0, 9.92353542],\n",
       " [9.8658533, 0.04494841, 56.1647, 2641000000.0, 9.8658533],\n",
       " [10.04111574, 0.08119651, 72.08271, 606800000.0, 10.04111574],\n",
       " [9.93508477, 0.08871052, 71.96423, 578200000.0, 9.93508477],\n",
       " [9.92353542, 0.06490089, 38.67944, 521100000.0, 9.92353542],\n",
       " [107.81738362, 0.01426078, 3.9937, 6989000000.0, 107.81738362],\n",
       " [107.69610116, 0.02694971, -7.287850000000006, 1528000000.0, 107.69610116],\n",
       " [107.85614971, 0.02191399, -50.366659999999996, 1442000000.0, 107.85614971],\n",
       " [107.50395753, 0.0481046, -6.718779999999995, 899500000.0, 107.50395753],\n",
       " [107.63483694, 0.05053318, -8.193489999999997, 885200000.0, 107.63483694],\n",
       " [107.58510717, 0.03915308, -23.544269999999997, 885200000.0, 107.58510717],\n",
       " [107.72487099, 0.06603114, -6.031049999999993, 870900000.0, 107.72487099],\n",
       " [107.27911676, 0.05575648, -14.841729999999998, 856700000.0, 107.27911676],\n",
       " [107.52143861, 0.05909374, -10.788449999999997, 578200000.0, 107.52143861],\n",
       " [107.33279583, 0.06762691, -4.274199999999993, 414100000.0, 107.33279583],\n",
       " [152.71610071, 0.02356498, 20.30669, 38510000000.0, 152.71610071],\n",
       " [152.80625495, 0.09094737, 3.84851, 7075000000.0, 152.80625495],\n",
       " [152.47359589, 0.09997419, -7.169730000000001, 1314000000.0, 152.47359589],\n",
       " [152.77137696, 0.05373009, -5.5820599999999985, 1178000000.0, 152.77137696],\n",
       " [152.47380909, 0.06599628, -11.454930000000004, 1171000000.0, 152.47380909],\n",
       " [152.7823999, 0.09158766, -11.337950000000006, 821000000.0, 152.7823999],\n",
       " [152.5315651, 0.05808529, -5.8848799999999954, 635400000.0, 152.5315651],\n",
       " [152.7471933, 0.02243621, -25.08406, 549700000.0, 152.7471933],\n",
       " [152.51723, 0.09565142, -55.38935, 456900000.0, 152.51723],\n",
       " [152.76184744, 0.04339289, -42.09861, 449700000.0, 152.76184744],\n",
       " [152.79825389, 0.09855846, -7.200429999999997, 435500000.0, 152.79825389],\n",
       " [152.47174282, 0.06354817, -5.532610000000005, 428300000.0, 152.47174282],\n",
       " [152.63416676, 0.09362514, 72.62908, 371200000.0, 152.63416676],\n",
       " [180.71377032, 0.04052, 99.90263, 8203000000.0, 180.71377032],\n",
       " [180.64996487, 0.06525375, 99.92015, 7317000000.0, 180.64996487],\n",
       " [180.68377593, 0.04544202, 61.01314, 6182000000.0, 180.68377593],\n",
       " [180.59335922, 0.05085808, 100.94755, 4383000000.0, 180.59335922],\n",
       " [180.67344815, 0.08188956, 90.75341, 4133000000.0, 180.67344815],\n",
       " [180.7210064, 0.0833463, 100.24402, 2242000000.0, 180.7210064],\n",
       " [180.33711117, 0.04582859, 57.59688, 2227000000.0, 180.33711117],\n",
       " [180.70191115, 0.05576612, 20.35665, 1835000000.0, 180.70191115],\n",
       " [180.3274132, 0.02485452, 9.81018, 1314000000.0, 180.3274132],\n",
       " [180.83680051, 0.05707782, 10.29993, 1014000000.0, 180.83680051],\n",
       " [180.73047047, 0.07409209, 21.78932, 856700000.0, 180.73047047],\n",
       " [180.3007185, 0.07445506, -15.248260000000002, 828100000.0, 180.3007185],\n",
       " [180.34870449, 0.07018875, 21.15169, 414100000.0, 180.34870449],\n",
       " [180.71377032, 0.04052, 58.03137, 8203000000.0, 180.71377032],\n",
       " [180.64996487, 0.06525375, 68.45574, 7317000000.0, 180.64996487],\n",
       " [180.68377593, 0.04544202, 29.63334, 6182000000.0, 180.68377593],\n",
       " [180.59335922, 0.05085808, 27.18697, 4383000000.0, 180.59335922],\n",
       " [180.67344815, 0.08188956, 73.14436, 4133000000.0, 180.67344815],\n",
       " [180.7210064, 0.0833463, 37.82114, 2242000000.0, 180.7210064],\n",
       " [180.33711117, 0.04582859, 56.42767, 2227000000.0, 180.33711117],\n",
       " [180.70191115, 0.05576612, 68.49831, 1835000000.0, 180.70191115],\n",
       " [180.3274132, 0.02485452, 58.18045, 1314000000.0, 180.3274132],\n",
       " [180.83680051, 0.05707782, 68.7495, 1014000000.0, 180.83680051],\n",
       " [180.73047047, 0.07409209, 55.93315, 856700000.0, 180.73047047],\n",
       " [180.3007185, 0.07445506, 72.43849, 828100000.0, 180.3007185],\n",
       " [180.34870449, 0.07018875, 25.18446, 414100000.0, 180.34870449]]"
      ]
     },
     "execution_count": 101,
     "metadata": {},
     "output_type": "execute_result"
    }
   ],
   "source": [
    "associated_sphere_value"
   ]
  },
  {
   "cell_type": "code",
   "execution_count": 99,
   "metadata": {},
   "outputs": [],
   "source": [
    "halo_size = []\n",
    "for i in associated_sphere_value:\n",
    "    for k in range(len(halo[0])):\n",
    "        if(i[3] == halo[0][k] and i[2] == halo[1][k]):\n",
    "            halo_size.append([i[0],i[1],i[3],halo[2][k]])"
   ]
  },
  {
   "cell_type": "code",
   "execution_count": 103,
   "metadata": {},
   "outputs": [
    {
     "data": {
      "text/plain": [
       "45"
      ]
     },
     "execution_count": 103,
     "metadata": {},
     "output_type": "execute_result"
    }
   ],
   "source": [
    "len(halo_size)\n",
    "#dx,dy,mass, halo size"
   ]
  },
  {
   "cell_type": "code",
   "execution_count": 104,
   "metadata": {},
   "outputs": [
    {
     "data": {
      "text/plain": [
       "[]"
      ]
     },
     "execution_count": 104,
     "metadata": {},
     "output_type": "execute_result"
    }
   ],
   "source": [
    "final_galaxies = []\n",
    "for i in halo_size:\n",
    "    if(np.sqrt(i[0]**2+(i[1]/0.1452*0.68)**2) < i[3]):\n",
    "        final_galaxies.append(i)\n",
    "final_galaxies"
   ]
  },
  {
   "cell_type": "code",
   "execution_count": 95,
   "metadata": {},
   "outputs": [],
   "source": [
    "def within_lls(lyman_limited_value,galaxies_along,galaxies_away,counts,halo_size):\n",
    "    \"\"\"\n",
    "    this function looks at if the galaxies' dark halo covers the lyman_limited.\n",
    "    \"\"\"\n"
   ]
  }
 ],
 "metadata": {
  "kernelspec": {
   "display_name": "Python 3.8.10 64-bit",
   "language": "python",
   "name": "python3"
  },
  "language_info": {
   "codemirror_mode": {
    "name": "ipython",
    "version": 3
   },
   "file_extension": ".py",
   "mimetype": "text/x-python",
   "name": "python",
   "nbconvert_exporter": "python",
   "pygments_lexer": "ipython3",
   "version": "3.8.10"
  },
  "orig_nbformat": 4,
  "vscode": {
   "interpreter": {
    "hash": "31f2aee4e71d21fbe5cf8b01ff0e069b9275f58929596ceb00d14d90e3e16cd6"
   }
  }
 },
 "nbformat": 4,
 "nbformat_minor": 2
}
