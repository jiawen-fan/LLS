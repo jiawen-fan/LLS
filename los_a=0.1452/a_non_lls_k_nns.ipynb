{
 "cells": [
  {
   "cell_type": "code",
   "execution_count": 1,
   "metadata": {},
   "outputs": [],
   "source": [
    "### for 80mpc box\n",
    "import numpy as np\n",
    "import matplotlib.pyplot as plt\n",
    "import scipy.signal as signal\n",
    "import scipy.interpolate as interp\n",
    "import scipy as sp\n",
    "import re\n"
   ]
  },
  {
   "cell_type": "code",
   "execution_count": 2,
   "metadata": {},
   "outputs": [],
   "source": [
    "def unPackRawFile(raw_path):\n",
    "    \"\"\"\n",
    "    - unpacks the Raw conditions file. Not used for the neural network.\n",
    "    \"\"\"\n",
    "    y = np.loadtxt(raw_path, skiprows=6)\n",
    "    distance = y[:,0]\n",
    "    pec_vel = y[:,1]\n",
    "    temp = y[:,2]\n",
    "    HI_density = y[:,3]\n",
    "    gas_density = y[:,4]\n",
    "    gas_metallicity = y[:,5]\n",
    "    \n",
    "    return distance, pec_vel, temp, HI_density, gas_density, gas_metallicity\n",
    "def getPos(path_LOS,linenumber=7):\n",
    "    \"\"\"\n",
    "    the start position of the LOS is given inside each file, (in the comments)\n",
    "    this function parses the comments to get that information\n",
    "    \"\"\"\n",
    "    f = open(path_LOS)\n",
    "    x = f.readlines()[linenumber]\n",
    "    answer = re.search('\\(([^)]+)', x).group(1)\n",
    "    arr = np.array(answer.split(','),dtype=float)\n",
    "    return arr\n",
    "\n",
    "def getDir(path_LOS,linenumber=7):\n",
    "    \"\"\"\n",
    "    the direction of the LOS is given inside each file, (in the comments)\n",
    "    this function parses the comments to get that information\n",
    "    \"\"\"\n",
    "    f = open(path_LOS)\n",
    "    x = f.readlines()[linenumber]\n",
    "    answer = re.search('\\(([^)]+)', x.split(', ')[1]).group(1)\n",
    "    arr = np.array(answer.split(','),dtype=float)\n",
    "    return arr\n",
    "\n",
    "\n",
    "def convertSphereToCart(theta, phi):\n",
    "    \"converts a unit vector in spherical to cartesian, needed for getGalaxies\"\n",
    "    return np.array([np.sin(theta)*np.cos(phi), np.sin(theta)*np.sin(phi), np.cos(theta)])"
   ]
  },
  {
   "cell_type": "code",
   "execution_count": 3,
   "metadata": {},
   "outputs": [],
   "source": [
    "##return the distance in extended instead\n",
    "def lyman_identification():\n",
    "    \"\"\"\n",
    "    function for identifying lls using neutral fraction as filter\n",
    "    \"\"\"\n",
    "    neutral_fraction_limit = 1e-3\n",
    "    data = []\n",
    "    for i in range(1000):\n",
    "        raw_path = 'los.00' + '{0:03}'.format(i) +'.raw'\n",
    "        distance, pec_vel, temp, HI_density, gas_density, gas_metallicity = unPackRawFile(raw_path)\n",
    "        #changing the distance from chimp to cmeters\n",
    "        distance_cm = distance*0.1474*3.086e24 /0.68\n",
    "        neutral_fraction = HI_density/gas_density\n",
    "        position = getPos(raw_path)\n",
    "        direction = convertSphereToCart(getDir(raw_path)[0],getDir(raw_path)[1])\n",
    "        for k in range(len(distance) -2):\n",
    "            if((neutral_fraction[k]<neutral_fraction_limit and neutral_fraction[k+1]<neutral_fraction_limit)):\n",
    "                peak_distance = distance[k]\n",
    "                real_distance = [(position[0]/256*80 + direction[0]*peak_distance)%80,(position[1]/256*80 + direction[1]*peak_distance)%80,(position[2]/256*80 + direction[2]*peak_distance)%80]\n",
    "                data.append(real_distance)\n",
    "    return data\n",
    "not_lyman_limited_value = lyman_identification()"
   ]
  },
  {
   "cell_type": "code",
   "execution_count": 4,
   "metadata": {},
   "outputs": [
    {
     "data": {
      "text/plain": [
       "11073985"
      ]
     },
     "execution_count": 4,
     "metadata": {},
     "output_type": "execute_result"
    }
   ],
   "source": [
    "len(not_lyman_limited_value)"
   ]
  },
  {
   "cell_type": "code",
   "execution_count": 59,
   "metadata": {},
   "outputs": [],
   "source": [
    "sliced = []\n",
    "for i in range(0,len(not_lyman_limited_value),5000):\n",
    "    sliced.append(not_lyman_limited_value[i])"
   ]
  },
  {
   "cell_type": "code",
   "execution_count": 65,
   "metadata": {},
   "outputs": [
    {
     "data": {
      "text/plain": [
       "2215"
      ]
     },
     "execution_count": 65,
     "metadata": {},
     "output_type": "execute_result"
    }
   ],
   "source": [
    "len(sliced)"
   ]
  },
  {
   "cell_type": "code",
   "execution_count": 66,
   "metadata": {},
   "outputs": [],
   "source": [
    "gals = np.loadtxt('hprops.res', usecols=[5,6,7],unpack=1) "
   ]
  },
  {
   "cell_type": "code",
   "execution_count": 67,
   "metadata": {},
   "outputs": [],
   "source": [
    "points = []\n",
    "for i,j,k in zip(gals[0],gals[1],gals[2]):\n",
    "    points.append([i,j,k])\n",
    "for z in sliced:\n",
    "    points.append(z)"
   ]
  },
  {
   "cell_type": "code",
   "execution_count": 68,
   "metadata": {},
   "outputs": [],
   "source": [
    "from sklearn.neighbors import KDTree"
   ]
  },
  {
   "cell_type": "code",
   "execution_count": 88,
   "metadata": {},
   "outputs": [],
   "source": [
    "def nns(points,lyman_limited_value,k_points):\n",
    "    tree = KDTree(points)\n",
    "    #all_nn_indices = tree.query_radius(points, r = 1)\n",
    "    nearest_dist, all_nn_indices = tree.query(points, k=k_points)\n",
    "    nns = []\n",
    "    for i in range(len(all_nn_indices)-len(lyman_limited_value),len(all_nn_indices)):\n",
    "        nns.append(all_nn_indices[i])\n",
    "    all_nns = [\n",
    "        [points[idx] for idx in nn_indices if idx != int(i+len(all_nn_indices)-len(lyman_limited_value))]\n",
    "        for i, nn_indices in enumerate(nns)\n",
    "    ]\n",
    "    neighbors = []\n",
    "    for nns in all_nns:\n",
    "        neighbors.append(nns)\n",
    "    all_distance_diff = []\n",
    "    temp_distance = []\n",
    "    for i,k in zip(neighbors,lyman_limited_value):\n",
    "        all_distance_diff.append(temp_distance)\n",
    "        temp_distance = []\n",
    "        for ii in i:\n",
    "                temp_distance.append(np.sqrt((ii[0]-k[0])**2+(ii[1]-k[1])**2+(ii[2]-k[2])**2))\n",
    "    plot_data  = []\n",
    "    for i in all_distance_diff:\n",
    "        for k in i:\n",
    "            plot_data.append(k)\n",
    "    counts,bins = np.histogram(plot_data,bins=50)\n",
    "    total = np.sum(counts)\n",
    "    probability = []\n",
    "    for i in range(len(counts)):\n",
    "        probability.append(counts[i]/total)\n",
    "    cumulative_probability = []\n",
    "    cumulative_probability.append(probability[0])\n",
    "    for i in range(1,len(probability)):\n",
    "        cumulative_probability.append(probability[i]+cumulative_probability[i-1])\n",
    "    cumulative_probability\n",
    "    return cumulative_probability,counts,bins"
   ]
  },
  {
   "cell_type": "code",
   "execution_count": 89,
   "metadata": {},
   "outputs": [
    {
     "name": "stderr",
     "output_type": "stream",
     "text": [
      "/tmp/ipykernel_22769/2406489031.py:4: RuntimeWarning: invalid value encountered in log10\n",
      "  y2 = np.log10(np.subtract(1,cumulative_probability))\n",
      "/tmp/ipykernel_22769/2406489031.py:12: RuntimeWarning: divide by zero encountered in log10\n",
      "  y2 = np.log10(np.subtract(1,cumulative_probability))\n",
      "/tmp/ipykernel_22769/2406489031.py:28: RuntimeWarning: invalid value encountered in log10\n",
      "  y2 = np.log10(np.subtract(1,cumulative_probability))\n"
     ]
    },
    {
     "data": {
      "image/png": "[encoded data removed]",
      "text/plain": [
       "<Figure size 432x288 with 1 Axes>"
      ]
     },
     "metadata": {
      "needs_background": "light"
     },
     "output_type": "display_data"
    }
   ],
   "source": [
    "#iterate through each lls instead not includng other stuff\n",
    "cumulative_probability,counts,bins = nns(points,sliced,2)\n",
    "y = np.log10(cumulative_probability)\n",
    "y2 = np.log10(np.subtract(1,cumulative_probability))\n",
    "x = np.linspace(0,bins[-1] ,50)\n",
    "plt.plot(x,y,label = str(2-1)+\"nns\",c=\"blue\")\n",
    "plt.plot(x,y2,c=\"blue\")\n",
    "plt.ylim(-2,0)\n",
    "plt.legend()\n",
    "cumulative_probability,counts,bins = nns(points,sliced,3)\n",
    "y = np.log10(cumulative_probability)\n",
    "y2 = np.log10(np.subtract(1,cumulative_probability))\n",
    "x = np.linspace(0,bins[-1] ,50)\n",
    "plt.plot(x,y,label = str(3-1)+\"nns\",c=\"red\")\n",
    "plt.plot(x,y2,c=\"red\")\n",
    "plt.ylim(-2,0)\n",
    "plt.legend()\n",
    "cumulative_probability,counts,bins = nns(points,sliced,4)\n",
    "y = np.log10(cumulative_probability)\n",
    "y2 = np.log10(np.subtract(1,cumulative_probability))\n",
    "x = np.linspace(0,bins[-1] ,50)\n",
    "plt.plot(x,y,label = str(4-1)+\"nns\",c=\"black\")\n",
    "plt.plot(x,y2,c=\"black\")\n",
    "plt.ylim(-2,0)\n",
    "plt.legend()\n",
    "cumulative_probability,counts,bins = nns(points,sliced,5)\n",
    "y = np.log10(cumulative_probability)\n",
    "y2 = np.log10(np.subtract(1,cumulative_probability))\n",
    "x = np.linspace(0,bins[-1] ,50)\n",
    "plt.plot(x,y,label = str(5-1)+\"nns\",c=\"green\")\n",
    "plt.plot(x,y2,c=\"green\")\n",
    "plt.title(\"nns galaxies around not lyman limited systems\")\n",
    "plt.ylabel(\"cumulative_probability\")\n",
    "plt.xlabel(\"distance in chimp\")\n",
    "plt.ylim(-2,0)\n",
    "plt.legend()\n",
    "plt.savefig(\"nns_not_lls.png\")"
   ]
  },
  {
   "cell_type": "code",
   "execution_count": 90,
   "metadata": {},
   "outputs": [
    {
     "data": {
      "text/plain": [
       "<Figure size 432x288 with 0 Axes>"
      ]
     },
     "metadata": {},
     "output_type": "display_data"
    }
   ],
   "source": [
    "plt.savefig(\"nns_not_lls.png\")"
   ]
  },
  {
   "cell_type": "code",
   "execution_count": 91,
   "metadata": {},
   "outputs": [
    {
     "ename": "ValueError",
     "evalue": "not enough values to unpack (expected 4, got 3)",
     "output_type": "error",
     "traceback": [
      "\u001b[0;31m---------------------------------------------------------------------------\u001b[0m",
      "\u001b[0;31mValueError\u001b[0m                                Traceback (most recent call last)",
      "\u001b[1;32m/mnt/c/Users/jiawen/desktop/research/los_a=0.1452/a_non_lls_k_nns.ipynb Cell 13'\u001b[0m in \u001b[0;36m<cell line: 1>\u001b[0;34m()\u001b[0m\n\u001b[0;32m----> <a href='vscode-notebook-cell://wsl%2Bubuntu/mnt/c/Users/jiawen/desktop/research/los_a%3D0.1452/a_non_lls_k_nns.ipynb#ch0000018vscode-remote?line=0'>1</a>\u001b[0m cumulative_probability,probability,counts,bins \u001b[39m=\u001b[39m nns(points,sliced,\u001b[39m2\u001b[39m)\n",
      "\u001b[0;31mValueError\u001b[0m: not enough values to unpack (expected 4, got 3)"
     ]
    }
   ],
   "source": [
    "cumulative_probability,probability,counts,bins = nns(points,sliced,2)\n"
   ]
  },
  {
   "cell_type": "code",
   "execution_count": null,
   "metadata": {},
   "outputs": [
    {
     "data": {
      "text/plain": [
       "[0.022131887985546522,\n",
       " 0.04652213188798555,\n",
       " 0.08581752484191509,\n",
       " 0.0966576332429991,\n",
       " 0.1102077687443541,\n",
       " 0.10569105691056911,\n",
       " 0.0989159891598916,\n",
       " 0.08762420957542909,\n",
       " 0.08536585365853659,\n",
       " 0.06729900632339657,\n",
       " 0.04742547425474255,\n",
       " 0.037940379403794036,\n",
       " 0.036133694670280034,\n",
       " 0.023486901535682024,\n",
       " 0.018066847335140017,\n",
       " 0.009485094850948509,\n",
       " 0.006323396567299007,\n",
       " 0.0040650406504065045,\n",
       " 0.0018066847335140017,\n",
       " 0.004516711833785004,\n",
       " 0.002258355916892502,\n",
       " 0.00045167118337850043,\n",
       " 0.0,\n",
       " 0.00045167118337850043,\n",
       " 0.0009033423667570009,\n",
       " 0.0,\n",
       " 0.0,\n",
       " 0.0,\n",
       " 0.0,\n",
       " 0.00045167118337850043]"
      ]
     },
     "execution_count": 81,
     "metadata": {},
     "output_type": "execute_result"
    }
   ],
   "source": [
    "probability"
   ]
  }
 ],
 "metadata": {
  "kernelspec": {
   "display_name": "Python 3 (ipykernel)",
   "language": "python",
   "name": "python3"
  },
  "orig_nbformat": 4
 },
 "nbformat": 4,
 "nbformat_minor": 2
}
