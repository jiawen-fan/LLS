{
 "cells": [
  {
   "cell_type": "code",
   "execution_count": 1,
   "metadata": {},
   "outputs": [],
   "source": [
    "import os\n",
    "import numpy as np\n",
    "from matplotlib import pyplot as plt      \n",
    "import pandas as pd\n",
    "from scipy import special                 \n",
    "import scipy.optimize as opt    \n",
    "import array\n",
    "from scipy.signal import find_peaks, peak_prominences, peak_widths\n",
    "def unPackRawFile(raw_path):\n",
    "    \"\"\"\n",
    "    - unpacks the .raw file. Not used for the neural network.\n",
    "    \"\"\"\n",
    "    y = np.loadtxt(raw_path, skiprows=6)\n",
    "    distance = y[:,0]\n",
    "    pec_vel = y[:,1]\n",
    "    temp = y[:,2]\n",
    "    HI_density = y[:,3]\n",
    "    gas_density = y[:,4]\n",
    "    gas_metallicity = y[:,5]\n",
    "   \n",
    "    return distance, pec_vel, temp, HI_density, gas_density, gas_metallicity"
   ]
  },
  {
   "cell_type": "markdown",
   "metadata": {},
   "source": [
    "Below is the figure 1 we want to reproduce from the cosmological simulation paper, this time we are going to use the new simulation data"
   ]
  },
  {
   "cell_type": "code",
   "execution_count": 2,
   "metadata": {},
   "outputs": [],
   "source": [
    "#below shows the graph and the peaks\n",
    "#display_all()"
   ]
  },
  {
   "cell_type": "markdown",
   "metadata": {},
   "source": [
    "we have that the Lyman-limit systems is at $$1.6 X 10^{17} cm^{-2}\t\\lesssim N_{HI} \\lesssim 10^{20} cm^{-2}$$\n",
    "Now we are going to convert the units and find the lyman limited systems within the line of sights"
   ]
  },
  {
   "cell_type": "code",
   "execution_count": 3,
   "metadata": {},
   "outputs": [],
   "source": [
    "def lyman_identification():\n",
    "    \"\"\"\n",
    "    function for identifying lls using neutral fraction as filter\n",
    "    \"\"\"\n",
    "    neutral_fraction_limit = 1e-3\n",
    "    data = []\n",
    "    for i in range(1000):\n",
    "        temp_data = []\n",
    "        raw_path = 'los.00' + '{0:03}'.format(i) +'.raw'\n",
    "        distance, pec_vel, temp, HI_density, gas_density, gas_metallicity = unPackRawFile(raw_path)\n",
    "        #changing the distance from chimp to cmeters\n",
    "        distance_cm = distance *0.1452*3.086e24 /0.68\n",
    "        for k in range(len(distance) -2):\n",
    "            if(HI_density[k]/gas_density[k]<neutral_fraction_limit and HI_density[k+1]/gas_density[k+1]>neutral_fraction_limit):\n",
    "                left_bases = k+1\n",
    "                peak_fraction = HI_density[k]/gas_density[k]\n",
    "                peak_HI = HI_density[k]\n",
    "                peak_distance = distance[k]\n",
    "                if( k+1 <len(distance)):\n",
    "                    while(not(HI_density[k]/gas_density[k]>neutral_fraction_limit and HI_density[k+1]/gas_density[k+1]<neutral_fraction_limit) and k <len(distance)-1):\n",
    "                        right_bases = k +1\n",
    "                        if(k<len(distance)-1):\n",
    "                            k+=1\n",
    "                        if(HI_density[k]/gas_density[k]>peak_fraction):\n",
    "                            peak_fraction = HI_density[k]/gas_density[k]\n",
    "                            peak_HI = HI_density[k]\n",
    "                            peak_distance = distance[k]\n",
    "                    area_under = peak_HI *1/2*(distance_cm[right_bases]-distance_cm[left_bases])/0.937415\n",
    "                    if(area_under >= (1.6*10**17)and area_under  <= (10**22)):\n",
    "                        data.append(area_under)\n",
    "    return data\n",
    "lyman_limited_value = lyman_identification()\n"
   ]
  },
  {
   "cell_type": "code",
   "execution_count": 4,
   "metadata": {},
   "outputs": [
    {
     "data": {
      "text/plain": [
       "2496"
      ]
     },
     "execution_count": 4,
     "metadata": {},
     "output_type": "execute_result"
    }
   ],
   "source": [
    "len(lyman_limited_value)"
   ]
  },
  {
   "cell_type": "code",
   "execution_count": 5,
   "metadata": {},
   "outputs": [],
   "source": [
    "import pickle"
   ]
  },
  {
   "cell_type": "code",
   "execution_count": 6,
   "metadata": {},
   "outputs": [],
   "source": [
    "with open('a_lyman_limited_value.pkl', 'wb') as f:\n",
    "    pickle.dump(lyman_limited_value, f, protocol=pickle.HIGHEST_PROTOCOL)"
   ]
  },
  {
   "cell_type": "code",
   "execution_count": 7,
   "metadata": {},
   "outputs": [],
   "source": [
    "##the a-axis is the number of lyman-limited series, y-axis is the column density\n",
    "lyman_limited_value_sorted = sorted(lyman_limited_value)\n",
    "#below shows the total of lyman_limited_value in the nlos"
   ]
  },
  {
   "cell_type": "markdown",
   "metadata": {},
   "source": [
    "We got the data now, now is the data processing"
   ]
  },
  {
   "cell_type": "markdown",
   "metadata": {},
   "source": [
    "We bin the data by distance first, by doing so, we can figure out the change in the number density Vs the column density:"
   ]
  },
  {
   "cell_type": "code",
   "execution_count": 8,
   "metadata": {},
   "outputs": [
    {
     "name": "stdout",
     "output_type": "stream",
     "text": [
      "17.204365238441987\n",
      "21.957172386762977\n"
     ]
    }
   ],
   "source": [
    "##need to bin the data, and graph it like the paper.\n",
    "##right here we are goin go bin the data, using panda\n",
    "##find the max/min\n",
    "\n",
    "min_value_lyman_limited_value = np.log10(min(lyman_limited_value_sorted))\n",
    "max_value_lyman_limited_value = np.log10(max(lyman_limited_value_sorted))\n",
    "print(min_value_lyman_limited_value)\n",
    "print(max_value_lyman_limited_value)"
   ]
  },
  {
   "cell_type": "code",
   "execution_count": 9,
   "metadata": {},
   "outputs": [
    {
     "data": {
      "text/plain": [
       "array([17.20436524, 17.29942138, 17.39447752, 17.48953367, 17.58458981,\n",
       "       17.67964595, 17.7747021 , 17.86975824, 17.96481438, 18.05987053,\n",
       "       18.15492667, 18.24998281, 18.34503895, 18.4400951 , 18.53515124,\n",
       "       18.63020738, 18.72526353, 18.82031967, 18.91537581, 19.01043195,\n",
       "       19.1054881 , 19.20054424, 19.29560038, 19.39065653, 19.48571267,\n",
       "       19.58076881, 19.67582496, 19.7708811 , 19.86593724, 19.96099338,\n",
       "       20.05604953, 20.15110567, 20.24616181, 20.34121796, 20.4362741 ,\n",
       "       20.53133024, 20.62638639, 20.72144253, 20.81649867, 20.91155481,\n",
       "       21.00661096, 21.1016671 , 21.19672324, 21.29177939, 21.38683553,\n",
       "       21.48189167, 21.57694781, 21.67200396, 21.7670601 , 21.86211624,\n",
       "       21.95717239])"
      ]
     },
     "execution_count": 9,
     "metadata": {},
     "output_type": "execute_result"
    }
   ],
   "source": [
    "##putting data into panda data_frame for better organization\n",
    "##belows is the bin value\n",
    "bins = np.linspace(min_value_lyman_limited_value,max_value_lyman_limited_value,51)\n",
    "bins"
   ]
  },
  {
   "cell_type": "code",
   "execution_count": 10,
   "metadata": {},
   "outputs": [],
   "source": [
    "##divide up the data \n",
    "bin_data = pd.DataFrame()\n",
    "bin_data['cut_lyman_limited'] = np.array(lyman_limited_value_sorted)\n",
    "bin_data['cut_lyman_limited'] = pd.cut(np.log10(bin_data['cut_lyman_limited']), bins = bins,include_lowest = True).astype(str)"
   ]
  },
  {
   "cell_type": "markdown",
   "metadata": {},
   "source": [
    "below we visualize the number density vs column density without any normalization"
   ]
  },
  {
   "cell_type": "code",
   "execution_count": 11,
   "metadata": {},
   "outputs": [
    {
     "data": {
      "image/png": "[encoded data removed]",
      "text/plain": [
       "<Figure size 432x288 with 1 Axes>"
      ]
     },
     "metadata": {
      "needs_background": "light"
     },
     "output_type": "display_data"
    },
    {
     "data": {
      "text/plain": [
       "<Figure size 640x480 with 0 Axes>"
      ]
     },
     "metadata": {},
     "output_type": "display_data"
    }
   ],
   "source": [
    "##graph similar to the paper, culmulative\n",
    "from matplotlib.pyplot import figure\n",
    "fig, ax = plt.subplots()\n",
    "hist = ax.hist(bin_data,bins=50,cumulative =1,log =True)\n",
    "ax.set_xticks(ax.get_xticks()[::5])\n",
    "ax.set_yticks(ax.get_yticks()[::3])\n",
    "ax.set_xlabel('column density bins', fontsize=12)\n",
    "ax.set_ylabel('cumulative number density in total of 1000 line of sights', fontsize=12)\n",
    "ax.tick_params(axis='both', which='major', labelsize=7)\n",
    "plt.figure(figsize=(8, 6), dpi=80)\n",
    "plt.show()"
   ]
  },
  {
   "cell_type": "code",
   "execution_count": 12,
   "metadata": {},
   "outputs": [],
   "source": [
    "##extract the change in column density counts\n",
    "##abserve the trend that as the column density decreases the rate of number density decrease increase.\n",
    "number_count = []\n",
    "for i in range(1, len(hist[0])):\n",
    "    number_count.append(hist[0][i]- hist[0][i-1])\n",
    "total =0 \n",
    "for i in number_count:\n",
    "    total += i"
   ]
  },
  {
   "cell_type": "markdown",
   "metadata": {},
   "source": [
    "number density over distance"
   ]
  },
  {
   "cell_type": "code",
   "execution_count": 13,
   "metadata": {},
   "outputs": [],
   "source": [
    "# lyman_limited_counts\n",
    "# distance_value =  np.linspace(0,100,100,endpoint = True)\n",
    "# fig = plt.figure(figsize=(20, 2))\n",
    "# ax = fig.add_subplot(111)\n",
    "# ax.plot(distance_value, lyman_limited_counts)"
   ]
  },
  {
   "cell_type": "code",
   "execution_count": 14,
   "metadata": {},
   "outputs": [],
   "source": [
    "# fig = plt.figure()\n",
    "# ax = plt.axes(projection='3d')\n",
    "# x,y,z =[],[],[]\n",
    "# for i in range(37394):\n",
    "#     x.append(lyman_limited_distance[i][0])\n",
    "#     y.append(lyman_limited_distance[i][1])\n",
    "#     z.append(lyman_limited_distance[i][2])\n",
    "# ax.set_xlabel(\"distance alone los\")\n",
    "# ax.set_ylabel(\"number count for los\")\n",
    "# ax.set_zlabel(\"number count(N_hi)\")\n",
    "# ax.scatter3D(y,x,z,cmap='binary',s=0.05)"
   ]
  },
  {
   "cell_type": "markdown",
   "metadata": {},
   "source": [
    "can I put this into the box"
   ]
  },
  {
   "cell_type": "markdown",
   "metadata": {},
   "source": [
    "number density varies a lot"
   ]
  },
  {
   "cell_type": "markdown",
   "metadata": {},
   "source": [
    "We will now reporduce figure one:"
   ]
  },
  {
   "cell_type": "code",
   "execution_count": 15,
   "metadata": {},
   "outputs": [
    {
     "data": {
      "text/plain": [
       "[3.917019491848816e+16,\n",
       " 4.875418216070067e+16,\n",
       " 6.068313632610406e+16,\n",
       " 7.553081338201818e+16,\n",
       " 9.401135332708557e+16,\n",
       " 1.1701362872512422e+17,\n",
       " 1.4564399748382707e+17,\n",
       " 1.8127951619120768e+17,\n",
       " 2.2563417345208474e+17,\n",
       " 2.8084132889953587e+17,\n",
       " 3.495563230133064e+17,\n",
       " 4.350841930472896e+17,\n",
       " 5.415386379161485e+17,\n",
       " 6.740398778960573e+17,\n",
       " 8.389609257473966e+17,\n",
       " 1.0442341143493432e+18,\n",
       " 1.2997326241380577e+18,\n",
       " 1.6177453609637396e+18,\n",
       " 2.0135680249278044e+18,\n",
       " 2.506238799285541e+18,\n",
       " 3.119454044404308e+18,\n",
       " 3.882708039602784e+18,\n",
       " 4.832711591901098e+18,\n",
       " 6.015157743585149e+18,\n",
       " 7.486919505158754e+18,\n",
       " 9.318785319720886e+18,\n",
       " 1.1598863828469064e+19,\n",
       " 1.4436821698924167e+19,\n",
       " 1.7969158345921634e+19,\n",
       " 2.2365771247618572e+19,\n",
       " 2.78381276335258e+19,\n",
       " 3.464943558443075e+19,\n",
       " 4.3127303751337345e+19,\n",
       " 5.367949859754734e+19,\n",
       " 6.681355705188588e+19,\n",
       " 8.316119789780546e+19,\n",
       " 1.035087060314321e+20,\n",
       " 1.2883475100331272e+20,\n",
       " 1.603574588310133e+20,\n",
       " 1.995930011311782e+20,\n",
       " 2.484285195772005e+20,\n",
       " 3.092128931853553e+20,\n",
       " 3.848697141325828e+20,\n",
       " 4.79037905989572e+20,\n",
       " 5.962467477912263e+20,\n",
       " 7.421337222097435e+20,\n",
       " 9.23715665839969e+20,\n",
       " 1.1497262633175341e+21,\n",
       " 1.431036117981364e+21]"
      ]
     },
     "execution_count": 15,
     "metadata": {},
     "output_type": "execute_result"
    }
   ],
   "source": [
    "#we here find the change in column density\n",
    "#d_N_column = bins[1] - bins[0]\n",
    "d_N_column= []\n",
    "for i in range(1,50):\n",
    "    d_N_column.append(10**bins[i]-10**bins[i-1])\n",
    "d_N_column\n"
   ]
  },
  {
   "cell_type": "code",
   "execution_count": 16,
   "metadata": {},
   "outputs": [
    {
     "name": "stdout",
     "output_type": "stream",
     "text": [
      "146.04563456166113\n"
     ]
    }
   ],
   "source": [
    "def aH_calc(aexp,OmegaM):\n",
    "    aH = 100*aexp*np.sqrt(OmegaM/aexp**3+(1-OmegaM))\n",
    "    return aH\n",
    "aH = aH_calc(aexp=0.1433,OmegaM=0.3036)\n",
    "print(aH)"
   ]
  },
  {
   "cell_type": "code",
   "execution_count": 17,
   "metadata": {},
   "outputs": [
    {
     "name": "stdout",
     "output_type": "stream",
     "text": [
      "200000\n"
     ]
    }
   ],
   "source": [
    "#dN / (dz *dN_HI)\n",
    "y_value = []\n",
    "#dz = dv/c = H*dr/c = H*a*dx/c\n",
    "#dx = 200cMpc * number of line of sights\n",
    "dz =(200*1000)\n",
    "for i,k in zip(number_count,d_N_column):\n",
    "    if(number_count == 0):\n",
    "        y_value.append(0)\n",
    "    y_value.append(i/(dz*(k)))\n",
    "print(dz)"
   ]
  },
  {
   "cell_type": "code",
   "execution_count": 18,
   "metadata": {},
   "outputs": [],
   "source": [
    "x_value = []\n",
    "for i in range(1,50):\n",
    "    x_value.append(bins[i])"
   ]
  },
  {
   "cell_type": "code",
   "execution_count": 19,
   "metadata": {},
   "outputs": [
    {
     "data": {
      "image/png": "[encoded data removed]",
      "text/plain": [
       "<Figure size 432x288 with 1 Axes>"
      ]
     },
     "metadata": {
      "needs_background": "light"
     },
     "output_type": "display_data"
    }
   ],
   "source": [
    "plt.bar(x_value,y_value,width = 0.2)\n",
    "plt.xlabel(\"log10(N_HI)\")\n",
    "plt.ylabel(\"dN/(dz*dN_HI)\")\n",
    "plt.yscale('log')\n"
   ]
  },
  {
   "cell_type": "code",
   "execution_count": 20,
   "metadata": {},
   "outputs": [],
   "source": [
    "\n",
    "lyman_limited_value_sorted = list(reversed(lyman_limited_value_sorted))"
   ]
  },
  {
   "cell_type": "code",
   "execution_count": 21,
   "metadata": {},
   "outputs": [
    {
     "data": {
      "image/png": "[encoded data removed]",
      "text/plain": [
       "<Figure size 350x262.5 with 1 Axes>"
      ]
     },
     "metadata": {},
     "output_type": "display_data"
    }
   ],
   "source": [
    "import matplotlib.pyplot as plt\n",
    "\n",
    "x_axis = np.linspace(17,22,49)\n",
    "with open('y_value_80_non_uniform.pkl', 'wb') as f:\n",
    "    pickle.dump(y_value, f, protocol=pickle.HIGHEST_PROTOCOL)\n",
    "with plt.style.context('science','notebook'):\n",
    "    plt.figure()    \n",
    "    plt.plot(x_axis,y_value,color = \"dimgray\")\n",
    "    plt.rcParams['font.size'] = 8\n",
    "    plt.yscale(\"log\") \n",
    "    plt.yticks()\n",
    "    plt.xlabel(\"$\\mathrm{log10(N_{HI})}$\",fontsize = 10)\n",
    "    plt.ylabel(\"$\\mathrm{dN/(dzdN_{HI})}$\",fontsize =10,)\n",
    "    plt.show()"
   ]
  },
  {
   "cell_type": "code",
   "execution_count": 22,
   "metadata": {},
   "outputs": [
    {
     "data": {
      "text/plain": [
       "51"
      ]
     },
     "execution_count": 22,
     "metadata": {},
     "output_type": "execute_result"
    }
   ],
   "source": [
    "len(bins)"
   ]
  },
  {
   "cell_type": "code",
   "execution_count": 23,
   "metadata": {},
   "outputs": [
    {
     "data": {
      "text/plain": [
       "49"
      ]
     },
     "execution_count": 23,
     "metadata": {},
     "output_type": "execute_result"
    }
   ],
   "source": [
    "range_bins =[]\n",
    "for i in range(1,50):\n",
    "    range_bins.append(bins[i])\n",
    "len(range_bins)"
   ]
  },
  {
   "cell_type": "code",
   "execution_count": 26,
   "metadata": {},
   "outputs": [],
   "source": [
    "y_axis = (np.multiply(np.power(10,x_axis),y_value))"
   ]
  },
  {
   "cell_type": "code",
   "execution_count": 27,
   "metadata": {},
   "outputs": [
    {
     "data": {
      "image/png": "[encoded data removed]",
      "text/plain": [
       "<Figure size 350x262.5 with 1 Axes>"
      ]
     },
     "metadata": {},
     "output_type": "display_data"
    }
   ],
   "source": [
    "import matplotlib.pyplot as plt\n",
    "\n",
    "x_axis = np.linspace(17,22,49)\n",
    "with plt.style.context('science','notebook'):\n",
    "    plt.figure()    \n",
    "    plt.plot(x_axis,y_axis,color = \"dimgray\")\n",
    "    plt.rcParams['font.size'] = 8\n",
    "    plt.yscale(\"log\") \n",
    "    plt.yticks()\n",
    "    plt.xlabel(\"$\\mathrm{log10(N_{HI})}$\",fontsize = 10)\n",
    "    plt.ylabel(\"$\\mathrm{N_{HI}}$ $\\mathrm{dN/dN_{HI}}$\",fontsize =10,)\n",
    "    plt.savefig('figure_one_part_two.pdf') \n",
    "    plt.show()"
   ]
  },
  {
   "cell_type": "markdown",
   "metadata": {},
   "source": []
  },
  {
   "cell_type": "markdown",
   "metadata": {},
   "source": [
    "tried to increase the peak prominence, results with curves. Paper has 10000 line of sights, shouldnt change anything"
   ]
  },
  {
   "cell_type": "markdown",
   "metadata": {},
   "source": [
    "make it a line"
   ]
  }
 ],
 "metadata": {
  "interpreter": {
   "hash": "31f2aee4e71d21fbe5cf8b01ff0e069b9275f58929596ceb00d14d90e3e16cd6"
  },
  "kernelspec": {
   "display_name": "Python 3 (ipykernel)",
   "language": "python",
   "name": "python3"
  },
  "language_info": {
   "name": "python",
   "version": "3.8.10"
  }
 },
 "nbformat": 4,
 "nbformat_minor": 4
}
