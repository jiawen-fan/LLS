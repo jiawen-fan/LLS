{
 "cells": [
  {
   "cell_type": "code",
   "execution_count": 1,
   "metadata": {},
   "outputs": [],
   "source": [
    "### for 80mpc box\n",
    "import numpy as np\n",
    "import matplotlib.pyplot as plt\n",
    "import scipy.signal as signal\n",
    "import scipy.interpolate as interp\n",
    "import scipy as sp\n",
    "import re\n",
    "from sklearn.neighbors import KDTree\n",
    "\n",
    "\n",
    "\n",
    "#galaxy Mvir, x,y,z, vx, vy, vz\n",
    "gals = np.loadtxt('hpropsRS.res', usecols=[5,6,7],unpack=1) \n",
    "# setting vx, vy, vz to be 0, so the position is in real space, to match the v=0 LOS\n",
    "\n"
   ]
  },
  {
   "cell_type": "code",
   "execution_count": 2,
   "metadata": {},
   "outputs": [],
   "source": [
    "def unPackRawFile(raw_path):\n",
    "    \"\"\"\n",
    "    - unpacks the Raw conditions file. Not used for the neural network.\n",
    "    \"\"\"\n",
    "    y = np.loadtxt(raw_path, skiprows=6)\n",
    "    distance = y[:,0]\n",
    "    pec_vel = y[:,1]\n",
    "    temp = y[:,2]\n",
    "    HI_density = y[:,3]\n",
    "    gas_density = y[:,4]\n",
    "    gas_metallicity = y[:,5]\n",
    "    \n",
    "    return distance, pec_vel, temp, HI_density, gas_density, gas_metallicity"
   ]
  },
  {
   "cell_type": "code",
   "execution_count": 3,
   "metadata": {},
   "outputs": [],
   "source": [
    "def getPos(path_LOS,linenumber=7):\n",
    "    \"\"\"\n",
    "    the start position of the LOS is given inside each file, (in the comments)\n",
    "    this function parses the comments to get that information\n",
    "    \"\"\"\n",
    "    f = open(path_LOS)\n",
    "    x = f.readlines()[linenumber]\n",
    "    answer = re.search('\\(([^)]+)', x).group(1)\n",
    "    arr = np.array(answer.split(','),dtype=float)\n",
    "    return arr\n",
    "\n",
    "def getDir(path_LOS,linenumber=7):\n",
    "    \"\"\"\n",
    "    the direction of the LOS is given inside each file, (in the comments)\n",
    "    this function parses the comments to get that information\n",
    "    \"\"\"\n",
    "    f = open(path_LOS)\n",
    "    x = f.readlines()[linenumber]\n",
    "    answer = re.search('\\(([^)]+)', x.split(', ')[1]).group(1)\n",
    "    arr = np.array(answer.split(','),dtype=float)\n",
    "    return arr\n",
    "\n",
    "\n",
    "def convertSphereToCart(theta, phi):\n",
    "    \"converts a unit vector in spherical to cartesian, needed for getGalaxies\"\n",
    "    return np.array([np.sin(theta)*np.cos(phi), np.sin(theta)*np.sin(phi), np.cos(theta)])"
   ]
  },
  {
   "cell_type": "code",
   "execution_count": 4,
   "metadata": {},
   "outputs": [
    {
     "data": {
      "text/plain": [
       "array([ 0.6380884 , -0.76918308,  0.03464939])"
      ]
     },
     "execution_count": 4,
     "metadata": {},
     "output_type": "execute_result"
    }
   ],
   "source": [
    "raw_path = 'los.00' + '{0:03}'.format(0) +'.raw'\n",
    "direction = convertSphereToCart(getDir(raw_path)[0],getDir(raw_path)[1])\n",
    "direction"
   ]
  },
  {
   "cell_type": "code",
   "execution_count": 5,
   "metadata": {},
   "outputs": [],
   "source": [
    "##return the distance in extended instead\n",
    "def lyman_identification():\n",
    "    \"\"\"\n",
    "    function for identifying lls using neutral fraction as filter\n",
    "    \"\"\"\n",
    "    neutral_fraction_limit = 1e-3\n",
    "    data = []\n",
    "    l_bases = []\n",
    "    r_bases = []\n",
    "\n",
    "    for i in range(1000):\n",
    "        raw_path = 'los.00' + '{0:03}'.format(i) +'.raw'\n",
    "        distance, pec_vel, temp, HI_density, gas_density, gas_metallicity = unPackRawFile(raw_path)\n",
    "        #changing the distance from chimp to cmeters\n",
    "        distance_cm = distance *0.1474*3.086e24 /0.68\n",
    "        temp_data =[]\n",
    "        temp_left =[]\n",
    "        temp_right = []\n",
    "        position = getPos(raw_path)\n",
    "        direction = convertSphereToCart(getDir(raw_path)[0],getDir(raw_path)[1])\n",
    "        for k in range(len(distance) -2):\n",
    "            if(HI_density[k]/gas_density[k]<neutral_fraction_limit and HI_density[k+1]/gas_density[k+1]>neutral_fraction_limit):\n",
    "                left_bases = k\n",
    "                peak_fraction = HI_density[k]/gas_density[k]\n",
    "                peak_HI = HI_density[k]\n",
    "                peak_distance = distance[k]\n",
    "                if( k+1 <len(distance)):\n",
    "                    while(not(HI_density[k]/gas_density[k]>neutral_fraction_limit and HI_density[k+1]/gas_density[k+1]<neutral_fraction_limit) and k <len(distance)-1):\n",
    "                        right_bases = k\n",
    "                        if(k<len(distance)-1):\n",
    "                            k+=1\n",
    "                        if(HI_density[k]/gas_density[k]>peak_fraction):\n",
    "                            peak_fraction = HI_density[k]/gas_density[k]\n",
    "                            peak_HI = HI_density[k]\n",
    "                            peak_distance = distance[k]\n",
    "                    area_under = peak_HI *1/2*(distance_cm[right_bases]-distance_cm[left_bases])/0.937415\n",
    "                    if(area_under >= (1.6*10**17)and area_under  <= (10**20)):\n",
    "                        real_distance = [(position[0]/512*80 + direction[0]*peak_distance)%80,(position[1]/512*80 + direction[1]*peak_distance)%80,(position[2]/512*80 + direction[2]*peak_distance)%80]\n",
    "                        data.append(real_distance)\n",
    "                        temp_left.append(distance[left_bases])\n",
    "                        temp_right.append(distance[right_bases])\n",
    "        l_bases.append(temp_left)\n",
    "        r_bases.append(temp_right)\n",
    "    return data,l_bases,r_bases\n",
    "lyman_limited_value,left_bases,right_bases = lyman_identification()"
   ]
  },
  {
   "cell_type": "code",
   "execution_count": 91,
   "metadata": {},
   "outputs": [
    {
     "data": {
      "text/plain": [
       "1983"
      ]
     },
     "execution_count": 91,
     "metadata": {},
     "output_type": "execute_result"
    }
   ],
   "source": [
    "len(lyman_limited_value)"
   ]
  },
  {
   "cell_type": "code",
   "execution_count": 6,
   "metadata": {},
   "outputs": [],
   "source": [
    "#need the change this to iterate through individual lls instead of the whole thing\n",
    "points = []\n",
    "for i,j,k in zip(gals[0],gals[1],gals[2]):\n",
    "    points.append([i,j,k])\n",
    "for z in lyman_limited_value:\n",
    "    points.append(z)"
   ]
  },
  {
   "cell_type": "code",
   "execution_count": 7,
   "metadata": {},
   "outputs": [
    {
     "data": {
      "text/plain": [
       "'from scipy.spatial import distance\\nfor i in lyman_limited_value:\\n    points.append(i)\\n    distance = distance.squareform(distance.pdist(points))\\n    points.remove(i)\\n    print(distance)'"
      ]
     },
     "execution_count": 7,
     "metadata": {},
     "output_type": "execute_result"
    }
   ],
   "source": [
    "\"\"\"from scipy.spatial import distance\n",
    "for i in lyman_limited_value:\n",
    "    points.append(i)\n",
    "    distance = distance.squareform(distance.pdist(points))\n",
    "    points.remove(i)\n",
    "    print(distance)\"\"\"\n"
   ]
  },
  {
   "cell_type": "code",
   "execution_count": 107,
   "metadata": {},
   "outputs": [],
   "source": [
    "def nns(points,lyman_limited_value,k_points):\n",
    "    tree = KDTree(points)\n",
    "    #all_nn_indices = tree.query_radius(points, r = 1)\n",
    "    nearest_dist, all_nn_indices = tree.query(points, k=k_points)\n",
    "    nns = []\n",
    "    for i in range(len(all_nn_indices)-len(lyman_limited_value),len(all_nn_indices)):\n",
    "        nns.append(all_nn_indices[i])\n",
    "    all_nns = [\n",
    "        [points[idx] for idx in nn_indices if idx != int(i+len(all_nn_indices)-len(lyman_limited_value))]\n",
    "        for i, nn_indices in enumerate(nns)\n",
    "    ]\n",
    "    neighbors = []\n",
    "    for nns in all_nns:\n",
    "        neighbors.append(nns)\n",
    "    all_distance_diff = []\n",
    "    temp_distance = []\n",
    "    for i,k in zip(neighbors,lyman_limited_value):\n",
    "        all_distance_diff.append(temp_distance)\n",
    "        temp_distance = []\n",
    "        for ii in i:\n",
    "                temp_distance.append(np.sqrt((ii[0]-k[0])**2+(ii[1]-k[1])**2+(ii[2]-k[2])**2))\n",
    "    plot_data  = []\n",
    "    for i in all_distance_diff:\n",
    "        for k in i:\n",
    "            plot_data.append(k)\n",
    "    counts,bins = np.histogram(plot_data,bins=50)\n",
    "    total = np.sum(counts)\n",
    "    probability = []\n",
    "    for i in range(len(counts)):\n",
    "        probability.append(counts[i]/total)\n",
    "    cumulative_probability = []\n",
    "    cumulative_probability.append(probability[0])\n",
    "    for i in range(1,len(probability)):\n",
    "        cumulative_probability.append(probability[i]+cumulative_probability[i-1])\n",
    "    cumulative_probability\n",
    "    return cumulative_probability,counts,bins"
   ]
  },
  {
   "cell_type": "code",
   "execution_count": 108,
   "metadata": {},
   "outputs": [
    {
     "name": "stderr",
     "output_type": "stream",
     "text": [
      "/tmp/ipykernel_13058/3273386379.py:12: RuntimeWarning: divide by zero encountered in log10\n",
      "  y2 = np.log10(np.subtract(1,cumulative_probability))\n",
      "/tmp/ipykernel_13058/3273386379.py:28: RuntimeWarning: divide by zero encountered in log10\n",
      "  y2 = np.log10(np.subtract(1,cumulative_probability))\n"
     ]
    },
    {
     "data": {
      "image/png": "[encoded data removed]",
      "text/plain": [
       "<Figure size 432x288 with 1 Axes>"
      ]
     },
     "metadata": {
      "needs_background": "light"
     },
     "output_type": "display_data"
    }
   ],
   "source": [
    "#iterate through each lls instead not includng other stuff\n",
    "cumulative_probability,counts,bins = nns(points,lyman_limited_value,2)\n",
    "y = np.log10(cumulative_probability)\n",
    "y2 = np.log10(np.subtract(1,cumulative_probability))\n",
    "x = np.linspace(0,bins[-1] ,50)\n",
    "plt.plot(x,y,label = str(2-1)+\"nns\",c=\"blue\")\n",
    "plt.plot(x,y2,c=\"blue\")\n",
    "plt.ylim(-2,0)\n",
    "plt.legend()\n",
    "cumulative_probability,counts,bins = nns(points,lyman_limited_value,3)\n",
    "y = np.log10(cumulative_probability)\n",
    "y2 = np.log10(np.subtract(1,cumulative_probability))\n",
    "x = np.linspace(0,bins[-1] ,50)\n",
    "plt.plot(x,y,label = str(3-1)+\"nns\",c=\"red\")\n",
    "plt.plot(x,y2,c=\"red\")\n",
    "plt.ylim(-2,0)\n",
    "plt.legend()\n",
    "cumulative_probability,counts,bins = nns(points,lyman_limited_value,4)\n",
    "y = np.log10(cumulative_probability)\n",
    "y2 = np.log10(np.subtract(1,cumulative_probability))\n",
    "x = np.linspace(0,bins[-1] ,50)\n",
    "plt.plot(x,y,label = str(4-1)+\"nns\",c=\"black\")\n",
    "plt.plot(x,y2,c=\"black\")\n",
    "plt.ylim(-2,0)\n",
    "plt.legend()\n",
    "cumulative_probability,counts,bins = nns(points,lyman_limited_value,5)\n",
    "y = np.log10(cumulative_probability)\n",
    "y2 = np.log10(np.subtract(1,cumulative_probability))\n",
    "x = np.linspace(0,bins[-1] ,50)\n",
    "plt.plot(x,y,label = str(5-1)+\"nns\",c=\"green\")\n",
    "plt.plot(x,y2,c=\"green\")\n",
    "plt.title(\"nns galaxies around lyman limited systems\")\n",
    "plt.ylabel(\"cumulative_probability\")\n",
    "plt.xlabel(\"distance in chimp\")\n",
    "plt.ylim(-2,0)\n",
    "plt.legend()\n",
    "plt.savefig(\"nns_lls.png\")"
   ]
  },
  {
   "cell_type": "code",
   "execution_count": 109,
   "metadata": {},
   "outputs": [
    {
     "data": {
      "text/plain": [
       "array([0.00421   , 0.05246718, 0.10072437, 0.14898155, 0.19723874,\n",
       "       0.24549592, 0.2937531 , 0.34201029, 0.39026747, 0.43852466,\n",
       "       0.48678184, 0.53503902, 0.58329621, 0.63155339, 0.67981058,\n",
       "       0.72806776, 0.77632494, 0.82458213, 0.87283931, 0.92109649,\n",
       "       0.96935368, 1.01761086, 1.06586805, 1.11412523, 1.16238241,\n",
       "       1.2106396 , 1.25889678, 1.30715397, 1.35541115, 1.40366833,\n",
       "       1.45192552, 1.5001827 , 1.54843989, 1.59669707, 1.64495425,\n",
       "       1.69321144, 1.74146862, 1.78972581, 1.83798299, 1.88624017,\n",
       "       1.93449736, 1.98275454, 2.03101173, 2.07926891, 2.12752609,\n",
       "       2.17578328, 2.22404046, 2.27229765, 2.32055483, 2.36881201,\n",
       "       2.4170692 ])"
      ]
     },
     "execution_count": 109,
     "metadata": {},
     "output_type": "execute_result"
    }
   ],
   "source": [
    "cumulative_probability,counts,bins = nns(points,lyman_limited_value,2)\n",
    "bins\n"
   ]
  },
  {
   "cell_type": "code",
   "execution_count": 110,
   "metadata": {},
   "outputs": [
    {
     "data": {
      "text/plain": [
       "[0.05600403632694248,\n",
       " 0.04490413723511604,\n",
       " 0.06004036326942482,\n",
       " 0.08375378405650857,\n",
       " 0.08728557013118063,\n",
       " 0.09485368314833502,\n",
       " 0.08779011099899092,\n",
       " 0.08526740665993945,\n",
       " 0.08678102926337034,\n",
       " 0.05953582240161453,\n",
       " 0.05196770938446014,\n",
       " 0.03834510595358224,\n",
       " 0.036831483350151364,\n",
       " 0.031786074672048435,\n",
       " 0.020686175580221997,\n",
       " 0.02119071644803229,\n",
       " 0.017154389505549948,\n",
       " 0.010090817356205853,\n",
       " 0.006054490413723511,\n",
       " 0.005045408678102927,\n",
       " 0.006559031281533804,\n",
       " 0.0020181634712411706,\n",
       " 0.0020181634712411706,\n",
       " 0.0015136226034308778,\n",
       " 0.0010090817356205853,\n",
       " 0.0,\n",
       " 0.0,\n",
       " 0.0005045408678102926,\n",
       " 0.0,\n",
       " 0.0010090817356205853]"
      ]
     },
     "execution_count": 110,
     "metadata": {},
     "output_type": "execute_result"
    }
   ],
   "source": [
    "probability"
   ]
  }
 ],
 "metadata": {
  "kernelspec": {
   "display_name": "Python 3 (ipykernel)",
   "language": "python",
   "name": "python3"
  },
  "orig_nbformat": 4,
  "vscode": {
   "interpreter": {
    "hash": "31f2aee4e71d21fbe5cf8b01ff0e069b9275f58929596ceb00d14d90e3e16cd6"
   }
  }
 },
 "nbformat": 4,
 "nbformat_minor": 2
}
