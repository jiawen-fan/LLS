{
 "cells": [
  {
   "cell_type": "code",
   "execution_count": 11,
   "metadata": {},
   "outputs": [],
   "source": [
    "import pickle\n",
    "import numpy as np\n",
    "from matplotlib import pyplot as plt\n",
    "import pandas as pd\n",
    "from scipy import special                 \n",
    "import array\n",
    "import scipy as sp\n",
    "from scipy import spatial\n",
    "from scipy.stats import binned_statistic\n",
    "import re"
   ]
  },
  {
   "cell_type": "code",
   "execution_count": 12,
   "metadata": {},
   "outputs": [],
   "source": [
    "def distance(points1, points2):\n",
    "    return(np.sqrt((points1[0]-points2[0])**2 +(points1[1]-points2[1])**2+(points1[2]-points2[2])**2))\n",
    "def nfvir(lyman_distance,n,v1,v2,v3):\n",
    "    gals = np.loadtxt('hprops.res', usecols=[5,6,7,8],unpack=1) \n",
    "    points = []\n",
    "    for i,j,k in zip(gals[0],gals[1],gals[2]):\n",
    "        points.append([i,j,k])\n",
    "    radius_points = []\n",
    "    for i in gals[3]:\n",
    "        radius_points.append(i)\n",
    "    #lls in rvir\n",
    "    #total lls\n",
    "    #bins count\n",
    "    #one extra space\n",
    "    points.append([0,0,0])\n",
    "    lymans = []\n",
    "    neutral_fraction =[]\n",
    "    HI= []\n",
    "    gas_density_normalized =[]\n",
    "    count = 0\n",
    "    for i in (lyman_distance):\n",
    "        #i[0] is the column density, i[1] is the lyman location\n",
    "        #less than certain density in bins\n",
    "        \n",
    "        for z in range(n,0,-1):\n",
    "            points[-1] = (i[1])\n",
    "            tree = spatial.KDTree(points)\n",
    "            #look at what is associated\n",
    "            all_nn_indices = tree.query_ball_point(points[-1],r=4.979e-01*z)\n",
    "            #check fvir conditions\n",
    "            condition = False\n",
    "            for k in all_nn_indices:\n",
    "                if(points[k] != points[-1]):\n",
    "                #see if distance in between is smaller than vir distance times by n \n",
    "                #add mass constraints\n",
    "                    if(distance(i[1],points[k]) < radius_points[k]*z):\n",
    "                        condition = True\n",
    "                        #if true\n",
    "            if condition == True:\n",
    "                #range,lyman\n",
    "                lymans.append([i,z])\n",
    "                neutral_fraction.append([v1[count]])\n",
    "                HI.append([v2[count]])\n",
    "                gas_density_normalized.append([v3[count]])\n",
    "        count += 1\n",
    "    return lymans,neutral_fraction,HI,gas_density_normalized"
   ]
  },
  {
   "cell_type": "code",
   "execution_count": 13,
   "metadata": {},
   "outputs": [],
   "source": [
    "#need the column density, and lyman distance"
   ]
  },
  {
   "cell_type": "code",
   "execution_count": 14,
   "metadata": {},
   "outputs": [],
   "source": [
    "def unPackRawFile(raw_path):\n",
    "    \"\"\"\n",
    "\n",
    "\n",
    "    \n",
    "    - unpacks the .raw file. Not used for the neural network.\n",
    "    \"\"\"\n",
    "    y = np.loadtxt(raw_path, skiprows=6)\n",
    "    distance = y[:,0]\n",
    "    pec_vel = y[:,1]\n",
    "    temp = y[:,2]\n",
    "    HI_density = y[:,3]\n",
    "    gas_density = y[:,4]\n",
    "    gas_metallicity = y[:,5]\n",
    "   \n",
    "    return distance, pec_vel, temp, HI_density, gas_density, gas_metallicity"
   ]
  },
  {
   "cell_type": "code",
   "execution_count": 15,
   "metadata": {},
   "outputs": [],
   "source": [
    "def calculate_gamma(temperature,density,xHI,scale):\n",
    "    '''Gamma = R(T)*ne/xHI, R(T) = 4.3e-13 * (T/1e4K)^{-0.7), ne = 0.82*nb.\n",
    "    '''\n",
    "    omega_b = 0.0479; h = 0.6814\n",
    "    mean_nb = 1.123e-5/scale**3*omega_b*h**2\n",
    "    nb = np.multiply(density ,mean_nb); ne = 0.82*nb\n",
    "    R_T = 4.3e-13 * (np.divide(temperature,1e4))**(-0.7)\n",
    "    gamma = R_T * ne / xHI\n",
    "    \n",
    "    return gamma"
   ]
  },
  {
   "cell_type": "code",
   "execution_count": 16,
   "metadata": {},
   "outputs": [],
   "source": [
    "def getPos(path_LOS,linenumber=7):\n",
    "    \"\"\"\n",
    "    the start position of the LOS is given inside each file, (in the comments)\n",
    "    this function parses the comments to get that information\n",
    "    \"\"\"\n",
    "    f = open(path_LOS)\n",
    "    x = f.readlines()[linenumber]\n",
    "    answer = re.search('\\(([^)]+)', x).group(1)\n",
    "    arr = np.array(answer.split(','),dtype=float)\n",
    "    return arr\n",
    "\n",
    "def getDir(path_LOS,linenumber=7):\n",
    "    \"\"\"\n",
    "    the direction of the LOS is given inside each file, (in the comments)\n",
    "    this function parses the comments to get that information\n",
    "    \"\"\"\n",
    "    f = open(path_LOS)\n",
    "    x = f.readlines()[linenumber]\n",
    "    answer = re.search('\\(([^)]+)', x.split(', ')[1]).group(1)\n",
    "    arr = np.array(answer.split(','),dtype=float)\n",
    "    return arr\n",
    "\n",
    "\n",
    "def convertSphereToCart(theta, phi):\n",
    "    \"converts a unit vector in spherical to cartesian, needed for getGalaxies\"\n",
    "    return np.array([np.sin(theta)*np.cos(phi), np.sin(theta)*np.sin(phi), np.cos(theta)])"
   ]
  },
  {
   "cell_type": "code",
   "execution_count": 17,
   "metadata": {},
   "outputs": [],
   "source": [
    "def lyman_identification():\n",
    "    \"\"\"\n",
    "    function for identifying lls using neutral fraction as filter\n",
    "    \"\"\"\n",
    "    neutral_fraction_limit = 1e-3\n",
    "    \n",
    "    neutral_fraction = []\n",
    "    real_lyman = []\n",
    "    gamma = []\n",
    "    HI = []\n",
    "    gas_den = []\n",
    "    for i in range(1000):\n",
    "        raw_path = 'los.00' + '{0:03}'.format(i) +'.raw'\n",
    "        distance, pec_vel, temp, HI_density, gas_density, gas_metallicity = unPackRawFile(raw_path)\n",
    "        #changing the distance from chimp to cmeters\n",
    "        distance_cm = distance *0.1452*3.086e24 /0.68\n",
    "        position = getPos(raw_path)\n",
    "        direction = convertSphereToCart(getDir(raw_path)[0],getDir(raw_path)[1])\n",
    "        for k in range(len(distance) -2):\n",
    "            if(HI_density[k]/gas_density[k]<neutral_fraction_limit and HI_density[k+1]/gas_density[k+1]>neutral_fraction_limit):\n",
    "                left_bases = k+1\n",
    "                peak_fraction = HI_density[k]/gas_density[k]\n",
    "                peak_HI = HI_density[k]\n",
    "                peak_distance = distance[k]\n",
    "                peak_gas = gas_density[k]\n",
    "                if( k+1 <len(distance)):\n",
    "                    while(not(HI_density[k]/gas_density[k]>neutral_fraction_limit and HI_density[k+1]/gas_density[k+1]<neutral_fraction_limit) and k <len(distance)-1):\n",
    "                        right_bases = k +1\n",
    "                        if(k<len(distance)-1):\n",
    "                            k+=1\n",
    "                        if(HI_density[k]/gas_density[k]>peak_fraction):\n",
    "                            peak_fraction = HI_density[k]/gas_density[k]\n",
    "                            peak_HI = HI_density[k]\n",
    "                            peak_distance = distance[k]\n",
    "                            peak_gas = gas_density[k]\n",
    "                            peak_gamma = calculate_gamma(temp[k],gas_density[k],peak_fraction,0.1452)\n",
    "                    area_under = peak_HI *1/2*(distance_cm[right_bases]-distance_cm[left_bases])/0.937415\n",
    "                    real_distance = [(position[0]/512*80+peak_distance*direction[0])%80, (position[1]/512*80+peak_distance*direction[1])%80,(position[2]/512*80+peak_distance*direction[2])%80]\n",
    "                    if(area_under >= (10**16)and area_under  <= (10**22)):\n",
    "                        real_lyman.append([area_under,real_distance])\n",
    "                        neutral_fraction.append(peak_fraction)\n",
    "                        HI.append(peak_HI)\n",
    "                        gamma.append(peak_gamma)\n",
    "                        gas_den.append(peak_gas)\n",
    "    return real_lyman,neutral_fraction,gamma,HI,gas_den\n",
    "lyman_limited_value,neutral_fraction,gamma,HI,gas_density_normalized = lyman_identification()\n"
   ]
  },
  {
   "cell_type": "code",
   "execution_count": 26,
   "metadata": {},
   "outputs": [],
   "source": [
    "lymans,n_fraction,H1,gas_den_normalized = nfvir(lyman_limited_value,4,neutral_fraction,HI,gas_density_normalized)"
   ]
  },
  {
   "cell_type": "code",
   "execution_count": 72,
   "metadata": {},
   "outputs": [],
   "source": [
    "with open('a.pkl', 'wb') as f:\n",
    "    pickle.dump(lymans, f, protocol=pickle.HIGHEST_PROTOCOL)\n",
    "with open('b.pkl', 'wb') as f:\n",
    "    pickle.dump(n_fraction, f, protocol=pickle.HIGHEST_PROTOCOL)\n",
    "with open('c.pkl', 'wb') as f:\n",
    "    pickle.dump(H1, f, protocol=pickle.HIGHEST_PROTOCOL)\n",
    "with open('d.pkl', 'wb') as f:\n",
    "    pickle.dump(gas_den_normalized, f, protocol=pickle.HIGHEST_PROTOCOL)"
   ]
  },
  {
   "cell_type": "code",
   "execution_count": 75,
   "metadata": {},
   "outputs": [],
   "source": [
    "lymans= []\n",
    "n_fraction = []\n",
    "with open('a.pkl', 'rb') as f:\n",
    "    lymans = pickle.load(f)\n",
    "with open('b.pkl', 'rb') as f:\n",
    "    n_fraction = pickle.load(f)"
   ]
  },
  {
   "cell_type": "code",
   "execution_count": 76,
   "metadata": {},
   "outputs": [],
   "source": [
    "no_repeat =[]\n",
    "neutral_fraction_stuff = []\n",
    "for i in range(0,len(lymans)-1):\n",
    "    if(lymans[i][0][0] != lymans[i+1][0][0]):\n",
    "        no_repeat.append(lymans[i])\n",
    "        neutral_fraction_stuff.append(n_fraction[i])"
   ]
  },
  {
   "cell_type": "code",
   "execution_count": 77,
   "metadata": {},
   "outputs": [],
   "source": [
    "lyman_temp  = []\n",
    "for i in no_repeat:\n",
    "    lyman_temp.append(i[0][0])"
   ]
  },
  {
   "cell_type": "code",
   "execution_count": 78,
   "metadata": {},
   "outputs": [],
   "source": [
    "color_value = []\n",
    "for i in no_repeat:\n",
    "    color_value.append(i[1])"
   ]
  },
  {
   "cell_type": "code",
   "execution_count": 79,
   "metadata": {},
   "outputs": [],
   "source": [
    "sigma = 6.3e-18"
   ]
  },
  {
   "cell_type": "code",
   "execution_count": 80,
   "metadata": {},
   "outputs": [],
   "source": [
    "optical_depth = np.multiply(sigma,lyman_temp)"
   ]
  }
 ],
 "metadata": {
  "kernelspec": {
   "display_name": "Python 3 (ipykernel)",
   "language": "python",
   "name": "python3"
  },
  "orig_nbformat": 4
 },
 "nbformat": 4,
 "nbformat_minor": 2
}
