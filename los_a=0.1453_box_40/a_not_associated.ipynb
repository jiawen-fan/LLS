{
 "cells": [
  {
   "cell_type": "code",
   "execution_count": 1,
   "metadata": {},
   "outputs": [],
   "source": [
    "import pickle\n",
    "import numpy as np\n",
    "from matplotlib import pyplot as plt\n",
    "import pandas as pd\n",
    "from scipy import special                 \n",
    "import array\n",
    "import scipy as sp\n",
    "from scipy import spatial\n",
    "from scipy.stats import binned_statistic"
   ]
  },
  {
   "cell_type": "code",
   "execution_count": 40,
   "metadata": {},
   "outputs": [],
   "source": [
    "with open('a_lyman_limited_value.pkl', 'rb') as f:\n",
    "    lyman = pickle.load(f)\n",
    "lyman_distance = []\n",
    "for i in lyman:\n",
    "    for z in i:\n",
    "        if(z[0] > 10**21):\n",
    "            lyman_distance.append((np.log10(z[0]),z[4]))\n",
    "lyman_distance.sort(key = lambda row:(row[0]))"
   ]
  },
  {
   "cell_type": "code",
   "execution_count": 47,
   "metadata": {},
   "outputs": [
    {
     "data": {
      "text/plain": [
       "53"
      ]
     },
     "execution_count": 47,
     "metadata": {},
     "output_type": "execute_result"
    }
   ],
   "source": [
    "len(lyman_distance)"
   ]
  },
  {
   "cell_type": "code",
   "execution_count": 25,
   "metadata": {},
   "outputs": [],
   "source": [
    "def distance(points1, points2):\n",
    "    return(np.sqrt((points1[0]-points2[0])**2 +(points1[1]-points2[1])**2+(points1[2]-points2[2])**2))"
   ]
  },
  {
   "cell_type": "code",
   "execution_count": 26,
   "metadata": {},
   "outputs": [],
   "source": [
    "def no_galaxies(lyman_distance):    \n",
    "    checkout = []\n",
    "    gals = np.loadtxt('hpropsRS.res', usecols=[5,6,7,8],unpack=1) \n",
    "    points = []\n",
    "    for i,j,k in zip(gals[0],gals[1],gals[2]):\n",
    "        points.append([i,j,k])\n",
    "    radius_points = []\n",
    "    for i in gals[3]:\n",
    "        radius_points.append(i)\n",
    "    points.append([0,0,0])\n",
    "    for i in lyman_distance:\n",
    "        points[-1] = i[1]\n",
    "        tree = spatial.KDTree(points)\n",
    "        all_nn_indices = tree.query_ball_point(points[-1],r=2.175e-01)\n",
    "        counts = 0\n",
    "        for k in all_nn_indices:\n",
    "                if(points[k] != points[-1]):\n",
    "                    if(distance(i[1],points[k]) > radius_points[k]):\n",
    "                        #if true \n",
    "                        counts +=1\n",
    "                        if(counts == len(all_nn_indices)-1):\n",
    "                            checkout.append([i[0],i[1]])\n",
    "    return checkout"
   ]
  },
  {
   "cell_type": "code",
   "execution_count": 27,
   "metadata": {},
   "outputs": [],
   "source": [
    "nogalaxies  = no_galaxies(lyman_distance)"
   ]
  },
  {
   "cell_type": "code",
   "execution_count": 39,
   "metadata": {},
   "outputs": [],
   "source": [
    "with open('nogalaxies_associated_20+.pkl', 'wb') as f:\n",
    "    pickle.dump(nogalaxies, f, protocol=pickle.HIGHEST_PROTOCOL)"
   ]
  },
  {
   "cell_type": "code",
   "execution_count": 36,
   "metadata": {},
   "outputs": [],
   "source": [
    "gals = np.loadtxt('hpropsRS.res', usecols=[5,6,7,8],unpack=1) \n",
    "checkout = []\n",
    "points = []\n",
    "for i,j,k in zip(gals[0],gals[1],gals[2]):\n",
    "    points.append([i,j,k])\n",
    "    radius_points = []\n",
    "radius_points = []\n",
    "for i in gals[3]:\n",
    "    radius_points.append(i)\n",
    "size = []\n",
    "for p in high_col:\n",
    "    for i in range(len(points)):\n",
    "        if(radius_points[i]*6 > distance(p[1],points[i])):\n",
    "            checkout.append(points[i])\n",
    "            size.append(radius_points[i])\n"
   ]
  },
  {
   "cell_type": "code",
   "execution_count": 45,
   "metadata": {},
   "outputs": [
    {
     "data": {
      "text/plain": [
       "[array([-22.6022557 , -15.4202307 ,  19.24810075]),\n",
       " array([-22.6682357 , -14.5867307 ,  19.33158075]),\n",
       " array([-22.7129957 , -14.6267207 ,  19.37459075]),\n",
       " array([-22.5510957 , -14.5679607 ,  19.31569075]),\n",
       " array([-22.6637857 , -14.6335607 ,  19.38373075]),\n",
       " array([-22.5230657 , -14.5391207 ,  19.31894075]),\n",
       " array([-22.5667357 , -14.5074107 ,  19.32904075]),\n",
       " array([-22.6388257 , -14.6198307 ,  19.29820075]),\n",
       " array([-22.6234657 , -14.5994707 ,  19.38055075]),\n",
       " array([-22.6084257 , -14.5852907 ,  19.31327075]),\n",
       " array([-22.6091557 , -14.4867507 ,  19.35763075]),\n",
       " array([-0.0078057 ,  0.0141093 , -0.16918925]),\n",
       " array([ 0.0317743 ,  0.0122393 , -0.00131925]),\n",
       " array([-0.0141057 , -0.0216807 , -0.05019925]),\n",
       " array([-0.0168457 , -0.0126507 ,  0.02161075])]"
      ]
     },
     "execution_count": 45,
     "metadata": {},
     "output_type": "execute_result"
    }
   ],
   "source": [
    "difference  = []\n",
    "for i in checkout:\n",
    "    difference.append(np.subtract(i,high_col[-1][1]))\n",
    "difference"
   ]
  }
 ],
 "metadata": {
  "kernelspec": {
   "display_name": "Python 3 (ipykernel)",
   "language": "python",
   "name": "python3"
  },
  "orig_nbformat": 4
 },
 "nbformat": 4,
 "nbformat_minor": 2
}
