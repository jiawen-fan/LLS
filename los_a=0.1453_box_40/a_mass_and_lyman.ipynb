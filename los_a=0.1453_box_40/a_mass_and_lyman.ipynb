{
 "cells": [
  {
   "cell_type": "code",
   "execution_count": 16,
   "metadata": {},
   "outputs": [],
   "source": [
    "import pickle\n",
    "import numpy as np\n",
    "from matplotlib import pyplot as plt\n",
    "import pandas as pd\n",
    "from scipy import special                 \n",
    "import array\n",
    "import scipy as sp\n",
    "from scipy import spatial\n",
    "from scipy.stats import binned_statistic\n",
    "import random"
   ]
  },
  {
   "cell_type": "code",
   "execution_count": 17,
   "metadata": {},
   "outputs": [],
   "source": [
    "with open('a_lyman_limited_value.pkl', 'rb') as f:\n",
    "    lyman = pickle.load(f)\n",
    "lyman_distance = []\n",
    "for i in lyman:\n",
    "    for z in i:\n",
    "        lyman_distance.append((np.log10(z[0]),z[4]))\n",
    "lyman_distance.sort(key = lambda row:(row[0]))"
   ]
  },
  {
   "cell_type": "code",
   "execution_count": 18,
   "metadata": {},
   "outputs": [],
   "source": [
    "gals = np.loadtxt('hpropsRS.res', usecols=[5,6,7,0,8],unpack=1) \n",
    "points = []\n",
    "for i,j,k in zip(gals[0],gals[1],gals[2]):\n",
    "    points.append([i,j,k])\n",
    "mass = []\n",
    "for i in gals[3]:\n",
    "    mass.append(i)\n",
    "radius_points = []\n",
    "for i in gals[4]:\n",
    "    radius_points.append(i)"
   ]
  },
  {
   "cell_type": "code",
   "execution_count": 19,
   "metadata": {},
   "outputs": [],
   "source": [
    "def distance(points1, points2):\n",
    "    return(np.sqrt((points1[0]-points2[0])**2 +(points1[1]-points2[1])**2+(points1[2]-points2[2])**2))"
   ]
  },
  {
   "cell_type": "code",
   "execution_count": 20,
   "metadata": {},
   "outputs": [],
   "source": [
    "points.append([0,0,0])\n",
    "associated_mass = []\n",
    "for i in lyman_distance:\n",
    "    points[-1] = (i[1])\n",
    "    tree = spatial.KDTree(points)\n",
    "    #look at what is associated\n",
    "    all_nn_indices = tree.query_ball_point(points[-1],r=2.175e-01*1)\n",
    "    #check fvir conditions\n",
    "    for k in all_nn_indices:\n",
    "        if(points[k] != points[-1]):\n",
    "        #see if distance in between is smaller than vir distance times by n \n",
    "            if(distance(i[1],points[k]) < radius_points[k]*1):\n",
    "                associated_mass.append(mass[k])"
   ]
  },
  {
   "cell_type": "code",
   "execution_count": 34,
   "metadata": {},
   "outputs": [
    {
     "data": {
      "image/png": "[encoded data removed]",
      "text/plain": [
       "<Figure size 432x288 with 1 Axes>"
      ]
     },
     "metadata": {
      "needs_background": "light"
     },
     "output_type": "display_data"
    }
   ],
   "source": [
    "plt.title(\"mass of asscoiated galaxies, and mass of not associated galaxies\")\n",
    "plt.hist(np.log10(mass))\n",
    "plt.hist(np.log10(associated_mass))\n",
    "plt.yscale(\"log\")"
   ]
  },
  {
   "cell_type": "code",
   "execution_count": 25,
   "metadata": {},
   "outputs": [],
   "source": [
    "with open('associated_mass_1_vir.pkl', 'wb') as f:\n",
    "    pickle.dump(associated_mass, f, protocol=pickle.HIGHEST_PROTOCOL)"
   ]
  }
 ],
 "metadata": {
  "kernelspec": {
   "display_name": "Python 3 (ipykernel)",
   "language": "python",
   "name": "python3"
  },
  "orig_nbformat": 4
 },
 "nbformat": 4,
 "nbformat_minor": 2
}
