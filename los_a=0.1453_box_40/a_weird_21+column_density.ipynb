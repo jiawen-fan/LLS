{
 "cells": [
  {
   "cell_type": "code",
   "execution_count": 1,
   "metadata": {},
   "outputs": [],
   "source": [
    "import pickle\n",
    "import numpy as np\n",
    "from matplotlib import pyplot as plt\n",
    "import pandas as pd\n",
    "from scipy import special                 \n",
    "import array\n",
    "import scipy as sp\n",
    "from scipy import spatial\n",
    "from scipy.stats import binned_statistic\n"
   ]
  },
  {
   "cell_type": "code",
   "execution_count": 2,
   "metadata": {},
   "outputs": [],
   "source": [
    "weird_lls = [15.342845754022335, 5.714211262813436, 32.154595166400604]"
   ]
  },
  {
   "cell_type": "code",
   "execution_count": 3,
   "metadata": {},
   "outputs": [
    {
     "data": {
      "text/plain": [
       "([0.08521943240295256, 0.03235, 21.018545955684957],)"
      ]
     },
     "execution_count": 3,
     "metadata": {},
     "output_type": "execute_result"
    }
   ],
   "source": [
    "#the two that should be looked at and find.\n",
    "[0.0634495415999153, 0.04176, 21.018545955684957],\n",
    "[0.08521943240295256, 0.03235, 21.018545955684957],"
   ]
  },
  {
   "cell_type": "code",
   "execution_count": 9,
   "metadata": {},
   "outputs": [],
   "source": [
    "def distance(points1, points2):\n",
    "    return(np.sqrt((points1[0]-points2[0])**2 +(points1[1]-points2[1])**2+(points1[2]-points2[2])**2))"
   ]
  },
  {
   "cell_type": "code",
   "execution_count": 28,
   "metadata": {},
   "outputs": [],
   "source": [
    "gals = np.loadtxt('hpropsRS.res', usecols=[5,6,7,8],unpack=1) \n",
    "checkout = []\n",
    "points = []\n",
    "for i,j,k in zip(gals[0],gals[1],gals[2]):\n",
    "    points.append([i,j,k])\n",
    "    radius_points = []\n",
    "radius_points = []\n",
    "for i in gals[3]:\n",
    "    radius_points.append(i)\n",
    "size = []\n",
    "for i in range(len(points)):\n",
    "    if(radius_points[i]*6 > distance(weird_lls,points[i])):\n",
    "        checkout.append(points[i])\n",
    "        size.append(radius_points[i])\n"
   ]
  },
  {
   "cell_type": "code",
   "execution_count": 29,
   "metadata": {},
   "outputs": [
    {
     "data": {
      "text/plain": [
       "[0.2175,\n",
       " 0.04176,\n",
       " 0.03245,\n",
       " 0.03235,\n",
       " 0.0245,\n",
       " 0.02035,\n",
       " 0.01932,\n",
       " 0.0169,\n",
       " 0.01458,\n",
       " 0.01091,\n",
       " 0.0107]"
      ]
     },
     "execution_count": 29,
     "metadata": {},
     "output_type": "execute_result"
    }
   ],
   "source": [
    "size"
   ]
  },
  {
   "cell_type": "code",
   "execution_count": 30,
   "metadata": {},
   "outputs": [
    {
     "data": {
      "text/plain": [
       "[[15.36895, 4.83146, 32.06794],\n",
       " [15.30297, 5.66496, 32.15142],\n",
       " [15.25821, 5.62497, 32.19443],\n",
       " [15.42011, 5.68373, 32.13553],\n",
       " [15.30742, 5.61813, 32.20357],\n",
       " [15.44814, 5.71257, 32.13878],\n",
       " [15.40447, 5.74428, 32.14888],\n",
       " [15.33238, 5.63186, 32.11804],\n",
       " [15.34774, 5.65222, 32.20039],\n",
       " [15.36278, 5.6664, 32.13311],\n",
       " [15.36205, 5.76494, 32.17747]]"
      ]
     },
     "execution_count": 30,
     "metadata": {},
     "output_type": "execute_result"
    }
   ],
   "source": [
    "checkout"
   ]
  },
  {
   "cell_type": "code",
   "execution_count": 31,
   "metadata": {},
   "outputs": [],
   "source": [
    "difference  = []\n",
    "for i in checkout:\n",
    "    difference.append(np.subtract(i,weird_lls))"
   ]
  },
  {
   "cell_type": "code",
   "execution_count": 32,
   "metadata": {},
   "outputs": [
    {
     "data": {
      "text/plain": [
       "[array([ 0.02610425, -0.88275126, -0.08665517]),\n",
       " array([-0.03987575, -0.04925126, -0.00317517]),\n",
       " array([-0.08463575, -0.08924126,  0.03983483]),\n",
       " array([ 0.07726425, -0.03048126, -0.01906517]),\n",
       " array([-0.03542575, -0.09608126,  0.04897483]),\n",
       " array([ 0.10529425, -0.00164126, -0.01581517]),\n",
       " array([ 0.06162425,  0.03006874, -0.00571517]),\n",
       " array([-0.01046575, -0.08235126, -0.03655517]),\n",
       " array([ 0.00489425, -0.06199126,  0.04579483]),\n",
       " array([ 0.01993425, -0.04781126, -0.02148517]),\n",
       " array([0.01920425, 0.05072874, 0.02287483])]"
      ]
     },
     "execution_count": 32,
     "metadata": {},
     "output_type": "execute_result"
    }
   ],
   "source": [
    "difference"
   ]
  }
 ],
 "metadata": {
  "kernelspec": {
   "display_name": "Python 3 (ipykernel)",
   "language": "python",
   "name": "python3"
  },
  "orig_nbformat": 4
 },
 "nbformat": 4,
 "nbformat_minor": 2
}
