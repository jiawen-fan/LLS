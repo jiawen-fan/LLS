{
 "cells": [
  {
   "cell_type": "code",
   "execution_count": 2,
   "metadata": {},
   "outputs": [],
   "source": [
    "import os\n",
    "import numpy as np\n",
    "from matplotlib import pyplot as plt      \n",
    "import pandas as pd\n",
    "from scipy import special                 \n",
    "import array\n",
    "import scipy as sp\n",
    "import scipy.interpolate\n",
    "import re\n",
    "import pickle as pickle\n",
    "def unPackRawFile(raw_path):\n",
    "    \"\"\"\n",
    "    - unpacks the .raw file. Not used for the neural network.\n",
    "    \"\"\"\n",
    "    y = np.loadtxt(raw_path, skiprows=6)\n",
    "    distance = y[:,0]\n",
    "    pec_vel = y[:,1]\n",
    "    temp = y[:,2]\n",
    "    HI_density = y[:,3]\n",
    "    return distance, pec_vel, temp, HI_density\n",
    "def unPackDenFile(raw_path):\n",
    "    \"\"\"\n",
    "    - unpacks the .raw file. Not used for the neural network.\n",
    "    \"\"\"\n",
    "    y = np.loadtxt(raw_path, skiprows=4)\n",
    "    distance = y[:,0]\n",
    "    gas_density  = y[:,1]\n",
    "\n",
    "   \n",
    "    return distance, gas_density"
   ]
  },
  {
   "cell_type": "code",
   "execution_count": 3,
   "metadata": {},
   "outputs": [],
   "source": [
    "def getPos(path_LOS,linenumber=5):\n",
    "    \"\"\"\n",
    "    the start position of the LOS is given inside each file, (in the comments)\n",
    "    this function parses the comments to get that information\n",
    "    \"\"\"\n",
    "    f = open(path_LOS)\n",
    "    x = f.readlines()[linenumber]\n",
    "    answer = re.search('\\(([^)]+)', x).group(1)\n",
    "    arr = np.array(answer.split(','),dtype=float)\n",
    "    return arr\n",
    "\n",
    "def getDir(path_LOS,linenumber=5):\n",
    "    \"\"\"\n",
    "    the direction of the LOS is given inside each file, (in the comments)\n",
    "    this function parses the comments to get that information\n",
    "    \"\"\"\n",
    "    f = open(path_LOS)\n",
    "    x = f.readlines()[linenumber]\n",
    "    answer = re.search('\\(([^)]+)', x.split(', ')[1]).group(1)\n",
    "    arr = np.array(answer.split(','),dtype=float)\n",
    "    return arr\n",
    "\n",
    "\n",
    "def convertSphereToCart(theta, phi):\n",
    "    \"converts a unit vector in spherical to cartesian, needed for getGalaxies\"\n",
    "    return np.array([np.sin(theta)*np.cos(phi), np.sin(theta)*np.sin(phi), np.cos(theta)])"
   ]
  },
  {
   "cell_type": "code",
   "execution_count": 4,
   "metadata": {},
   "outputs": [
    {
     "data": {
      "text/plain": [
       "array([ 0.6380884 , -0.76918308,  0.03464939])"
      ]
     },
     "execution_count": 4,
     "metadata": {},
     "output_type": "execute_result"
    }
   ],
   "source": [
    "raw_path = 'los.00' + '{0:03}'.format(0) +'.raw'\n",
    "convertSphereToCart(1.53614,5.4049)"
   ]
  },
  {
   "cell_type": "markdown",
   "metadata": {},
   "source": [
    "Below is the figure 1 we want to reproduce from the cosmological simulation paper, this time we are going to use the new simulation data"
   ]
  },
  {
   "cell_type": "markdown",
   "metadata": {},
   "source": [
    "we have that the Lyman-limit systems is at $$1.6 X 10^{17} cm^{-2}\t\\lesssim N_{HI} \\lesssim 10^{20} cm^{-2}$$\n",
    "Now we are going to convert the units and find the lyman limited systems within the line of sights"
   ]
  },
  {
   "cell_type": "code",
   "execution_count": 5,
   "metadata": {},
   "outputs": [
    {
     "ename": "ValueError",
     "evalue": "not enough values to unpack (expected 4, got 2)",
     "output_type": "error",
     "traceback": [
      "\u001b[0;31m---------------------------------------------------------------------------\u001b[0m",
      "\u001b[0;31mValueError\u001b[0m                                Traceback (most recent call last)",
      "\u001b[1;32m/mnt/c/Users/jiawen/desktop/research/los_a=0.1453_box_40/figure_one_0.1453_box_40.ipynb Cell 6\u001b[0m in \u001b[0;36m<cell line: 36>\u001b[0;34m()\u001b[0m\n\u001b[1;32m     <a href='vscode-notebook-cell://wsl%2Bubuntu/mnt/c/Users/jiawen/desktop/research/los_a%3D0.1453_box_40/figure_one_0.1453_box_40.ipynb#W5sdnNjb2RlLXJlbW90ZQ%3D%3D?line=33'>34</a>\u001b[0m                         data\u001b[39m.\u001b[39mappend(area_under)\n\u001b[1;32m     <a href='vscode-notebook-cell://wsl%2Bubuntu/mnt/c/Users/jiawen/desktop/research/los_a%3D0.1453_box_40/figure_one_0.1453_box_40.ipynb#W5sdnNjb2RlLXJlbW90ZQ%3D%3D?line=34'>35</a>\u001b[0m     \u001b[39mreturn\u001b[39;00m data\n\u001b[0;32m---> <a href='vscode-notebook-cell://wsl%2Bubuntu/mnt/c/Users/jiawen/desktop/research/los_a%3D0.1453_box_40/figure_one_0.1453_box_40.ipynb#W5sdnNjb2RlLXJlbW90ZQ%3D%3D?line=35'>36</a>\u001b[0m lyman_limited_value \u001b[39m=\u001b[39m lyman_identification()\n",
      "\u001b[1;32m/mnt/c/Users/jiawen/desktop/research/los_a=0.1453_box_40/figure_one_0.1453_box_40.ipynb Cell 6\u001b[0m in \u001b[0;36mlyman_identification\u001b[0;34m()\u001b[0m\n\u001b[1;32m     <a href='vscode-notebook-cell://wsl%2Bubuntu/mnt/c/Users/jiawen/desktop/research/los_a%3D0.1453_box_40/figure_one_0.1453_box_40.ipynb#W5sdnNjb2RlLXJlbW90ZQ%3D%3D?line=9'>10</a>\u001b[0m distance, pec_vel, temp, HI_density \u001b[39m=\u001b[39m unPackRawFile(raw_path)\n\u001b[1;32m     <a href='vscode-notebook-cell://wsl%2Bubuntu/mnt/c/Users/jiawen/desktop/research/los_a%3D0.1453_box_40/figure_one_0.1453_box_40.ipynb#W5sdnNjb2RlLXJlbW90ZQ%3D%3D?line=10'>11</a>\u001b[0m \u001b[39m#changing the distance from chimp to cmeters\u001b[39;00m\n\u001b[0;32m---> <a href='vscode-notebook-cell://wsl%2Bubuntu/mnt/c/Users/jiawen/desktop/research/los_a%3D0.1453_box_40/figure_one_0.1453_box_40.ipynb#W5sdnNjb2RlLXJlbW90ZQ%3D%3D?line=11'>12</a>\u001b[0m distance1,neutral_fraction1,gas_density1,temperature1 \u001b[39m=\u001b[39m unPackDenFile(den_path)\n\u001b[1;32m     <a href='vscode-notebook-cell://wsl%2Bubuntu/mnt/c/Users/jiawen/desktop/research/los_a%3D0.1453_box_40/figure_one_0.1453_box_40.ipynb#W5sdnNjb2RlLXJlbW90ZQ%3D%3D?line=12'>13</a>\u001b[0m distance_cm \u001b[39m=\u001b[39m distance \u001b[39m*\u001b[39m\u001b[39m0.1453\u001b[39m\u001b[39m*\u001b[39m\u001b[39m3.086e24\u001b[39m \u001b[39m/\u001b[39m\u001b[39m0.68\u001b[39m\n\u001b[1;32m     <a href='vscode-notebook-cell://wsl%2Bubuntu/mnt/c/Users/jiawen/desktop/research/los_a%3D0.1453_box_40/figure_one_0.1453_box_40.ipynb#W5sdnNjb2RlLXJlbW90ZQ%3D%3D?line=13'>14</a>\u001b[0m gas_density \u001b[39m=\u001b[39msp\u001b[39m.\u001b[39minterpolate\u001b[39m.\u001b[39minterp1d(distance1,gas_density1, fill_value\u001b[39m=\u001b[39m\u001b[39m\"\u001b[39m\u001b[39mextrapolate\u001b[39m\u001b[39m\"\u001b[39m)(distance)\n",
      "\u001b[0;31mValueError\u001b[0m: not enough values to unpack (expected 4, got 2)"
     ]
    }
   ],
   "source": [
    "def lyman_identification():\n",
    "    \"\"\"\n",
    "    function for identifying lls using neutral fraction as filter\n",
    "    \"\"\"\n",
    "    neutral_fraction_limit = 1e-3\n",
    "    data = []\n",
    "    for i in range(1000):\n",
    "        raw_path = 'los.00' + '{0:03}'.format(i) +'.raw'\n",
    "        den_path =  'los.00' + '{0:03}'.format(i) +'.den'\n",
    "        distance, pec_vel, temp, HI_density = unPackRawFile(raw_path)\n",
    "        #changing the distance from chimp to cmeters\n",
    "        distance1,neutral_fraction1,gas_density1,temperature1 = unPackDenFile(den_path)\n",
    "        distance_cm = distance *0.1453*3.086e24 /0.68\n",
    "        gas_density =sp.interpolate.interp1d(distance1,gas_density1, fill_value=\"extrapolate\")(distance)\n",
    "        position = getPos(raw_path)\n",
    "        direction = convertSphereToCart(getDir(raw_path)[0],getDir(raw_path)[1])\n",
    "        for k in range(len(distance) -2):\n",
    "            if(HI_density[k]/gas_density[k]<neutral_fraction_limit and HI_density[k+1]/gas_density[k+1]>neutral_fraction_limit):\n",
    "                left_bases = k+1\n",
    "                peak_fraction = HI_density[k]/gas_density[k]\n",
    "                peak_HI = HI_density[k]\n",
    "                peak_distance = distance[k]\n",
    "                if( k+1 <len(distance)):\n",
    "                    while(not(HI_density[k]/gas_density[k]>neutral_fraction_limit and HI_density[k+1]/gas_density[k+1]<neutral_fraction_limit) and k <len(distance)-2):\n",
    "                        right_bases = k +1\n",
    "                        if(k<len(distance)-1):\n",
    "                            k+=1\n",
    "                        if(HI_density[k]/gas_density[k]>peak_fraction):\n",
    "                            peak_fraction = HI_density[k]/gas_density[k]\n",
    "                            peak_HI = HI_density[k]\n",
    "                            peak_distance = distance[k]\n",
    "                    area_under = peak_HI *1/2*(distance_cm[right_bases]-distance_cm[left_bases])/0.937415\n",
    "                    if(area_under >= (10**16)and area_under  <= (10**22)):\n",
    "                        data.append(area_under)\n",
    "    return data\n",
    "lyman_limited_value = lyman_identification()\n"
   ]
  },
  {
   "cell_type": "code",
   "execution_count": 5,
   "metadata": {},
   "outputs": [],
   "source": [
    "with open('a_lyman_limited_value.pkl', 'rb') as f:\n",
    "    lyman = pickle.load(f)"
   ]
  },
  {
   "cell_type": "code",
   "execution_count": null,
   "metadata": {},
   "outputs": [],
   "source": []
  },
  {
   "cell_type": "code",
   "execution_count": 6,
   "metadata": {},
   "outputs": [],
   "source": [
    "##the a-axis is the number of lyman-limited series, y-axis is the column density\n",
    "lyman_limited_value = []\n",
    "for i in lyman:\n",
    "    for k in i:\n",
    "        lyman_limited_value.append(k[0])\n",
    "lyman_limited_value_sorted = sorted(lyman_limited_value)\n",
    "#below shows the total of lyman_limited_value in the nlos"
   ]
  },
  {
   "cell_type": "code",
   "execution_count": 7,
   "metadata": {},
   "outputs": [
    {
     "data": {
      "text/plain": [
       "1273"
      ]
     },
     "execution_count": 7,
     "metadata": {},
     "output_type": "execute_result"
    }
   ],
   "source": [
    "len(lyman_limited_value_sorted)"
   ]
  },
  {
   "cell_type": "markdown",
   "metadata": {},
   "source": [
    "We got the data now, now is the data processing"
   ]
  },
  {
   "cell_type": "markdown",
   "metadata": {},
   "source": [
    "We bin the data by distance first, by doing so, we can figure out the change in the number density Vs the column density:"
   ]
  },
  {
   "cell_type": "code",
   "execution_count": 8,
   "metadata": {},
   "outputs": [
    {
     "name": "stdout",
     "output_type": "stream",
     "text": [
      "17.206594839896685\n",
      "21.998184660634227\n"
     ]
    }
   ],
   "source": [
    "##need to bin the data, and graph it like the paper.\n",
    "##right here we are goin go bin the data, using panda\n",
    "##find the max/min\n",
    "\n",
    "min_value_lyman_limited_value = np.log10(min(lyman_limited_value_sorted))\n",
    "max_value_lyman_limited_value = np.log10(max(lyman_limited_value_sorted))\n",
    "print(min_value_lyman_limited_value)\n",
    "print(max_value_lyman_limited_value)"
   ]
  },
  {
   "cell_type": "code",
   "execution_count": 9,
   "metadata": {},
   "outputs": [
    {
     "data": {
      "text/plain": [
       "array([17.20659484, 17.30242664, 17.39825843, 17.49409023, 17.58992203,\n",
       "       17.68575382, 17.78158562, 17.87741741, 17.97324921, 18.06908101,\n",
       "       18.1649128 , 18.2607446 , 18.3565764 , 18.45240819, 18.54823999,\n",
       "       18.64407179, 18.73990358, 18.83573538, 18.93156718, 19.02739897,\n",
       "       19.12323077, 19.21906256, 19.31489436, 19.41072616, 19.50655795,\n",
       "       19.60238975, 19.69822155, 19.79405334, 19.88988514, 19.98571694,\n",
       "       20.08154873, 20.17738053, 20.27321233, 20.36904412, 20.46487592,\n",
       "       20.56070771, 20.65653951, 20.75237131, 20.8482031 , 20.9440349 ,\n",
       "       21.0398667 , 21.13569849, 21.23153029, 21.32736209, 21.42319388,\n",
       "       21.51902568, 21.61485747, 21.71068927, 21.80652107, 21.90235286,\n",
       "       21.99818466])"
      ]
     },
     "execution_count": 9,
     "metadata": {},
     "output_type": "execute_result"
    }
   ],
   "source": [
    "##putting data into panda data_frame for better organization\n",
    "##belows is the bin value\n",
    "bins = np.linspace(min_value_lyman_limited_value,max_value_lyman_limited_value,51)\n",
    "bins"
   ]
  },
  {
   "cell_type": "code",
   "execution_count": 10,
   "metadata": {},
   "outputs": [],
   "source": [
    "##divide up the data \n",
    "bin_data = pd.DataFrame()\n",
    "bin_data['cut_lyman_limited'] = np.array(lyman_limited_value_sorted)\n",
    "bin_data['cut_lyman_limited'] = pd.cut(np.log10(bin_data['cut_lyman_limited']), bins = bins,include_lowest = True).astype(str)"
   ]
  },
  {
   "cell_type": "markdown",
   "metadata": {},
   "source": [
    "below we visualize the number density vs column density without any normalization"
   ]
  },
  {
   "cell_type": "code",
   "execution_count": 11,
   "metadata": {},
   "outputs": [
    {
     "data": {
      "image/png": "[encoded data removed]",
      "text/plain": [
       "<Figure size 432x288 with 1 Axes>"
      ]
     },
     "metadata": {
      "needs_background": "light"
     },
     "output_type": "display_data"
    },
    {
     "data": {
      "text/plain": [
       "<Figure size 640x480 with 0 Axes>"
      ]
     },
     "metadata": {},
     "output_type": "display_data"
    }
   ],
   "source": [
    "##graph similar to the paper, culmulative\n",
    "from matplotlib.pyplot import figure\n",
    "fig, ax = plt.subplots()\n",
    "hist = ax.hist(bin_data,bins=50,cumulative =1,log =True)\n",
    "ax.set_xticks(ax.get_xticks()[::5])\n",
    "ax.set_yticks(ax.get_yticks()[::3])\n",
    "ax.set_xlabel('column density bins', fontsize=12)\n",
    "ax.set_ylabel('cumulative number density in total of 1000 line of sights', fontsize=12)\n",
    "ax.tick_params(axis='both', which='major', labelsize=7)\n",
    "plt.figure(figsize=(8, 6), dpi=80)\n",
    "plt.show()"
   ]
  },
  {
   "cell_type": "code",
   "execution_count": 12,
   "metadata": {},
   "outputs": [],
   "source": [
    "##extract the change in column density counts\n",
    "##abserve the trend that as the column density decreases the rate of number density decrease increase.\n",
    "number_count = []\n",
    "for i in range(1, len(hist[0])):\n",
    "    number_count.append(hist[0][i]- hist[0][i-1])\n",
    "total =0 \n",
    "for i in number_count:\n",
    "    total += i"
   ]
  },
  {
   "cell_type": "markdown",
   "metadata": {},
   "source": [
    "number density over distance"
   ]
  },
  {
   "cell_type": "code",
   "execution_count": 13,
   "metadata": {},
   "outputs": [],
   "source": [
    "# lyman_limited_counts\n",
    "# distance_value =  np.linspace(0,100,100,endpoint = True)\n",
    "# fig = plt.figure(figsize=(20, 2))\n",
    "# ax = fig.add_subplot(111)\n",
    "# ax.plot(distance_value, lyman_limited_counts)"
   ]
  },
  {
   "cell_type": "code",
   "execution_count": 14,
   "metadata": {},
   "outputs": [],
   "source": [
    "# fig = plt.figure()\n",
    "# ax = plt.axes(projection='3d')\n",
    "# x,y,z =[],[],[]\n",
    "# for i in range(37394):\n",
    "#     x.append(lyman_limited_distance[i][0])\n",
    "#     y.append(lyman_limited_distance[i][1])\n",
    "#     z.append(lyman_limited_distance[i][2])\n",
    "# ax.set_xlabel(\"distance alone los\")\n",
    "# ax.set_ylabel(\"number count for los\")\n",
    "# ax.set_zlabel(\"number count(N_hi)\")\n",
    "# ax.scatter3D(y,x,z,cmap='binary',s=0.05)"
   ]
  },
  {
   "cell_type": "markdown",
   "metadata": {},
   "source": [
    "can I put this into the box"
   ]
  },
  {
   "cell_type": "markdown",
   "metadata": {},
   "source": [
    "number density varies a lot"
   ]
  },
  {
   "cell_type": "markdown",
   "metadata": {},
   "source": [
    "We will now reporduce figure one:"
   ]
  },
  {
   "cell_type": "code",
   "execution_count": 15,
   "metadata": {},
   "outputs": [],
   "source": [
    "#we here find the change in column density\n",
    "#d_N_column = bins[1] - bins[0]\n",
    "d_N_column= []\n",
    "for i in range(1,50):\n",
    "    d_N_column.append(10**bins[i]-10**bins[i-1])\n"
   ]
  },
  {
   "cell_type": "code",
   "execution_count": 16,
   "metadata": {},
   "outputs": [
    {
     "name": "stdout",
     "output_type": "stream",
     "text": [
      "145.0576616872343\n"
     ]
    }
   ],
   "source": [
    "def aH_calc(aexp,OmegaM):\n",
    "    aH = 100*aexp*np.sqrt(OmegaM/aexp**3+(1-OmegaM))\n",
    "    return aH\n",
    "aH = aH_calc(aexp=0.1453,OmegaM=0.3036)\n",
    "print(aH)"
   ]
  },
  {
   "cell_type": "code",
   "execution_count": 17,
   "metadata": {},
   "outputs": [
    {
     "name": "stdout",
     "output_type": "stream",
     "text": [
      "48.35255389574476\n"
     ]
    }
   ],
   "source": [
    "#dN / (dz *dN_HI)\n",
    "y_value = []\n",
    "#dz = dv/c = H*dr/c = H*a*dx/c\n",
    "#dx = 200cMpc * number of line of sights\n",
    "dz = aH*(100*1000)/(3e5) \n",
    "for i,k in zip(number_count,d_N_column):\n",
    "    y_value.append(i/(dz*(k)))\n",
    "print(dz)"
   ]
  },
  {
   "cell_type": "code",
   "execution_count": 18,
   "metadata": {},
   "outputs": [],
   "source": [
    "x_value = []\n",
    "for i in range(1,50):\n",
    "    x_value.append(bins[i])"
   ]
  },
  {
   "cell_type": "code",
   "execution_count": 19,
   "metadata": {},
   "outputs": [
    {
     "data": {
      "image/png": "[encoded data removed]",
      "text/plain": [
       "<Figure size 432x288 with 1 Axes>"
      ]
     },
     "metadata": {
      "needs_background": "light"
     },
     "output_type": "display_data"
    }
   ],
   "source": [
    "plt.bar(x_value,y_value,width = 0.2)\n",
    "plt.xlabel(\"log10(N_HI)\")\n",
    "plt.ylabel(\"dN/(dz*dN_HI)\")\n",
    "plt.yscale('log')\n"
   ]
  },
  {
   "cell_type": "code",
   "execution_count": 20,
   "metadata": {},
   "outputs": [
    {
     "data": {
      "image/png": "[encoded data removed]",
      "text/plain": [
       "<Figure size 350x262.5 with 1 Axes>"
      ]
     },
     "metadata": {},
     "output_type": "display_data"
    }
   ],
   "source": [
    "import matplotlib.pyplot as plt\n",
    "import pickle as pickle\n",
    "with open('y_value_80_non_uniform.pkl', 'rb') as f:\n",
    "    y_axis_2 = pickle.load(f)\n",
    "with open('y_value_80_uniform.pkl', 'rb') as f:\n",
    "    y_axis_3 = pickle.load(f)\n",
    "x_axis = np.linspace(bins[0],bins[-1],49)\n",
    "with plt.style.context('science','notebook'):\n",
    "    plt.figure()    \n",
    "    plt.plot(x_axis,np.multiply(y_value,0.00048352553895744763),label = \"40 $\\mathrm{h^{-1} cMpc}$ uniform grid\")\n",
    "    plt.plot(x_axis,np.multiply(y_axis_2,0.00048352553895744763),label = \"80 $\\mathrm{h^{-1} cMpc}$ non uniform grid\")\n",
    "    plt.plot(x_axis,np.multiply(y_axis_3,0.00048352553895744763),label = \"80 $\\mathrm{h^{-1} cMpc}$ uniform grid\")\n",
    "    plt.rcParams['font.size'] = 8\n",
    "    plt.yscale(\"log\") \n",
    "    plt.yticks()\n",
    "    plt.ylim(10e-27)\n",
    "\n",
    "    plt.legend()\n",
    "    plt.xlabel(\"$\\mathrm{log10(N_{HI})}$\",fontsize = 10)\n",
    "    plt.ylabel(\"$\\mathrm{dN/(dl\\: dN_{HI})}$\",fontsize =10,)\n",
    "\n",
    "    plt.savefig(\"f1_combined.pdf\")"
   ]
  },
  {
   "cell_type": "code",
   "execution_count": 21,
   "metadata": {},
   "outputs": [
    {
     "data": {
      "text/plain": [
       "51"
      ]
     },
     "execution_count": 21,
     "metadata": {},
     "output_type": "execute_result"
    }
   ],
   "source": [
    "len(bins)"
   ]
  },
  {
   "cell_type": "code",
   "execution_count": 22,
   "metadata": {},
   "outputs": [
    {
     "data": {
      "text/plain": [
       "49"
      ]
     },
     "execution_count": 22,
     "metadata": {},
     "output_type": "execute_result"
    }
   ],
   "source": [
    "range_bins =[]\n",
    "for i in range(1,50):\n",
    "    range_bins.append(bins[i])\n",
    "len(range_bins)"
   ]
  },
  {
   "cell_type": "code",
   "execution_count": 23,
   "metadata": {},
   "outputs": [],
   "source": [
    "y_axis = (np.multiply(np.power(10,x_axis),y_value))"
   ]
  },
  {
   "cell_type": "code",
   "execution_count": 24,
   "metadata": {},
   "outputs": [
    {
     "data": {
      "text/plain": [
       "array([6.28231762, 6.59395867, 5.11912648, 5.08030297, 4.34510821,\n",
       "       2.98196472, 2.74396312, 3.93063071, 2.97520228, 1.7288175 ,\n",
       "       3.03041761, 2.78037124, 2.05777177, 1.79358151, 2.00069   ,\n",
       "       1.63456585, 2.13485888, 1.27315956, 2.17447868, 1.9950577 ,\n",
       "       2.4161823 , 1.93047886, 2.35848042, 2.27677499, 2.19335898,\n",
       "       3.26772205, 2.02129642, 3.22099946, 3.5758256 , 4.26500935,\n",
       "       3.42144896, 2.00499765, 2.24835224, 2.83639921, 2.1755744 ,\n",
       "       2.42679239, 1.28291832, 1.29476812, 1.30672737, 1.19890645,\n",
       "       1.08898224, 0.48846255, 0.61621785, 0.62190961, 0.25106157,\n",
       "       0.63345133, 0.51144181, 0.2580829 , 0.2604667 ])"
      ]
     },
     "execution_count": 24,
     "metadata": {},
     "output_type": "execute_result"
    }
   ],
   "source": [
    "y_axis"
   ]
  },
  {
   "cell_type": "code",
   "execution_count": 25,
   "metadata": {},
   "outputs": [
    {
     "data": {
      "image/png": "[encoded data removed]",
      "text/plain": [
       "<Figure size 350x262.5 with 1 Axes>"
      ]
     },
     "metadata": {},
     "output_type": "display_data"
    }
   ],
   "source": [
    "import matplotlib.pyplot as plt\n",
    "\n",
    "x_axis = np.linspace(bins[0],bins[-1],49)\n",
    "with plt.style.context('science','notebook'):\n",
    "    plt.figure()    \n",
    "    plt.plot(x_axis,np.multiply(y_axis,0.00048352553895744763),color = \"dimgray\")\n",
    "    plt.rcParams['font.size'] = 8\n",
    "    plt.yscale(\"log\") \n",
    "    plt.yticks()\n",
    "    plt.xlabel(\"$\\mathrm{log10(N_{HI})}$\",fontsize = 10)\n",
    "    plt.ylabel(\"$\\mathrm{log10(N_{HI}}$ $\\mathrm{dN/(dl\\: dN_{HI}))}$\",fontsize =10,)\n",
    "    plt.savefig('figure_one_part_two.pdf') \n",
    "    plt.ylim(10**-4,10**-2)\n",
    "\n",
    "    plt.savefig(\"f1_observation.pdf\")"
   ]
  },
  {
   "cell_type": "markdown",
   "metadata": {},
   "source": [
    "tried to increase the peak prominence, results with curves. Paper has 10000 line of sights, shouldnt change anything"
   ]
  },
  {
   "cell_type": "markdown",
   "metadata": {},
   "source": [
    "make it a line"
   ]
  }
 ],
 "metadata": {
  "interpreter": {
   "hash": "31f2aee4e71d21fbe5cf8b01ff0e069b9275f58929596ceb00d14d90e3e16cd6"
  },
  "kernelspec": {
   "display_name": "Python 3 (ipykernel)",
   "language": "python",
   "name": "python3"
  },
  "language_info": {
   "codemirror_mode": {
    "name": "ipython",
    "version": 3
   },
   "file_extension": ".py",
   "mimetype": "text/x-python",
   "name": "python",
   "nbconvert_exporter": "python",
   "pygments_lexer": "ipython3",
   "version": "3.8.10"
  }
 },
 "nbformat": 4,
 "nbformat_minor": 4
}
