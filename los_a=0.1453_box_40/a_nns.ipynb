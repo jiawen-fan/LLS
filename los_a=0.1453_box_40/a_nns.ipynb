{
 "cells": [
  {
   "cell_type": "code",
   "execution_count": 1,
   "metadata": {},
   "outputs": [],
   "source": [
    "### for 80mpc box\n",
    "import numpy as np\n",
    "import matplotlib.pyplot as plt\n",
    "import scipy.signal as signal\n",
    "import scipy.interpolate as interp\n",
    "import scipy as sp\n",
    "import re\n",
    "from sklearn.neighbors import KDTree\n",
    "import pickle as pickle\n",
    "import random\n",
    "\n",
    "#galaxy Mvir, x,y,z, vx, vy, vz\n",
    "gals = np.loadtxt('hpropsRS.res', usecols=[5,6,7],unpack=1) \n",
    "# setting vx, vy, vz to be 0, so the position is in real space, to match the v=0 LOS\n",
    "\n"
   ]
  },
  {
   "cell_type": "code",
   "execution_count": 2,
   "metadata": {},
   "outputs": [],
   "source": [
    "with open('a_lyman_limited_value.pkl', 'rb') as f:\n",
    "    lyman = pickle.load(f)"
   ]
  },
  {
   "cell_type": "code",
   "execution_count": 3,
   "metadata": {},
   "outputs": [
    {
     "data": {
      "text/plain": [
       "[2.005363879937967, 12.166111410859045, 25.194943977006197]"
      ]
     },
     "execution_count": 3,
     "metadata": {},
     "output_type": "execute_result"
    }
   ],
   "source": [
    "lyman[0][0][4]"
   ]
  },
  {
   "cell_type": "code",
   "execution_count": 4,
   "metadata": {},
   "outputs": [],
   "source": [
    "def nns(points,lyman_limited_value,k_points):\n",
    "    tree = KDTree(points)\n",
    "    #all_nn_indices = tree.query_radius(points, r = 1)\n",
    "    nearest_dist, all_nn_indices = tree.query(points, k=k_points)\n",
    "    nns = []\n",
    "    for i in range(len(all_nn_indices)-len(lyman_limited_value),len(all_nn_indices)):\n",
    "        nns.append(all_nn_indices[i])\n",
    "    all_nns = [\n",
    "        [points[idx] for idx in nn_indices if idx != int(i+len(all_nn_indices)-len(lyman_limited_value))]\n",
    "        for i, nn_indices in enumerate(nns)\n",
    "    ]\n",
    "    neighbors = []\n",
    "    for nns in all_nns:\n",
    "        neighbors.append(nns)\n",
    "    all_distance_diff = []\n",
    "    temp_distance = [neighbors[0][0]]\n",
    "    for i,k in zip(neighbors,lyman_limited_value):\n",
    "        all_distance_diff.append(temp_distance)\n",
    "        temp_distance = []\n",
    "        for ii in i:\n",
    "                temp_distance.append(np.sqrt((ii[0]-k[0])**2+(ii[1]-k[1])**2+(ii[2]-k[2])**2))\n",
    "    plot_data  = []\n",
    "    for i in all_distance_diff:\n",
    "        for k in i:\n",
    "            plot_data.append(k)\n",
    "    counts,bins = np.histogram(plot_data,bins=100)\n",
    "    total = np.sum(counts)\n",
    "    probability = []\n",
    "    for i in range(len(counts)):\n",
    "        probability.append(counts[i]/total)\n",
    "    cumulative_probability = []\n",
    "    cumulative_probability.append(probability[0])\n",
    "    for i in range(1,len(probability)):\n",
    "        cumulative_probability.append(probability[i]+cumulative_probability[i-1])\n",
    "    cumulative_probability\n",
    "    return cumulative_probability,counts,bins"
   ]
  },
  {
   "cell_type": "code",
   "execution_count": 5,
   "metadata": {},
   "outputs": [],
   "source": [
    "lyman_limited_value = []\n",
    "for i in lyman:\n",
    "    for k in i:\n",
    "        lyman_limited_value.append(k[4])"
   ]
  },
  {
   "cell_type": "code",
   "execution_count": 6,
   "metadata": {},
   "outputs": [],
   "source": [
    "#need the change this to iterate through individual lls instead of the whole thing\n",
    "points = []\n",
    "for i,j,k in zip(gals[0],gals[1],gals[2]):\n",
    "    points.append([i,j,k])\n",
    "for z in lyman_limited_value:\n",
    "    points.append(z)"
   ]
  },
  {
   "cell_type": "code",
   "execution_count": 7,
   "metadata": {},
   "outputs": [
    {
     "data": {
      "text/plain": [
       "1273"
      ]
     },
     "execution_count": 7,
     "metadata": {},
     "output_type": "execute_result"
    }
   ],
   "source": [
    "len(lyman_limited_value)"
   ]
  },
  {
   "cell_type": "code",
   "execution_count": 8,
   "metadata": {},
   "outputs": [],
   "source": [
    "def generate_random_location():\n",
    "    non_lyman_limited_value = []\n",
    "    for i in range(0,200):\n",
    "        value = random.random()*40\n",
    "        value1 =  random.random()*40\n",
    "        value2 =  random.random()*40\n",
    "        non_lyman_limited_value.append([value,value1,value2])\n",
    "    return non_lyman_limited_value"
   ]
  },
  {
   "cell_type": "code",
   "execution_count": 10,
   "metadata": {},
   "outputs": [],
   "source": [
    "non_lyman_limited_value = generate_random_location()\n"
   ]
  },
  {
   "cell_type": "code",
   "execution_count": 11,
   "metadata": {},
   "outputs": [],
   "source": [
    "\n",
    "points = []\n",
    "for i,j,k in zip(gals[0],gals[1],gals[2]):\n",
    "    points.append([i,j,k])\n",
    "for z in lyman_limited_value:\n",
    "    points.append(z)\n",
    "cumulative_probability,counts, bins  = nns(points,lyman_limited_value,2)\n",
    "\n",
    "points = []\n",
    "for i,j,k in zip(gals[0],gals[1],gals[2]):\n",
    "    points.append([i,j,k])\n",
    "for z in lyman_limited_value:\n",
    "    points.append(z)\n",
    "cumulative_probability1,counts, bins1  = nns(points,lyman_limited_value,3)\n",
    "\n",
    "points = []\n",
    "for i,j,k in zip(gals[0],gals[1],gals[2]):\n",
    "    points.append([i,j,k])\n",
    "for z in lyman_limited_value:\n",
    "    points.append(z)\n",
    "cumulative_probability2,counts, bins2  = nns(points,lyman_limited_value,4)\n",
    "\n",
    "points = []\n",
    "for i,j,k in zip(gals[0],gals[1],gals[2]):\n",
    "    points.append([i,j,k])\n",
    "for z in non_lyman_limited_value:\n",
    "    points.append(z)\n",
    "cumulative_probability3,counts, bins3  = nns(points,non_lyman_limited_value,2)\n",
    "\n",
    "points = []\n",
    "for i,j,k in zip(gals[0],gals[1],gals[2]):\n",
    "    points.append([i,j,k])\n",
    "for z in non_lyman_limited_value:\n",
    "    points.append(z)\n",
    "cumulative_probability4,counts, bins4  = nns(points,non_lyman_limited_value,3)\n",
    "\n",
    "points = []\n",
    "for i,j,k in zip(gals[0],gals[1],gals[2]):\n",
    "    points.append([i,j,k])\n",
    "for z in non_lyman_limited_value:\n",
    "    points.append(z)\n",
    "cumulative_probability5,counts, bins5  = nns(points,non_lyman_limited_value,4)"
   ]
  },
  {
   "cell_type": "code",
   "execution_count": 12,
   "metadata": {},
   "outputs": [],
   "source": [
    "def plot_value(cumulative_probability):\n",
    "    plot_value = []\n",
    "    cumulative_probability_minus = np.subtract(1,cumulative_probability)\n",
    "    count = 0\n",
    "    i = cumulative_probability[count]\n",
    "    k = cumulative_probability_minus[count]\n",
    "    while(k>i):\n",
    "        plot_value.append(i)\n",
    "        count+=1\n",
    "        i= cumulative_probability[count]\n",
    "        k =  cumulative_probability_minus[count]\n",
    "    while(count < len(cumulative_probability)):\n",
    "        plot_value.append(cumulative_probability_minus[count])\n",
    "        count+=1\n",
    "    return plot_value\n",
    "\n",
    "plotting = plot_value(cumulative_probability)\n",
    "plotting1 = plot_value(cumulative_probability1)\n",
    "plotting3 = plot_value(cumulative_probability3)\n",
    "plotting4 = plot_value(cumulative_probability4)"
   ]
  },
  {
   "cell_type": "code",
   "execution_count": 14,
   "metadata": {},
   "outputs": [
    {
     "name": "stderr",
     "output_type": "stream",
     "text": [
      "/tmp/ipykernel_12309/1717148139.py:2: RuntimeWarning: invalid value encountered in log10\n",
      "  plt.plot(x,np.log10(plotting),label = str(5-1)+\"nns\",c=\"green\")\n",
      "/tmp/ipykernel_12309/1717148139.py:6: RuntimeWarning: invalid value encountered in log10\n",
      "  plt.plot(x, np.log10(plotting3),label = str(5-1)+\"nns\",c=\"black\")\n"
     ]
    },
    {
     "data": {
      "text/plain": [
       "(-2.0, 0.0)"
      ]
     },
     "execution_count": 14,
     "metadata": {},
     "output_type": "execute_result"
    },
    {
     "data": {
      "image/png": "[encoded data removed]",
      "text/plain": [
       "<Figure size 432x288 with 1 Axes>"
      ]
     },
     "metadata": {
      "needs_background": "light"
     },
     "output_type": "display_data"
    }
   ],
   "source": [
    "x = np.linspace(0,bins[-1] ,100)\n",
    "plt.plot(x,np.log10(plotting),label = str(5-1)+\"nns\",c=\"green\")\n",
    "x = np.linspace(0,bins1[-1] ,100)\n",
    "plt.plot(x,np.log10(plotting1),label = str(5-1)+\"nns\",c=\"blue\")\n",
    "x = np.linspace(0,bins3[-1] ,100)\n",
    "plt.plot(x, np.log10(plotting3),label = str(5-1)+\"nns\",c=\"black\")\n",
    "x = np.linspace(0,bins4[-1] ,100)\n",
    "plt.plot(x, np.log10(plotting4),label = str(5-1)+\"nns\",c=\"purple\")\n",
    "plt.ylim(-2,0)\n"
   ]
  }
 ],
 "metadata": {
  "kernelspec": {
   "display_name": "Python 3.8.10 64-bit",
   "language": "python",
   "name": "python3"
  },
  "language_info": {
   "name": "python",
   "version": "3.8.10"
  },
  "orig_nbformat": 4,
  "vscode": {
   "interpreter": {
    "hash": "31f2aee4e71d21fbe5cf8b01ff0e069b9275f58929596ceb00d14d90e3e16cd6"
   }
  }
 },
 "nbformat": 4,
 "nbformat_minor": 2
}
