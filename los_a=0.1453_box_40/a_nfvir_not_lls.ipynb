{
 "cells": [
  {
   "cell_type": "code",
   "execution_count": 4,
   "metadata": {},
   "outputs": [],
   "source": [
    "import pickle\n",
    "import numpy as np\n",
    "from matplotlib import pyplot as plt\n",
    "import pandas as pd\n",
    "from scipy import special                 \n",
    "import array\n",
    "import scipy as sp\n",
    "from scipy import spatial\n",
    "from scipy.stats import binned_statistic\n",
    "import random"
   ]
  },
  {
   "cell_type": "code",
   "execution_count": 2,
   "metadata": {},
   "outputs": [],
   "source": [
    "def generate_random_location():\n",
    "    non_lyman_limited_value = []\n",
    "    for i in range(0,200):\n",
    "        value = random.random()*40\n",
    "        value1 =  random.random()*40\n",
    "        value2 =  random.random()*40\n",
    "        non_lyman_limited_value.append([value,value1,value2])\n",
    "    return non_lyman_limited_value"
   ]
  },
  {
   "cell_type": "code",
   "execution_count": 5,
   "metadata": {},
   "outputs": [],
   "source": [
    "non_lyman_limited_value = generate_random_location()"
   ]
  },
  {
   "cell_type": "code",
   "execution_count": 8,
   "metadata": {},
   "outputs": [],
   "source": [
    "bins = np.linspace(17,22,6)"
   ]
  },
  {
   "cell_type": "code",
   "execution_count": 11,
   "metadata": {},
   "outputs": [],
   "source": [
    "def distance(points1, points2):\n",
    "    return(np.sqrt((points1[0]-points2[0])**2 +(points1[1]-points2[1])**2+(points1[2]-points2[2])**2))"
   ]
  },
  {
   "cell_type": "code",
   "execution_count": 12,
   "metadata": {},
   "outputs": [],
   "source": [
    "gals = np.loadtxt('hpropsRS.res', usecols=[5,6,7,8],unpack=1) \n",
    "points = []\n",
    "for i,j,k in zip(gals[0],gals[1],gals[2]):\n",
    "    points.append([i,j,k])\n",
    "radius_points = []\n",
    "for i in gals[3]:\n",
    "    radius_points.append(i)\n",
    "percentage = [0] * (len(bins))\n",
    "#lls in rvir\n",
    "#total lls\n",
    "counts=0\n",
    "counts_associated = 0\n",
    "#bins count\n",
    "bin_counts = 1\n",
    "#one extra space\n",
    "points.append([0,0,0])\n",
    "for i in non_lyman_limited_value:\n",
    "    counts +=1\n",
    "    #i[0] is the column density, i[1] is the lyman location\n",
    "    #less than certain density in bins\n",
    "    points[-1] = (i)\n",
    "    tree = spatial.KDTree(points)\n",
    "    #look at what is associated\n",
    "    all_nn_indices = tree.query_ball_point(points[-1],r=2.175e-01*1)\n",
    "    #check fvir conditions\n",
    "    for k in all_nn_indices:\n",
    "        if(points[k] != points[-1]):\n",
    "        #see if distance in between is smaller than vir distance times by n \n",
    "            if(distance(i,points[k]) < radius_points[k]*1):\n",
    "                #if true\n",
    "                counts_associated+=1"
   ]
  },
  {
   "cell_type": "code",
   "execution_count": 13,
   "metadata": {},
   "outputs": [
    {
     "data": {
      "text/plain": [
       "200"
      ]
     },
     "execution_count": 13,
     "metadata": {},
     "output_type": "execute_result"
    }
   ],
   "source": [
    "counts"
   ]
  },
  {
   "cell_type": "code",
   "execution_count": 14,
   "metadata": {},
   "outputs": [
    {
     "data": {
      "text/plain": [
       "0"
      ]
     },
     "execution_count": 14,
     "metadata": {},
     "output_type": "execute_result"
    }
   ],
   "source": [
    "counts_associated"
   ]
  }
 ],
 "metadata": {
  "kernelspec": {
   "display_name": "Python 3 (ipykernel)",
   "language": "python",
   "name": "python3"
  },
  "orig_nbformat": 4
 },
 "nbformat": 4,
 "nbformat_minor": 2
}
